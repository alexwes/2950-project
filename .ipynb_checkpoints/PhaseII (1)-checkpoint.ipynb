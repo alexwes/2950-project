{
 "cells": [
  {
   "cell_type": "markdown",
   "metadata": {
    "cell_id": "00001-9d0e6f31-c51d-4f47-ae01-6c3fd86f2f91",
    "deepnote_cell_type": "text-cell-h1",
    "is_collapsed": false,
    "tags": []
   },
   "source": [
    "# Do Tweets and Telegram messages affect the price of cryptocurrency?"
   ]
  },
  {
   "cell_type": "markdown",
   "metadata": {
    "cell_id": "00001-170f91d6-d523-436b-b18c-c2c9507c101d",
    "deepnote_cell_type": "markdown",
    "tags": []
   },
   "source": [
    "#### Research Question\n",
    "\n",
    "**What factors heavily influence the price of the following cryptocurrencies: Bitcoin, Ethereum, Doge, and ADA?**\n",
    "\n",
    "In particular, we want to look at how cryptocurrency prices change in response to traditional financial indicators, as well as how they change in response to social factors like increasing discussion on social media and public sentiment. We also want to see how these factors might influence each other, and whether or not we can use our findings to both explain past movements in cryptocurrency price, as well as potentially predict future movements. "
   ]
  },
  {
   "cell_type": "markdown",
   "metadata": {
    "cell_id": "00002-e7736f63-e4e8-483b-af86-285b5381d392",
    "deepnote_cell_type": "markdown",
    "tags": []
   },
   "source": [
    "#### Introduction\n",
    "\n",
    "Cryptocurrencies have been steadily gaining popularity over the past several years, but it was not until this year that they exploded into the mainstream. Cryptocurrencies are, in some ways, digital money, and in others, digital value. They rely on a revolutionary distributed ledger technology known as blockchain. A blockchain is a distributed database in which many nodes (computers) hold a record of all of the data added to it, and are synchronously updated when data is added. Because of its immutability, decentralization and security features, blockchain has the potential to distrup many industries.\n",
    "\n",
    "Bitcoin was introduced in 2009 by Satoshi Nakamoto, an unknown person/group of people, and has since been the face of crypto to the outside world. It has the greatest market capitalization of any crypto asset, at over USD 1.2 trillion, around 50% of the entire crypto market at the time of writing. Since 2009, a plethora of new cryptocurrencies have been created. Many of these projects aim at solving Bitocin's problems, such as Ethereum and Cardano which offer the ability to store smart contracts (code) on the blockchain and create complex, world changing applications. These projects offer real world value to consumers. On the other hand, there are some projects that exist for the sole purpose of being a joke, such as Dogecoin and Shiba Inu coin. These projects provide no real value to society, and were purely created for fun, as memes, yet they have become immensely popular.\n",
    "\n",
    "Cryptocurrencies are incredibly volatile assets that offer investors potentially life changing gains, but also crippling losses, and are common among thrill seeking investors. They could go up 30% one day, and down 40% another. Often times the values of cryptocurrencies change with news, such as Tesla adding bitcoin to its balance sheet. Similarly, public statements from revered celebrities and businessmen can impact crypto prices, e.g. Elon Musk tweeting about DOGE led to an incredible rise in its price. Due to it being an internet native technology, discussion about crypto takes place almost exclusively online on platforms like Reddit, Twitter, and Telegram. The people of the internet have shown their ability to move markets many times, take a look at Gamestop stock for an infamous example. This raises the question: Has the social media been able to affect crypto prices? If so, how often, and what can we learn from this?"
   ]
  },
  {
   "cell_type": "markdown",
   "metadata": {
    "cell_id": "00002-64d4cf98-1faf-4840-bf77-609609b41238",
    "deepnote_cell_type": "markdown",
    "tags": []
   },
   "source": [
    "#### Data Description\n",
    "\n",
    "Our social sentiment datasets were created using data pulled from <a href=\"https://www.intotheblock.com\">IntoTheBlock</a>, an online platform that utilizes machine learning power to generate insights about crypto-assets. This data is available on their website where they have compiled blockchain analytics for over 500 different types of cryptocurrency. Given that we seek to discern the factors that influence the price of different crypto-assets, we decided to utilize the “Social” data that is available from IntoTheBlock as a result of their machine-learning powered sentiment analyses for both Twitter (an American social networking service) and Telegram (an instant messaging system).\n",
    "\n",
    "Our \"trading\" datasets, were found on <a href=\"https://www.kaggle.com/odins0n/top-50-cryptocurrency-historical-prices\">Kaggle</a>. Kaggle is an online data science community where users can find and publish various datasets to analyze. The creator of this particular dataset took the data from investing.com, a website that provides news articles, analysis, and data on all sorts of different financial instruments. The full dataset contains data on 50 different coins, however for the purposes of this project we will only look at a handful of them.\n",
    "\n",
    "We downloaded CSV files directly from their website regarding both Twitter and Telegram sentiment for each of the four crypto-assets we will be analyzing (Bitcoin, Ethereum, Cardano, and Dogecoin). For both the Twitter and Telegram data for each of the four assets, the observations (rows) consisted of observations for a given day (indexed by date) and the attributes include the price of the asset on a respective day (although this was swapped in the final dataset for the closing price on each given day which was provided by our other dataset), as well as the number of posted Tweets or Telegram messages, posted that were classified as either “Positive”, “Negative”, “Neutral”. These values were generated by IntoTheBlock using a “proprietary classification machine learning algorithm” that infers the connotation of posts that are flagged as discussing the given asset or its ticker. \n",
    "\n",
    "Similarly, we downloaded the four relevant trading datasets directly from Kaggle. Each of these datasets also contain observations indexed by date, but other than price, has different attributes from the sentiment dataset. In a given coin’s dataset, each observation contains the daily opening and closing price, high and lowest price reached, trading volume, and percent change in closing prices from the previous day. Investing.com tracks and records financial data in their own database, and offers an API to query it which. This is most likely how the author of the Kaggle dataset collected the data, which he then made available via .csv file.\n",
    "\n",
    "This data set was created by IntoTheBlock with the intention of making information regarding cryptocurrency more accessible to investors and individuals involved in the market -- we consolidated data from their website into a unique dataset, in order to suit our needs for the present task and meet our goals. IntoTheBlock funded the creation of this data through revenue generated from client partnerships and subscription services, all of which are available through their website. Some preprocessing was done to make the downloaded data suitable for our analyses which is elaborated upon in the “Data Cleaning” section below. \n",
    "\n",
    "The author of the Kaggle dataset lists several questions that inspired him to create this dataset. A few examples are:\n",
    "* Which currencies are the most volatile?\n",
    "* How does the price fluctuations of currencies correlate with each other?\n",
    "* What day of the week is best to buy/sell?\n",
    "Luckily none of the trading data was missing any values, however we should note that the original dataset had the “closing price” column simply listed as “price”, which we changed to avoid confusion with the subsequent “opening price” column.\n",
    "\n",
    "\n",
    "Both the Twiter and Telegram data for all four crypto-assets begin on July 19, 2019, and cover every day up until August 24, 2021. This, therefore, is a non-random sample of all the data available of these metrics. We have, however, concluded that the sample is representative of the larger set given the amount of time it covers and the number of data points that are available to us. \n",
    "\n",
    "Each trading dataset contains observations going all the way back to the creation of its respective coin. Since they were created at different times, the start dates differ: Bitcoin data extends the furthest, going back to 7/18/2010, Ethereum has data going back 3/10/2016, Dogecoin has data going back to 6/3/2017, and Cardano has data going back to 12/31/2017. However, the last observations for all four coins come one 8/24/2021, which is less recent than the sentiment data . Since each dataset contains the daily price data going back to its respective coin’s existence, it is clearly non-random and representative. Though we can only compare the data to social sentiment for the roughly 2 years spanning from the start of the sentiment datasets, 7/19/2019, to the end of the trading datasets, 8/24/2021, that still provides us with over 700 observations from which to draw from, and since a lot the movement cryptocurrency has seen occurred in that period, it should provide us with more than enough data points to draw accurate conclusions from.\n",
    "\n",
    "There are no blatant errors, or redundancies in the present social sentiment dataset, however, the data may be noisy given that observations were extracted utilizing machine learning models that are trained to judge subjective connotations of human-generated messages. We were unable to locate specific information about the models that IntoTheBlock utilizes so we are not completely sure of how accurate the data we are using is and what the ratio of signal to noise is. \n",
    "\n",
    "Similarly, there are no blatant errors, or redundancies in the present trading dataset. However, the dataset stops with August's data, so it is missing the most recent price action which could have been useful for more contemporary analysis. We found that the present data is sufficient not only for historical analysis but for predictive analysis too. \n",
    "\n",
    "Lastly, to our understanding, observations were taken from posts scraped from both Twitter and Telegram meaning they are not self-contained and thus rely on these external resources. These resources arguably do not remain constant over time, given that posts can be deleted by their authors or potentially edited at a later date. Additionally, however, there are most likely official archival versions of the complete dataset that was sourced from IntoTheBlock, but this is unavailable to us. Further, we are not aware of any licenses or fees associated with any of the external resources, or use of the dataset that may apply to a future user. \n",
    "\n",
    "On the other hand, all the trading data is self-contained. Like any financial asset, its price at a given point in time is constant, and public, so we can trust that the data is accurate. Coming from Kaggle, there are no licenses or fees associated with any of the trading datasets used.\n",
    "\n",
    "The raw data from which we derived our unique dataset can be found <a href = https://cornell.box.com/s/2ubh5ma8i5g10q3uxzen1kx26qof4q4g> here.</a>\n",
    "\n"
   ]
  },
  {
   "cell_type": "markdown",
   "metadata": {
    "cell_id": "00003-566ef6af-50c9-4316-9348-d44cb11364af",
    "deepnote_cell_type": "markdown",
    "tags": []
   },
   "source": [
    "#### Data Collection\n",
    "\n",
    "We collected social network sentiment data from <a href=\"https://www.intotheblock.com\">Into the Block</a>, a platform that provides crypto analytics and quant services.  We also collected trading data, such as price and volume from Kaggle, data which, in turn, was taken from <a href=\"https://www.investing.com/\">investing.com</a>. Both services provided the data in csv format. \n"
   ]
  },
  {
   "cell_type": "markdown",
   "metadata": {
    "cell_id": "00004-3aa2d615-ded8-4239-b1d4-13e02bb21c70",
    "deepnote_cell_type": "markdown",
    "tags": []
   },
   "source": [
    "#### Data Cleaning & Exploration\n",
    "\n",
    "We began by reading all of our data from csv files into DataFrames. This included reading two csv files containing sentiment analysis data, one for Twitter and the other for Telegram, and one csv with the trading data. "
   ]
  },
  {
   "cell_type": "code",
   "execution_count": 549,
   "metadata": {
    "cell_id": "00000-cb45cd4a-7f82-475d-b23b-b1e6770037e9",
    "deepnote_cell_type": "code",
    "deepnote_to_be_reexecuted": false,
    "execution_millis": 861,
    "execution_start": 1634779541902,
    "source_hash": "8d7c16ff",
    "tags": []
   },
   "outputs": [],
   "source": [
    "#Importing necessary libraries and utilities\n",
    "import datetime\n",
    "import matplotlib.pyplot as plt\n",
    "import pandas as pd\n",
    "import seaborn as sns\n",
    "from sklearn.cluster import KMeans\n",
    "from scipy import stats"
   ]
  },
  {
   "cell_type": "code",
   "execution_count": 550,
   "metadata": {
    "cell_id": "00002-b07af711-fea1-4d01-a35f-7acd207e2ad5",
    "deepnote_cell_type": "code",
    "deepnote_to_be_reexecuted": false,
    "execution_millis": 114,
    "execution_start": 1634787182835,
    "is_code_hidden": false,
    "source_hash": "99d01ecc",
    "tags": []
   },
   "outputs": [
    {
     "data": {
      "text/html": [
       "<div>\n",
       "<style scoped>\n",
       "    .dataframe tbody tr th:only-of-type {\n",
       "        vertical-align: middle;\n",
       "    }\n",
       "\n",
       "    .dataframe tbody tr th {\n",
       "        vertical-align: top;\n",
       "    }\n",
       "\n",
       "    .dataframe thead th {\n",
       "        text-align: right;\n",
       "    }\n",
       "</style>\n",
       "<table border=\"1\" class=\"dataframe\">\n",
       "  <thead>\n",
       "    <tr style=\"text-align: right;\">\n",
       "      <th></th>\n",
       "      <th>SNo</th>\n",
       "      <th>Date</th>\n",
       "      <th>Price</th>\n",
       "      <th>Open</th>\n",
       "      <th>High</th>\n",
       "      <th>Low</th>\n",
       "      <th>Vol.</th>\n",
       "      <th>Change %</th>\n",
       "    </tr>\n",
       "  </thead>\n",
       "  <tbody>\n",
       "    <tr>\n",
       "      <th>0</th>\n",
       "      <td>1</td>\n",
       "      <td>2017-12-31</td>\n",
       "      <td>0.7100</td>\n",
       "      <td>0.59000</td>\n",
       "      <td>0.740</td>\n",
       "      <td>0.59000</td>\n",
       "      <td>17220000.0</td>\n",
       "      <td>20.34</td>\n",
       "    </tr>\n",
       "    <tr>\n",
       "      <th>1</th>\n",
       "      <td>2</td>\n",
       "      <td>2018-01-01</td>\n",
       "      <td>0.7022</td>\n",
       "      <td>0.71000</td>\n",
       "      <td>0.715</td>\n",
       "      <td>0.63200</td>\n",
       "      <td>17950000.0</td>\n",
       "      <td>-1.10</td>\n",
       "    </tr>\n",
       "    <tr>\n",
       "      <th>2</th>\n",
       "      <td>3</td>\n",
       "      <td>2018-01-02</td>\n",
       "      <td>0.7620</td>\n",
       "      <td>0.70220</td>\n",
       "      <td>0.800</td>\n",
       "      <td>0.67500</td>\n",
       "      <td>10970000.0</td>\n",
       "      <td>8.52</td>\n",
       "    </tr>\n",
       "    <tr>\n",
       "      <th>3</th>\n",
       "      <td>4</td>\n",
       "      <td>2018-01-03</td>\n",
       "      <td>1.0800</td>\n",
       "      <td>0.97818</td>\n",
       "      <td>1.090</td>\n",
       "      <td>0.88821</td>\n",
       "      <td>20230000.0</td>\n",
       "      <td>41.73</td>\n",
       "    </tr>\n",
       "    <tr>\n",
       "      <th>4</th>\n",
       "      <td>5</td>\n",
       "      <td>2018-01-04</td>\n",
       "      <td>1.1043</td>\n",
       "      <td>1.10000</td>\n",
       "      <td>1.350</td>\n",
       "      <td>1.05000</td>\n",
       "      <td>19600000.0</td>\n",
       "      <td>2.25</td>\n",
       "    </tr>\n",
       "  </tbody>\n",
       "</table>\n",
       "</div>"
      ],
      "text/plain": [
       "   SNo        Date   Price     Open   High      Low        Vol.  Change %\n",
       "0    1  2017-12-31  0.7100  0.59000  0.740  0.59000  17220000.0     20.34\n",
       "1    2  2018-01-01  0.7022  0.71000  0.715  0.63200  17950000.0     -1.10\n",
       "2    3  2018-01-02  0.7620  0.70220  0.800  0.67500  10970000.0      8.52\n",
       "3    4  2018-01-03  1.0800  0.97818  1.090  0.88821  20230000.0     41.73\n",
       "4    5  2018-01-04  1.1043  1.10000  1.350  1.05000  19600000.0      2.25"
      ]
     },
     "execution_count": 550,
     "metadata": {},
     "output_type": "execute_result"
    }
   ],
   "source": [
    "#Importing platform sentiment and price data from csv files\n",
    "btc_tel = pd.read_csv(\"./IntoTheBlock/BTC_TelegramSentiment.csv\")\n",
    "btc_twit = pd.read_csv(\"./IntoTheBlock/BTC_TwitterSentiment.csv\")\n",
    "btc_trading = pd.read_csv(\"./TradingData/Bitcoin_TradingData.csv\")\n",
    "\n",
    "eth_tel = pd.read_csv(\"./IntoTheBlock/ETH_TelegramSentiment.csv\")\n",
    "eth_twit = pd.read_csv(\"./IntoTheBlock/ETH_TwitterSentiment.csv\")\n",
    "eth_trading = pd.read_csv(\"./TradingData/Ethereum_TradingData.csv\")\n",
    "\n",
    "doge_tel= pd.read_csv(\"./IntoTheBlock/Doge_TelegramSentiment.csv\")\n",
    "doge_twit= pd.read_csv(\"./IntoTheBlock/DOGE_TwitterSentiment.csv\")\n",
    "doge_trading = pd.read_csv(\"./TradingData/Dogecoin_TradingData.csv\")\n",
    "\n",
    "ada_tel = pd.read_csv(\"./IntoTheBlock/ADA_TelegramSentiment.csv\")\n",
    "ada_twit = pd.read_csv(\"./IntoTheBlock/ADA_TwitterSentiment.csv\")\n",
    "ada_trading = pd.read_csv(\"./TradingData/Cardano_TradingData.csv\")\n",
    "\n",
    "mana_tel = pd.read_csv(\"./IntoTheBlock/MANA_TelegramSentiment.csv\")\n",
    "mana_twit = pd.read_csv(\"./IntoTheBlock/MANA_TwitterSentiment.csv\")\n",
    "\n",
    "ada_trading.head()"
   ]
  },
  {
   "cell_type": "markdown",
   "metadata": {
    "cell_id": "00006-e48fa134-be08-4b43-8afa-93b8f6fe42ea",
    "deepnote_cell_type": "markdown",
    "tags": []
   },
   "source": [
    "Since the names of the columns in each of the sentiment DataFrames were the same accross DataFrames, we gave each column a new, more descriptive name. "
   ]
  },
  {
   "cell_type": "code",
   "execution_count": 551,
   "metadata": {
    "cell_id": "00006-0b7a2721-78d4-4841-9ac6-0168006bb226",
    "deepnote_cell_type": "code",
    "deepnote_to_be_reexecuted": false,
    "execution_millis": 9,
    "execution_start": 1634779542856,
    "source_hash": "e328fafa",
    "tags": []
   },
   "outputs": [],
   "source": [
    "\n",
    "#renaming column names\n",
    "btc_tel.rename(columns={\"Positive\":\"btc_tel_pos\", \"Neutral\":\"btc_tel_neu\", \"Negative\":\"btc_tel_neg\",\n",
    "                        \"DateTime\":\"date\", \"Price\":\"btc_price\"}, inplace=True)\n",
    "btc_twit.rename(columns={\"Positive\":\"btc_twit_pos\", \"Neutral\":\"btc_twit_neu\", \"Negative\":\"btc_twit_neg\",\n",
    "                        \"DateTime\":\"date\", \"Price\":\"btc_price\"}, inplace=True)\n",
    "btc_trading.rename(columns={\"Date\":\"date\", \"Price\":\"btc_close\", \"Open\":\"btc_open\", \"High\":\"btc_high\", \n",
    "                        \"Low\":\"btc_low\", \"Vol.\":\"btc_vol\", \"Change %\": \"btc_pct_change\"}, inplace=True)\n",
    "\n",
    "eth_tel.rename(columns = {\"Positive\":\"eth_tel_pos\", \"Neutral\":\"eth_tel_neu\", \"Negative\":\"eth_tel_neg\", \n",
    "                        \"DateTime\":\"date\", \"Price\":\"eth_price\"}, inplace=True)\n",
    "eth_twit.rename(columns = {\"Positive\":\"eth_twit_pos\", \"Neutral\":\"eth_twit_neu\", \"Negative\":\"eth_twit_neg\", \n",
    "                        \"DateTime\":\"date\", \"Price\":\"eth_price\"}, inplace=True)\n",
    "eth_trading.rename(columns={\"Date\":\"date\", \"Price\":\"eth_close\", \"Open\":\"eth_open\", \"High\":\"eth_high\", \n",
    "                        \"Low\":\"eth_low\", \"Vol.\":\"eth_vol\", \"Change %\": \"eth_pct_change\"}, inplace=True)\n",
    "\n",
    "doge_tel.rename(columns={\"Positive\":\"doge_tel_pos\", \"Neutral\":\"doge_tel_neu\", \"Negative\":\"doge_tel_neg\",\n",
    "                        \"DateTime\":\"date\", \"Price\":\"doge_price\"}, inplace=True)\n",
    "doge_twit.rename(columns={\"Positive\":\"doge_twit_pos\", \"Neutral\":\"doge_twit_neu\", \"Negative\":\"doge_twit_neg\",\n",
    "                        \"DateTime\":\"date\", \"Price\":\"doge_price\"}, inplace=True)\n",
    "doge_trading.rename(columns={\"Date\":\"date\", \"Price\":\"doge_close\", \"Open\":\"doge_open\", \"High\":\"doge_high\", \n",
    "                        \"Low\":\"doge_low\", \"Vol.\":\"doge_vol\", \"Change %\": \"doge_pct_change\"}, inplace=True)\n",
    "\n",
    "ada_tel.rename(columns = {\"Positive\":\"ada_tel_pos\", \"Neutral\":\"ada_tel_neu\", \"Negative\":\"ada_tel_neg\", \n",
    "                        \"DateTime\":\"date\", \"Price\":\"ada_price\"}, inplace=True)\n",
    "ada_twit.rename(columns = {\"Positive\":\"ada_twit_pos\", \"Neutral\":\"ada_twit_neu\", \"Negative\":\"ada_twit_neg\", \n",
    "                        \"DateTime\":\"date\", \"Price\":\"ada_price\"}, inplace=True)\n",
    "ada_trading.rename(columns={\"Date\":\"date\", \"Price\":\"ada_close\", \"Open\":\"ada_open\", \"High\":\"ada_high\", \n",
    "                        \"Low\":\"ada_low\", \"Vol.\":\"ada_vol\", \"Change %\": \"ada_pct_change\"}, inplace=True)\n",
    "            \n",
    "mana_tel.rename(columns = {\"Positive\":\"mana_tel_pos\", \"Neutral\":\"mana_tel_neu\", \"Negative\":\"mana_tel_neg\", \n",
    "                        \"DateTime\":\"date\", \"Price\":\"mana_price\"}, inplace=True)\n",
    "mana_twit.rename(columns = {\"Positive\":\"mana_twit_pos\", \"Neutral\":\"mana_twit_neu\", \"Negative\":\"mana_twit_neg\", \n",
    "                        \"DateTime\":\"date\", \"Price\":\"mana_price\"}, inplace=True)"
   ]
  },
  {
   "cell_type": "markdown",
   "metadata": {
    "cell_id": "00007-cddb7302-9e16-4852-a635-7160e0020d78",
    "deepnote_cell_type": "markdown",
    "tags": []
   },
   "source": [
    "The sentiment and trading DataFrames each contained a column named 'Price' which held the exact same data, so we dropped those columns from two of the DataFrames to make the data more easy to look at. Furthermore, the trading data contained a column named \"SNo\", likely a serial number for indexing the data, that we do not require for our analysis, so we dropped that column too. "
   ]
  },
  {
   "cell_type": "code",
   "execution_count": 552,
   "metadata": {
    "cell_id": "00007-48cea14c-9f5d-427a-a8b8-0cec866227bc",
    "deepnote_cell_type": "code",
    "deepnote_to_be_reexecuted": false,
    "execution_millis": 4,
    "execution_start": 1634779542891,
    "source_hash": "ed72f074",
    "tags": []
   },
   "outputs": [],
   "source": [
    "#drop duplicate or unnecessary columns\n",
    "btc_tel.drop(\"btc_price\", axis=1, inplace=True)\n",
    "btc_twit.drop(\"btc_price\", axis=1, inplace=True)\n",
    "btc_trading.drop(\"SNo\", axis=1, inplace=True)\n",
    "\n",
    "eth_tel.drop(\"eth_price\", axis=1, inplace=True)\n",
    "eth_twit.drop(\"eth_price\", axis=1, inplace=True)\n",
    "eth_trading.drop(\"SNo\", axis=1, inplace=True)\n",
    "\n",
    "doge_tel.drop(\"doge_price\", axis=1, inplace=True)\n",
    "doge_twit.drop(\"doge_price\", axis=1, inplace=True)\n",
    "doge_trading.drop(\"SNo\", axis=1, inplace=True)\n",
    "\n",
    "ada_tel.drop(\"ada_price\", axis=1, inplace=True)\n",
    "ada_twit.drop(\"ada_price\", axis=1, inplace=True)\n",
    "ada_trading.drop(\"SNo\", axis=1, inplace=True)"
   ]
  },
  {
   "cell_type": "markdown",
   "metadata": {
    "cell_id": "00006-fe802efd-7211-4382-a0aa-f25df486f9ca",
    "deepnote_cell_type": "markdown",
    "tags": []
   },
   "source": [
    "After collecting our sentiment data into separate DataFrames, we merged them into a single DataFrame containing all the social sentiment data for the respective crypto. Then, we normalized the 'date' column of the sentiment dataframe, and that of the trading dataframe into datetime date objects so that we could merge them on that column. Finally we merged both the trading and social sentiment DataFrames for each cryptocurrency into a single dataframe (per cryptocurrency) to make it easier for analysis. "
   ]
  },
  {
   "cell_type": "code",
   "execution_count": 553,
   "metadata": {
    "cell_id": "00003-1433d94c-20a1-493e-a75c-60e53f072f4f",
    "deepnote_cell_type": "code",
    "deepnote_to_be_reexecuted": false,
    "execution_millis": 49,
    "execution_start": 1634779706595,
    "source_hash": "69ca6bd6",
    "tags": []
   },
   "outputs": [
    {
     "name": "stdout",
     "output_type": "stream",
     "text": [
      "Number of null values in mana_social DataFrame: 558\n"
     ]
    }
   ],
   "source": [
    "#merging social sentiment and trading dataframes\n",
    "btc_social = pd.merge(btc_tel, btc_twit, on=\"date\")\n",
    "btc_social[\"date\"] = pd.to_datetime(btc_social[\"date\"]).dt.date\n",
    "btc_trading[\"date\"] = pd.to_datetime(btc_trading[\"date\"]).dt.date\n",
    "btc_all = btc_social.merge(btc_trading, on= \"date\")\n",
    "\n",
    "\n",
    "eth_social=pd.merge(eth_tel, eth_twit, on=\"date\")\n",
    "eth_social[\"date\"] = pd.to_datetime(eth_social[\"date\"]).dt.date\n",
    "eth_trading[\"date\"] = pd.to_datetime(eth_trading[\"date\"]).dt.date\n",
    "eth_all = eth_social.merge(eth_trading, on= \"date\")\n",
    "\n",
    "\n",
    "doge_social=pd.merge(doge_tel, doge_twit, on=\"date\")\n",
    "doge_social[\"date\"] = pd.to_datetime(doge_social[\"date\"]).dt.date\n",
    "doge_trading[\"date\"] = pd.to_datetime(doge_trading[\"date\"]).dt.date\n",
    "doge_all = doge_social.merge(doge_trading, on= \"date\")\n",
    "\n",
    "ada_social=pd.merge(ada_tel, ada_twit, on=\"date\")\n",
    "ada_social[\"date\"] = pd.to_datetime(ada_social[\"date\"]).dt.date\n",
    "ada_trading[\"date\"] = pd.to_datetime(ada_trading[\"date\"]).dt.date\n",
    "ada_all = ada_social.merge(ada_trading, on= \"date\")\n",
    "\n",
    "mana_social=pd.merge(mana_tel, mana_twit, on=\"date\")\n",
    "mana_social[\"date\"] = pd.to_datetime(mana_social[\"date\"]).dt.date\n",
    "\n",
    "print(f\"Number of null values in mana_social DataFrame: {mana_social.isnull().sum().sum()}\")"
   ]
  },
  {
   "cell_type": "markdown",
   "metadata": {
    "cell_id": "00013-a1b61be9-7281-4917-863c-045c530d6b0f",
    "deepnote_cell_type": "markdown",
    "tags": []
   },
   "source": [
    "**Note:** At this point we realized that the mana_social DataFrame was missing a lot of data, so much so that we could not reasonably work with it. Therefore, we decided not to proceed with analyzing MANA in our exploration. "
   ]
  },
  {
   "cell_type": "markdown",
   "metadata": {
    "cell_id": "00013-61837b76-ef8d-4b83-bb75-7db9cda412f8",
    "deepnote_cell_type": "markdown",
    "tags": []
   },
   "source": [
    "Finally, we combined all of the individual crypto DataFrames into one all encompassing DataFrame."
   ]
  },
  {
   "cell_type": "code",
   "execution_count": 554,
   "metadata": {
    "cell_id": "00010-171c5c28-1fd9-4a78-9438-27d8e52eb194",
    "deepnote_cell_type": "code",
    "deepnote_to_be_reexecuted": false,
    "execution_millis": 189,
    "execution_start": 1634779543031,
    "source_hash": "c4312cb",
    "tags": []
   },
   "outputs": [
    {
     "data": {
      "text/html": [
       "<div>\n",
       "<style scoped>\n",
       "    .dataframe tbody tr th:only-of-type {\n",
       "        vertical-align: middle;\n",
       "    }\n",
       "\n",
       "    .dataframe tbody tr th {\n",
       "        vertical-align: top;\n",
       "    }\n",
       "\n",
       "    .dataframe thead th {\n",
       "        text-align: right;\n",
       "    }\n",
       "</style>\n",
       "<table border=\"1\" class=\"dataframe\">\n",
       "  <thead>\n",
       "    <tr style=\"text-align: right;\">\n",
       "      <th></th>\n",
       "      <th>date</th>\n",
       "      <th>btc_tel_pos</th>\n",
       "      <th>btc_tel_neu</th>\n",
       "      <th>btc_tel_neg</th>\n",
       "      <th>btc_twit_pos</th>\n",
       "      <th>btc_twit_neu</th>\n",
       "      <th>btc_twit_neg</th>\n",
       "      <th>btc_close</th>\n",
       "      <th>btc_open</th>\n",
       "      <th>btc_high</th>\n",
       "      <th>...</th>\n",
       "      <th>ada_tel_neg</th>\n",
       "      <th>ada_twit_pos</th>\n",
       "      <th>ada_twit_neu</th>\n",
       "      <th>ada_twit_neg</th>\n",
       "      <th>ada_close</th>\n",
       "      <th>ada_open</th>\n",
       "      <th>ada_high</th>\n",
       "      <th>ada_low</th>\n",
       "      <th>ada_vol</th>\n",
       "      <th>ada_pct_change</th>\n",
       "    </tr>\n",
       "  </thead>\n",
       "  <tbody>\n",
       "    <tr>\n",
       "      <th>0</th>\n",
       "      <td>2019-07-19</td>\n",
       "      <td>4.0</td>\n",
       "      <td>26.0</td>\n",
       "      <td>4.0</td>\n",
       "      <td>908.0</td>\n",
       "      <td>6289.0</td>\n",
       "      <td>297.0</td>\n",
       "      <td>10571.5</td>\n",
       "      <td>10651.6</td>\n",
       "      <td>10758.4</td>\n",
       "      <td>...</td>\n",
       "      <td>0.0</td>\n",
       "      <td>66.0</td>\n",
       "      <td>142.0</td>\n",
       "      <td>4.0</td>\n",
       "      <td>0.059578</td>\n",
       "      <td>0.058430</td>\n",
       "      <td>0.060626</td>\n",
       "      <td>0.056004</td>\n",
       "      <td>442660000.0</td>\n",
       "      <td>1.97</td>\n",
       "    </tr>\n",
       "    <tr>\n",
       "      <th>1</th>\n",
       "      <td>2019-07-20</td>\n",
       "      <td>2.0</td>\n",
       "      <td>17.0</td>\n",
       "      <td>2.0</td>\n",
       "      <td>1553.0</td>\n",
       "      <td>9950.0</td>\n",
       "      <td>429.0</td>\n",
       "      <td>10826.7</td>\n",
       "      <td>10571.9</td>\n",
       "      <td>11155.6</td>\n",
       "      <td>...</td>\n",
       "      <td>0.0</td>\n",
       "      <td>52.0</td>\n",
       "      <td>112.0</td>\n",
       "      <td>1.0</td>\n",
       "      <td>0.062635</td>\n",
       "      <td>0.059578</td>\n",
       "      <td>0.065022</td>\n",
       "      <td>0.059341</td>\n",
       "      <td>449800000.0</td>\n",
       "      <td>5.13</td>\n",
       "    </tr>\n",
       "    <tr>\n",
       "      <th>2</th>\n",
       "      <td>2019-07-21</td>\n",
       "      <td>1.0</td>\n",
       "      <td>17.0</td>\n",
       "      <td>0.0</td>\n",
       "      <td>1392.0</td>\n",
       "      <td>9478.0</td>\n",
       "      <td>360.0</td>\n",
       "      <td>10714.4</td>\n",
       "      <td>10827.0</td>\n",
       "      <td>10883.8</td>\n",
       "      <td>...</td>\n",
       "      <td>0.0</td>\n",
       "      <td>32.0</td>\n",
       "      <td>110.0</td>\n",
       "      <td>3.0</td>\n",
       "      <td>0.061109</td>\n",
       "      <td>0.062641</td>\n",
       "      <td>0.063998</td>\n",
       "      <td>0.059444</td>\n",
       "      <td>352390000.0</td>\n",
       "      <td>-2.43</td>\n",
       "    </tr>\n",
       "    <tr>\n",
       "      <th>3</th>\n",
       "      <td>2019-07-22</td>\n",
       "      <td>0.0</td>\n",
       "      <td>26.0</td>\n",
       "      <td>2.0</td>\n",
       "      <td>1706.0</td>\n",
       "      <td>10734.0</td>\n",
       "      <td>444.0</td>\n",
       "      <td>10412.5</td>\n",
       "      <td>10715.1</td>\n",
       "      <td>10806.3</td>\n",
       "      <td>...</td>\n",
       "      <td>0.0</td>\n",
       "      <td>78.0</td>\n",
       "      <td>174.0</td>\n",
       "      <td>4.0</td>\n",
       "      <td>0.059512</td>\n",
       "      <td>0.061123</td>\n",
       "      <td>0.062021</td>\n",
       "      <td>0.058196</td>\n",
       "      <td>336810000.0</td>\n",
       "      <td>-2.61</td>\n",
       "    </tr>\n",
       "    <tr>\n",
       "      <th>4</th>\n",
       "      <td>2019-07-23</td>\n",
       "      <td>1.0</td>\n",
       "      <td>13.0</td>\n",
       "      <td>1.0</td>\n",
       "      <td>1554.0</td>\n",
       "      <td>10801.0</td>\n",
       "      <td>473.0</td>\n",
       "      <td>9888.7</td>\n",
       "      <td>10412.8</td>\n",
       "      <td>10414.7</td>\n",
       "      <td>...</td>\n",
       "      <td>0.0</td>\n",
       "      <td>71.0</td>\n",
       "      <td>229.0</td>\n",
       "      <td>10.0</td>\n",
       "      <td>0.055741</td>\n",
       "      <td>0.059511</td>\n",
       "      <td>0.059550</td>\n",
       "      <td>0.055254</td>\n",
       "      <td>478500000.0</td>\n",
       "      <td>-6.34</td>\n",
       "    </tr>\n",
       "  </tbody>\n",
       "</table>\n",
       "<p>5 rows × 49 columns</p>\n",
       "</div>"
      ],
      "text/plain": [
       "         date  btc_tel_pos  btc_tel_neu  btc_tel_neg  btc_twit_pos  \\\n",
       "0  2019-07-19          4.0         26.0          4.0         908.0   \n",
       "1  2019-07-20          2.0         17.0          2.0        1553.0   \n",
       "2  2019-07-21          1.0         17.0          0.0        1392.0   \n",
       "3  2019-07-22          0.0         26.0          2.0        1706.0   \n",
       "4  2019-07-23          1.0         13.0          1.0        1554.0   \n",
       "\n",
       "   btc_twit_neu  btc_twit_neg  btc_close  btc_open  btc_high  ...  \\\n",
       "0        6289.0         297.0    10571.5   10651.6   10758.4  ...   \n",
       "1        9950.0         429.0    10826.7   10571.9   11155.6  ...   \n",
       "2        9478.0         360.0    10714.4   10827.0   10883.8  ...   \n",
       "3       10734.0         444.0    10412.5   10715.1   10806.3  ...   \n",
       "4       10801.0         473.0     9888.7   10412.8   10414.7  ...   \n",
       "\n",
       "   ada_tel_neg  ada_twit_pos  ada_twit_neu  ada_twit_neg  ada_close  ada_open  \\\n",
       "0          0.0          66.0         142.0           4.0   0.059578  0.058430   \n",
       "1          0.0          52.0         112.0           1.0   0.062635  0.059578   \n",
       "2          0.0          32.0         110.0           3.0   0.061109  0.062641   \n",
       "3          0.0          78.0         174.0           4.0   0.059512  0.061123   \n",
       "4          0.0          71.0         229.0          10.0   0.055741  0.059511   \n",
       "\n",
       "   ada_high   ada_low      ada_vol  ada_pct_change  \n",
       "0  0.060626  0.056004  442660000.0            1.97  \n",
       "1  0.065022  0.059341  449800000.0            5.13  \n",
       "2  0.063998  0.059444  352390000.0           -2.43  \n",
       "3  0.062021  0.058196  336810000.0           -2.61  \n",
       "4  0.059550  0.055254  478500000.0           -6.34  \n",
       "\n",
       "[5 rows x 49 columns]"
      ]
     },
     "metadata": {},
     "output_type": "display_data"
    }
   ],
   "source": [
    "#merging all 4 social sentiment dataframes into one\n",
    "social_sentiment1 = pd.merge(btc_social, eth_social, on=\"date\")\n",
    "social_sentiment2 = pd.merge(doge_social, ada_social, on=\"date\")\n",
    "social_sentiment = pd.merge(social_sentiment1, social_sentiment2, on=\"date\")\n",
    "\n",
    "#merging all 4 trading data dataframes into one\n",
    "trading1 = btc_trading.merge(eth_trading, on=\"date\")\n",
    "trading2 = doge_trading.merge(ada_trading, on=\"date\")\n",
    "trading = trading1.merge(trading2, on = \"date\")\n",
    "\n",
    "sentiment_and_trading = btc_all.merge(eth_all, on=\"date\").merge(doge_all, on=\"date\").merge(ada_all, on=\"date\")\n",
    "\n",
    "display(sentiment_and_trading.head())"
   ]
  },
  {
   "cell_type": "markdown",
   "metadata": {
    "cell_id": "00017-4d084417-ca32-4346-b4ad-94e0c794f0f0",
    "deepnote_cell_type": "markdown",
    "tags": []
   },
   "source": [
    "The above dataframe consists of 49 variables. The data is a daily time series, with the relevant dates tracked in the \"date\" column. The remaining 48 variables are first seperated by the four cryptocurrencies we are analyzing, namely Bitcoin (BTC), Ethereum (ETH), Dogecoin (DOGE), and Cardano (ADA). We then have the daily counts of both the positive, neutral, and negative mentions each cryptocurrency received on both Twitter, and Telegram. For example, the \"btc_tel_pos\" contains the number of positive mentions BTC received each day,\"doge_twit_neu\" contains the number of neutral mentions DOGE received each day. Additionally, each cryptocurrency has price and trading volume data. To again use BTC as an example, for each day, btc_close represenents the closing price, btc_open represenents the opening price, btc_high represents the highest price BTC hit that day, btc_low represents the lowest price BTC hit that day, btc_vol represents the number of BTC transactions that were made that day, and btc_pct_change represents the percent change from BTC's closing price the day before to the closing price of that day."
   ]
  },
  {
   "cell_type": "markdown",
   "metadata": {
    "cell_id": "00016-6106bfc4-3928-4c74-a668-54bd57d1f2a3",
    "deepnote_cell_type": "markdown",
    "tags": []
   },
   "source": [
    "To see if we have any missing data, let's count the number of NaN values in each column"
   ]
  },
  {
   "cell_type": "code",
   "execution_count": 555,
   "metadata": {
    "cell_id": "00015-e38080ff-b89a-4f69-8124-d0ca65a62d1e",
    "deepnote_cell_type": "code",
    "deepnote_to_be_reexecuted": false,
    "execution_millis": 3,
    "execution_start": 1634779543273,
    "source_hash": "65054536",
    "tags": []
   },
   "outputs": [
    {
     "name": "stdout",
     "output_type": "stream",
     "text": [
      "NaN counts by column in sentiment_and_trading:\n",
      "date               0\n",
      "btc_tel_pos        6\n",
      "btc_tel_neu        6\n",
      "btc_tel_neg        6\n",
      "btc_twit_pos       6\n",
      "btc_twit_neu       6\n",
      "btc_twit_neg       6\n",
      "btc_close          0\n",
      "btc_open           0\n",
      "btc_high           0\n",
      "btc_low            0\n",
      "btc_vol            0\n",
      "btc_pct_change     0\n",
      "eth_tel_pos        5\n",
      "eth_tel_neu        5\n",
      "eth_tel_neg        5\n",
      "eth_twit_pos       5\n",
      "eth_twit_neu       5\n",
      "eth_twit_neg       5\n",
      "eth_close          0\n",
      "eth_open           0\n",
      "eth_high           0\n",
      "eth_low            0\n",
      "eth_vol            0\n",
      "eth_pct_change     0\n",
      "doge_tel_pos       4\n",
      "doge_tel_neu       4\n",
      "doge_tel_neg       4\n",
      "doge_twit_pos      4\n",
      "doge_twit_neu      4\n",
      "doge_twit_neg      4\n",
      "doge_close         0\n",
      "doge_open          0\n",
      "doge_high          0\n",
      "doge_low           0\n",
      "doge_vol           0\n",
      "doge_pct_change    0\n",
      "ada_tel_pos        5\n",
      "ada_tel_neu        5\n",
      "ada_tel_neg        5\n",
      "ada_twit_pos       5\n",
      "ada_twit_neu       5\n",
      "ada_twit_neg       5\n",
      "ada_close          0\n",
      "ada_open           0\n",
      "ada_high           0\n",
      "ada_low            0\n",
      "ada_vol            0\n",
      "ada_pct_change     0\n",
      "dtype: int64\n"
     ]
    }
   ],
   "source": [
    "print(\"NaN counts by column in sentiment_and_trading:\")\n",
    "print(sentiment_and_trading.isna().sum())"
   ]
  },
  {
   "cell_type": "markdown",
   "metadata": {
    "cell_id": "00017-acbadabb-37e6-49b7-a10a-1dece6730c26",
    "deepnote_cell_type": "markdown",
    "tags": []
   },
   "source": [
    "We can see that none of the price data is missing. Furthermore, we can see that for each coin (BTC, ETH, DOGE, and ADA), the Telegram and Twitter sentiment columns all have the same number of NaN values. That could indicate if an observation has a NaN value in one column, the other sentiment columns will have NaN values as well. We can check this by looking at the observations in each coin's \\_social datframe where one of it's columns has NaN values."
   ]
  },
  {
   "cell_type": "code",
   "execution_count": 556,
   "metadata": {
    "cell_id": "00018-a56cd23d-11e8-44d3-8c26-60d9c175b3d4",
    "deepnote_cell_type": "code",
    "deepnote_to_be_reexecuted": false,
    "execution_millis": 118,
    "execution_start": 1634779543279,
    "source_hash": "12495db3",
    "tags": []
   },
   "outputs": [
    {
     "name": "stdout",
     "output_type": "stream",
     "text": [
      "Observations in btc_social where btc_tel_pos has an NaN value\n"
     ]
    },
    {
     "data": {
      "text/html": [
       "<div>\n",
       "<style scoped>\n",
       "    .dataframe tbody tr th:only-of-type {\n",
       "        vertical-align: middle;\n",
       "    }\n",
       "\n",
       "    .dataframe tbody tr th {\n",
       "        vertical-align: top;\n",
       "    }\n",
       "\n",
       "    .dataframe thead th {\n",
       "        text-align: right;\n",
       "    }\n",
       "</style>\n",
       "<table border=\"1\" class=\"dataframe\">\n",
       "  <thead>\n",
       "    <tr style=\"text-align: right;\">\n",
       "      <th></th>\n",
       "      <th>date</th>\n",
       "      <th>btc_tel_pos</th>\n",
       "      <th>btc_tel_neu</th>\n",
       "      <th>btc_tel_neg</th>\n",
       "      <th>btc_twit_pos</th>\n",
       "      <th>btc_twit_neu</th>\n",
       "      <th>btc_twit_neg</th>\n",
       "    </tr>\n",
       "  </thead>\n",
       "  <tbody>\n",
       "    <tr>\n",
       "      <th>639</th>\n",
       "      <td>2021-04-18</td>\n",
       "      <td>NaN</td>\n",
       "      <td>NaN</td>\n",
       "      <td>NaN</td>\n",
       "      <td>NaN</td>\n",
       "      <td>NaN</td>\n",
       "      <td>NaN</td>\n",
       "    </tr>\n",
       "    <tr>\n",
       "      <th>676</th>\n",
       "      <td>2021-05-25</td>\n",
       "      <td>NaN</td>\n",
       "      <td>NaN</td>\n",
       "      <td>NaN</td>\n",
       "      <td>NaN</td>\n",
       "      <td>NaN</td>\n",
       "      <td>NaN</td>\n",
       "    </tr>\n",
       "    <tr>\n",
       "      <th>677</th>\n",
       "      <td>2021-05-26</td>\n",
       "      <td>NaN</td>\n",
       "      <td>NaN</td>\n",
       "      <td>NaN</td>\n",
       "      <td>NaN</td>\n",
       "      <td>NaN</td>\n",
       "      <td>NaN</td>\n",
       "    </tr>\n",
       "    <tr>\n",
       "      <th>680</th>\n",
       "      <td>2021-05-29</td>\n",
       "      <td>NaN</td>\n",
       "      <td>NaN</td>\n",
       "      <td>NaN</td>\n",
       "      <td>NaN</td>\n",
       "      <td>NaN</td>\n",
       "      <td>NaN</td>\n",
       "    </tr>\n",
       "    <tr>\n",
       "      <th>682</th>\n",
       "      <td>2021-05-31</td>\n",
       "      <td>NaN</td>\n",
       "      <td>NaN</td>\n",
       "      <td>NaN</td>\n",
       "      <td>NaN</td>\n",
       "      <td>NaN</td>\n",
       "      <td>NaN</td>\n",
       "    </tr>\n",
       "    <tr>\n",
       "      <th>690</th>\n",
       "      <td>2021-06-08</td>\n",
       "      <td>NaN</td>\n",
       "      <td>NaN</td>\n",
       "      <td>NaN</td>\n",
       "      <td>NaN</td>\n",
       "      <td>NaN</td>\n",
       "      <td>NaN</td>\n",
       "    </tr>\n",
       "  </tbody>\n",
       "</table>\n",
       "</div>"
      ],
      "text/plain": [
       "           date  btc_tel_pos  btc_tel_neu  btc_tel_neg  btc_twit_pos  \\\n",
       "639  2021-04-18          NaN          NaN          NaN           NaN   \n",
       "676  2021-05-25          NaN          NaN          NaN           NaN   \n",
       "677  2021-05-26          NaN          NaN          NaN           NaN   \n",
       "680  2021-05-29          NaN          NaN          NaN           NaN   \n",
       "682  2021-05-31          NaN          NaN          NaN           NaN   \n",
       "690  2021-06-08          NaN          NaN          NaN           NaN   \n",
       "\n",
       "     btc_twit_neu  btc_twit_neg  \n",
       "639           NaN           NaN  \n",
       "676           NaN           NaN  \n",
       "677           NaN           NaN  \n",
       "680           NaN           NaN  \n",
       "682           NaN           NaN  \n",
       "690           NaN           NaN  "
      ]
     },
     "metadata": {},
     "output_type": "display_data"
    },
    {
     "name": "stdout",
     "output_type": "stream",
     "text": [
      "\n",
      "Observations in eth_social where eth_tel_pos has an NaN value\n"
     ]
    },
    {
     "data": {
      "text/html": [
       "<div>\n",
       "<style scoped>\n",
       "    .dataframe tbody tr th:only-of-type {\n",
       "        vertical-align: middle;\n",
       "    }\n",
       "\n",
       "    .dataframe tbody tr th {\n",
       "        vertical-align: top;\n",
       "    }\n",
       "\n",
       "    .dataframe thead th {\n",
       "        text-align: right;\n",
       "    }\n",
       "</style>\n",
       "<table border=\"1\" class=\"dataframe\">\n",
       "  <thead>\n",
       "    <tr style=\"text-align: right;\">\n",
       "      <th></th>\n",
       "      <th>date</th>\n",
       "      <th>eth_tel_pos</th>\n",
       "      <th>eth_tel_neu</th>\n",
       "      <th>eth_tel_neg</th>\n",
       "      <th>eth_twit_pos</th>\n",
       "      <th>eth_twit_neu</th>\n",
       "      <th>eth_twit_neg</th>\n",
       "    </tr>\n",
       "  </thead>\n",
       "  <tbody>\n",
       "    <tr>\n",
       "      <th>639</th>\n",
       "      <td>2021-04-18</td>\n",
       "      <td>NaN</td>\n",
       "      <td>NaN</td>\n",
       "      <td>NaN</td>\n",
       "      <td>NaN</td>\n",
       "      <td>NaN</td>\n",
       "      <td>NaN</td>\n",
       "    </tr>\n",
       "    <tr>\n",
       "      <th>640</th>\n",
       "      <td>2021-04-19</td>\n",
       "      <td>NaN</td>\n",
       "      <td>NaN</td>\n",
       "      <td>NaN</td>\n",
       "      <td>NaN</td>\n",
       "      <td>NaN</td>\n",
       "      <td>NaN</td>\n",
       "    </tr>\n",
       "    <tr>\n",
       "      <th>645</th>\n",
       "      <td>2021-04-24</td>\n",
       "      <td>NaN</td>\n",
       "      <td>NaN</td>\n",
       "      <td>NaN</td>\n",
       "      <td>NaN</td>\n",
       "      <td>NaN</td>\n",
       "      <td>NaN</td>\n",
       "    </tr>\n",
       "    <tr>\n",
       "      <th>676</th>\n",
       "      <td>2021-05-25</td>\n",
       "      <td>NaN</td>\n",
       "      <td>NaN</td>\n",
       "      <td>NaN</td>\n",
       "      <td>NaN</td>\n",
       "      <td>NaN</td>\n",
       "      <td>NaN</td>\n",
       "    </tr>\n",
       "    <tr>\n",
       "      <th>677</th>\n",
       "      <td>2021-05-26</td>\n",
       "      <td>NaN</td>\n",
       "      <td>NaN</td>\n",
       "      <td>NaN</td>\n",
       "      <td>NaN</td>\n",
       "      <td>NaN</td>\n",
       "      <td>NaN</td>\n",
       "    </tr>\n",
       "  </tbody>\n",
       "</table>\n",
       "</div>"
      ],
      "text/plain": [
       "           date  eth_tel_pos  eth_tel_neu  eth_tel_neg  eth_twit_pos  \\\n",
       "639  2021-04-18          NaN          NaN          NaN           NaN   \n",
       "640  2021-04-19          NaN          NaN          NaN           NaN   \n",
       "645  2021-04-24          NaN          NaN          NaN           NaN   \n",
       "676  2021-05-25          NaN          NaN          NaN           NaN   \n",
       "677  2021-05-26          NaN          NaN          NaN           NaN   \n",
       "\n",
       "     eth_twit_neu  eth_twit_neg  \n",
       "639           NaN           NaN  \n",
       "640           NaN           NaN  \n",
       "645           NaN           NaN  \n",
       "676           NaN           NaN  \n",
       "677           NaN           NaN  "
      ]
     },
     "metadata": {},
     "output_type": "display_data"
    },
    {
     "name": "stdout",
     "output_type": "stream",
     "text": [
      "\n",
      "Observations in doge_social where doge_tel_pos has an NaN value\n"
     ]
    },
    {
     "data": {
      "text/html": [
       "<div>\n",
       "<style scoped>\n",
       "    .dataframe tbody tr th:only-of-type {\n",
       "        vertical-align: middle;\n",
       "    }\n",
       "\n",
       "    .dataframe tbody tr th {\n",
       "        vertical-align: top;\n",
       "    }\n",
       "\n",
       "    .dataframe thead th {\n",
       "        text-align: right;\n",
       "    }\n",
       "</style>\n",
       "<table border=\"1\" class=\"dataframe\">\n",
       "  <thead>\n",
       "    <tr style=\"text-align: right;\">\n",
       "      <th></th>\n",
       "      <th>date</th>\n",
       "      <th>doge_tel_pos</th>\n",
       "      <th>doge_tel_neu</th>\n",
       "      <th>doge_tel_neg</th>\n",
       "      <th>doge_twit_pos</th>\n",
       "      <th>doge_twit_neu</th>\n",
       "      <th>doge_twit_neg</th>\n",
       "    </tr>\n",
       "  </thead>\n",
       "  <tbody>\n",
       "    <tr>\n",
       "      <th>640</th>\n",
       "      <td>2021-04-18</td>\n",
       "      <td>NaN</td>\n",
       "      <td>NaN</td>\n",
       "      <td>NaN</td>\n",
       "      <td>NaN</td>\n",
       "      <td>NaN</td>\n",
       "      <td>NaN</td>\n",
       "    </tr>\n",
       "    <tr>\n",
       "      <th>641</th>\n",
       "      <td>2021-04-19</td>\n",
       "      <td>NaN</td>\n",
       "      <td>NaN</td>\n",
       "      <td>NaN</td>\n",
       "      <td>NaN</td>\n",
       "      <td>NaN</td>\n",
       "      <td>NaN</td>\n",
       "    </tr>\n",
       "    <tr>\n",
       "      <th>647</th>\n",
       "      <td>2021-04-25</td>\n",
       "      <td>NaN</td>\n",
       "      <td>NaN</td>\n",
       "      <td>NaN</td>\n",
       "      <td>NaN</td>\n",
       "      <td>NaN</td>\n",
       "      <td>NaN</td>\n",
       "    </tr>\n",
       "    <tr>\n",
       "      <th>678</th>\n",
       "      <td>2021-05-26</td>\n",
       "      <td>NaN</td>\n",
       "      <td>NaN</td>\n",
       "      <td>NaN</td>\n",
       "      <td>NaN</td>\n",
       "      <td>NaN</td>\n",
       "      <td>NaN</td>\n",
       "    </tr>\n",
       "  </tbody>\n",
       "</table>\n",
       "</div>"
      ],
      "text/plain": [
       "           date  doge_tel_pos  doge_tel_neu  doge_tel_neg  doge_twit_pos  \\\n",
       "640  2021-04-18           NaN           NaN           NaN            NaN   \n",
       "641  2021-04-19           NaN           NaN           NaN            NaN   \n",
       "647  2021-04-25           NaN           NaN           NaN            NaN   \n",
       "678  2021-05-26           NaN           NaN           NaN            NaN   \n",
       "\n",
       "     doge_twit_neu  doge_twit_neg  \n",
       "640            NaN            NaN  \n",
       "641            NaN            NaN  \n",
       "647            NaN            NaN  \n",
       "678            NaN            NaN  "
      ]
     },
     "metadata": {},
     "output_type": "display_data"
    },
    {
     "name": "stdout",
     "output_type": "stream",
     "text": [
      "\n",
      "Observations in ada_social where ada_tel_pos has an NaN value\n"
     ]
    },
    {
     "data": {
      "text/html": [
       "<div>\n",
       "<style scoped>\n",
       "    .dataframe tbody tr th:only-of-type {\n",
       "        vertical-align: middle;\n",
       "    }\n",
       "\n",
       "    .dataframe tbody tr th {\n",
       "        vertical-align: top;\n",
       "    }\n",
       "\n",
       "    .dataframe thead th {\n",
       "        text-align: right;\n",
       "    }\n",
       "</style>\n",
       "<table border=\"1\" class=\"dataframe\">\n",
       "  <thead>\n",
       "    <tr style=\"text-align: right;\">\n",
       "      <th></th>\n",
       "      <th>date</th>\n",
       "      <th>ada_tel_pos</th>\n",
       "      <th>ada_tel_neu</th>\n",
       "      <th>ada_tel_neg</th>\n",
       "      <th>ada_twit_pos</th>\n",
       "      <th>ada_twit_neu</th>\n",
       "      <th>ada_twit_neg</th>\n",
       "    </tr>\n",
       "  </thead>\n",
       "  <tbody>\n",
       "    <tr>\n",
       "      <th>639</th>\n",
       "      <td>2021-04-18</td>\n",
       "      <td>NaN</td>\n",
       "      <td>NaN</td>\n",
       "      <td>NaN</td>\n",
       "      <td>NaN</td>\n",
       "      <td>NaN</td>\n",
       "      <td>NaN</td>\n",
       "    </tr>\n",
       "    <tr>\n",
       "      <th>640</th>\n",
       "      <td>2021-04-19</td>\n",
       "      <td>NaN</td>\n",
       "      <td>NaN</td>\n",
       "      <td>NaN</td>\n",
       "      <td>NaN</td>\n",
       "      <td>NaN</td>\n",
       "      <td>NaN</td>\n",
       "    </tr>\n",
       "    <tr>\n",
       "      <th>677</th>\n",
       "      <td>2021-05-26</td>\n",
       "      <td>NaN</td>\n",
       "      <td>NaN</td>\n",
       "      <td>NaN</td>\n",
       "      <td>NaN</td>\n",
       "      <td>NaN</td>\n",
       "      <td>NaN</td>\n",
       "    </tr>\n",
       "    <tr>\n",
       "      <th>678</th>\n",
       "      <td>2021-05-27</td>\n",
       "      <td>NaN</td>\n",
       "      <td>NaN</td>\n",
       "      <td>NaN</td>\n",
       "      <td>NaN</td>\n",
       "      <td>NaN</td>\n",
       "      <td>NaN</td>\n",
       "    </tr>\n",
       "    <tr>\n",
       "      <th>680</th>\n",
       "      <td>2021-05-29</td>\n",
       "      <td>NaN</td>\n",
       "      <td>NaN</td>\n",
       "      <td>NaN</td>\n",
       "      <td>NaN</td>\n",
       "      <td>NaN</td>\n",
       "      <td>NaN</td>\n",
       "    </tr>\n",
       "  </tbody>\n",
       "</table>\n",
       "</div>"
      ],
      "text/plain": [
       "           date  ada_tel_pos  ada_tel_neu  ada_tel_neg  ada_twit_pos  \\\n",
       "639  2021-04-18          NaN          NaN          NaN           NaN   \n",
       "640  2021-04-19          NaN          NaN          NaN           NaN   \n",
       "677  2021-05-26          NaN          NaN          NaN           NaN   \n",
       "678  2021-05-27          NaN          NaN          NaN           NaN   \n",
       "680  2021-05-29          NaN          NaN          NaN           NaN   \n",
       "\n",
       "     ada_twit_neu  ada_twit_neg  \n",
       "639           NaN           NaN  \n",
       "640           NaN           NaN  \n",
       "677           NaN           NaN  \n",
       "678           NaN           NaN  \n",
       "680           NaN           NaN  "
      ]
     },
     "metadata": {},
     "output_type": "display_data"
    }
   ],
   "source": [
    "print(\"Observations in btc_social where btc_tel_pos has an NaN value\")\n",
    "display(btc_social[btc_social[\"btc_tel_pos\"].isna()])\n",
    "\n",
    "print(\"\\nObservations in eth_social where eth_tel_pos has an NaN value\")\n",
    "display(eth_social[eth_social[\"eth_tel_pos\"].isna()])\n",
    "\n",
    "print(\"\\nObservations in doge_social where doge_tel_pos has an NaN value\")\n",
    "display(doge_social[doge_social[\"doge_tel_pos\"].isna()])\n",
    "\n",
    "print(\"\\nObservations in ada_social where ada_tel_pos has an NaN value\")\n",
    "display(ada_social[ada_social[\"ada_tel_pos\"].isna()])"
   ]
  },
  {
   "cell_type": "markdown",
   "metadata": {
    "cell_id": "00019-aebbee9f-fb62-4d81-a0ea-1d8b28293117",
    "deepnote_cell_type": "markdown",
    "tags": []
   },
   "source": [
    "Our intuition about the rows missing values was correct, but before we start cleaning the NaN values from our main dataframe, it's interesting to note that despite having NaN values on many of the same dates as the other coins, the those observation from doge_social have an index that is one higher than the other three coins. Let's check the sizes of each of the four full dataframes."
   ]
  },
  {
   "cell_type": "code",
   "execution_count": 557,
   "metadata": {
    "cell_id": "00020-60fb8b93-24aa-40f0-9115-094b3829ffc7",
    "deepnote_cell_type": "code",
    "deepnote_to_be_reexecuted": false,
    "execution_millis": 35,
    "execution_start": 1634779543397,
    "source_hash": "6359a919",
    "tags": []
   },
   "outputs": [
    {
     "name": "stdout",
     "output_type": "stream",
     "text": [
      "Shape of btc_social: (824, 7)\n",
      "Shape of eth_social: (824, 7)\n",
      "Shape of doge_social: (825, 7)\n",
      "Shape of ada_social: (825, 7)\n"
     ]
    }
   ],
   "source": [
    "print(\"Shape of btc_social: {}\".format(btc_social.shape))\n",
    "print(\"Shape of eth_social: {}\".format(eth_social.shape))\n",
    "print(\"Shape of doge_social: {}\".format(doge_social.shape))\n",
    "print(\"Shape of ada_social: {}\".format(ada_social.shape))"
   ]
  },
  {
   "cell_type": "markdown",
   "metadata": {
    "cell_id": "00021-8ad0ca75-f6e3-440a-ab69-2f946e2e662f",
    "deepnote_cell_type": "markdown",
    "tags": []
   },
   "source": [
    "The doge_social dataframe has 825 rows, while the other three only have 824! Interestingly, ada_social seems to have an extra row as well despite the index for May 26th, 2021 matching those of btc_social and eth_social. Since this is a time series, it's likely these additonal rows are at either the beginning or end of the dataframe. Let's take a look at the first and last three rows of each dataframe to see if we can find the extra rows."
   ]
  },
  {
   "cell_type": "code",
   "execution_count": 558,
   "metadata": {
    "cell_id": "00022-5d4838f3-8697-435b-a46e-bd98fe3f0142",
    "deepnote_cell_type": "code",
    "deepnote_to_be_reexecuted": false,
    "execution_millis": 127,
    "execution_start": 1634779543459,
    "source_hash": "5e4aaeb8",
    "tags": []
   },
   "outputs": [
    {
     "name": "stdout",
     "output_type": "stream",
     "text": [
      "Dates at first and last 3 indexes for btc_social\n",
      "        First        Last\n",
      "0  2019-07-19  2021-10-17\n",
      "1  2019-07-20  2021-10-18\n",
      "2  2019-07-21  2021-10-19\n",
      "\n",
      "Dates at first and last 3 indexes for th_social\n",
      "        First        Last\n",
      "0  2019-07-19  2021-10-17\n",
      "1  2019-07-20  2021-10-18\n",
      "2  2019-07-21  2021-10-19\n",
      "\n",
      "Dates at first and last 3 indexes for doge_social\n",
      "        First        Last\n",
      "0  2019-07-18  2021-10-17\n",
      "1  2019-07-19  2021-10-18\n",
      "2  2019-07-20  2021-10-19\n",
      "\n",
      "Dates at first and last 3 indexes for ada_social\n",
      "        First        Last\n",
      "0  2019-07-19  2021-10-18\n",
      "1  2019-07-20  2021-10-19\n",
      "2  2019-07-21  2021-10-20\n",
      "\n"
     ]
    }
   ],
   "source": [
    "btc_ht = pd.DataFrame({\"First\":btc_social[\"date\"].head(3), \n",
    "                       \"Last\":btc_social[\"date\"].tail(3).reset_index(drop=True)})\n",
    "eth_ht = pd.DataFrame({\"First\":eth_social[\"date\"].head(3), \n",
    "                       \"Last\":eth_social[\"date\"].tail(3).reset_index(drop=True)})\n",
    "doge_ht = pd.DataFrame({\"First\":doge_social[\"date\"].head(3), \n",
    "                        \"Last\":doge_social[\"date\"].tail(3).reset_index(drop=True)})\n",
    "ada_ht = pd.DataFrame({\"First\":ada_social[\"date\"].head(3), \n",
    "                       \"Last\":ada_social[\"date\"].tail(3).reset_index(drop=True)})\n",
    "\n",
    "print(\"Dates at first and last 3 indexes for btc_social\\n{}\\n\".format(btc_ht))\n",
    "\n",
    "print(\"Dates at first and last 3 indexes for th_social\\n{}\\n\".format(eth_ht))\n",
    "\n",
    "print(\"Dates at first and last 3 indexes for doge_social\\n{}\\n\".format(doge_ht))\n",
    "\n",
    "print(\"Dates at first and last 3 indexes for ada_social\\n{}\\n\".format(ada_ht))"
   ]
  },
  {
   "cell_type": "markdown",
   "metadata": {
    "cell_id": "00023-451e468f-0246-4633-a872-ab88a75d19ec",
    "deepnote_cell_type": "markdown",
    "tags": []
   },
   "source": [
    "Dogecoin's first observation is one day earlier than the other three coins, while Cardano's last observation is one day later! Luckily, the inclusive merge we used sould have accounted for that; let's make sure of that by confirming the social_sentiment dataframe has 824 rows and that the first and last dates recorded are 2019-07-19 and 2021-10-19, respectively."
   ]
  },
  {
   "cell_type": "code",
   "execution_count": 559,
   "metadata": {
    "cell_id": "00024-7fcda231-012f-4ca2-b3e2-a2f283f37cc0",
    "deepnote_cell_type": "code",
    "deepnote_to_be_reexecuted": false,
    "execution_millis": 126,
    "execution_start": 1634779543460,
    "source_hash": "3fbd189a",
    "tags": []
   },
   "outputs": [
    {
     "name": "stdout",
     "output_type": "stream",
     "text": [
      "Number of rows in social_sentiment: 824\n",
      "Date of first observation in social_sentiment: 2019-07-19\n",
      "Date of last observation in social_sentiment: 2021-10-19\n"
     ]
    }
   ],
   "source": [
    "rnum = len(social_sentiment.index)\n",
    "\n",
    "print(\"Number of rows in social_sentiment: {}\".format(rnum))\n",
    "print(\"Date of first observation in social_sentiment: {}\".format(social_sentiment.loc[0, \"date\"]))\n",
    "print(\"Date of last observation in social_sentiment: {}\".format(social_sentiment.loc[rnum-1, \"date\"]))"
   ]
  },
  {
   "cell_type": "markdown",
   "metadata": {
    "cell_id": "00025-21594a18-6d3e-45a0-b10e-8e9a7ee771f9",
    "deepnote_cell_type": "markdown",
    "tags": []
   },
   "source": [
    "Exactly what we assumed, so we know the inclusive merge worked properly. Still, now that we saw how merging dataframes could possibly drop data, it begs the question if any more observations were dropped when we merged the social_sentiment dataframe with the trading dataframe. Let's see how many rows our main dataframe, sentiment_and_trading has to determine this."
   ]
  },
  {
   "cell_type": "code",
   "execution_count": 560,
   "metadata": {
    "cell_id": "00026-e6fb541c-b281-49bc-aa39-390c5a90199c",
    "deepnote_cell_type": "code",
    "deepnote_to_be_reexecuted": false,
    "execution_millis": 96,
    "execution_start": 1634779543491,
    "source_hash": "9d553ff2",
    "tags": []
   },
   "outputs": [
    {
     "name": "stdout",
     "output_type": "stream",
     "text": [
      "Number of rows in sentiment_and_trading: 768\n"
     ]
    }
   ],
   "source": [
    "print(\"Number of rows in sentiment_and_trading: {}\".format(len(sentiment_and_trading.index)))"
   ]
  },
  {
   "cell_type": "markdown",
   "metadata": {
    "cell_id": "00027-ff4b2336-ec2a-463b-8b53-a09c374aed98",
    "deepnote_cell_type": "markdown",
    "tags": []
   },
   "source": [
    "Our main dataframe only has 768 rows, meaning we lost another 56 observations when we merged our sentiment data with our trading data. Let's look at the shape of our trading dataframe, as well as the first and last dates recorded in it. "
   ]
  },
  {
   "cell_type": "code",
   "execution_count": 561,
   "metadata": {
    "cell_id": "00028-972c9e24-a291-4628-9d2b-41dbae9a37bb",
    "deepnote_cell_type": "code",
    "deepnote_to_be_reexecuted": false,
    "execution_millis": 97,
    "execution_start": 1634779543491,
    "source_hash": "b7c7fc38",
    "tags": []
   },
   "outputs": [
    {
     "name": "stdout",
     "output_type": "stream",
     "text": [
      "Shape of trading: (1333, 25)\n",
      "Date of first observation in trading: 2017-12-31\n",
      "Date of last observation in trading: 2021-08-24\n"
     ]
    }
   ],
   "source": [
    "shp = trading.shape\n",
    "\n",
    "print(\"Shape of trading: {}\".format(shp))\n",
    "print(\"Date of first observation in trading: {}\".format(trading.loc[0, \"date\"]))\n",
    "print(\"Date of last observation in trading: {}\".format(trading.loc[shp[0]-1, \"date\"]))"
   ]
  },
  {
   "cell_type": "markdown",
   "metadata": {
    "cell_id": "00029-51d390e7-f260-4d2a-a173-54f78521f5be",
    "deepnote_cell_type": "markdown",
    "tags": []
   },
   "source": [
    "Our trading dataframe actually has data recorded even earlier than our social_sentiment dataframe, but the most recent dates only go back to August 24th, 2021. Some quick mental calculations will show that there are exactly 56 days from August 24th to October 19th, so it should be safe to assume our main dataframe has data that spans from 2019-07-19 to 2021-08-24."
   ]
  },
  {
   "cell_type": "code",
   "execution_count": 562,
   "metadata": {
    "cell_id": "00030-cfcd16f2-5ddc-4ec6-8d52-1e2de89a675f",
    "deepnote_cell_type": "code",
    "deepnote_to_be_reexecuted": false,
    "execution_millis": 98,
    "execution_start": 1634779543492,
    "source_hash": "5307a7e",
    "tags": []
   },
   "outputs": [
    {
     "name": "stdout",
     "output_type": "stream",
     "text": [
      "Date of first observation in sentiment_and_trading: 2019-07-19\n",
      "Date of last observation in sentiment_and_trading: 2021-08-24\n"
     ]
    }
   ],
   "source": [
    "lasti = sentiment_and_trading.shape[0]-1\n",
    "\n",
    "print(\"Date of first observation in sentiment_and_trading: {}\".format(sentiment_and_trading.loc[0, \"date\"]))\n",
    "print(\"Date of last observation in sentiment_and_trading: {}\".format(sentiment_and_trading.loc[lasti, \"date\"]))"
   ]
  },
  {
   "cell_type": "markdown",
   "metadata": {
    "cell_id": "00019-a64146e7-e855-4cfd-a1cd-725e63ac9ece",
    "deepnote_cell_type": "markdown",
    "tags": []
   },
   "source": [
    "Once again we were correct, so lets get back to cleaning out the NaN values. \n",
    "\n",
    "We were able to  visually confirm that if a coin has a missing value in one of it's sentiment columns, it is missing in all of them. Furthermore, many of the dates that are missing NaN values seem to overlap. Let's get the indexes and dates of all the observations in our main dataframe to see how many total rows we need to account for."
   ]
  },
  {
   "cell_type": "code",
   "execution_count": 563,
   "metadata": {
    "cell_id": "00018-7800d04e-a072-4864-9507-fae1acaef730",
    "deepnote_cell_type": "code",
    "deepnote_to_be_reexecuted": false,
    "execution_millis": 9,
    "execution_start": 1634785817637,
    "source_hash": "c0a3fa70",
    "tags": []
   },
   "outputs": [
    {
     "name": "stdout",
     "output_type": "stream",
     "text": [
      "Indexes and dates of observations in sentiment_and_trading with missing values: \n"
     ]
    },
    {
     "data": {
      "text/html": [
       "<div>\n",
       "<style scoped>\n",
       "    .dataframe tbody tr th:only-of-type {\n",
       "        vertical-align: middle;\n",
       "    }\n",
       "\n",
       "    .dataframe tbody tr th {\n",
       "        vertical-align: top;\n",
       "    }\n",
       "\n",
       "    .dataframe thead th {\n",
       "        text-align: right;\n",
       "    }\n",
       "</style>\n",
       "<table border=\"1\" class=\"dataframe\">\n",
       "  <thead>\n",
       "    <tr style=\"text-align: right;\">\n",
       "      <th></th>\n",
       "      <th>Indexes</th>\n",
       "      <th>Dates</th>\n",
       "    </tr>\n",
       "  </thead>\n",
       "  <tbody>\n",
       "    <tr>\n",
       "      <th>0</th>\n",
       "      <td>639</td>\n",
       "      <td>2021-04-18</td>\n",
       "    </tr>\n",
       "    <tr>\n",
       "      <th>1</th>\n",
       "      <td>640</td>\n",
       "      <td>2021-04-19</td>\n",
       "    </tr>\n",
       "    <tr>\n",
       "      <th>2</th>\n",
       "      <td>645</td>\n",
       "      <td>2021-04-24</td>\n",
       "    </tr>\n",
       "    <tr>\n",
       "      <th>3</th>\n",
       "      <td>646</td>\n",
       "      <td>2021-04-25</td>\n",
       "    </tr>\n",
       "    <tr>\n",
       "      <th>4</th>\n",
       "      <td>676</td>\n",
       "      <td>2021-05-25</td>\n",
       "    </tr>\n",
       "    <tr>\n",
       "      <th>5</th>\n",
       "      <td>677</td>\n",
       "      <td>2021-05-26</td>\n",
       "    </tr>\n",
       "    <tr>\n",
       "      <th>6</th>\n",
       "      <td>678</td>\n",
       "      <td>2021-05-27</td>\n",
       "    </tr>\n",
       "    <tr>\n",
       "      <th>7</th>\n",
       "      <td>680</td>\n",
       "      <td>2021-05-29</td>\n",
       "    </tr>\n",
       "    <tr>\n",
       "      <th>8</th>\n",
       "      <td>682</td>\n",
       "      <td>2021-05-31</td>\n",
       "    </tr>\n",
       "    <tr>\n",
       "      <th>9</th>\n",
       "      <td>690</td>\n",
       "      <td>2021-06-08</td>\n",
       "    </tr>\n",
       "  </tbody>\n",
       "</table>\n",
       "</div>"
      ],
      "text/plain": [
       "   Indexes       Dates\n",
       "0      639  2021-04-18\n",
       "1      640  2021-04-19\n",
       "2      645  2021-04-24\n",
       "3      646  2021-04-25\n",
       "4      676  2021-05-25\n",
       "5      677  2021-05-26\n",
       "6      678  2021-05-27\n",
       "7      680  2021-05-29\n",
       "8      682  2021-05-31\n",
       "9      690  2021-06-08"
      ]
     },
     "metadata": {},
     "output_type": "display_data"
    },
    {
     "name": "stdout",
     "output_type": "stream",
     "text": [
      "\n",
      "Number of rows with missing values in social sentiment_all:  10\n",
      "Percentage of rows with missing values: 0.01\n"
     ]
    }
   ],
   "source": [
    "na_indexes = pd.Series(sentiment_and_trading.loc[sentiment_and_trading.isna().any(1)].index)\n",
    "na_dates = sentiment_and_trading.loc[na_indexes, \"date\"].reset_index(drop=True)\n",
    "na_dates_and_indexes = pd.DataFrame({\"Indexes\": na_indexes, \"Dates\": na_dates})\n",
    "\n",
    "print(\"Indexes and dates of observations in sentiment_and_trading with missing values: \")\n",
    "display(na_dates_and_indexes)\n",
    "print(\"\\nNumber of rows with missing values in social sentiment_all: \", len(na_indexes))\n",
    "print(\"Percentage of rows with missing values: {:.2f}\".format(len(na_indexes)/len(sentiment_and_trading.index)))"
   ]
  },
  {
   "cell_type": "markdown",
   "metadata": {
    "cell_id": "00021-409bcbaa-2fc0-48df-b3b5-cdc82c1fe20e",
    "deepnote_cell_type": "markdown",
    "tags": []
   },
   "source": [
    "Seeing as only 1% of the rows are missing values, simply eliminating them should have a negligible effect on any analysis. To confirm we've done this properly, we should expect to see zero NaN values and 758 rows in our cleaned up dataframe."
   ]
  },
  {
   "cell_type": "code",
   "execution_count": 564,
   "metadata": {
    "cell_id": "00019-e43b72fb-b5da-4351-92b6-fd20a67a4c6d",
    "deepnote_cell_type": "code",
    "deepnote_to_be_reexecuted": false,
    "execution_millis": 13,
    "execution_start": 1634779543583,
    "source_hash": "668b00c0",
    "tags": []
   },
   "outputs": [
    {
     "name": "stdout",
     "output_type": "stream",
     "text": [
      "Count of NaN values in s_and_t_clean:  0\n",
      "Number of rows in s_and_t_clean:  758\n"
     ]
    }
   ],
   "source": [
    "st_clean = sentiment_and_trading.loc[~sentiment_and_trading.isna().any(1)]\n",
    "\n",
    "print(\"Count of NaN values in s_and_t_clean: \", st_clean.isna().sum().sum())\n",
    "print(\"Number of rows in s_and_t_clean: \", len(st_clean.index))"
   ]
  },
  {
   "cell_type": "markdown",
   "metadata": {
    "cell_id": "00026-be330e6f-8546-4821-b512-3a15d62a7cb3",
    "deepnote_cell_type": "markdown",
    "tags": []
   },
   "source": [
    "All clear! Now that our data is clean, we can begin to look at it's type and shape to search for any possible meaningful connections."
   ]
  },
  {
   "cell_type": "code",
   "execution_count": 565,
   "metadata": {
    "cell_id": "00024-2d172c0f-4053-43fd-82dd-acc0417c54cc",
    "deepnote_cell_type": "code",
    "deepnote_to_be_reexecuted": false,
    "execution_millis": 381,
    "execution_start": 1634785776870,
    "source_hash": "18bf4b0a",
    "tags": []
   },
   "outputs": [
    {
     "name": "stdout",
     "output_type": "stream",
     "text": [
      "Column datatypes of main dataframe:\n"
     ]
    },
    {
     "data": {
      "text/plain": [
       "date                object\n",
       "btc_tel_pos        float64\n",
       "btc_tel_neu        float64\n",
       "btc_tel_neg        float64\n",
       "btc_twit_pos       float64\n",
       "btc_twit_neu       float64\n",
       "btc_twit_neg       float64\n",
       "btc_close          float64\n",
       "btc_open           float64\n",
       "btc_high           float64\n",
       "btc_low            float64\n",
       "btc_vol            float64\n",
       "btc_pct_change     float64\n",
       "eth_tel_pos        float64\n",
       "eth_tel_neu        float64\n",
       "eth_tel_neg        float64\n",
       "eth_twit_pos       float64\n",
       "eth_twit_neu       float64\n",
       "eth_twit_neg       float64\n",
       "eth_close          float64\n",
       "eth_open           float64\n",
       "eth_high           float64\n",
       "eth_low            float64\n",
       "eth_vol            float64\n",
       "eth_pct_change     float64\n",
       "doge_tel_pos       float64\n",
       "doge_tel_neu       float64\n",
       "doge_tel_neg       float64\n",
       "doge_twit_pos      float64\n",
       "doge_twit_neu      float64\n",
       "doge_twit_neg      float64\n",
       "doge_close         float64\n",
       "doge_open          float64\n",
       "doge_high          float64\n",
       "doge_low           float64\n",
       "doge_vol           float64\n",
       "doge_pct_change    float64\n",
       "ada_tel_pos        float64\n",
       "ada_tel_neu        float64\n",
       "ada_tel_neg        float64\n",
       "ada_twit_pos       float64\n",
       "ada_twit_neu       float64\n",
       "ada_twit_neg       float64\n",
       "ada_close          float64\n",
       "ada_open           float64\n",
       "ada_high           float64\n",
       "ada_low            float64\n",
       "ada_vol            float64\n",
       "ada_pct_change     float64\n",
       "dtype: object"
      ]
     },
     "metadata": {},
     "output_type": "display_data"
    },
    {
     "data": {
      "text/html": [
       "<style  type=\"text/css\" >\n",
       "</style><table id=\"T_40df0_\" ><thead>    <tr>        <th class=\"blank level0\" ></th>        <th class=\"col_heading level0 col0\" >btc_tel_pos</th>        <th class=\"col_heading level0 col1\" >btc_tel_neu</th>        <th class=\"col_heading level0 col2\" >btc_tel_neg</th>        <th class=\"col_heading level0 col3\" >btc_twit_pos</th>        <th class=\"col_heading level0 col4\" >btc_twit_neu</th>        <th class=\"col_heading level0 col5\" >btc_twit_neg</th>        <th class=\"col_heading level0 col6\" >btc_close</th>        <th class=\"col_heading level0 col7\" >btc_open</th>        <th class=\"col_heading level0 col8\" >btc_high</th>        <th class=\"col_heading level0 col9\" >btc_low</th>        <th class=\"col_heading level0 col10\" >btc_vol</th>        <th class=\"col_heading level0 col11\" >btc_pct_change</th>        <th class=\"col_heading level0 col12\" >eth_tel_pos</th>        <th class=\"col_heading level0 col13\" >eth_tel_neu</th>        <th class=\"col_heading level0 col14\" >eth_tel_neg</th>        <th class=\"col_heading level0 col15\" >eth_twit_pos</th>        <th class=\"col_heading level0 col16\" >eth_twit_neu</th>        <th class=\"col_heading level0 col17\" >eth_twit_neg</th>        <th class=\"col_heading level0 col18\" >eth_close</th>        <th class=\"col_heading level0 col19\" >eth_open</th>        <th class=\"col_heading level0 col20\" >eth_high</th>        <th class=\"col_heading level0 col21\" >eth_low</th>        <th class=\"col_heading level0 col22\" >eth_vol</th>        <th class=\"col_heading level0 col23\" >eth_pct_change</th>        <th class=\"col_heading level0 col24\" >doge_tel_pos</th>        <th class=\"col_heading level0 col25\" >doge_tel_neu</th>        <th class=\"col_heading level0 col26\" >doge_tel_neg</th>        <th class=\"col_heading level0 col27\" >doge_twit_pos</th>        <th class=\"col_heading level0 col28\" >doge_twit_neu</th>        <th class=\"col_heading level0 col29\" >doge_twit_neg</th>        <th class=\"col_heading level0 col30\" >doge_close</th>        <th class=\"col_heading level0 col31\" >doge_open</th>        <th class=\"col_heading level0 col32\" >doge_high</th>        <th class=\"col_heading level0 col33\" >doge_low</th>        <th class=\"col_heading level0 col34\" >doge_vol</th>        <th class=\"col_heading level0 col35\" >doge_pct_change</th>        <th class=\"col_heading level0 col36\" >ada_tel_pos</th>        <th class=\"col_heading level0 col37\" >ada_tel_neu</th>        <th class=\"col_heading level0 col38\" >ada_tel_neg</th>        <th class=\"col_heading level0 col39\" >ada_twit_pos</th>        <th class=\"col_heading level0 col40\" >ada_twit_neu</th>        <th class=\"col_heading level0 col41\" >ada_twit_neg</th>        <th class=\"col_heading level0 col42\" >ada_close</th>        <th class=\"col_heading level0 col43\" >ada_open</th>        <th class=\"col_heading level0 col44\" >ada_high</th>        <th class=\"col_heading level0 col45\" >ada_low</th>        <th class=\"col_heading level0 col46\" >ada_vol</th>        <th class=\"col_heading level0 col47\" >ada_pct_change</th>    </tr></thead><tbody>\n",
       "                <tr>\n",
       "                        <th id=\"T_40df0_level0_row0\" class=\"row_heading level0 row0\" >count</th>\n",
       "                        <td id=\"T_40df0_row0_col0\" class=\"data row0 col0\" >758.000000</td>\n",
       "                        <td id=\"T_40df0_row0_col1\" class=\"data row0 col1\" >758.000000</td>\n",
       "                        <td id=\"T_40df0_row0_col2\" class=\"data row0 col2\" >758.000000</td>\n",
       "                        <td id=\"T_40df0_row0_col3\" class=\"data row0 col3\" >758.000000</td>\n",
       "                        <td id=\"T_40df0_row0_col4\" class=\"data row0 col4\" >758.000000</td>\n",
       "                        <td id=\"T_40df0_row0_col5\" class=\"data row0 col5\" >758.000000</td>\n",
       "                        <td id=\"T_40df0_row0_col6\" class=\"data row0 col6\" >758.000000</td>\n",
       "                        <td id=\"T_40df0_row0_col7\" class=\"data row0 col7\" >758.000000</td>\n",
       "                        <td id=\"T_40df0_row0_col8\" class=\"data row0 col8\" >758.000000</td>\n",
       "                        <td id=\"T_40df0_row0_col9\" class=\"data row0 col9\" >758.000000</td>\n",
       "                        <td id=\"T_40df0_row0_col10\" class=\"data row0 col10\" >758.000000</td>\n",
       "                        <td id=\"T_40df0_row0_col11\" class=\"data row0 col11\" >758.000000</td>\n",
       "                        <td id=\"T_40df0_row0_col12\" class=\"data row0 col12\" >758.000000</td>\n",
       "                        <td id=\"T_40df0_row0_col13\" class=\"data row0 col13\" >758.000000</td>\n",
       "                        <td id=\"T_40df0_row0_col14\" class=\"data row0 col14\" >758.000000</td>\n",
       "                        <td id=\"T_40df0_row0_col15\" class=\"data row0 col15\" >758.000000</td>\n",
       "                        <td id=\"T_40df0_row0_col16\" class=\"data row0 col16\" >758.000000</td>\n",
       "                        <td id=\"T_40df0_row0_col17\" class=\"data row0 col17\" >758.000000</td>\n",
       "                        <td id=\"T_40df0_row0_col18\" class=\"data row0 col18\" >758.000000</td>\n",
       "                        <td id=\"T_40df0_row0_col19\" class=\"data row0 col19\" >758.000000</td>\n",
       "                        <td id=\"T_40df0_row0_col20\" class=\"data row0 col20\" >758.000000</td>\n",
       "                        <td id=\"T_40df0_row0_col21\" class=\"data row0 col21\" >758.000000</td>\n",
       "                        <td id=\"T_40df0_row0_col22\" class=\"data row0 col22\" >758.000000</td>\n",
       "                        <td id=\"T_40df0_row0_col23\" class=\"data row0 col23\" >758.000000</td>\n",
       "                        <td id=\"T_40df0_row0_col24\" class=\"data row0 col24\" >758.000000</td>\n",
       "                        <td id=\"T_40df0_row0_col25\" class=\"data row0 col25\" >758.000000</td>\n",
       "                        <td id=\"T_40df0_row0_col26\" class=\"data row0 col26\" >758.000000</td>\n",
       "                        <td id=\"T_40df0_row0_col27\" class=\"data row0 col27\" >758.000000</td>\n",
       "                        <td id=\"T_40df0_row0_col28\" class=\"data row0 col28\" >758.000000</td>\n",
       "                        <td id=\"T_40df0_row0_col29\" class=\"data row0 col29\" >758.000000</td>\n",
       "                        <td id=\"T_40df0_row0_col30\" class=\"data row0 col30\" >758.000000</td>\n",
       "                        <td id=\"T_40df0_row0_col31\" class=\"data row0 col31\" >758.000000</td>\n",
       "                        <td id=\"T_40df0_row0_col32\" class=\"data row0 col32\" >758.000000</td>\n",
       "                        <td id=\"T_40df0_row0_col33\" class=\"data row0 col33\" >758.000000</td>\n",
       "                        <td id=\"T_40df0_row0_col34\" class=\"data row0 col34\" >758.000000</td>\n",
       "                        <td id=\"T_40df0_row0_col35\" class=\"data row0 col35\" >758.000000</td>\n",
       "                        <td id=\"T_40df0_row0_col36\" class=\"data row0 col36\" >758.000000</td>\n",
       "                        <td id=\"T_40df0_row0_col37\" class=\"data row0 col37\" >758.000000</td>\n",
       "                        <td id=\"T_40df0_row0_col38\" class=\"data row0 col38\" >758.000000</td>\n",
       "                        <td id=\"T_40df0_row0_col39\" class=\"data row0 col39\" >758.000000</td>\n",
       "                        <td id=\"T_40df0_row0_col40\" class=\"data row0 col40\" >758.000000</td>\n",
       "                        <td id=\"T_40df0_row0_col41\" class=\"data row0 col41\" >758.000000</td>\n",
       "                        <td id=\"T_40df0_row0_col42\" class=\"data row0 col42\" >758.000000</td>\n",
       "                        <td id=\"T_40df0_row0_col43\" class=\"data row0 col43\" >758.000000</td>\n",
       "                        <td id=\"T_40df0_row0_col44\" class=\"data row0 col44\" >758.000000</td>\n",
       "                        <td id=\"T_40df0_row0_col45\" class=\"data row0 col45\" >758.000000</td>\n",
       "                        <td id=\"T_40df0_row0_col46\" class=\"data row0 col46\" >758.000000</td>\n",
       "                        <td id=\"T_40df0_row0_col47\" class=\"data row0 col47\" >758.000000</td>\n",
       "            </tr>\n",
       "            <tr>\n",
       "                        <th id=\"T_40df0_level0_row1\" class=\"row_heading level0 row1\" >mean</th>\n",
       "                        <td id=\"T_40df0_row1_col0\" class=\"data row1 col0\" >140.846966</td>\n",
       "                        <td id=\"T_40df0_row1_col1\" class=\"data row1 col1\" >316.923483</td>\n",
       "                        <td id=\"T_40df0_row1_col2\" class=\"data row1 col2\" >21.225594</td>\n",
       "                        <td id=\"T_40df0_row1_col3\" class=\"data row1 col3\" >7643.526385</td>\n",
       "                        <td id=\"T_40df0_row1_col4\" class=\"data row1 col4\" >23071.885224</td>\n",
       "                        <td id=\"T_40df0_row1_col5\" class=\"data row1 col5\" >1979.609499</td>\n",
       "                        <td id=\"T_40df0_row1_col6\" class=\"data row1 col6\" >20544.369393</td>\n",
       "                        <td id=\"T_40df0_row1_col7\" class=\"data row1 col7\" >20484.331003</td>\n",
       "                        <td id=\"T_40df0_row1_col8\" class=\"data row1 col8\" >21099.186412</td>\n",
       "                        <td id=\"T_40df0_row1_col9\" class=\"data row1 col9\" >19829.969261</td>\n",
       "                        <td id=\"T_40df0_row1_col10\" class=\"data row1 col10\" >580382.361478</td>\n",
       "                        <td id=\"T_40df0_row1_col11\" class=\"data row1 col11\" >0.302612</td>\n",
       "                        <td id=\"T_40df0_row1_col12\" class=\"data row1 col12\" >38.081794</td>\n",
       "                        <td id=\"T_40df0_row1_col13\" class=\"data row1 col13\" >78.829815</td>\n",
       "                        <td id=\"T_40df0_row1_col14\" class=\"data row1 col14\" >5.478892</td>\n",
       "                        <td id=\"T_40df0_row1_col15\" class=\"data row1 col15\" >2966.610818</td>\n",
       "                        <td id=\"T_40df0_row1_col16\" class=\"data row1 col16\" >7344.562005</td>\n",
       "                        <td id=\"T_40df0_row1_col17\" class=\"data row1 col17\" >578.232190</td>\n",
       "                        <td id=\"T_40df0_row1_col18\" class=\"data row1 col18\" >832.927982</td>\n",
       "                        <td id=\"T_40df0_row1_col19\" class=\"data row1 col19\" >828.859011</td>\n",
       "                        <td id=\"T_40df0_row1_col20\" class=\"data row1 col20\" >863.092071</td>\n",
       "                        <td id=\"T_40df0_row1_col21\" class=\"data row1 col21\" >792.715528</td>\n",
       "                        <td id=\"T_40df0_row1_col22\" class=\"data row1 col22\" >9687235.593668</td>\n",
       "                        <td id=\"T_40df0_row1_col23\" class=\"data row1 col23\" >0.500066</td>\n",
       "                        <td id=\"T_40df0_row1_col24\" class=\"data row1 col24\" >7.686016</td>\n",
       "                        <td id=\"T_40df0_row1_col25\" class=\"data row1 col25\" >8.072559</td>\n",
       "                        <td id=\"T_40df0_row1_col26\" class=\"data row1 col26\" >0.474934</td>\n",
       "                        <td id=\"T_40df0_row1_col27\" class=\"data row1 col27\" >1209.017150</td>\n",
       "                        <td id=\"T_40df0_row1_col28\" class=\"data row1 col28\" >3626.769129</td>\n",
       "                        <td id=\"T_40df0_row1_col29\" class=\"data row1 col29\" >245.319261</td>\n",
       "                        <td id=\"T_40df0_row1_col30\" class=\"data row1 col30\" >0.056899</td>\n",
       "                        <td id=\"T_40df0_row1_col31\" class=\"data row1 col31\" >0.056633</td>\n",
       "                        <td id=\"T_40df0_row1_col32\" class=\"data row1 col32\" >0.061662</td>\n",
       "                        <td id=\"T_40df0_row1_col33\" class=\"data row1 col33\" >0.051544</td>\n",
       "                        <td id=\"T_40df0_row1_col34\" class=\"data row1 col34\" >8041452836.411610</td>\n",
       "                        <td id=\"T_40df0_row1_col35\" class=\"data row1 col35\" >9.246992</td>\n",
       "                        <td id=\"T_40df0_row1_col36\" class=\"data row1 col36\" >5.383905</td>\n",
       "                        <td id=\"T_40df0_row1_col37\" class=\"data row1 col37\" >13.312665</td>\n",
       "                        <td id=\"T_40df0_row1_col38\" class=\"data row1 col38\" >1.341689</td>\n",
       "                        <td id=\"T_40df0_row1_col39\" class=\"data row1 col39\" >445.767810</td>\n",
       "                        <td id=\"T_40df0_row1_col40\" class=\"data row1 col40\" >970.579156</td>\n",
       "                        <td id=\"T_40df0_row1_col41\" class=\"data row1 col41\" >65.560686</td>\n",
       "                        <td id=\"T_40df0_row1_col42\" class=\"data row1 col42\" >0.414272</td>\n",
       "                        <td id=\"T_40df0_row1_col43\" class=\"data row1 col43\" >0.410340</td>\n",
       "                        <td id=\"T_40df0_row1_col44\" class=\"data row1 col44\" >0.432999</td>\n",
       "                        <td id=\"T_40df0_row1_col45\" class=\"data row1 col45\" >0.389565</td>\n",
       "                        <td id=\"T_40df0_row1_col46\" class=\"data row1 col46\" >434196451.187335</td>\n",
       "                        <td id=\"T_40df0_row1_col47\" class=\"data row1 col47\" >0.720594</td>\n",
       "            </tr>\n",
       "            <tr>\n",
       "                        <th id=\"T_40df0_level0_row2\" class=\"row_heading level0 row2\" >std</th>\n",
       "                        <td id=\"T_40df0_row2_col0\" class=\"data row2 col0\" >319.460828</td>\n",
       "                        <td id=\"T_40df0_row2_col1\" class=\"data row2 col1\" >266.682475</td>\n",
       "                        <td id=\"T_40df0_row2_col2\" class=\"data row2 col2\" >14.071455</td>\n",
       "                        <td id=\"T_40df0_row2_col3\" class=\"data row2 col3\" >7386.074530</td>\n",
       "                        <td id=\"T_40df0_row2_col4\" class=\"data row2 col4\" >19729.650005</td>\n",
       "                        <td id=\"T_40df0_row2_col5\" class=\"data row2 col5\" >2269.340322</td>\n",
       "                        <td id=\"T_40df0_row2_col6\" class=\"data row2 col6\" >16692.528833</td>\n",
       "                        <td id=\"T_40df0_row2_col7\" class=\"data row2 col7\" >16644.574297</td>\n",
       "                        <td id=\"T_40df0_row2_col8\" class=\"data row2 col8\" >17215.529123</td>\n",
       "                        <td id=\"T_40df0_row2_col9\" class=\"data row2 col9\" >16027.747650</td>\n",
       "                        <td id=\"T_40df0_row2_col10\" class=\"data row2 col10\" >1300597.848969</td>\n",
       "                        <td id=\"T_40df0_row2_col11\" class=\"data row2 col11\" >4.005494</td>\n",
       "                        <td id=\"T_40df0_row2_col12\" class=\"data row2 col12\" >83.296600</td>\n",
       "                        <td id=\"T_40df0_row2_col13\" class=\"data row2 col13\" >71.337135</td>\n",
       "                        <td id=\"T_40df0_row2_col14\" class=\"data row2 col14\" >5.470126</td>\n",
       "                        <td id=\"T_40df0_row2_col15\" class=\"data row2 col15\" >3222.335481</td>\n",
       "                        <td id=\"T_40df0_row2_col16\" class=\"data row2 col16\" >7485.197933</td>\n",
       "                        <td id=\"T_40df0_row2_col17\" class=\"data row2 col17\" >1175.397916</td>\n",
       "                        <td id=\"T_40df0_row2_col18\" class=\"data row2 col18\" >955.021175</td>\n",
       "                        <td id=\"T_40df0_row2_col19\" class=\"data row2 col19\" >951.092286</td>\n",
       "                        <td id=\"T_40df0_row2_col20\" class=\"data row2 col20\" >994.619806</td>\n",
       "                        <td id=\"T_40df0_row2_col21\" class=\"data row2 col21\" >905.360596</td>\n",
       "                        <td id=\"T_40df0_row2_col22\" class=\"data row2 col22\" >8743803.020163</td>\n",
       "                        <td id=\"T_40df0_row2_col23\" class=\"data row2 col23\" >5.213955</td>\n",
       "                        <td id=\"T_40df0_row2_col24\" class=\"data row2 col24\" >73.654960</td>\n",
       "                        <td id=\"T_40df0_row2_col25\" class=\"data row2 col25\" >34.712768</td>\n",
       "                        <td id=\"T_40df0_row2_col26\" class=\"data row2 col26\" >1.738910</td>\n",
       "                        <td id=\"T_40df0_row2_col27\" class=\"data row2 col27\" >2975.089715</td>\n",
       "                        <td id=\"T_40df0_row2_col28\" class=\"data row2 col28\" >11947.240018</td>\n",
       "                        <td id=\"T_40df0_row2_col29\" class=\"data row2 col29\" >1043.401755</td>\n",
       "                        <td id=\"T_40df0_row2_col30\" class=\"data row2 col30\" >0.117675</td>\n",
       "                        <td id=\"T_40df0_row2_col31\" class=\"data row2 col31\" >0.117672</td>\n",
       "                        <td id=\"T_40df0_row2_col32\" class=\"data row2 col32\" >0.128363</td>\n",
       "                        <td id=\"T_40df0_row2_col33\" class=\"data row2 col33\" >0.105623</td>\n",
       "                        <td id=\"T_40df0_row2_col34\" class=\"data row2 col34\" >12919085409.720266</td>\n",
       "                        <td id=\"T_40df0_row2_col35\" class=\"data row2 col35\" >225.489898</td>\n",
       "                        <td id=\"T_40df0_row2_col36\" class=\"data row2 col36\" >19.323748</td>\n",
       "                        <td id=\"T_40df0_row2_col37\" class=\"data row2 col37\" >28.929443</td>\n",
       "                        <td id=\"T_40df0_row2_col38\" class=\"data row2 col38\" >4.334206</td>\n",
       "                        <td id=\"T_40df0_row2_col39\" class=\"data row2 col39\" >781.665824</td>\n",
       "                        <td id=\"T_40df0_row2_col40\" class=\"data row2 col40\" >1428.408718</td>\n",
       "                        <td id=\"T_40df0_row2_col41\" class=\"data row2 col41\" >110.792204</td>\n",
       "                        <td id=\"T_40df0_row2_col42\" class=\"data row2 col42\" >0.595163</td>\n",
       "                        <td id=\"T_40df0_row2_col43\" class=\"data row2 col43\" >0.588279</td>\n",
       "                        <td id=\"T_40df0_row2_col44\" class=\"data row2 col44\" >0.622956</td>\n",
       "                        <td id=\"T_40df0_row2_col45\" class=\"data row2 col45\" >0.558243</td>\n",
       "                        <td id=\"T_40df0_row2_col46\" class=\"data row2 col46\" >230049108.241221</td>\n",
       "                        <td id=\"T_40df0_row2_col47\" class=\"data row2 col47\" >6.191004</td>\n",
       "            </tr>\n",
       "            <tr>\n",
       "                        <th id=\"T_40df0_level0_row3\" class=\"row_heading level0 row3\" >min</th>\n",
       "                        <td id=\"T_40df0_row3_col0\" class=\"data row3 col0\" >0.000000</td>\n",
       "                        <td id=\"T_40df0_row3_col1\" class=\"data row3 col1\" >0.000000</td>\n",
       "                        <td id=\"T_40df0_row3_col2\" class=\"data row3 col2\" >0.000000</td>\n",
       "                        <td id=\"T_40df0_row3_col3\" class=\"data row3 col3\" >0.000000</td>\n",
       "                        <td id=\"T_40df0_row3_col4\" class=\"data row3 col4\" >0.000000</td>\n",
       "                        <td id=\"T_40df0_row3_col5\" class=\"data row3 col5\" >0.000000</td>\n",
       "                        <td id=\"T_40df0_row3_col6\" class=\"data row3 col6\" >4826.000000</td>\n",
       "                        <td id=\"T_40df0_row3_col7\" class=\"data row3 col7\" >4815.200000</td>\n",
       "                        <td id=\"T_40df0_row3_col8\" class=\"data row3 col8\" >5369.300000</td>\n",
       "                        <td id=\"T_40df0_row3_col9\" class=\"data row3 col9\" >3869.500000</td>\n",
       "                        <td id=\"T_40df0_row3_col10\" class=\"data row3 col10\" >260.000000</td>\n",
       "                        <td id=\"T_40df0_row3_col11\" class=\"data row3 col11\" >-39.180000</td>\n",
       "                        <td id=\"T_40df0_row3_col12\" class=\"data row3 col12\" >0.000000</td>\n",
       "                        <td id=\"T_40df0_row3_col13\" class=\"data row3 col13\" >0.000000</td>\n",
       "                        <td id=\"T_40df0_row3_col14\" class=\"data row3 col14\" >0.000000</td>\n",
       "                        <td id=\"T_40df0_row3_col15\" class=\"data row3 col15\" >0.000000</td>\n",
       "                        <td id=\"T_40df0_row3_col16\" class=\"data row3 col16\" >1.000000</td>\n",
       "                        <td id=\"T_40df0_row3_col17\" class=\"data row3 col17\" >0.000000</td>\n",
       "                        <td id=\"T_40df0_row3_col18\" class=\"data row3 col18\" >107.900000</td>\n",
       "                        <td id=\"T_40df0_row3_col19\" class=\"data row3 col19\" >107.870000</td>\n",
       "                        <td id=\"T_40df0_row3_col20\" class=\"data row3 col20\" >117.910000</td>\n",
       "                        <td id=\"T_40df0_row3_col21\" class=\"data row3 col21\" >88.500000</td>\n",
       "                        <td id=\"T_40df0_row3_col22\" class=\"data row3 col22\" >27030.000000</td>\n",
       "                        <td id=\"T_40df0_row3_col23\" class=\"data row3 col23\" >-44.550000</td>\n",
       "                        <td id=\"T_40df0_row3_col24\" class=\"data row3 col24\" >0.000000</td>\n",
       "                        <td id=\"T_40df0_row3_col25\" class=\"data row3 col25\" >0.000000</td>\n",
       "                        <td id=\"T_40df0_row3_col26\" class=\"data row3 col26\" >0.000000</td>\n",
       "                        <td id=\"T_40df0_row3_col27\" class=\"data row3 col27\" >0.000000</td>\n",
       "                        <td id=\"T_40df0_row3_col28\" class=\"data row3 col28\" >0.000000</td>\n",
       "                        <td id=\"T_40df0_row3_col29\" class=\"data row3 col29\" >0.000000</td>\n",
       "                        <td id=\"T_40df0_row3_col30\" class=\"data row3 col30\" >0.001585</td>\n",
       "                        <td id=\"T_40df0_row3_col31\" class=\"data row3 col31\" >0.001580</td>\n",
       "                        <td id=\"T_40df0_row3_col32\" class=\"data row3 col32\" >0.001720</td>\n",
       "                        <td id=\"T_40df0_row3_col33\" class=\"data row3 col33\" >0.001291</td>\n",
       "                        <td id=\"T_40df0_row3_col34\" class=\"data row3 col34\" >597980000.000000</td>\n",
       "                        <td id=\"T_40df0_row3_col35\" class=\"data row3 col35\" >-98.430000</td>\n",
       "                        <td id=\"T_40df0_row3_col36\" class=\"data row3 col36\" >0.000000</td>\n",
       "                        <td id=\"T_40df0_row3_col37\" class=\"data row3 col37\" >0.000000</td>\n",
       "                        <td id=\"T_40df0_row3_col38\" class=\"data row3 col38\" >0.000000</td>\n",
       "                        <td id=\"T_40df0_row3_col39\" class=\"data row3 col39\" >0.000000</td>\n",
       "                        <td id=\"T_40df0_row3_col40\" class=\"data row3 col40\" >1.000000</td>\n",
       "                        <td id=\"T_40df0_row3_col41\" class=\"data row3 col41\" >0.000000</td>\n",
       "                        <td id=\"T_40df0_row3_col42\" class=\"data row3 col42\" >0.023222</td>\n",
       "                        <td id=\"T_40df0_row3_col43\" class=\"data row3 col43\" >0.023225</td>\n",
       "                        <td id=\"T_40df0_row3_col44\" class=\"data row3 col44\" >0.026454</td>\n",
       "                        <td id=\"T_40df0_row3_col45\" class=\"data row3 col45\" >0.017774</td>\n",
       "                        <td id=\"T_40df0_row3_col46\" class=\"data row3 col46\" >0.000000</td>\n",
       "                        <td id=\"T_40df0_row3_col47\" class=\"data row3 col47\" >-41.490000</td>\n",
       "            </tr>\n",
       "            <tr>\n",
       "                        <th id=\"T_40df0_level0_row4\" class=\"row_heading level0 row4\" >25%</th>\n",
       "                        <td id=\"T_40df0_row4_col0\" class=\"data row4 col0\" >40.000000</td>\n",
       "                        <td id=\"T_40df0_row4_col1\" class=\"data row4 col1\" >178.250000</td>\n",
       "                        <td id=\"T_40df0_row4_col2\" class=\"data row4 col2\" >11.000000</td>\n",
       "                        <td id=\"T_40df0_row4_col3\" class=\"data row4 col3\" >1504.250000</td>\n",
       "                        <td id=\"T_40df0_row4_col4\" class=\"data row4 col4\" >8957.500000</td>\n",
       "                        <td id=\"T_40df0_row4_col5\" class=\"data row4 col5\" >450.000000</td>\n",
       "                        <td id=\"T_40df0_row4_col6\" class=\"data row4 col6\" >9062.000000</td>\n",
       "                        <td id=\"T_40df0_row4_col7\" class=\"data row4 col7\" >9062.225000</td>\n",
       "                        <td id=\"T_40df0_row4_col8\" class=\"data row4 col8\" >9199.050000</td>\n",
       "                        <td id=\"T_40df0_row4_col9\" class=\"data row4 col9\" >8822.350000</td>\n",
       "                        <td id=\"T_40df0_row4_col10\" class=\"data row4 col10\" >110825.000000</td>\n",
       "                        <td id=\"T_40df0_row4_col11\" class=\"data row4 col11\" >-1.505000</td>\n",
       "                        <td id=\"T_40df0_row4_col12\" class=\"data row4 col12\" >7.000000</td>\n",
       "                        <td id=\"T_40df0_row4_col13\" class=\"data row4 col13\" >38.000000</td>\n",
       "                        <td id=\"T_40df0_row4_col14\" class=\"data row4 col14\" >2.000000</td>\n",
       "                        <td id=\"T_40df0_row4_col15\" class=\"data row4 col15\" >588.250000</td>\n",
       "                        <td id=\"T_40df0_row4_col16\" class=\"data row4 col16\" >3031.250000</td>\n",
       "                        <td id=\"T_40df0_row4_col17\" class=\"data row4 col17\" >112.000000</td>\n",
       "                        <td id=\"T_40df0_row4_col18\" class=\"data row4 col18\" >187.292500</td>\n",
       "                        <td id=\"T_40df0_row4_col19\" class=\"data row4 col19\" >187.320000</td>\n",
       "                        <td id=\"T_40df0_row4_col20\" class=\"data row4 col20\" >191.695000</td>\n",
       "                        <td id=\"T_40df0_row4_col21\" class=\"data row4 col21\" >181.857500</td>\n",
       "                        <td id=\"T_40df0_row4_col22\" class=\"data row4 col22\" >2302500.000000</td>\n",
       "                        <td id=\"T_40df0_row4_col23\" class=\"data row4 col23\" >-1.927500</td>\n",
       "                        <td id=\"T_40df0_row4_col24\" class=\"data row4 col24\" >0.000000</td>\n",
       "                        <td id=\"T_40df0_row4_col25\" class=\"data row4 col25\" >0.000000</td>\n",
       "                        <td id=\"T_40df0_row4_col26\" class=\"data row4 col26\" >0.000000</td>\n",
       "                        <td id=\"T_40df0_row4_col27\" class=\"data row4 col27\" >13.000000</td>\n",
       "                        <td id=\"T_40df0_row4_col28\" class=\"data row4 col28\" >29.250000</td>\n",
       "                        <td id=\"T_40df0_row4_col29\" class=\"data row4 col29\" >1.000000</td>\n",
       "                        <td id=\"T_40df0_row4_col30\" class=\"data row4 col30\" >0.002500</td>\n",
       "                        <td id=\"T_40df0_row4_col31\" class=\"data row4 col31\" >0.002500</td>\n",
       "                        <td id=\"T_40df0_row4_col32\" class=\"data row4 col32\" >0.002561</td>\n",
       "                        <td id=\"T_40df0_row4_col33\" class=\"data row4 col33\" >0.002430</td>\n",
       "                        <td id=\"T_40df0_row4_col34\" class=\"data row4 col34\" >2070000000.000000</td>\n",
       "                        <td id=\"T_40df0_row4_col35\" class=\"data row4 col35\" >-2.107500</td>\n",
       "                        <td id=\"T_40df0_row4_col36\" class=\"data row4 col36\" >0.000000</td>\n",
       "                        <td id=\"T_40df0_row4_col37\" class=\"data row4 col37\" >1.000000</td>\n",
       "                        <td id=\"T_40df0_row4_col38\" class=\"data row4 col38\" >0.000000</td>\n",
       "                        <td id=\"T_40df0_row4_col39\" class=\"data row4 col39\" >62.000000</td>\n",
       "                        <td id=\"T_40df0_row4_col40\" class=\"data row4 col40\" >170.250000</td>\n",
       "                        <td id=\"T_40df0_row4_col41\" class=\"data row4 col41\" >6.000000</td>\n",
       "                        <td id=\"T_40df0_row4_col42\" class=\"data row4 col42\" >0.046286</td>\n",
       "                        <td id=\"T_40df0_row4_col43\" class=\"data row4 col43\" >0.046286</td>\n",
       "                        <td id=\"T_40df0_row4_col44\" class=\"data row4 col44\" >0.047403</td>\n",
       "                        <td id=\"T_40df0_row4_col45\" class=\"data row4 col45\" >0.044791</td>\n",
       "                        <td id=\"T_40df0_row4_col46\" class=\"data row4 col46\" >253142500.000000</td>\n",
       "                        <td id=\"T_40df0_row4_col47\" class=\"data row4 col47\" >-2.500000</td>\n",
       "            </tr>\n",
       "            <tr>\n",
       "                        <th id=\"T_40df0_level0_row5\" class=\"row_heading level0 row5\" >50%</th>\n",
       "                        <td id=\"T_40df0_row5_col0\" class=\"data row5 col0\" >82.000000</td>\n",
       "                        <td id=\"T_40df0_row5_col1\" class=\"data row5 col1\" >280.000000</td>\n",
       "                        <td id=\"T_40df0_row5_col2\" class=\"data row5 col2\" >20.000000</td>\n",
       "                        <td id=\"T_40df0_row5_col3\" class=\"data row5 col3\" >4144.500000</td>\n",
       "                        <td id=\"T_40df0_row5_col4\" class=\"data row5 col4\" >14897.000000</td>\n",
       "                        <td id=\"T_40df0_row5_col5\" class=\"data row5 col5\" >1083.000000</td>\n",
       "                        <td id=\"T_40df0_row5_col6\" class=\"data row5 col6\" >10674.100000</td>\n",
       "                        <td id=\"T_40df0_row5_col7\" class=\"data row5 col7\" >10671.600000</td>\n",
       "                        <td id=\"T_40df0_row5_col8\" class=\"data row5 col8\" >10803.300000</td>\n",
       "                        <td id=\"T_40df0_row5_col9\" class=\"data row5 col9\" >10462.350000</td>\n",
       "                        <td id=\"T_40df0_row5_col10\" class=\"data row5 col10\" >390465.000000</td>\n",
       "                        <td id=\"T_40df0_row5_col11\" class=\"data row5 col11\" >0.135000</td>\n",
       "                        <td id=\"T_40df0_row5_col12\" class=\"data row5 col12\" >19.000000</td>\n",
       "                        <td id=\"T_40df0_row5_col13\" class=\"data row5 col13\" >68.000000</td>\n",
       "                        <td id=\"T_40df0_row5_col14\" class=\"data row5 col14\" >5.000000</td>\n",
       "                        <td id=\"T_40df0_row5_col15\" class=\"data row5 col15\" >1765.000000</td>\n",
       "                        <td id=\"T_40df0_row5_col16\" class=\"data row5 col16\" >4253.000000</td>\n",
       "                        <td id=\"T_40df0_row5_col17\" class=\"data row5 col17\" >221.500000</td>\n",
       "                        <td id=\"T_40df0_row5_col18\" class=\"data row5 col18\" >334.890000</td>\n",
       "                        <td id=\"T_40df0_row5_col19\" class=\"data row5 col19\" >328.330000</td>\n",
       "                        <td id=\"T_40df0_row5_col20\" class=\"data row5 col20\" >343.400000</td>\n",
       "                        <td id=\"T_40df0_row5_col21\" class=\"data row5 col21\" >315.185000</td>\n",
       "                        <td id=\"T_40df0_row5_col22\" class=\"data row5 col22\" >8110000.000000</td>\n",
       "                        <td id=\"T_40df0_row5_col23\" class=\"data row5 col23\" >0.295000</td>\n",
       "                        <td id=\"T_40df0_row5_col24\" class=\"data row5 col24\" >0.000000</td>\n",
       "                        <td id=\"T_40df0_row5_col25\" class=\"data row5 col25\" >1.000000</td>\n",
       "                        <td id=\"T_40df0_row5_col26\" class=\"data row5 col26\" >0.000000</td>\n",
       "                        <td id=\"T_40df0_row5_col27\" class=\"data row5 col27\" >78.500000</td>\n",
       "                        <td id=\"T_40df0_row5_col28\" class=\"data row5 col28\" >177.000000</td>\n",
       "                        <td id=\"T_40df0_row5_col29\" class=\"data row5 col29\" >5.000000</td>\n",
       "                        <td id=\"T_40df0_row5_col30\" class=\"data row5 col30\" >0.002801</td>\n",
       "                        <td id=\"T_40df0_row5_col31\" class=\"data row5 col31\" >0.002801</td>\n",
       "                        <td id=\"T_40df0_row5_col32\" class=\"data row5 col32\" >0.002928</td>\n",
       "                        <td id=\"T_40df0_row5_col33\" class=\"data row5 col33\" >0.002737</td>\n",
       "                        <td id=\"T_40df0_row5_col34\" class=\"data row5 col34\" >3200000000.000000</td>\n",
       "                        <td id=\"T_40df0_row5_col35\" class=\"data row5 col35\" >-0.075000</td>\n",
       "                        <td id=\"T_40df0_row5_col36\" class=\"data row5 col36\" >1.000000</td>\n",
       "                        <td id=\"T_40df0_row5_col37\" class=\"data row5 col37\" >6.000000</td>\n",
       "                        <td id=\"T_40df0_row5_col38\" class=\"data row5 col38\" >0.000000</td>\n",
       "                        <td id=\"T_40df0_row5_col39\" class=\"data row5 col39\" >146.000000</td>\n",
       "                        <td id=\"T_40df0_row5_col40\" class=\"data row5 col40\" >366.000000</td>\n",
       "                        <td id=\"T_40df0_row5_col41\" class=\"data row5 col41\" >20.000000</td>\n",
       "                        <td id=\"T_40df0_row5_col42\" class=\"data row5 col42\" >0.096594</td>\n",
       "                        <td id=\"T_40df0_row5_col43\" class=\"data row5 col43\" >0.096375</td>\n",
       "                        <td id=\"T_40df0_row5_col44\" class=\"data row5 col44\" >0.098994</td>\n",
       "                        <td id=\"T_40df0_row5_col45\" class=\"data row5 col45\" >0.092470</td>\n",
       "                        <td id=\"T_40df0_row5_col46\" class=\"data row5 col46\" >402550000.000000</td>\n",
       "                        <td id=\"T_40df0_row5_col47\" class=\"data row5 col47\" >0.505000</td>\n",
       "            </tr>\n",
       "            <tr>\n",
       "                        <th id=\"T_40df0_level0_row6\" class=\"row_heading level0 row6\" >75%</th>\n",
       "                        <td id=\"T_40df0_row6_col0\" class=\"data row6 col0\" >129.000000</td>\n",
       "                        <td id=\"T_40df0_row6_col1\" class=\"data row6 col1\" >395.500000</td>\n",
       "                        <td id=\"T_40df0_row6_col2\" class=\"data row6 col2\" >30.000000</td>\n",
       "                        <td id=\"T_40df0_row6_col3\" class=\"data row6 col3\" >12722.500000</td>\n",
       "                        <td id=\"T_40df0_row6_col4\" class=\"data row6 col4\" >35155.000000</td>\n",
       "                        <td id=\"T_40df0_row6_col5\" class=\"data row6 col5\" >3008.000000</td>\n",
       "                        <td id=\"T_40df0_row6_col6\" class=\"data row6 col6\" >33770.000000</td>\n",
       "                        <td id=\"T_40df0_row6_col7\" class=\"data row6 col7\" >33685.900000</td>\n",
       "                        <td id=\"T_40df0_row6_col8\" class=\"data row6 col8\" >34895.925000</td>\n",
       "                        <td id=\"T_40df0_row6_col9\" class=\"data row6 col9\" >32308.550000</td>\n",
       "                        <td id=\"T_40df0_row6_col10\" class=\"data row6 col10\" >666740.000000</td>\n",
       "                        <td id=\"T_40df0_row6_col11\" class=\"data row6 col11\" >2.000000</td>\n",
       "                        <td id=\"T_40df0_row6_col12\" class=\"data row6 col12\" >39.000000</td>\n",
       "                        <td id=\"T_40df0_row6_col13\" class=\"data row6 col13\" >106.000000</td>\n",
       "                        <td id=\"T_40df0_row6_col14\" class=\"data row6 col14\" >8.000000</td>\n",
       "                        <td id=\"T_40df0_row6_col15\" class=\"data row6 col15\" >3809.750000</td>\n",
       "                        <td id=\"T_40df0_row6_col16\" class=\"data row6 col16\" >8301.250000</td>\n",
       "                        <td id=\"T_40df0_row6_col17\" class=\"data row6 col17\" >559.250000</td>\n",
       "                        <td id=\"T_40df0_row6_col18\" class=\"data row6 col18\" >1485.502500</td>\n",
       "                        <td id=\"T_40df0_row6_col19\" class=\"data row6 col19\" >1472.287500</td>\n",
       "                        <td id=\"T_40df0_row6_col20\" class=\"data row6 col20\" >1558.422500</td>\n",
       "                        <td id=\"T_40df0_row6_col21\" class=\"data row6 col21\" >1409.487500</td>\n",
       "                        <td id=\"T_40df0_row6_col22\" class=\"data row6 col22\" >12607500.000000</td>\n",
       "                        <td id=\"T_40df0_row6_col23\" class=\"data row6 col23\" >3.050000</td>\n",
       "                        <td id=\"T_40df0_row6_col24\" class=\"data row6 col24\" >2.000000</td>\n",
       "                        <td id=\"T_40df0_row6_col25\" class=\"data row6 col25\" >6.000000</td>\n",
       "                        <td id=\"T_40df0_row6_col26\" class=\"data row6 col26\" >0.000000</td>\n",
       "                        <td id=\"T_40df0_row6_col27\" class=\"data row6 col27\" >387.500000</td>\n",
       "                        <td id=\"T_40df0_row6_col28\" class=\"data row6 col28\" >1136.500000</td>\n",
       "                        <td id=\"T_40df0_row6_col29\" class=\"data row6 col29\" >58.250000</td>\n",
       "                        <td id=\"T_40df0_row6_col30\" class=\"data row6 col30\" >0.049132</td>\n",
       "                        <td id=\"T_40df0_row6_col31\" class=\"data row6 col31\" >0.048016</td>\n",
       "                        <td id=\"T_40df0_row6_col32\" class=\"data row6 col32\" >0.052224</td>\n",
       "                        <td id=\"T_40df0_row6_col33\" class=\"data row6 col33\" >0.042912</td>\n",
       "                        <td id=\"T_40df0_row6_col34\" class=\"data row6 col34\" >6567500000.000000</td>\n",
       "                        <td id=\"T_40df0_row6_col35\" class=\"data row6 col35\" >1.837500</td>\n",
       "                        <td id=\"T_40df0_row6_col36\" class=\"data row6 col36\" >3.000000</td>\n",
       "                        <td id=\"T_40df0_row6_col37\" class=\"data row6 col37\" >14.000000</td>\n",
       "                        <td id=\"T_40df0_row6_col38\" class=\"data row6 col38\" >1.000000</td>\n",
       "                        <td id=\"T_40df0_row6_col39\" class=\"data row6 col39\" >438.750000</td>\n",
       "                        <td id=\"T_40df0_row6_col40\" class=\"data row6 col40\" >986.250000</td>\n",
       "                        <td id=\"T_40df0_row6_col41\" class=\"data row6 col41\" >60.750000</td>\n",
       "                        <td id=\"T_40df0_row6_col42\" class=\"data row6 col42\" >0.610238</td>\n",
       "                        <td id=\"T_40df0_row6_col43\" class=\"data row6 col43\" >0.514470</td>\n",
       "                        <td id=\"T_40df0_row6_col44\" class=\"data row6 col44\" >0.639231</td>\n",
       "                        <td id=\"T_40df0_row6_col45\" class=\"data row6 col45\" >0.499851</td>\n",
       "                        <td id=\"T_40df0_row6_col46\" class=\"data row6 col46\" >579425000.000000</td>\n",
       "                        <td id=\"T_40df0_row6_col47\" class=\"data row6 col47\" >3.277500</td>\n",
       "            </tr>\n",
       "            <tr>\n",
       "                        <th id=\"T_40df0_level0_row7\" class=\"row_heading level0 row7\" >max</th>\n",
       "                        <td id=\"T_40df0_row7_col0\" class=\"data row7 col0\" >4524.000000</td>\n",
       "                        <td id=\"T_40df0_row7_col1\" class=\"data row7 col1\" >2484.000000</td>\n",
       "                        <td id=\"T_40df0_row7_col2\" class=\"data row7 col2\" >87.000000</td>\n",
       "                        <td id=\"T_40df0_row7_col3\" class=\"data row7 col3\" >44431.000000</td>\n",
       "                        <td id=\"T_40df0_row7_col4\" class=\"data row7 col4\" >159510.000000</td>\n",
       "                        <td id=\"T_40df0_row7_col5\" class=\"data row7 col5\" >21556.000000</td>\n",
       "                        <td id=\"T_40df0_row7_col6\" class=\"data row7 col6\" >63540.900000</td>\n",
       "                        <td id=\"T_40df0_row7_col7\" class=\"data row7 col7\" >63544.200000</td>\n",
       "                        <td id=\"T_40df0_row7_col8\" class=\"data row7 col8\" >64778.000000</td>\n",
       "                        <td id=\"T_40df0_row7_col9\" class=\"data row7 col9\" >62067.500000</td>\n",
       "                        <td id=\"T_40df0_row7_col10\" class=\"data row7 col10\" >20260000.000000</td>\n",
       "                        <td id=\"T_40df0_row7_col11\" class=\"data row7 col11\" >19.410000</td>\n",
       "                        <td id=\"T_40df0_row7_col12\" class=\"data row7 col12\" >1051.000000</td>\n",
       "                        <td id=\"T_40df0_row7_col13\" class=\"data row7 col13\" >721.000000</td>\n",
       "                        <td id=\"T_40df0_row7_col14\" class=\"data row7 col14\" >55.000000</td>\n",
       "                        <td id=\"T_40df0_row7_col15\" class=\"data row7 col15\" >18594.000000</td>\n",
       "                        <td id=\"T_40df0_row7_col16\" class=\"data row7 col16\" >56811.000000</td>\n",
       "                        <td id=\"T_40df0_row7_col17\" class=\"data row7 col17\" >20087.000000</td>\n",
       "                        <td id=\"T_40df0_row7_col18\" class=\"data row7 col18\" >4167.780000</td>\n",
       "                        <td id=\"T_40df0_row7_col19\" class=\"data row7 col19\" >4173.610000</td>\n",
       "                        <td id=\"T_40df0_row7_col20\" class=\"data row7 col20\" >4366.100000</td>\n",
       "                        <td id=\"T_40df0_row7_col21\" class=\"data row7 col21\" >3794.150000</td>\n",
       "                        <td id=\"T_40df0_row7_col22\" class=\"data row7 col22\" >60700000.000000</td>\n",
       "                        <td id=\"T_40df0_row7_col23\" class=\"data row7 col23\" >25.960000</td>\n",
       "                        <td id=\"T_40df0_row7_col24\" class=\"data row7 col24\" >1901.000000</td>\n",
       "                        <td id=\"T_40df0_row7_col25\" class=\"data row7 col25\" >778.000000</td>\n",
       "                        <td id=\"T_40df0_row7_col26\" class=\"data row7 col26\" >20.000000</td>\n",
       "                        <td id=\"T_40df0_row7_col27\" class=\"data row7 col27\" >38863.000000</td>\n",
       "                        <td id=\"T_40df0_row7_col28\" class=\"data row7 col28\" >223539.000000</td>\n",
       "                        <td id=\"T_40df0_row7_col29\" class=\"data row7 col29\" >21026.000000</td>\n",
       "                        <td id=\"T_40df0_row7_col30\" class=\"data row7 col30\" >0.686880</td>\n",
       "                        <td id=\"T_40df0_row7_col31\" class=\"data row7 col31\" >0.686914</td>\n",
       "                        <td id=\"T_40df0_row7_col32\" class=\"data row7 col32\" >0.738255</td>\n",
       "                        <td id=\"T_40df0_row7_col33\" class=\"data row7 col33\" >0.605162</td>\n",
       "                        <td id=\"T_40df0_row7_col34\" class=\"data row7 col34\" >146800000000.000000</td>\n",
       "                        <td id=\"T_40df0_row7_col35\" class=\"data row7 col35\" >6191.550000</td>\n",
       "                        <td id=\"T_40df0_row7_col36\" class=\"data row7 col36\" >225.000000</td>\n",
       "                        <td id=\"T_40df0_row7_col37\" class=\"data row7 col37\" >296.000000</td>\n",
       "                        <td id=\"T_40df0_row7_col38\" class=\"data row7 col38\" >66.000000</td>\n",
       "                        <td id=\"T_40df0_row7_col39\" class=\"data row7 col39\" >9626.000000</td>\n",
       "                        <td id=\"T_40df0_row7_col40\" class=\"data row7 col40\" >11105.000000</td>\n",
       "                        <td id=\"T_40df0_row7_col41\" class=\"data row7 col41\" >772.000000</td>\n",
       "                        <td id=\"T_40df0_row7_col42\" class=\"data row7 col42\" >2.915319</td>\n",
       "                        <td id=\"T_40df0_row7_col43\" class=\"data row7 col43\" >2.916502</td>\n",
       "                        <td id=\"T_40df0_row7_col44\" class=\"data row7 col44\" >2.970131</td>\n",
       "                        <td id=\"T_40df0_row7_col45\" class=\"data row7 col45\" >2.830990</td>\n",
       "                        <td id=\"T_40df0_row7_col46\" class=\"data row7 col46\" >996810000.000000</td>\n",
       "                        <td id=\"T_40df0_row7_col47\" class=\"data row7 col47\" >33.230000</td>\n",
       "            </tr>\n",
       "    </tbody></table>"
      ],
      "text/plain": [
       "<pandas.io.formats.style.Styler at 0x7ff3966fc0a0>"
      ]
     },
     "metadata": {},
     "output_type": "display_data"
    }
   ],
   "source": [
    "print(\"Column datatypes of main dataframe:\")\n",
    "display(st_clean.dtypes)\n",
    "\n",
    "st_description = st_clean.describe()\n",
    "display(st_description.style)\n",
    "\n"
   ]
  },
  {
   "cell_type": "markdown",
   "metadata": {
    "cell_id": "00025-0f128411-065c-46ca-8d45-3fcef56028ae",
    "deepnote_cell_type": "markdown",
    "tags": []
   },
   "source": [
    "The data types don't really tell us much, since all of them are a float with the exception of date, which is a datetime object. Perhaps we can use the summary statistics to gleam something. Before we even begin to dive into that, it's important to remember that this data is a *time series* &mdash; that is the observations are indexed in time order. That leads to some important limitations on how helpful the above data is. For example the average or medians prices of BTC over the last two years tells us nothing about how BTC has moved in that timeframe. Most of the variables regarding trading data suffer from the same problem, except for one: percent change. Since our trading dataframe has more observations to analyze, we can use that so long as it doesn't have any NaN values."
   ]
  },
  {
   "cell_type": "code",
   "execution_count": 566,
   "metadata": {
    "cell_id": "00038-f0d119e6-621a-4834-8675-6c947a762870",
    "deepnote_cell_type": "code",
    "deepnote_to_be_reexecuted": false,
    "execution_millis": 10,
    "execution_start": 1634779543899,
    "source_hash": "7d5876f7",
    "tags": []
   },
   "outputs": [
    {
     "name": "stdout",
     "output_type": "stream",
     "text": [
      "Count of NaN values in trading:  0\n"
     ]
    }
   ],
   "source": [
    "print(\"Count of NaN values in trading: \", trading.isna().sum().sum())"
   ]
  },
  {
   "cell_type": "markdown",
   "metadata": {
    "cell_id": "00039-afb90601-857c-44ca-979e-6ac3661762fa",
    "deepnote_cell_type": "markdown",
    "tags": []
   },
   "source": [
    "All set, now onto the percent change summary statistics"
   ]
  },
  {
   "cell_type": "code",
   "execution_count": 567,
   "metadata": {
    "cell_id": "00026-c9150ca6-769f-44d7-ac5e-ff82548831ff",
    "deepnote_cell_type": "code",
    "deepnote_to_be_reexecuted": false,
    "execution_millis": 92,
    "execution_start": 1634779543912,
    "source_hash": "ba681a93",
    "tags": []
   },
   "outputs": [
    {
     "data": {
      "text/html": [
       "<div>\n",
       "<style scoped>\n",
       "    .dataframe tbody tr th:only-of-type {\n",
       "        vertical-align: middle;\n",
       "    }\n",
       "\n",
       "    .dataframe tbody tr th {\n",
       "        vertical-align: top;\n",
       "    }\n",
       "\n",
       "    .dataframe thead th {\n",
       "        text-align: right;\n",
       "    }\n",
       "</style>\n",
       "<table border=\"1\" class=\"dataframe\">\n",
       "  <thead>\n",
       "    <tr style=\"text-align: right;\">\n",
       "      <th></th>\n",
       "      <th>btc_pct_change</th>\n",
       "      <th>eth_pct_change</th>\n",
       "      <th>doge_pct_change</th>\n",
       "      <th>ada_pct_change</th>\n",
       "    </tr>\n",
       "  </thead>\n",
       "  <tbody>\n",
       "    <tr>\n",
       "      <th>mean</th>\n",
       "      <td>0.188702</td>\n",
       "      <td>0.263263</td>\n",
       "      <td>5.302641</td>\n",
       "      <td>0.325821</td>\n",
       "    </tr>\n",
       "    <tr>\n",
       "      <th>std</th>\n",
       "      <td>4.080603</td>\n",
       "      <td>5.305459</td>\n",
       "      <td>170.104056</td>\n",
       "      <td>6.462362</td>\n",
       "    </tr>\n",
       "    <tr>\n",
       "      <th>min</th>\n",
       "      <td>-39.180000</td>\n",
       "      <td>-44.550000</td>\n",
       "      <td>-98.430000</td>\n",
       "      <td>-41.490000</td>\n",
       "    </tr>\n",
       "    <tr>\n",
       "      <th>25%</th>\n",
       "      <td>-1.550000</td>\n",
       "      <td>-2.200000</td>\n",
       "      <td>-2.430000</td>\n",
       "      <td>-2.980000</td>\n",
       "    </tr>\n",
       "    <tr>\n",
       "      <th>50%</th>\n",
       "      <td>0.140000</td>\n",
       "      <td>0.180000</td>\n",
       "      <td>-0.110000</td>\n",
       "      <td>0.020000</td>\n",
       "    </tr>\n",
       "    <tr>\n",
       "      <th>75%</th>\n",
       "      <td>1.910000</td>\n",
       "      <td>2.960000</td>\n",
       "      <td>2.010000</td>\n",
       "      <td>3.090000</td>\n",
       "    </tr>\n",
       "    <tr>\n",
       "      <th>max</th>\n",
       "      <td>19.410000</td>\n",
       "      <td>25.960000</td>\n",
       "      <td>6191.550000</td>\n",
       "      <td>41.730000</td>\n",
       "    </tr>\n",
       "  </tbody>\n",
       "</table>\n",
       "</div>"
      ],
      "text/plain": [
       "      btc_pct_change  eth_pct_change  doge_pct_change  ada_pct_change\n",
       "mean        0.188702        0.263263         5.302641        0.325821\n",
       "std         4.080603        5.305459       170.104056        6.462362\n",
       "min       -39.180000      -44.550000       -98.430000      -41.490000\n",
       "25%        -1.550000       -2.200000        -2.430000       -2.980000\n",
       "50%         0.140000        0.180000        -0.110000        0.020000\n",
       "75%         1.910000        2.960000         2.010000        3.090000\n",
       "max        19.410000       25.960000      6191.550000       41.730000"
      ]
     },
     "execution_count": 567,
     "metadata": {},
     "output_type": "execute_result"
    }
   ],
   "source": [
    "dsc_pct_change = trading.describe().loc[\"mean\":\"max\",\n",
    "    [\"btc_pct_change\", \"eth_pct_change\", \"doge_pct_change\", \"ada_pct_change\"]]\n",
    "\n",
    "dsc_pct_change"
   ]
  },
  {
   "cell_type": "markdown",
   "metadata": {
    "cell_id": "00039-5306828c-d12c-460d-a510-b6d6abd3a588",
    "deepnote_cell_type": "markdown",
    "tags": []
   },
   "source": [
    "The first thing to note is that all four coins have a positive percent change; that makes sense given how well crypto has done over the last year or so. That said, what really jumps out here is how volatile Dogecoin has been. For one thing, an average daily gain of over 5% is absurd, especially compared to the <0.5% gain the other three currencies saw. That does make sense when we look at it's max and min. There was at least one day where Dogecoin saw an over 6000% increase, and at least one where it lost more than 98% of it's value. An asset can go up an infinite percentage, but the maximum it could lose is -100%. That's obviously really bad though, so let's look at the distribution of each coin's percent changes with a boxplot to get a sense for the greater distribution of these numbers."
   ]
  },
  {
   "cell_type": "code",
   "execution_count": 568,
   "metadata": {
    "cell_id": "00040-e943a416-c6f1-4b77-8c55-2931e152ee94",
    "deepnote_cell_type": "code",
    "deepnote_to_be_reexecuted": false,
    "execution_millis": 317,
    "execution_start": 1634779544055,
    "source_hash": "6809bd10",
    "tags": []
   },
   "outputs": [
    {
     "data": {
      "text/plain": [
       "([<matplotlib.axis.XTick at 0x7ff398e92790>,\n",
       "  <matplotlib.axis.XTick at 0x7ff396bd9a60>,\n",
       "  <matplotlib.axis.XTick at 0x7ff3968e4fd0>,\n",
       "  <matplotlib.axis.XTick at 0x7ff3968ef460>],\n",
       " [Text(1, 0, 'BTC'), Text(2, 0, 'ETH'), Text(3, 0, 'DOGE'), Text(4, 0, 'ADA')])"
      ]
     },
     "execution_count": 568,
     "metadata": {},
     "output_type": "execute_result"
    },
    {
     "data": {
      "image/png": "[encoded data removed]",
      "text/plain": [
       "<Figure size 432x288 with 1 Axes>"
      ]
     },
     "metadata": {
      "needs_background": "light"
     },
     "output_type": "display_data"
    }
   ],
   "source": [
    "pct_change = trading[[\"btc_pct_change\", \"eth_pct_change\", \"doge_pct_change\", \"ada_pct_change\"]]\n",
    "pct_change.boxplot()\n",
    "plt.title(\"Daily Percent Changes of BTC, ETH, DOGE, and ADA\")\n",
    "plt.xlabel(\"Cryptocurrencies\")\n",
    "plt.ylabel(\"Percent Change\")\n",
    "plt.xticks(ticks = [1, 2, 3, 4], labels=['BTC', 'ETH', 'DOGE', 'ADA'])"
   ]
  },
  {
   "cell_type": "markdown",
   "metadata": {
    "cell_id": "00041-93c6e694-157c-4b36-b4bd-1bfaf761369c",
    "deepnote_cell_type": "markdown",
    "tags": []
   },
   "source": [
    "Well that didn't really help. It's clear that Dogecoin has some *extreme* outlier days that throw off the scale of the rest of the plot. We'll analyze the reasons for that more deeply later, but for now let's just see what happens when we create the same boxplot with just BTC, ETH, and ADA"
   ]
  },
  {
   "cell_type": "code",
   "execution_count": 569,
   "metadata": {
    "cell_id": "00042-968f8509-7da2-4a94-b65d-44a4b052251c",
    "deepnote_cell_type": "code",
    "deepnote_to_be_reexecuted": false,
    "execution_millis": 249,
    "execution_start": 1634779544419,
    "source_hash": "820805e2",
    "tags": []
   },
   "outputs": [
    {
     "data": {
      "text/plain": [
       "([<matplotlib.axis.XTick at 0x7ff39616e850>,\n",
       "  <matplotlib.axis.XTick at 0x7ff39616e820>,\n",
       "  <matplotlib.axis.XTick at 0x7ff39618a670>],\n",
       " [Text(1, 0, 'BTC'), Text(2, 0, 'ETH'), Text(3, 0, 'ADA')])"
      ]
     },
     "execution_count": 569,
     "metadata": {},
     "output_type": "execute_result"
    },
    {
     "data": {
      "image/png": "[encoded data removed]",
      "text/plain": [
       "<Figure size 432x288 with 1 Axes>"
      ]
     },
     "metadata": {
      "needs_background": "light"
     },
     "output_type": "display_data"
    }
   ],
   "source": [
    "pct_change2 = trading[[\"btc_pct_change\", \"eth_pct_change\", \"ada_pct_change\"]]\n",
    "pct_change2.boxplot()\n",
    "plt.title(\"Daily Percent Changes of BTC, ETH, and ADA\")\n",
    "plt.xlabel(\"Cryptocurrencies\")\n",
    "plt.ylabel(\"Percent Change\")\n",
    "plt.xticks(ticks = [1, 2, 3], labels=['BTC', 'ETH', 'ADA'])"
   ]
  },
  {
   "cell_type": "markdown",
   "metadata": {
    "cell_id": "00045-16a58cc8-2d4c-4d8b-8ddf-3bffd0229417",
    "deepnote_cell_type": "markdown",
    "tags": []
   },
   "source": [
    "As shown by the boxplot above and the summary statistics of the data, over 50% the daily movements less than 3% in either direction. That said, all three plots seem to indicate that when the movements are more than about 5%, they are often much more, again in either direction. We can see that BTC has the tightest range and interquartile range, while ADA has the widest, being nearly twice as spread out. ETH is somewhere in the middle, when we consider they're popularity and market-caps, that makes sense. Bitcoin is the most well-known cryptocurrency in the world, and has by far the largest market-cap at over a trillion dollars, while Cardano is the least well-known, with a market-cap of \"only\" 70 billion dollars. ETH is the second most well-known cryptocurrency, and while it's several times larger than Cardano, it's market cap less than half of Bitcoin's at just under 500 billion dollars. A couple interesting things to note are that while all three coins have a median right around 0, the 25th and 75th percentile for ETH and ADA are both roughly the same distance from it, while BTC shows a greater range of values from its median to its 75th percentile than from its median to 2th percentile. That could indicate that while even though BTC is roughly as likely to go up on a given day than it is to go down, its increases are generally greater than its decreases. Another interesting thing to note is that each coin appears to have had one day where they all dropped nearly 40%, which is an outlier even amongst the outliers. Seeing as how the prices of cryptocurrencies often influence eachother, especially the larger ones like BTC and ETH, it would be interesting to explore if all three of those points occurred on the same day, and if so what potential factors we can identify that might have caused such a plummet. "
   ]
  },
  {
   "cell_type": "markdown",
   "metadata": {
    "cell_id": "00046-4075dd7c-713f-47fd-8ddc-89d3eb693e3c",
    "deepnote_cell_type": "markdown",
    "tags": []
   },
   "source": [
    "Now that we've explored the trading data a little bit, lets see if we can find anything interesting with our sentiment data. Again, since we're just looking at the sentiment data, we can use the sentiment dataframe, but since that dataframe *did* have NaN values, we'll have to clean it up first."
   ]
  },
  {
   "cell_type": "code",
   "execution_count": 570,
   "metadata": {
    "cell_id": "00047-d37dbf47-3e8c-4f5a-8ea9-d0e2832637b2",
    "deepnote_cell_type": "code",
    "deepnote_to_be_reexecuted": false,
    "execution_millis": 3,
    "execution_start": 1634779544719,
    "source_hash": "69a9f3e5",
    "tags": []
   },
   "outputs": [
    {
     "name": "stdout",
     "output_type": "stream",
     "text": [
      "Count of NaN values in ss_clean:  0\n"
     ]
    }
   ],
   "source": [
    "ss_clean = social_sentiment.loc[~social_sentiment.isna().any(1)]\n",
    "print(\"Count of NaN values in ss_clean: \", ss_clean.isna().sum().sum())"
   ]
  },
  {
   "cell_type": "markdown",
   "metadata": {
    "cell_id": "00048-16a7a48f-01d6-4ec8-9350-0dd989617081",
    "deepnote_cell_type": "markdown",
    "tags": []
   },
   "source": [
    "Now that we've done, we can call description on the cleaned up data to see what we can gleam from it"
   ]
  },
  {
   "cell_type": "code",
   "execution_count": 571,
   "metadata": {
    "cell_id": "00049-358afd52-1ee5-4694-b91c-00c50dfd8a44",
    "deepnote_cell_type": "code",
    "deepnote_to_be_reexecuted": false,
    "execution_millis": 152,
    "execution_start": 1634779544721,
    "source_hash": "4f42e2b5",
    "tags": []
   },
   "outputs": [
    {
     "name": "stdout",
     "output_type": "stream",
     "text": [
      "Summary Statistics for ss_clean\n"
     ]
    },
    {
     "data": {
      "text/html": [
       "<div>\n",
       "<style scoped>\n",
       "    .dataframe tbody tr th:only-of-type {\n",
       "        vertical-align: middle;\n",
       "    }\n",
       "\n",
       "    .dataframe tbody tr th {\n",
       "        vertical-align: top;\n",
       "    }\n",
       "\n",
       "    .dataframe thead th {\n",
       "        text-align: right;\n",
       "    }\n",
       "</style>\n",
       "<table border=\"1\" class=\"dataframe\">\n",
       "  <thead>\n",
       "    <tr style=\"text-align: right;\">\n",
       "      <th></th>\n",
       "      <th>btc_tel_pos</th>\n",
       "      <th>btc_tel_neu</th>\n",
       "      <th>btc_tel_neg</th>\n",
       "      <th>btc_twit_pos</th>\n",
       "      <th>btc_twit_neu</th>\n",
       "      <th>btc_twit_neg</th>\n",
       "      <th>eth_tel_pos</th>\n",
       "      <th>eth_tel_neu</th>\n",
       "      <th>eth_tel_neg</th>\n",
       "      <th>eth_twit_pos</th>\n",
       "      <th>...</th>\n",
       "      <th>doge_tel_neg</th>\n",
       "      <th>doge_twit_pos</th>\n",
       "      <th>doge_twit_neu</th>\n",
       "      <th>doge_twit_neg</th>\n",
       "      <th>ada_tel_pos</th>\n",
       "      <th>ada_tel_neu</th>\n",
       "      <th>ada_tel_neg</th>\n",
       "      <th>ada_twit_pos</th>\n",
       "      <th>ada_twit_neu</th>\n",
       "      <th>ada_twit_neg</th>\n",
       "    </tr>\n",
       "  </thead>\n",
       "  <tbody>\n",
       "    <tr>\n",
       "      <th>count</th>\n",
       "      <td>814.000000</td>\n",
       "      <td>814.000000</td>\n",
       "      <td>814.000000</td>\n",
       "      <td>814.000000</td>\n",
       "      <td>814.000000</td>\n",
       "      <td>814.000000</td>\n",
       "      <td>814.000000</td>\n",
       "      <td>814.00000</td>\n",
       "      <td>814.000000</td>\n",
       "      <td>814.000000</td>\n",
       "      <td>...</td>\n",
       "      <td>814.000000</td>\n",
       "      <td>814.000000</td>\n",
       "      <td>814.000000</td>\n",
       "      <td>814.000000</td>\n",
       "      <td>814.000000</td>\n",
       "      <td>814.000000</td>\n",
       "      <td>814.000000</td>\n",
       "      <td>814.000000</td>\n",
       "      <td>814.000000</td>\n",
       "      <td>814.000000</td>\n",
       "    </tr>\n",
       "    <tr>\n",
       "      <th>mean</th>\n",
       "      <td>137.282555</td>\n",
       "      <td>329.570025</td>\n",
       "      <td>21.340295</td>\n",
       "      <td>8123.055283</td>\n",
       "      <td>24479.847666</td>\n",
       "      <td>2093.754300</td>\n",
       "      <td>36.842752</td>\n",
       "      <td>76.89312</td>\n",
       "      <td>5.313268</td>\n",
       "      <td>3497.667076</td>\n",
       "      <td>...</td>\n",
       "      <td>0.482801</td>\n",
       "      <td>1253.814496</td>\n",
       "      <td>3791.282555</td>\n",
       "      <td>247.679361</td>\n",
       "      <td>5.238329</td>\n",
       "      <td>13.572482</td>\n",
       "      <td>1.297297</td>\n",
       "      <td>563.890663</td>\n",
       "      <td>1308.826781</td>\n",
       "      <td>84.246929</td>\n",
       "    </tr>\n",
       "    <tr>\n",
       "      <th>std</th>\n",
       "      <td>308.662418</td>\n",
       "      <td>269.597991</td>\n",
       "      <td>13.953037</td>\n",
       "      <td>7467.617273</td>\n",
       "      <td>20157.755192</td>\n",
       "      <td>2267.154802</td>\n",
       "      <td>80.560352</td>\n",
       "      <td>69.32310</td>\n",
       "      <td>5.338610</td>\n",
       "      <td>3811.770346</td>\n",
       "      <td>...</td>\n",
       "      <td>1.699164</td>\n",
       "      <td>2881.650272</td>\n",
       "      <td>11555.853348</td>\n",
       "      <td>1007.198275</td>\n",
       "      <td>18.663979</td>\n",
       "      <td>28.067070</td>\n",
       "      <td>4.192486</td>\n",
       "      <td>917.789541</td>\n",
       "      <td>2000.558152</td>\n",
       "      <td>137.614188</td>\n",
       "    </tr>\n",
       "    <tr>\n",
       "      <th>min</th>\n",
       "      <td>0.000000</td>\n",
       "      <td>0.000000</td>\n",
       "      <td>0.000000</td>\n",
       "      <td>0.000000</td>\n",
       "      <td>0.000000</td>\n",
       "      <td>0.000000</td>\n",
       "      <td>0.000000</td>\n",
       "      <td>0.00000</td>\n",
       "      <td>0.000000</td>\n",
       "      <td>0.000000</td>\n",
       "      <td>...</td>\n",
       "      <td>0.000000</td>\n",
       "      <td>0.000000</td>\n",
       "      <td>0.000000</td>\n",
       "      <td>0.000000</td>\n",
       "      <td>0.000000</td>\n",
       "      <td>0.000000</td>\n",
       "      <td>0.000000</td>\n",
       "      <td>0.000000</td>\n",
       "      <td>1.000000</td>\n",
       "      <td>0.000000</td>\n",
       "    </tr>\n",
       "    <tr>\n",
       "      <th>25%</th>\n",
       "      <td>43.000000</td>\n",
       "      <td>191.500000</td>\n",
       "      <td>12.000000</td>\n",
       "      <td>1547.750000</td>\n",
       "      <td>9141.500000</td>\n",
       "      <td>458.000000</td>\n",
       "      <td>8.000000</td>\n",
       "      <td>38.00000</td>\n",
       "      <td>2.000000</td>\n",
       "      <td>604.000000</td>\n",
       "      <td>...</td>\n",
       "      <td>0.000000</td>\n",
       "      <td>14.000000</td>\n",
       "      <td>31.000000</td>\n",
       "      <td>1.000000</td>\n",
       "      <td>0.000000</td>\n",
       "      <td>1.000000</td>\n",
       "      <td>0.000000</td>\n",
       "      <td>63.000000</td>\n",
       "      <td>175.000000</td>\n",
       "      <td>6.000000</td>\n",
       "    </tr>\n",
       "    <tr>\n",
       "      <th>50%</th>\n",
       "      <td>82.000000</td>\n",
       "      <td>292.500000</td>\n",
       "      <td>20.000000</td>\n",
       "      <td>6606.500000</td>\n",
       "      <td>18088.500000</td>\n",
       "      <td>1377.500000</td>\n",
       "      <td>19.000000</td>\n",
       "      <td>65.50000</td>\n",
       "      <td>4.000000</td>\n",
       "      <td>2252.000000</td>\n",
       "      <td>...</td>\n",
       "      <td>0.000000</td>\n",
       "      <td>92.500000</td>\n",
       "      <td>209.000000</td>\n",
       "      <td>6.000000</td>\n",
       "      <td>1.000000</td>\n",
       "      <td>7.000000</td>\n",
       "      <td>0.000000</td>\n",
       "      <td>172.000000</td>\n",
       "      <td>421.000000</td>\n",
       "      <td>24.500000</td>\n",
       "    </tr>\n",
       "    <tr>\n",
       "      <th>75%</th>\n",
       "      <td>127.000000</td>\n",
       "      <td>410.000000</td>\n",
       "      <td>30.000000</td>\n",
       "      <td>13878.250000</td>\n",
       "      <td>38705.250000</td>\n",
       "      <td>3351.000000</td>\n",
       "      <td>38.000000</td>\n",
       "      <td>103.00000</td>\n",
       "      <td>8.000000</td>\n",
       "      <td>4446.250000</td>\n",
       "      <td>...</td>\n",
       "      <td>0.000000</td>\n",
       "      <td>1481.000000</td>\n",
       "      <td>4704.500000</td>\n",
       "      <td>216.750000</td>\n",
       "      <td>4.000000</td>\n",
       "      <td>15.000000</td>\n",
       "      <td>1.000000</td>\n",
       "      <td>539.750000</td>\n",
       "      <td>1297.750000</td>\n",
       "      <td>85.000000</td>\n",
       "    </tr>\n",
       "    <tr>\n",
       "      <th>max</th>\n",
       "      <td>4524.000000</td>\n",
       "      <td>2484.000000</td>\n",
       "      <td>87.000000</td>\n",
       "      <td>44431.000000</td>\n",
       "      <td>159510.000000</td>\n",
       "      <td>21556.000000</td>\n",
       "      <td>1051.000000</td>\n",
       "      <td>721.00000</td>\n",
       "      <td>55.000000</td>\n",
       "      <td>23071.000000</td>\n",
       "      <td>...</td>\n",
       "      <td>20.000000</td>\n",
       "      <td>38863.000000</td>\n",
       "      <td>223539.000000</td>\n",
       "      <td>21026.000000</td>\n",
       "      <td>225.000000</td>\n",
       "      <td>296.000000</td>\n",
       "      <td>66.000000</td>\n",
       "      <td>9626.000000</td>\n",
       "      <td>12184.000000</td>\n",
       "      <td>881.000000</td>\n",
       "    </tr>\n",
       "  </tbody>\n",
       "</table>\n",
       "<p>8 rows × 24 columns</p>\n",
       "</div>"
      ],
      "text/plain": [
       "       btc_tel_pos  btc_tel_neu  btc_tel_neg  btc_twit_pos   btc_twit_neu  \\\n",
       "count   814.000000   814.000000   814.000000    814.000000     814.000000   \n",
       "mean    137.282555   329.570025    21.340295   8123.055283   24479.847666   \n",
       "std     308.662418   269.597991    13.953037   7467.617273   20157.755192   \n",
       "min       0.000000     0.000000     0.000000      0.000000       0.000000   \n",
       "25%      43.000000   191.500000    12.000000   1547.750000    9141.500000   \n",
       "50%      82.000000   292.500000    20.000000   6606.500000   18088.500000   \n",
       "75%     127.000000   410.000000    30.000000  13878.250000   38705.250000   \n",
       "max    4524.000000  2484.000000    87.000000  44431.000000  159510.000000   \n",
       "\n",
       "       btc_twit_neg  eth_tel_pos  eth_tel_neu  eth_tel_neg  eth_twit_pos  ...  \\\n",
       "count    814.000000   814.000000    814.00000   814.000000    814.000000  ...   \n",
       "mean    2093.754300    36.842752     76.89312     5.313268   3497.667076  ...   \n",
       "std     2267.154802    80.560352     69.32310     5.338610   3811.770346  ...   \n",
       "min        0.000000     0.000000      0.00000     0.000000      0.000000  ...   \n",
       "25%      458.000000     8.000000     38.00000     2.000000    604.000000  ...   \n",
       "50%     1377.500000    19.000000     65.50000     4.000000   2252.000000  ...   \n",
       "75%     3351.000000    38.000000    103.00000     8.000000   4446.250000  ...   \n",
       "max    21556.000000  1051.000000    721.00000    55.000000  23071.000000  ...   \n",
       "\n",
       "       doge_tel_neg  doge_twit_pos  doge_twit_neu  doge_twit_neg  ada_tel_pos  \\\n",
       "count    814.000000     814.000000     814.000000     814.000000   814.000000   \n",
       "mean       0.482801    1253.814496    3791.282555     247.679361     5.238329   \n",
       "std        1.699164    2881.650272   11555.853348    1007.198275    18.663979   \n",
       "min        0.000000       0.000000       0.000000       0.000000     0.000000   \n",
       "25%        0.000000      14.000000      31.000000       1.000000     0.000000   \n",
       "50%        0.000000      92.500000     209.000000       6.000000     1.000000   \n",
       "75%        0.000000    1481.000000    4704.500000     216.750000     4.000000   \n",
       "max       20.000000   38863.000000  223539.000000   21026.000000   225.000000   \n",
       "\n",
       "       ada_tel_neu  ada_tel_neg  ada_twit_pos  ada_twit_neu  ada_twit_neg  \n",
       "count   814.000000   814.000000    814.000000    814.000000    814.000000  \n",
       "mean     13.572482     1.297297    563.890663   1308.826781     84.246929  \n",
       "std      28.067070     4.192486    917.789541   2000.558152    137.614188  \n",
       "min       0.000000     0.000000      0.000000      1.000000      0.000000  \n",
       "25%       1.000000     0.000000     63.000000    175.000000      6.000000  \n",
       "50%       7.000000     0.000000    172.000000    421.000000     24.500000  \n",
       "75%      15.000000     1.000000    539.750000   1297.750000     85.000000  \n",
       "max     296.000000    66.000000   9626.000000  12184.000000    881.000000  \n",
       "\n",
       "[8 rows x 24 columns]"
      ]
     },
     "metadata": {},
     "output_type": "display_data"
    }
   ],
   "source": [
    "print(\"Summary Statistics for ss_clean\")\n",
    "display(ss_clean.describe())"
   ]
  },
  {
   "cell_type": "markdown",
   "metadata": {
    "cell_id": "00050-a04c3fc8-14e5-4e37-b3f7-13b02e67b953",
    "deepnote_cell_type": "markdown",
    "tags": []
   },
   "source": [
    "Probably the easiest bit of important information we can deduce here is that the minimum number of positive, neutral, or negative mentions almost every coin across any platform is 0 (the exceptions being neutral mentions of both ETH and ADA on twitter, each with a minimum of 1). Considering this data only stretches back a few years, it's surprising that BTC could see a day where it saw no positive, neutral, or negative mentions on Twitter. Twitter has millions of users, and as we said before Bitcoin is by far the oldest and largest cryptocurrency. It would be interesting to look at these days for all the coins to see how many mentions of the other two sentiments a given coin might have received on a day where it received none of one. We could then compare our findings there to how the price moved on those days. I would venture to guess that on most days where a coin saw 0 mentions of one sentiment, it had relatively few of the other sentiments as well, and that the price moved less than 5%, which we previously saw was the rough interquartile ranges of every coin except DOGE \n",
    "\n",
    "Another thing that jumps out is that the scales of the distributions of the data across both platforms (Telegram and Twitter) and coins (BTC, ETH, DOGE, and ADA) vary significantly. Take BTC for example; it's average number of daily positive, netural, and negative posts from Twitter dwarfs the those from Telegram. Twitter is a much more widely used and popular platform, so that makes sense. However, both platforms show similar distributions of posts between the three sentiments, with neutral mentions being the most common, followed by postive mentions, and then negative mentions. Similarly, if we compare the number of positive, neutral, and negative mentions of BTC and ETH from Twitter, we see again that for each coin, neutral mentions are the most common, followed by positive mentions, and negative mentions. Once we start to dive into our analysis, that should give us a better idea of how best to transform our data when comparing across platforms and coins. For now though, we can still get a sense for how a single coin's sentiments might interact with each other by their movement's them within each platform. First let's track how positive, neutral, and negative mentions of BTC have changed over time on Twitter."
   ]
  },
  {
   "cell_type": "code",
   "execution_count": 572,
   "metadata": {
    "cell_id": "00053-2380d6d0-4de9-41b0-9a55-b9c44e739d96",
    "deepnote_cell_type": "code",
    "deepnote_to_be_reexecuted": false,
    "execution_millis": 382,
    "execution_start": 1634779544919,
    "source_hash": "84e480c5",
    "tags": []
   },
   "outputs": [
    {
     "data": {
      "image/png": "[encoded data removed]",
      "text/plain": [
       "<Figure size 432x288 with 1 Axes>"
      ]
     },
     "metadata": {
      "needs_background": "light"
     },
     "output_type": "display_data"
    }
   ],
   "source": [
    "plt.plot(ss_clean['date'], ss_clean['btc_twit_pos'])\n",
    "plt.plot(ss_clean['date'], ss_clean['btc_twit_neu'])\n",
    "plt.plot(ss_clean['date'], ss_clean['btc_twit_neg'])\n",
    "plt.xlabel('Date')\n",
    "plt.xticks(fontsize=8)\n",
    "plt.ylabel('Mentions')\n",
    "plt.legend(labels = ['positive', 'neutral', 'negative'])\n",
    "plt.title(\"Bitcoin Sentiments on Twitter over time\")\n",
    "plt.show()"
   ]
  },
  {
   "cell_type": "markdown",
   "metadata": {
    "cell_id": "00054-ea28a5d7-48c4-4d16-aa48-5d68a2712f8f",
    "deepnote_cell_type": "markdown",
    "tags": []
   },
   "source": [
    "We can see a small spike in neutral mentions in July of 2020, and then in about October both the positive mentions and neutral mentions started to steadily increase, spiking in January of 2021. This was right before the beginning of Bitcoin's most recent bull-run, so the potential implications there could be huge. We can also see the number of neutral and positive mentions plummet for about a month or two before neutral mentions spiked even higher than in January of 2021. We'll have to look further into that, as it seems more likely that there is an issue with our data there than it is everyone just randomly stopped discussing Bitcoin for two months in March 2021. Let's see how the BTC sentiment trends from Telegram compare to those from twitter."
   ]
  },
  {
   "cell_type": "code",
   "execution_count": 573,
   "metadata": {
    "cell_id": "00054-4965289f-a25c-4a85-b19b-cad8dbe680f4",
    "deepnote_cell_type": "code",
    "deepnote_to_be_reexecuted": false,
    "execution_millis": 378,
    "execution_start": 1634779545384,
    "source_hash": "a3674671",
    "tags": []
   },
   "outputs": [
    {
     "data": {
      "image/png": "[encoded data removed]",
      "text/plain": [
       "<Figure size 432x288 with 1 Axes>"
      ]
     },
     "metadata": {
      "needs_background": "light"
     },
     "output_type": "display_data"
    }
   ],
   "source": [
    "plt.plot(ss_clean['date'], ss_clean['btc_tel_pos'])\n",
    "plt.plot(ss_clean['date'], ss_clean['btc_tel_neu'])\n",
    "plt.plot(ss_clean['date'], ss_clean['btc_tel_neg'])\n",
    "plt.xlabel('Date')\n",
    "plt.xticks(fontsize=8)\n",
    "plt.ylabel('Mentions')\n",
    "plt.legend(labels = ['positive', 'neutral', 'negative'])\n",
    "plt.title(\"Bitcoin Sentiments on Telegram over time\")\n",
    "plt.show()"
   ]
  },
  {
   "cell_type": "markdown",
   "metadata": {
    "cell_id": "00056-caef16f7-ebfc-424c-b548-0c806e17f81f",
    "deepnote_cell_type": "markdown",
    "tags": []
   },
   "source": [
    "Interestingly, Bitcoin seems to have been discussed far more on Telegram *before* July of 2020, with the number of positive mentions seeing two particularly massive spikes in December of 2019 and June of 2020. Mentions did seem to pick up in January of 2021, right around the time Twitter mentions were at their peak, but there are still far fewer than the period before July 2020. It would be very interesting to be able to see what those telegram mentions pre-July 2020 were, as it would hopefully shed some light on why BTC was being mentioned more frequently on Telegram *before* most people were seemingly discussing it, but unfortunately we don't have that data. Instead, let's look at the ETH, DOGE, and ADA sentiments on Twitter and see if we can find anything interesting by comparing them."
   ]
  },
  {
   "cell_type": "code",
   "execution_count": 574,
   "metadata": {
    "cell_id": "00058-0e78ffb2-3f59-413f-8097-683c49641329",
    "deepnote_cell_type": "code",
    "deepnote_to_be_reexecuted": false,
    "execution_millis": 414,
    "execution_start": 1634779909495,
    "source_hash": "d20f917c",
    "tags": []
   },
   "outputs": [
    {
     "data": {
      "image/png": "[encoded data removed]",
      "text/plain": [
       "<Figure size 432x288 with 1 Axes>"
      ]
     },
     "metadata": {
      "needs_background": "light"
     },
     "output_type": "display_data"
    }
   ],
   "source": [
    "plt.plot(ss_clean['date'], ss_clean['eth_twit_pos'])\n",
    "plt.plot(ss_clean['date'], ss_clean['eth_twit_neu'])\n",
    "plt.plot(ss_clean['date'], ss_clean['eth_twit_neg'])\n",
    "plt.xlabel('Date')\n",
    "plt.xticks(fontsize=8)\n",
    "plt.ylabel('Mentions')\n",
    "plt.legend(labels = ['positive', 'neutral', 'negative'])\n",
    "plt.title(\"Ethereum Sentiments on Twitter over time\")\n",
    "plt.show()"
   ]
  },
  {
   "cell_type": "markdown",
   "metadata": {
    "cell_id": "00060-9edae394-0942-404c-b399-7e288777ceb9",
    "deepnote_cell_type": "markdown",
    "tags": []
   },
   "source": [
    "Ethereum shows similar movements to BTC, though it does show a more recent spike in August 2021, and it also appears to have larger gap between the number of positive mentions and negative mentions dating back to about June of 2021. Perhaps more importantly, it shows a similar plummet in all mentions in the same period we saw for BTC, making it even more important we investigating the possible reasons for that once we start our analysis."
   ]
  },
  {
   "cell_type": "code",
   "execution_count": 575,
   "metadata": {
    "cell_id": "00059-d2424454-b5ce-4cab-80a0-a54e06f04ce4",
    "deepnote_cell_type": "code",
    "deepnote_to_be_reexecuted": false,
    "execution_millis": 439,
    "execution_start": 1634779914331,
    "source_hash": "77f7ff46",
    "tags": []
   },
   "outputs": [
    {
     "data": {
      "image/png": "[encoded data removed]",
      "text/plain": [
       "<Figure size 432x288 with 1 Axes>"
      ]
     },
     "metadata": {
      "needs_background": "light"
     },
     "output_type": "display_data"
    }
   ],
   "source": [
    "plt.plot(ss_clean['date'], ss_clean['doge_twit_pos'])\n",
    "plt.plot(ss_clean['date'], ss_clean['doge_twit_neu'])\n",
    "plt.plot(ss_clean['date'], ss_clean['doge_twit_neg'])\n",
    "plt.xlabel('Date')\n",
    "plt.xticks(fontsize=8)\n",
    "plt.ylabel('Mentions')\n",
    "plt.legend(labels = ['positive', 'neutral', 'negative'])\n",
    "plt.title(\"Dogecoin Sentiments on Twitter over time\")\n",
    "plt.show()"
   ]
  },
  {
   "cell_type": "markdown",
   "metadata": {
    "cell_id": "00062-9496d14c-64cd-492f-86db-d310a145bc3b",
    "deepnote_cell_type": "markdown",
    "tags": []
   },
   "source": [
    "The main thing we see here is that Dogecoin was barely mentioned at all until January of 2021, when neutral sentiments exploded to over 200,000. Unlike the other three coins were looking at, Dogecoin was literally created as a joke, and one that is designed to lose money at that. We'll fully explore that later, but as we estbalished earlier Dogecoin saw some incredibly volatile days, and looking at this graph perhaps we can see why; something set the ball rolling that made Dogecoin increase, and as people saw it rise, FOMO, or fear-of-missing-out kicked in and jumpstarted an incredibly volatile and short-lived bubble. If that's true, we will seek to prove it. "
   ]
  },
  {
   "cell_type": "code",
   "execution_count": 576,
   "metadata": {
    "cell_id": "00060-473e5509-7ac8-4b00-86a7-f3183bca8dbb",
    "deepnote_cell_type": "code",
    "deepnote_to_be_reexecuted": false,
    "execution_millis": 417,
    "execution_start": 1634779921136,
    "source_hash": "6de1c3db",
    "tags": []
   },
   "outputs": [
    {
     "data": {
      "image/png": "[encoded data removed]",
      "text/plain": [
       "<Figure size 432x288 with 1 Axes>"
      ]
     },
     "metadata": {
      "needs_background": "light"
     },
     "output_type": "display_data"
    }
   ],
   "source": [
    "plt.plot(ss_clean['date'], ss_clean['ada_twit_pos'])\n",
    "plt.plot(ss_clean['date'], ss_clean['ada_twit_neu'])\n",
    "plt.plot(ss_clean['date'], ss_clean['ada_twit_neg'])\n",
    "plt.xlabel('Date')\n",
    "plt.xticks(fontsize=8)\n",
    "plt.ylabel('Mentions')\n",
    "plt.legend(labels = ['positive', 'neutral', 'negative'])\n",
    "plt.title(\"Cardano Sentiments on Twitter over time\")\n",
    "plt.show()"
   ]
  },
  {
   "cell_type": "markdown",
   "metadata": {
    "cell_id": "00063-51927a55-faf8-4f3c-9157-7fc70bbe0a83",
    "deepnote_cell_type": "markdown",
    "tags": []
   },
   "source": [
    "Not really much to say about Cardano; it follows a similar trend to Ethereum, which as a relatively newer and smaller-cap coin makes sense. It is interesting however to note the significant differences between ADA and DOGE. Both are considered smaller to medium cap coins, but unlike DOGE, Cardano was not developed as a joke."
   ]
  },
  {
   "cell_type": "markdown",
   "metadata": {
    "cell_id": "00064-18967ad1-104f-423b-8f64-265f2dc8fdc8",
    "deepnote_cell_type": "markdown",
    "tags": []
   },
   "source": [
    "Finally, let's look to see how the sentiment graphs from Telegram ETH, DOGE, and ADA compare to each other, and those from Twitter"
   ]
  },
  {
   "cell_type": "code",
   "execution_count": 577,
   "metadata": {
    "cell_id": "00065-641a09f1-5c58-408e-bc68-f1a9bd32cf93",
    "deepnote_cell_type": "code",
    "deepnote_to_be_reexecuted": false,
    "execution_millis": 333,
    "execution_start": 1634781153010,
    "source_hash": "81226f52",
    "tags": []
   },
   "outputs": [
    {
     "data": {
      "image/png": "[encoded data removed]",
      "text/plain": [
       "<Figure size 432x288 with 1 Axes>"
      ]
     },
     "metadata": {
      "needs_background": "light"
     },
     "output_type": "display_data"
    }
   ],
   "source": [
    "plt.plot(ss_clean['date'], ss_clean['eth_tel_pos'])\n",
    "plt.plot(ss_clean['date'], ss_clean['eth_tel_neu'])\n",
    "plt.plot(ss_clean['date'], ss_clean['eth_tel_neg'])\n",
    "plt.xlabel('Date')\n",
    "plt.xticks(fontsize=8)\n",
    "plt.ylabel('Mentions')\n",
    "plt.legend(labels = ['positive', 'neutral', 'negative'])\n",
    "plt.title(\"Ethereum Sentiments on Telegram over time\")\n",
    "plt.show()"
   ]
  },
  {
   "cell_type": "code",
   "execution_count": 578,
   "metadata": {
    "cell_id": "00066-2ea4e343-af82-4767-978d-787c39b6b993",
    "deepnote_cell_type": "code",
    "deepnote_to_be_reexecuted": false,
    "execution_millis": 437,
    "execution_start": 1634781160765,
    "source_hash": "dce0a8f4",
    "tags": []
   },
   "outputs": [
    {
     "data": {
      "image/png": "[encoded data removed]",
      "text/plain": [
       "<Figure size 432x288 with 1 Axes>"
      ]
     },
     "metadata": {
      "needs_background": "light"
     },
     "output_type": "display_data"
    }
   ],
   "source": [
    "plt.plot(ss_clean['date'], ss_clean['doge_tel_pos'])\n",
    "plt.plot(ss_clean['date'], ss_clean['doge_tel_neu'])\n",
    "plt.plot(ss_clean['date'], ss_clean['doge_tel_neg'])\n",
    "plt.xlabel('Date')\n",
    "plt.xticks(fontsize=8)\n",
    "plt.ylabel('Mentions')\n",
    "plt.legend(labels = ['positive', 'neutral', 'negative'])\n",
    "plt.title(\"Dogecoin Sentiments on Telegram over time\")\n",
    "plt.show()"
   ]
  },
  {
   "cell_type": "code",
   "execution_count": 579,
   "metadata": {
    "cell_id": "00067-132feaa3-b7e6-43f2-8038-b09d9a27428f",
    "deepnote_cell_type": "code",
    "deepnote_to_be_reexecuted": false,
    "execution_millis": 425,
    "execution_start": 1634781173655,
    "source_hash": "66ecdd32",
    "tags": []
   },
   "outputs": [
    {
     "data": {
      "image/png": "[encoded data removed]",
      "text/plain": [
       "<Figure size 432x288 with 1 Axes>"
      ]
     },
     "metadata": {
      "needs_background": "light"
     },
     "output_type": "display_data"
    }
   ],
   "source": [
    "plt.plot(ss_clean['date'], ss_clean['ada_tel_pos'])\n",
    "plt.plot(ss_clean['date'], ss_clean['ada_tel_neu'])\n",
    "plt.plot(ss_clean['date'], ss_clean['ada_tel_neg'])\n",
    "plt.xlabel('Date')\n",
    "plt.xticks(fontsize=8)\n",
    "plt.ylabel('Mentions')\n",
    "plt.legend(labels = ['positive', 'neutral', 'negative'])\n",
    "plt.title(\"Cardano Sentiments on Telegram over time\")\n",
    "plt.show()"
   ]
  },
  {
   "cell_type": "markdown",
   "metadata": {
    "cell_id": "00068-ad643066-d1dd-4523-b97b-017124aad293",
    "deepnote_cell_type": "markdown",
    "tags": []
   },
   "source": [
    "All three graphs show a similar pattern to the Bitcoin sentiments from Telegram. Again, all three coins - even DOGE - seem to show a massive spike in mentions in around May or June of 2020. Even though we can't see what those mentions are about, one possible avenue to explore that would be to see if the trading data showed any differences in that period than the time before and after. "
   ]
  },
  {
   "cell_type": "markdown",
   "metadata": {},
   "source": [
    "<h1>ANALYSIS</h1>"
   ]
  },
  {
   "cell_type": "markdown",
   "metadata": {},
   "source": [
    "##### Are smaller-cap memecoins such as dogecoin more affected by social sentiment than larger-cap coins such as Bitcoin and Ethereum? \n",
    "\n",
    "Our prediction is that dogecoin will show higher correlation with social sentiment data than other currencies as it has a smaller market cap. \n",
    "We predict that on the days where Dogecoin showed drastically different daily price movements from all the other cryptocurrencies, e.g. when it went up more than 6000% or when it dropped 99.7%, corresponding social sentiment activity will be high.  \n",
    "We will look at the moving-averages for each of the positive, neutral, and negative social sentiments regarding each cryptocurrency. We will also look at the moving averages for total social media activity for each coin, and cryptocurrencies as a whole. We predict that the social media sentiment data points in the days preceding the spike in Dogecoin will be outliers. \n",
    "We will observe the correlation between social sentiment from Telegram and Twitter \n"
   ]
  },
  {
   "cell_type": "markdown",
   "metadata": {},
   "source": [
    "We were a little concerned when seeing that DOGE had risen 6000% in a single day, and that in another day it crashed 98.4%. Upon looking more closely we realized that these two events happened in consecutive days, the rise and then the fall. We thought that, while this is crypto and crazy things do happen, it seemed off. To that end, we found the exact dates that these price actions occurred and tracked them down in <a href = \"tradingview.com\"> Trading View</a>, a highly reputable source of market data used widely by investors and traders alike. What we found was a measly 5% decline on the first day, and a 2% drop on the next. Nothing in the realm of 6000%, or -98.4%"
   ]
  },
  {
   "cell_type": "code",
   "execution_count": 580,
   "metadata": {},
   "outputs": [
    {
     "data": {
      "text/html": [
       "<div>\n",
       "<style scoped>\n",
       "    .dataframe tbody tr th:only-of-type {\n",
       "        vertical-align: middle;\n",
       "    }\n",
       "\n",
       "    .dataframe tbody tr th {\n",
       "        vertical-align: top;\n",
       "    }\n",
       "\n",
       "    .dataframe thead th {\n",
       "        text-align: right;\n",
       "    }\n",
       "</style>\n",
       "<table border=\"1\" class=\"dataframe\">\n",
       "  <thead>\n",
       "    <tr style=\"text-align: right;\">\n",
       "      <th></th>\n",
       "      <th>doge_pct_change</th>\n",
       "      <th>date</th>\n",
       "      <th>doge_close</th>\n",
       "      <th>doge_high</th>\n",
       "      <th>doge_low</th>\n",
       "      <th>doge_open</th>\n",
       "    </tr>\n",
       "  </thead>\n",
       "  <tbody>\n",
       "    <tr>\n",
       "      <th>745</th>\n",
       "      <td>6191.55</td>\n",
       "      <td>2020-01-15</td>\n",
       "      <td>0.148228</td>\n",
       "      <td>0.180909</td>\n",
       "      <td>0.002328</td>\n",
       "      <td>0.002356</td>\n",
       "    </tr>\n",
       "    <tr>\n",
       "      <th>746</th>\n",
       "      <td>-98.43</td>\n",
       "      <td>2020-01-16</td>\n",
       "      <td>0.002323</td>\n",
       "      <td>0.184558</td>\n",
       "      <td>0.002290</td>\n",
       "      <td>0.148228</td>\n",
       "    </tr>\n",
       "  </tbody>\n",
       "</table>\n",
       "</div>"
      ],
      "text/plain": [
       "     doge_pct_change        date  doge_close  doge_high  doge_low  doge_open\n",
       "745          6191.55  2020-01-15    0.148228   0.180909  0.002328   0.002356\n",
       "746           -98.43  2020-01-16    0.002323   0.184558  0.002290   0.148228"
      ]
     },
     "execution_count": 580,
     "metadata": {},
     "output_type": "execute_result"
    }
   ],
   "source": [
    "doge_big_pct = trading[(trading['doge_pct_change']<-80) | (trading['doge_pct_change']>1000)]\n",
    "doge_big_pct[['doge_pct_change','date','doge_close','doge_high',\"doge_low\",'doge_open']]"
   ]
  },
  {
   "cell_type": "markdown",
   "metadata": {},
   "source": [
    "We found that our sentiment data had some N/A values we had not previously seen. "
   ]
  },
  {
   "cell_type": "code",
   "execution_count": 581,
   "metadata": {},
   "outputs": [],
   "source": [
    "pd.set_option('mode.chained_assignment',None) #Disable SettingWithCopyWarning\n",
    "\n",
    "trading.iloc[745:746]['doge_pct_change'] = -4.81\n",
    "trading.iloc[746:747]['doge_pct_change'] = -2.14\n",
    "trading.iloc[745:746]['doge_high'] = .002354\n",
    "trading.iloc[745:746]['doge_close'] = .002249\n",
    "trading.iloc[746:747]['doge_high'] = .002308\n",
    "trading.iloc[746:747]['doge_open'] = .002249\n",
    "\n",
    "trading.iloc[745:747][['doge_open','doge_high','doge_close']]\n",
    "\n",
    "pd.reset_option('mode.chained_assignment') #Enable SettingWithCopyWarning"
   ]
  },
  {
   "cell_type": "code",
   "execution_count": 582,
   "metadata": {},
   "outputs": [
    {
     "data": {
      "text/plain": [
       "['date',\n",
       " 'btc_tel_pos',\n",
       " 'btc_tel_neu',\n",
       " 'btc_tel_neg',\n",
       " 'btc_twit_pos',\n",
       " 'btc_twit_neu',\n",
       " 'btc_twit_neg',\n",
       " 'btc_close',\n",
       " 'btc_open',\n",
       " 'btc_high',\n",
       " 'btc_low',\n",
       " 'btc_vol',\n",
       " 'btc_pct_change']"
      ]
     },
     "execution_count": 582,
     "metadata": {},
     "output_type": "execute_result"
    }
   ],
   "source": [
    "sentiment_and_trading.columns.tolist()[:13]"
   ]
  },
  {
   "cell_type": "code",
   "execution_count": 583,
   "metadata": {},
   "outputs": [
    {
     "data": {
      "image/png": "[encoded data removed]",
      "text/plain": [
       "<Figure size 432x288 with 2 Axes>"
      ]
     },
     "metadata": {
      "needs_background": "light"
     },
     "output_type": "display_data"
    }
   ],
   "source": [
    "sns.heatmap(btc_all.corr())\n",
    "plt.title(\"BTC Variable Correlations\")\n",
    "plt.show()"
   ]
  },
  {
   "cell_type": "code",
   "execution_count": 584,
   "metadata": {},
   "outputs": [
    {
     "data": {
      "image/png": "[encoded data removed]",
      "text/plain": [
       "<Figure size 432x288 with 2 Axes>"
      ]
     },
     "metadata": {
      "needs_background": "light"
     },
     "output_type": "display_data"
    }
   ],
   "source": [
    "sns.heatmap(eth_all.corr())\n",
    "plt.title(\"ETH Variable Correlations\")\n",
    "plt.show()"
   ]
  },
  {
   "cell_type": "code",
   "execution_count": 585,
   "metadata": {},
   "outputs": [
    {
     "data": {
      "image/png": "[encoded data removed]",
      "text/plain": [
       "<Figure size 432x288 with 2 Axes>"
      ]
     },
     "metadata": {
      "needs_background": "light"
     },
     "output_type": "display_data"
    }
   ],
   "source": [
    "sns.heatmap(ada_all.corr(), cmap='RdYlBu')\n",
    "plt.title(\"ADA Variable Correlations\")\n",
    "plt.show()"
   ]
  },
  {
   "cell_type": "code",
   "execution_count": 586,
   "metadata": {},
   "outputs": [
    {
     "data": {
      "image/png": "[encoded data removed]",
      "text/plain": [
       "<Figure size 432x288 with 2 Axes>"
      ]
     },
     "metadata": {
      "needs_background": "light"
     },
     "output_type": "display_data"
    }
   ],
   "source": [
    "sns.heatmap(doge_all.corr(), cmap=\"RdYlBu\")\n",
    "plt.title(\"DOGE Variable Correlations\")\n",
    "plt.show()"
   ]
  },
  {
   "cell_type": "markdown",
   "metadata": {},
   "source": [
    "We thought it could be interesting to calculate the total number of Telegram and Twitter mentions per day, i.e. add all positive, neutral and negative mentions. By looking at the absolute volume of mentions, as opposed to each individual sentiment's, we might be able to find something meaningful and insightful. "
   ]
  },
  {
   "cell_type": "code",
   "execution_count": 587,
   "metadata": {},
   "outputs": [],
   "source": [
    "btc_all['btc_tel_total'] = btc_all['btc_tel_pos'] + btc_all['btc_tel_neu'] + btc_all['btc_tel_neg']\n",
    "btc_all['btc_twit_total'] = btc_all['btc_twit_pos'] + btc_all['btc_twit_neu'] + btc_all['btc_twit_neg']\n",
    "\n",
    "eth_all['eth_tel_total'] = eth_all['eth_tel_pos'] + eth_all['eth_tel_neu'] + eth_all['eth_tel_neg']\n",
    "eth_all['eth_twit_total'] = eth_all['eth_twit_pos'] + eth_all['eth_twit_neu'] + eth_all['eth_twit_neg']\n",
    "\n",
    "ada_all['ada_tel_total'] = ada_all['ada_tel_pos'] + ada_all['ada_tel_neu'] + ada_all['ada_tel_neg']\n",
    "ada_all['ada_twit_total'] = ada_all['ada_twit_pos'] + ada_all['ada_twit_neu'] + ada_all['ada_twit_neg']\n",
    "\n",
    "doge_all['doge_tel_total'] = doge_all['doge_tel_pos'] + doge_all['doge_tel_neu'] + doge_all['doge_tel_neg']\n",
    "doge_all['doge_twit_total'] = doge_all['doge_twit_pos'] + doge_all['doge_twit_neu'] + doge_all['doge_twit_neg']\n"
   ]
  },
  {
   "cell_type": "markdown",
   "metadata": {},
   "source": [
    "Furthermore, we thought it could be interesting to take a look at the percent of the total volume of mentions that were positive for both Telegram and Twitter."
   ]
  },
  {
   "cell_type": "code",
   "execution_count": 588,
   "metadata": {},
   "outputs": [],
   "source": [
    "btc_all['btc_tel_pos_pct'] = btc_all['btc_tel_pos']/btc_all['btc_tel_total'] \n",
    "btc_all['btc_twit_pos_pct'] = btc_all['btc_twit_pos']/btc_all['btc_twit_total'] \n",
    "\n",
    "eth_all['eth_tel_pos_pct'] = eth_all['eth_tel_pos']/eth_all['eth_tel_total'] \n",
    "eth_all['eth_twit_pos_pct'] = eth_all['eth_twit_pos']/eth_all['eth_twit_total'] \n",
    "\n",
    "ada_all['ada_tel_pos_pct'] = ada_all['ada_tel_pos']/ada_all['ada_tel_total'] \n",
    "ada_all['ada_twit_pos_pct'] = ada_all['ada_twit_pos']/ada_all['ada_twit_total'] \n",
    "\n",
    "doge_all['doge_tel_pos_pct'] = doge_all['doge_tel_pos']/doge_all['doge_tel_total'] \n",
    "doge_all['doge_twit_pos_pct'] = doge_all['doge_twit_pos']/doge_all['doge_twit_total'] "
   ]
  },
  {
   "cell_type": "code",
   "execution_count": 589,
   "metadata": {},
   "outputs": [],
   "source": [
    "def make_heatmaps(df, name):\n",
    "    print(f\"\\n{name.upper()}\\n\")\n",
    "    analysis = df[[name+'_pct_change',name+'_close',name+'_vol',name+'_tel_total',\n",
    "                   name+'_tel_pos_pct',name+'_twit_total',name+'_twit_pos_pct']]\n",
    "    sns.heatmap(analysis.corr(), cmap='RdYlBu')\n",
    "    plt.title(\"All values correlation\")\n",
    "    plt.show()\n",
    "\n",
    "    low_quantile = analysis[name+'_pct_change'].quantile(0.10)\n",
    "    high_quantile = analysis[name+'_pct_change'].quantile(.90)\n",
    "    \n",
    "    bool1 = analysis[name+'_pct_change']>high_quantile\n",
    "    bool2 = analysis[name+'_pct_change']<low_quantile\n",
    "    \n",
    "    extremes = analysis[ bool1 | bool2 ]\n",
    "    sns.heatmap(extremes.corr(), cmap='RdYlBu')\n",
    "    plt.title(\"Extreme Values Correlation\")\n",
    "    plt.show()\n",
    "\n",
    "    bool3 = (analysis[name+ '_pct_change']< high_quantile) & (analysis[name+'_pct_change'] >= 0)\n",
    "    bool4 = (analysis[name+'_pct_change'] > low_quantile) & (analysis[name+'_pct_change'] < 0)\n",
    "\n",
    "    normals = analysis[ bool3 | bool4 ]\n",
    "    sns.heatmap(normals.corr(), cmap='RdYlBu')\n",
    "    plt.title(\"Average Values Correlation\")\n",
    "    plt.show()"
   ]
  },
  {
   "cell_type": "code",
   "execution_count": 590,
   "metadata": {
    "tags": []
   },
   "outputs": [
    {
     "name": "stdout",
     "output_type": "stream",
     "text": [
      "\n",
      "BTC\n",
      "\n"
     ]
    },
    {
     "data": {
      "image/png": "[encoded data removed]",
      "text/plain": [
       "<Figure size 432x288 with 2 Axes>"
      ]
     },
     "metadata": {
      "needs_background": "light"
     },
     "output_type": "display_data"
    },
    {
     "data": {
      "image/png": "[encoded data removed]",
      "text/plain": [
       "<Figure size 432x288 with 2 Axes>"
      ]
     },
     "metadata": {
      "needs_background": "light"
     },
     "output_type": "display_data"
    },
    {
     "data": {
      "image/png": "[encoded data removed]",
      "text/plain": [
       "<Figure size 432x288 with 2 Axes>"
      ]
     },
     "metadata": {
      "needs_background": "light"
     },
     "output_type": "display_data"
    },
    {
     "name": "stdout",
     "output_type": "stream",
     "text": [
      "\n",
      "ETH\n",
      "\n"
     ]
    },
    {
     "data": {
      "image/png": "[encoded data removed]",
      "text/plain": [
       "<Figure size 432x288 with 2 Axes>"
      ]
     },
     "metadata": {
      "needs_background": "light"
     },
     "output_type": "display_data"
    },
    {
     "data": {
      "image/png": "[encoded data removed]",
      "text/plain": [
       "<Figure size 432x288 with 2 Axes>"
      ]
     },
     "metadata": {
      "needs_background": "light"
     },
     "output_type": "display_data"
    },
    {
     "data": {
      "image/png": "[encoded data removed]",
      "text/plain": [
       "<Figure size 432x288 with 2 Axes>"
      ]
     },
     "metadata": {
      "needs_background": "light"
     },
     "output_type": "display_data"
    },
    {
     "name": "stdout",
     "output_type": "stream",
     "text": [
      "\n",
      "ADA\n",
      "\n"
     ]
    },
    {
     "data": {
      "image/png": "[encoded data removed]",
      "text/plain": [
       "<Figure size 432x288 with 2 Axes>"
      ]
     },
     "metadata": {
      "needs_background": "light"
     },
     "output_type": "display_data"
    },
    {
     "data": {
      "image/png": "[encoded data removed]",
      "text/plain": [
       "<Figure size 432x288 with 2 Axes>"
      ]
     },
     "metadata": {
      "needs_background": "light"
     },
     "output_type": "display_data"
    },
    {
     "data": {
      "image/png": "[encoded data removed]",
      "text/plain": [
       "<Figure size 432x288 with 2 Axes>"
      ]
     },
     "metadata": {
      "needs_background": "light"
     },
     "output_type": "display_data"
    },
    {
     "name": "stdout",
     "output_type": "stream",
     "text": [
      "\n",
      "DOGE\n",
      "\n"
     ]
    },
    {
     "data": {
      "image/png": "[encoded data removed]",
      "text/plain": [
       "<Figure size 432x288 with 2 Axes>"
      ]
     },
     "metadata": {
      "needs_background": "light"
     },
     "output_type": "display_data"
    },
    {
     "data": {
      "image/png": "[encoded data removed]",
      "text/plain": [
       "<Figure size 432x288 with 2 Axes>"
      ]
     },
     "metadata": {
      "needs_background": "light"
     },
     "output_type": "display_data"
    },
    {
     "data": {
      "image/png": "[encoded data removed]",
      "text/plain": [
       "<Figure size 432x288 with 2 Axes>"
      ]
     },
     "metadata": {
      "needs_background": "light"
     },
     "output_type": "display_data"
    }
   ],
   "source": [
    "make_heatmaps(btc_all, 'btc')\n",
    "make_heatmaps(eth_all,'eth')\n",
    "make_heatmaps(ada_all,'ada')\n",
    "make_heatmaps(doge_all,'doge')"
   ]
  },
  {
   "cell_type": "code",
   "execution_count": 598,
   "metadata": {},
   "outputs": [
    {
     "data": {
      "text/html": [
       "<div>\n",
       "<style scoped>\n",
       "    .dataframe tbody tr th:only-of-type {\n",
       "        vertical-align: middle;\n",
       "    }\n",
       "\n",
       "    .dataframe tbody tr th {\n",
       "        vertical-align: top;\n",
       "    }\n",
       "\n",
       "    .dataframe thead th {\n",
       "        text-align: right;\n",
       "    }\n",
       "</style>\n",
       "<table border=\"1\" class=\"dataframe\">\n",
       "  <thead>\n",
       "    <tr style=\"text-align: right;\">\n",
       "      <th></th>\n",
       "      <th>date</th>\n",
       "      <th>eth_tel_pos</th>\n",
       "      <th>eth_tel_neu</th>\n",
       "      <th>eth_tel_neg</th>\n",
       "      <th>eth_twit_pos</th>\n",
       "      <th>eth_twit_neu</th>\n",
       "      <th>eth_twit_neg</th>\n",
       "      <th>eth_close</th>\n",
       "      <th>eth_open</th>\n",
       "      <th>eth_high</th>\n",
       "      <th>...</th>\n",
       "      <th>eth_tel_total</th>\n",
       "      <th>eth_twit_total</th>\n",
       "      <th>eth_tel_pos_pct</th>\n",
       "      <th>eth_twit_pos_pct</th>\n",
       "      <th>20sma</th>\n",
       "      <th>50sma</th>\n",
       "      <th>20ema</th>\n",
       "      <th>50ema</th>\n",
       "      <th>eth_twit_total_20sma</th>\n",
       "      <th>eth_twit_total_50sma</th>\n",
       "    </tr>\n",
       "  </thead>\n",
       "  <tbody>\n",
       "    <tr>\n",
       "      <th>49</th>\n",
       "      <td>2019-09-06</td>\n",
       "      <td>0.0</td>\n",
       "      <td>4.0</td>\n",
       "      <td>0.0</td>\n",
       "      <td>555.0</td>\n",
       "      <td>3133.0</td>\n",
       "      <td>190.0</td>\n",
       "      <td>169.15</td>\n",
       "      <td>173.82</td>\n",
       "      <td>177.79</td>\n",
       "      <td>...</td>\n",
       "      <td>4.0</td>\n",
       "      <td>3878.0</td>\n",
       "      <td>0.000000</td>\n",
       "      <td>0.143115</td>\n",
       "      <td>181.9745</td>\n",
       "      <td>200.3112</td>\n",
       "      <td>181.137773</td>\n",
       "      <td>181.137773</td>\n",
       "      <td>3945.70</td>\n",
       "      <td>3874.16</td>\n",
       "    </tr>\n",
       "    <tr>\n",
       "      <th>50</th>\n",
       "      <td>2019-09-07</td>\n",
       "      <td>0.0</td>\n",
       "      <td>2.0</td>\n",
       "      <td>0.0</td>\n",
       "      <td>458.0</td>\n",
       "      <td>2670.0</td>\n",
       "      <td>54.0</td>\n",
       "      <td>177.74</td>\n",
       "      <td>169.14</td>\n",
       "      <td>180.63</td>\n",
       "      <td>...</td>\n",
       "      <td>2.0</td>\n",
       "      <td>3182.0</td>\n",
       "      <td>0.000000</td>\n",
       "      <td>0.143935</td>\n",
       "      <td>181.1775</td>\n",
       "      <td>199.4642</td>\n",
       "      <td>180.812199</td>\n",
       "      <td>180.812199</td>\n",
       "      <td>3924.50</td>\n",
       "      <td>3881.78</td>\n",
       "    </tr>\n",
       "    <tr>\n",
       "      <th>51</th>\n",
       "      <td>2019-09-08</td>\n",
       "      <td>0.0</td>\n",
       "      <td>1.0</td>\n",
       "      <td>0.0</td>\n",
       "      <td>543.0</td>\n",
       "      <td>2995.0</td>\n",
       "      <td>82.0</td>\n",
       "      <td>181.44</td>\n",
       "      <td>177.76</td>\n",
       "      <td>183.42</td>\n",
       "      <td>...</td>\n",
       "      <td>1.0</td>\n",
       "      <td>3620.0</td>\n",
       "      <td>0.000000</td>\n",
       "      <td>0.150000</td>\n",
       "      <td>180.1675</td>\n",
       "      <td>198.5358</td>\n",
       "      <td>180.872320</td>\n",
       "      <td>180.872320</td>\n",
       "      <td>3889.40</td>\n",
       "      <td>3874.84</td>\n",
       "    </tr>\n",
       "    <tr>\n",
       "      <th>52</th>\n",
       "      <td>2019-09-09</td>\n",
       "      <td>0.0</td>\n",
       "      <td>1.0</td>\n",
       "      <td>0.0</td>\n",
       "      <td>550.0</td>\n",
       "      <td>3032.0</td>\n",
       "      <td>87.0</td>\n",
       "      <td>180.65</td>\n",
       "      <td>181.45</td>\n",
       "      <td>184.76</td>\n",
       "      <td>...</td>\n",
       "      <td>1.0</td>\n",
       "      <td>3669.0</td>\n",
       "      <td>0.000000</td>\n",
       "      <td>0.149905</td>\n",
       "      <td>179.3930</td>\n",
       "      <td>197.6486</td>\n",
       "      <td>180.851041</td>\n",
       "      <td>180.851041</td>\n",
       "      <td>3879.65</td>\n",
       "      <td>3866.04</td>\n",
       "    </tr>\n",
       "    <tr>\n",
       "      <th>53</th>\n",
       "      <td>2019-09-10</td>\n",
       "      <td>0.0</td>\n",
       "      <td>2.0</td>\n",
       "      <td>0.0</td>\n",
       "      <td>540.0</td>\n",
       "      <td>3215.0</td>\n",
       "      <td>86.0</td>\n",
       "      <td>180.05</td>\n",
       "      <td>180.64</td>\n",
       "      <td>184.16</td>\n",
       "      <td>...</td>\n",
       "      <td>2.0</td>\n",
       "      <td>3841.0</td>\n",
       "      <td>0.000000</td>\n",
       "      <td>0.140588</td>\n",
       "      <td>179.0335</td>\n",
       "      <td>196.9042</td>\n",
       "      <td>180.774407</td>\n",
       "      <td>180.774407</td>\n",
       "      <td>3861.90</td>\n",
       "      <td>3844.02</td>\n",
       "    </tr>\n",
       "    <tr>\n",
       "      <th>...</th>\n",
       "      <td>...</td>\n",
       "      <td>...</td>\n",
       "      <td>...</td>\n",
       "      <td>...</td>\n",
       "      <td>...</td>\n",
       "      <td>...</td>\n",
       "      <td>...</td>\n",
       "      <td>...</td>\n",
       "      <td>...</td>\n",
       "      <td>...</td>\n",
       "      <td>...</td>\n",
       "      <td>...</td>\n",
       "      <td>...</td>\n",
       "      <td>...</td>\n",
       "      <td>...</td>\n",
       "      <td>...</td>\n",
       "      <td>...</td>\n",
       "      <td>...</td>\n",
       "      <td>...</td>\n",
       "      <td>...</td>\n",
       "      <td>...</td>\n",
       "    </tr>\n",
       "    <tr>\n",
       "      <th>763</th>\n",
       "      <td>2021-08-20</td>\n",
       "      <td>9.0</td>\n",
       "      <td>64.0</td>\n",
       "      <td>7.0</td>\n",
       "      <td>8856.0</td>\n",
       "      <td>26233.0</td>\n",
       "      <td>1916.0</td>\n",
       "      <td>3284.21</td>\n",
       "      <td>3184.83</td>\n",
       "      <td>3300.36</td>\n",
       "      <td>...</td>\n",
       "      <td>80.0</td>\n",
       "      <td>37005.0</td>\n",
       "      <td>0.112500</td>\n",
       "      <td>0.239319</td>\n",
       "      <td>3016.8995</td>\n",
       "      <td>2484.8074</td>\n",
       "      <td>2983.753403</td>\n",
       "      <td>2983.753403</td>\n",
       "      <td>43178.35</td>\n",
       "      <td>35244.96</td>\n",
       "    </tr>\n",
       "    <tr>\n",
       "      <th>764</th>\n",
       "      <td>2021-08-21</td>\n",
       "      <td>17.0</td>\n",
       "      <td>39.0</td>\n",
       "      <td>4.0</td>\n",
       "      <td>7645.0</td>\n",
       "      <td>24237.0</td>\n",
       "      <td>1487.0</td>\n",
       "      <td>3223.96</td>\n",
       "      <td>3285.12</td>\n",
       "      <td>3307.33</td>\n",
       "      <td>...</td>\n",
       "      <td>60.0</td>\n",
       "      <td>33369.0</td>\n",
       "      <td>0.283333</td>\n",
       "      <td>0.229105</td>\n",
       "      <td>3050.2860</td>\n",
       "      <td>2506.1910</td>\n",
       "      <td>3006.630222</td>\n",
       "      <td>3006.630222</td>\n",
       "      <td>43141.20</td>\n",
       "      <td>35382.36</td>\n",
       "    </tr>\n",
       "    <tr>\n",
       "      <th>765</th>\n",
       "      <td>2021-08-22</td>\n",
       "      <td>9.0</td>\n",
       "      <td>47.0</td>\n",
       "      <td>5.0</td>\n",
       "      <td>12840.0</td>\n",
       "      <td>29034.0</td>\n",
       "      <td>3485.0</td>\n",
       "      <td>3238.70</td>\n",
       "      <td>3224.17</td>\n",
       "      <td>3271.94</td>\n",
       "      <td>...</td>\n",
       "      <td>61.0</td>\n",
       "      <td>45359.0</td>\n",
       "      <td>0.147541</td>\n",
       "      <td>0.283075</td>\n",
       "      <td>3081.8190</td>\n",
       "      <td>2526.4710</td>\n",
       "      <td>3028.732105</td>\n",
       "      <td>3028.732105</td>\n",
       "      <td>43256.60</td>\n",
       "      <td>35830.24</td>\n",
       "    </tr>\n",
       "    <tr>\n",
       "      <th>766</th>\n",
       "      <td>2021-08-23</td>\n",
       "      <td>52.0</td>\n",
       "      <td>60.0</td>\n",
       "      <td>7.0</td>\n",
       "      <td>17985.0</td>\n",
       "      <td>36018.0</td>\n",
       "      <td>2634.0</td>\n",
       "      <td>3319.49</td>\n",
       "      <td>3238.41</td>\n",
       "      <td>3375.42</td>\n",
       "      <td>...</td>\n",
       "      <td>119.0</td>\n",
       "      <td>56637.0</td>\n",
       "      <td>0.436975</td>\n",
       "      <td>0.317549</td>\n",
       "      <td>3122.4610</td>\n",
       "      <td>2546.3964</td>\n",
       "      <td>3056.423334</td>\n",
       "      <td>3056.423334</td>\n",
       "      <td>43797.20</td>\n",
       "      <td>36496.24</td>\n",
       "    </tr>\n",
       "    <tr>\n",
       "      <th>767</th>\n",
       "      <td>2021-08-24</td>\n",
       "      <td>25.0</td>\n",
       "      <td>39.0</td>\n",
       "      <td>2.0</td>\n",
       "      <td>11007.0</td>\n",
       "      <td>29055.0</td>\n",
       "      <td>3197.0</td>\n",
       "      <td>3329.47</td>\n",
       "      <td>3322.60</td>\n",
       "      <td>3357.99</td>\n",
       "      <td>...</td>\n",
       "      <td>66.0</td>\n",
       "      <td>43259.0</td>\n",
       "      <td>0.378788</td>\n",
       "      <td>0.254444</td>\n",
       "      <td>3152.6700</td>\n",
       "      <td>2569.0626</td>\n",
       "      <td>3082.427778</td>\n",
       "      <td>3082.427778</td>\n",
       "      <td>43535.00</td>\n",
       "      <td>36794.52</td>\n",
       "    </tr>\n",
       "  </tbody>\n",
       "</table>\n",
       "<p>618 rows × 23 columns</p>\n",
       "</div>"
      ],
      "text/plain": [
       "           date  eth_tel_pos  eth_tel_neu  eth_tel_neg  eth_twit_pos  \\\n",
       "49   2019-09-06          0.0          4.0          0.0         555.0   \n",
       "50   2019-09-07          0.0          2.0          0.0         458.0   \n",
       "51   2019-09-08          0.0          1.0          0.0         543.0   \n",
       "52   2019-09-09          0.0          1.0          0.0         550.0   \n",
       "53   2019-09-10          0.0          2.0          0.0         540.0   \n",
       "..          ...          ...          ...          ...           ...   \n",
       "763  2021-08-20          9.0         64.0          7.0        8856.0   \n",
       "764  2021-08-21         17.0         39.0          4.0        7645.0   \n",
       "765  2021-08-22          9.0         47.0          5.0       12840.0   \n",
       "766  2021-08-23         52.0         60.0          7.0       17985.0   \n",
       "767  2021-08-24         25.0         39.0          2.0       11007.0   \n",
       "\n",
       "     eth_twit_neu  eth_twit_neg  eth_close  eth_open  eth_high  ...  \\\n",
       "49         3133.0         190.0     169.15    173.82    177.79  ...   \n",
       "50         2670.0          54.0     177.74    169.14    180.63  ...   \n",
       "51         2995.0          82.0     181.44    177.76    183.42  ...   \n",
       "52         3032.0          87.0     180.65    181.45    184.76  ...   \n",
       "53         3215.0          86.0     180.05    180.64    184.16  ...   \n",
       "..            ...           ...        ...       ...       ...  ...   \n",
       "763       26233.0        1916.0    3284.21   3184.83   3300.36  ...   \n",
       "764       24237.0        1487.0    3223.96   3285.12   3307.33  ...   \n",
       "765       29034.0        3485.0    3238.70   3224.17   3271.94  ...   \n",
       "766       36018.0        2634.0    3319.49   3238.41   3375.42  ...   \n",
       "767       29055.0        3197.0    3329.47   3322.60   3357.99  ...   \n",
       "\n",
       "     eth_tel_total  eth_twit_total  eth_tel_pos_pct  eth_twit_pos_pct  \\\n",
       "49             4.0          3878.0         0.000000          0.143115   \n",
       "50             2.0          3182.0         0.000000          0.143935   \n",
       "51             1.0          3620.0         0.000000          0.150000   \n",
       "52             1.0          3669.0         0.000000          0.149905   \n",
       "53             2.0          3841.0         0.000000          0.140588   \n",
       "..             ...             ...              ...               ...   \n",
       "763           80.0         37005.0         0.112500          0.239319   \n",
       "764           60.0         33369.0         0.283333          0.229105   \n",
       "765           61.0         45359.0         0.147541          0.283075   \n",
       "766          119.0         56637.0         0.436975          0.317549   \n",
       "767           66.0         43259.0         0.378788          0.254444   \n",
       "\n",
       "         20sma      50sma        20ema        50ema  eth_twit_total_20sma  \\\n",
       "49    181.9745   200.3112   181.137773   181.137773               3945.70   \n",
       "50    181.1775   199.4642   180.812199   180.812199               3924.50   \n",
       "51    180.1675   198.5358   180.872320   180.872320               3889.40   \n",
       "52    179.3930   197.6486   180.851041   180.851041               3879.65   \n",
       "53    179.0335   196.9042   180.774407   180.774407               3861.90   \n",
       "..         ...        ...          ...          ...                   ...   \n",
       "763  3016.8995  2484.8074  2983.753403  2983.753403              43178.35   \n",
       "764  3050.2860  2506.1910  3006.630222  3006.630222              43141.20   \n",
       "765  3081.8190  2526.4710  3028.732105  3028.732105              43256.60   \n",
       "766  3122.4610  2546.3964  3056.423334  3056.423334              43797.20   \n",
       "767  3152.6700  2569.0626  3082.427778  3082.427778              43535.00   \n",
       "\n",
       "     eth_twit_total_50sma  \n",
       "49                3874.16  \n",
       "50                3881.78  \n",
       "51                3874.84  \n",
       "52                3866.04  \n",
       "53                3844.02  \n",
       "..                    ...  \n",
       "763              35244.96  \n",
       "764              35382.36  \n",
       "765              35830.24  \n",
       "766              36496.24  \n",
       "767              36794.52  \n",
       "\n",
       "[618 rows x 23 columns]"
      ]
     },
     "execution_count": 598,
     "metadata": {},
     "output_type": "execute_result"
    }
   ],
   "source": [
    "eth_all = eth_all.dropna()\n",
    "eth_all.drop(eth_all.index[641:647])"
   ]
  },
  {
   "cell_type": "code",
   "execution_count": 591,
   "metadata": {},
   "outputs": [],
   "source": [
    "btc_all['20sma'] = btc_all['btc_close'].rolling(window=20).mean()\n",
    "btc_all['50sma'] = btc_all['btc_close'].rolling(window=50).mean()\n",
    "btc_all['20ema'] = btc_all['btc_close'].ewm(span=20, min_periods=0).mean()\n",
    "btc_all['50ema'] = btc_all['btc_close'].ewm(span=20, min_periods=0).mean()\n",
    "\n",
    "eth_all['20sma'] = eth_all['eth_close'].rolling(window=20).mean()\n",
    "eth_all['50sma'] = eth_all['eth_close'].rolling(window=50).mean()\n",
    "eth_all['20ema'] = eth_all['eth_close'].ewm(span=20, min_periods=0).mean()\n",
    "eth_all['50ema'] = eth_all['eth_close'].ewm(span=20, min_periods=0).mean()\n",
    "\n",
    "ada_all['20sma'] = ada_all['ada_close'].rolling(window=20).mean()\n",
    "ada_all['50sma'] = ada_all['ada_close'].rolling(window=50).mean()\n",
    "ada_all['20ema'] = ada_all['ada_close'].ewm(span=20, min_periods=0).mean()\n",
    "ada_all['50ema'] = ada_all['ada_close'].ewm(span=20, min_periods=0).mean()\n",
    "\n",
    "doge_all['20sma'] = doge_all['doge_close'].rolling(window=20).mean()\n",
    "doge_all['50sma'] = doge_all['doge_close'].rolling(window=50).mean()\n",
    "doge_all['20ema'] = doge_all['doge_close'].ewm(span=20, min_periods=0).mean()\n",
    "doge_all['50ema'] = doge_all['doge_close'].ewm(span=20, min_periods=0).mean()"
   ]
  },
  {
   "cell_type": "code",
   "execution_count": 601,
   "metadata": {},
   "outputs": [
    {
     "data": {
      "text/plain": [
       "[<matplotlib.lines.Line2D at 0x7ff3972bd6a0>,\n",
       " <matplotlib.lines.Line2D at 0x7ff396c9eeb0>,\n",
       " <matplotlib.lines.Line2D at 0x7ff396c9edf0>]"
      ]
     },
     "execution_count": 601,
     "metadata": {},
     "output_type": "execute_result"
    },
    {
     "data": {
      "image/png": "[encoded data removed]",
      "text/plain": [
       "<Figure size 432x288 with 1 Axes>"
      ]
     },
     "metadata": {
      "needs_background": "light"
     },
     "output_type": "display_data"
    }
   ],
   "source": [
    "btc_all['btc_twit_total_20sma'] = btc_all['btc_twit_total'].rolling(window=20).mean()\n",
    "btc_all['btc_twit_total_50sma'] = btc_all['btc_twit_total'].rolling(window=50).mean()\n",
    "\n",
    "eth_all['eth_twit_total_20sma'] = eth_all['eth_twit_total'].rolling(window=20).mean()\n",
    "eth_all['eth_twit_total_50sma'] = eth_all['eth_twit_total'].rolling(window=50).mean()\n",
    "\n",
    "ada_all['ada_twit_total_20sma'] = ada_all['ada_twit_total'].rolling(window=20).mean()\n",
    "ada_all['ada_twit_total_50sma'] = ada_all['ada_twit_total'].rolling(window=50).mean()\n",
    "\n",
    "doge_all['doge_twit_total_20sma'] = doge_all['doge_twit_total'].rolling(window=20).mean()\n",
    "doge_all['doge_twit_total_50sma'] = doge_all['doge_twit_total'].rolling(window=50).mean()\n",
    "\n",
    "plt.plot(eth_all['date'],eth_all[['eth_twit_total_20sma','eth_twit_total_50sma', 'eth_twit_total']])"
   ]
  },
  {
   "cell_type": "code",
   "execution_count": 593,
   "metadata": {},
   "outputs": [],
   "source": [
    "def create_ma_heatmap(df, name):\n",
    "    \n",
    "    ma_df = df[[name+'_twit_total_20sma',name+'_twit_total_50sma', '20sma','50sma', '20ema', '50ema']]\n",
    "    sns.heatmap(ma_df.corr())\n",
    "    plt.show()"
   ]
  },
  {
   "cell_type": "code",
   "execution_count": 594,
   "metadata": {},
   "outputs": [
    {
     "data": {
      "image/png": "[encoded data removed]",
      "text/plain": [
       "<Figure size 432x288 with 2 Axes>"
      ]
     },
     "metadata": {
      "needs_background": "light"
     },
     "output_type": "display_data"
    },
    {
     "data": {
      "image/png": "[encoded data removed]",
      "text/plain": [
       "<Figure size 432x288 with 2 Axes>"
      ]
     },
     "metadata": {
      "needs_background": "light"
     },
     "output_type": "display_data"
    },
    {
     "data": {
      "image/png": "[encoded data removed]",
      "text/plain": [
       "<Figure size 432x288 with 2 Axes>"
      ]
     },
     "metadata": {
      "needs_background": "light"
     },
     "output_type": "display_data"
    },
    {
     "data": {
      "image/png": "[encoded data removed]",
      "text/plain": [
       "<Figure size 432x288 with 2 Axes>"
      ]
     },
     "metadata": {
      "needs_background": "light"
     },
     "output_type": "display_data"
    }
   ],
   "source": [
    "create_ma_heatmap(btc_all, 'btc')\n",
    "create_ma_heatmap(eth_all,'eth')\n",
    "create_ma_heatmap(ada_all,'ada')\n",
    "create_ma_heatmap(doge_all,'doge')"
   ]
  },
  {
   "cell_type": "code",
   "execution_count": 540,
   "metadata": {},
   "outputs": [
    {
     "data": {
      "text/plain": [
       "635     4348.0\n",
       "636     3881.0\n",
       "637     4400.0\n",
       "638     2296.0\n",
       "641        2.0\n",
       "642       15.0\n",
       "643        4.0\n",
       "644        3.0\n",
       "646        3.0\n",
       "647      169.0\n",
       "648    10296.0\n",
       "649    38584.0\n",
       "650    40174.0\n",
       "651    33541.0\n",
       "652    36803.0\n",
       "653    33109.0\n",
       "654    76613.0\n",
       "655    63736.0\n",
       "656    50272.0\n",
       "657    39358.0\n",
       "658    32830.0\n",
       "659    41187.0\n",
       "660    39462.0\n",
       "661    61533.0\n",
       "662    43566.0\n",
       "663    56991.0\n",
       "664    51571.0\n",
       "665    36171.0\n",
       "666    34349.0\n",
       "667    34410.0\n",
       "668    38537.0\n",
       "669    33348.0\n",
       "670    61838.0\n",
       "671    38768.0\n",
       "672    35856.0\n",
       "673    30989.0\n",
       "674    40333.0\n",
       "675    15874.0\n",
       "678        2.0\n",
       "679        3.0\n",
       "680        4.0\n",
       "681        8.0\n",
       "682        4.0\n",
       "683       16.0\n",
       "684       11.0\n",
       "685       12.0\n",
       "686       20.0\n",
       "687       15.0\n",
       "688       25.0\n",
       "689       56.0\n",
       "690       62.0\n",
       "691      206.0\n",
       "692     7139.0\n",
       "693    26910.0\n",
       "694    26522.0\n",
       "695    26863.0\n",
       "696    31966.0\n",
       "697    31780.0\n",
       "698    28475.0\n",
       "699    32624.0\n",
       "Name: eth_twit_total, dtype: float64"
      ]
     },
     "execution_count": 540,
     "metadata": {},
     "output_type": "execute_result"
    }
   ],
   "source": [
    "eth_all.iloc[635:695]['eth_twit_total']"
   ]
  },
  {
   "cell_type": "markdown",
   "metadata": {},
   "source": [
    "<h1>TODO</h1>\n",
    "\n",
    "- Which columns to use?\n",
    "    - i.e. total sentiment volume, percent positive, etc\n",
    "- Remove DOGE outliers\n",
    "- (DOGE outliers vs social sentiment) vs (DOGE IQR vs Social sentiment)"
   ]
  },
  {
   "cell_type": "markdown",
   "metadata": {
    "cell_id": "00025-1cd3ba70-afaa-4bf3-96ea-e52ea2ad704e",
    "deepnote_cell_type": "markdown",
    "tags": []
   },
   "source": [
    "#### Data Limitations\n",
    "\n",
    "The datasets we ultimately used contained a few daily observations that contained missing values. We decided to drop these observations as they most likely wouldn't affect the outcome of our analyses, or the accuracy of our analytics given that they only comprised a small fraction of our dataset. In our case this was the best option to choose because placing 0's for all the missing values would've caused conflict within our analysis because its representing a false value for that given day when in fact there was just no data.\n",
    "\n",
    "The two factors we decided on for our research question was Twitter and Telegram which are both platforms that are known to influence the crypto market. Telegram contians stock channels that send out signals and updates with the latest news on stocks whereas Twitter is a social media platform where users interact with Tweets. Being that these are two distinct platforms each series needed to be standardized, because Twitter in comparison to Telegram had much more volume and these two observations remained uncomparable until the appropriate calculations were made (data point-mean/standard deviation).\n",
    "\n",
    "An additional limitation of our data stems from the fact that it was generated using machine learning algorithms that completed sentiment analysis -- an inherently subjective task. Sentiment analysis involves the classification of opinions according to a polar spectrum and can vary in accuracy and results. We were unable to uncover much detail regading IntoTheBlock's machine learning algorithms, or the Tweets and Telegram messages that were sampled. Additionally, we are unaware of the extent to which bias may have affected the results or accuracy of the algorithms which all further contributes to the limitations of our data. Finally, we are unable to determine the extent to whcih context was taken into account while Tweets and messages were being analyzed and how linguistic and communication behaviors such as sarcasm, humor, or other ironic language were treated by the algorithm. \n",
    "\n"
   ]
  },
  {
   "cell_type": "markdown",
   "metadata": {
    "cell_id": "00029-93c01d12-eb88-4384-80e1-a0c38ff8b649",
    "deepnote_cell_type": "markdown",
    "tags": []
   },
   "source": [
    "#### Questions for Reviewers\n",
    "\n",
    "Moving forward should we take into consideration comparing other platforms that influence these cryptocurrencies?\n",
    "\n",
    "Doge Coin in comparison to the other cryotocurrencies we have selected was created as a \"joke\" coin. That being said, we thought it would be interesting to see if Twitter an Telegram effect the prices of this kind of asseet more than others. Do you think we should keep our data consistent and only use reliable coins or is this a good addition to our research?\n",
    "\n",
    "What are some ways we can potentially add more facets to our project? Is it currently \"ambitious\" enough? What are some potential directions in which we could expand it? "
   ]
  },
  {
   "cell_type": "code",
   "execution_count": null,
   "metadata": {},
   "outputs": [],
   "source": []
  },
  {
   "cell_type": "code",
   "execution_count": null,
   "metadata": {},
   "outputs": [],
   "source": []
  },
  {
   "cell_type": "code",
   "execution_count": null,
   "metadata": {},
   "outputs": [],
   "source": []
  },
  {
   "cell_type": "code",
   "execution_count": null,
   "metadata": {},
   "outputs": [],
   "source": []
  }
 ],
 "metadata": {
  "deepnote": {
   "is_reactive": false
  },
  "deepnote_execution_queue": [],
  "deepnote_notebook_id": "cc05af8e-588f-4ce6-826c-c6fc6da211cf",
  "kernelspec": {
   "display_name": "Python 3",
   "language": "python",
   "name": "python3"
  },
  "language_info": {
   "codemirror_mode": {
    "name": "ipython",
    "version": 3
   },
   "file_extension": ".py",
   "mimetype": "text/x-python",
   "name": "python",
   "nbconvert_exporter": "python",
   "pygments_lexer": "ipython3",
   "version": "3.8.8"
  }
 },
 "nbformat": 4,
 "nbformat_minor": 4
}
