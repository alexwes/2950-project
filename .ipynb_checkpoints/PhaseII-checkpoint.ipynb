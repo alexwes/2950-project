{
 "cells": [
  {
   "cell_type": "markdown",
   "source": "# Do Tweets and Telegram messages affect the price of cryptocurrency?",
   "metadata": {
    "tags": [],
    "is_collapsed": false,
    "cell_id": "00001-9d0e6f31-c51d-4f47-ae01-6c3fd86f2f91",
    "deepnote_cell_type": "text-cell-h1"
   }
  },
  {
   "cell_type": "markdown",
   "source": "#### Research Question\n\n**What factors heavily influence the price of the following cryptocurrencies: Bitcoin, Ethereum, Doge, and ADA?**\n\nIn particular, we want to look at how cryptocurrency prices change in response to traditional financial indicators, as well as how they change in response to social factors like increasing discussion on social media and public sentiment. We also want to see how these factors might influence each other, and whether or not we can use our findings to both explain past movements in cryptocurrency price, as well as potentially predict future movements. ",
   "metadata": {
    "tags": [],
    "cell_id": "00001-170f91d6-d523-436b-b18c-c2c9507c101d",
    "deepnote_cell_type": "markdown"
   }
  },
  {
   "cell_type": "markdown",
   "source": "#### Introduction\n\nCryptocurrencies have been steadily gaining popularity over the past several years, but it was not until this year that they exploded into the mainstream. Cryptocurrencies are, in some ways, digital money, and in others, digital value. They rely on a revolutionary distributed ledger technology known as blockchain. A blockchain is a distributed database in which many nodes (computers) hold a record of all of the data added to it, and are synchronously updated when data is added. Because of its immutability, decentralization and security features, blockchain has the potential to distrup many industries.\n\nBitcoin was introduced in 2009 by Satoshi Nakamoto, an unknown person/group of people, and has since been the face of crypto to the outside world. It has the greatest market capitalization of any crypto asset, at over USD 1.2 trillion, around 50% of the entire crypto market at the time of writing. Since 2009, a plethora of new cryptocurrencies have been created. Many of these projects aim at solving Bitocin's problems, such as Ethereum and Cardano which offer the ability to store smart contracts (code) on the blockchain and create complex, world changing applications. These projects offer real world value to consumers. On the other hand, there are some projects that exist for the sole purpose of being a joke, such as Dogecoin and Shiba Inu coin. These projects provide no real value to society, and were purely created for fun, as memes, yet they have become immensely popular.\n\nCryptocurrencies are incredibly volatile assets that offer investors potentially life changing gains, but also crippling losses, and are common among thrill seeking investors. They could go up 30% one day, and down 40% another. Often times the values of cryptocurrencies change with news, such as Tesla adding bitcoin to its balance sheet. Similarly, public statements from revered celebrities and businessmen can impact crypto prices, e.g. Elon Musk tweeting about DOGE led to an incredible rise in its price. Due to it being an internet native technology, discussion about crypto takes place almost exclusively online on platforms like Reddit, Twitter, and Telegram. The people of the internet have shown their ability to move markets many times, take a look at Gamestop stock for an infamous example. This raises the question: Has the social media been able to affect crypto prices? If so, how often, and what can we learn from this?",
   "metadata": {
    "tags": [],
    "cell_id": "00002-e7736f63-e4e8-483b-af86-285b5381d392",
    "deepnote_cell_type": "markdown"
   }
  },
  {
   "cell_type": "markdown",
   "source": "#### Data Description\n\nOur social sentiment datasets were created using data pulled from <a href=\"https://www.intotheblock.com\">IntoTheBlock</a>, an online platform that utilizes machine learning power to generate insights about crypto-assets. This data is available on their website where they have compiled blockchain analytics for over 500 different types of cryptocurrency. Given that we seek to discern the factors that influence the price of different crypto-assets, we decided to utilize the “Social” data that is available from IntoTheBlock as a result of their machine-learning powered sentiment analyses for both Twitter (an American social networking service) and Telegram (an instant messaging system).\n\nOur \"trading\" datasets, were found on <a href=\"https://www.kaggle.com/odins0n/top-50-cryptocurrency-historical-prices\">Kaggle</a>. Kaggle is an online data science community where users can find and publish various datasets to analyze. The creator of this particular dataset took the data from investing.com, a website that provides news articles, analysis, and data on all sorts of different financial instruments. The full dataset contains data on 50 different coins, however for the purposes of this project we will only look at a handful of them.\n\nWe downloaded CSV files directly from their website regarding both Twitter and Telegram sentiment for each of the four crypto-assets we will be analyzing (Bitcoin, Ethereum, Cardano, and Dogecoin). For both the Twitter and Telegram data for each of the four assets, the observations (rows) consisted of observations for a given day (indexed by date) and the attributes include the price of the asset on a respective day (although this was swapped in the final dataset for the closing price on each given day which was provided by our other dataset), as well as the number of posted Tweets or Telegram messages, posted that were classified as either “Positive”, “Negative”, “Neutral”. These values were generated by IntoTheBlock using a “proprietary classification machine learning algorithm” that infers the connotation of posts that are flagged as discussing the given asset or its ticker. \n\nSimilarly, we downloaded the four relevant trading datasets directly from Kaggle. Each of these datasets also contain observations indexed by date, but other than price, has different attributes from the sentiment dataset. In a given coin’s dataset, each observation contains the daily opening and closing price, high and lowest price reached, trading volume, and percent change in closing prices from the previous day. Investing.com tracks and records financial data in their own database, and offers an API to query it which. This is most likely how the author of the Kaggle dataset collected the data, which he then made available via .csv file.\n\nThis data set was created by IntoTheBlock with the intention of making information regarding cryptocurrency more accessible to investors and individuals involved in the market -- we consolidated data from their website into a unique dataset, in order to suit our needs for the present task and meet our goals. IntoTheBlock funded the creation of this data through revenue generated from client partnerships and subscription services, all of which are available through their website. Some preprocessing was done to make the downloaded data suitable for our analyses which is elaborated upon in the “Data Cleaning” section below. \n\nThe author of the Kaggle dataset lists several questions that inspired him to create this dataset. A few examples are:\n* Which currencies are the most volatile?\n* How does the price fluctuations of currencies correlate with each other?\n* What day of the week is best to buy/sell?\nLuckily none of the trading data was missing any values, however we should note that the original dataset had the “closing price” column simply listed as “price”, which we changed to avoid confusion with the subsequent “opening price” column.\n\n\nBoth the Twiter and Telegram data for all four crypto-assets begin on July 19, 2019, and cover every day up until August 24, 2021. This, therefore, is a non-random sample of all the data available of these metrics. We have, however, concluded that the sample is representative of the larger set given the amount of time it covers and the number of data points that are available to us. \n\nEach trading dataset contains observations going all the way back to the creation of its respective coin. Since they were created at different times, the start dates differ: Bitcoin data extends the furthest, going back to 7/18/2010, Ethereum has data going back 3/10/2016, Dogecoin has data going back to 6/3/2017, and Cardano has data going back to 12/31/2017. However, the last observations for all four coins come one 8/24/2021, which is less recent than the sentiment data . Since each dataset contains the daily price data going back to its respective coin’s existence, it is clearly non-random and representative. Though we can only compare the data to social sentiment for the roughly 2 years spanning from the start of the sentiment datasets, 7/19/2019, to the end of the trading datasets, 8/24/2021, that still provides us with over 700 observations from which to draw from, and since a lot the movement cryptocurrency has seen occurred in that period, it should provide us with more than enough data points to draw accurate conclusions from.\n\nThere are no blatant errors, or redundancies in the present social sentiment dataset, however, the data may be noisy given that observations were extracted utilizing machine learning models that are trained to judge subjective connotations of human-generated messages. We were unable to locate specific information about the models that IntoTheBlock utilizes so we are not completely sure of how accurate the data we are using is and what the ratio of signal to noise is. \n\nSimilarly, there are no blatant errors, or redundancies in the present trading dataset. However, the dataset stops with August's data, so it is missing the most recent price action which could have been useful for more contemporary analysis. We found that the present data is sufficient not only for historical analysis but for predictive analysis too. \n\nLastly, to our understanding, observations were taken from posts scraped from both Twitter and Telegram meaning they are not self-contained and thus rely on these external resources. These resources arguably do not remain constant over time, given that posts can be deleted by their authors or potentially edited at a later date. Additionally, however, there are most likely official archival versions of the complete dataset that was sourced from IntoTheBlock, but this is unavailable to us. Further, we are not aware of any licenses or fees associated with any of the external resources, or use of the dataset that may apply to a future user. \n\nOn the other hand, all the trading data is self-contained. Like any financial asset, its price at a given point in time is constant, and public, so we can trust that the data is accurate. Coming from Kaggle, there are no licenses or fees associated with any of the trading datasets used.\n\nThe raw data from which we derived our unique dataset can be found <a href = https://cornell.box.com/s/2ubh5ma8i5g10q3uxzen1kx26qof4q4g> here.</a>\n\n",
   "metadata": {
    "tags": [],
    "cell_id": "00002-64d4cf98-1faf-4840-bf77-609609b41238",
    "deepnote_cell_type": "markdown"
   }
  },
  {
   "cell_type": "markdown",
   "source": "#### Data Collection\n\nWe collected social network sentiment data from <a href=\"https://www.intotheblock.com\">Into the Block</a>, a platform that provides crypto analytics and quant services.  We also collected trading data, such as price and volume from Kaggle, data which, in turn, was taken from <a href=\"https://www.investing.com/\">investing.com</a>. Both services provided the data in csv format. \n",
   "metadata": {
    "tags": [],
    "cell_id": "00003-566ef6af-50c9-4316-9348-d44cb11364af",
    "deepnote_cell_type": "markdown"
   }
  },
  {
   "cell_type": "markdown",
   "source": "#### Data Cleaning & Exploration\n\nWe began by reading all of our data from csv files into DataFrames. This included reading two csv files containing sentiment analysis data, one for Twitter and the other for Telegram, and one csv with the trading data. ",
   "metadata": {
    "tags": [],
    "cell_id": "00004-3aa2d615-ded8-4239-b1d4-13e02bb21c70",
    "deepnote_cell_type": "markdown"
   }
  },
  {
   "cell_type": "code",
   "metadata": {
    "tags": [],
    "cell_id": "00000-cb45cd4a-7f82-475d-b23b-b1e6770037e9",
    "deepnote_to_be_reexecuted": false,
    "source_hash": "8d7c16ff",
    "execution_start": 1634779541902,
    "execution_millis": 861,
    "deepnote_cell_type": "code"
   },
   "source": "#Importing necessary libraries and utilities\nimport datetime\nimport matplotlib.pyplot as plt\nimport pandas as pd\nimport seaborn as sns\nfrom sklearn.cluster import KMeans\nfrom scipy import stats",
   "execution_count": 1,
   "outputs": []
  },
  {
   "cell_type": "code",
   "metadata": {
    "tags": [],
    "cell_id": "00002-b07af711-fea1-4d01-a35f-7acd207e2ad5",
    "deepnote_to_be_reexecuted": false,
    "source_hash": "99d01ecc",
    "execution_start": 1634787182835,
    "execution_millis": 114,
    "is_code_hidden": false,
    "deepnote_cell_type": "code"
   },
   "source": "#Importing platform sentiment and price data from csv files\nbtc_tel = pd.read_csv(\"./IntoTheBlock/BTC_TelegramSentiment.csv\")\nbtc_twit = pd.read_csv(\"./IntoTheBlock/BTC_TwitterSentiment.csv\")\nbtc_trading = pd.read_csv(\"./TradingData/Bitcoin_TradingData.csv\")\n\neth_tel = pd.read_csv(\"./IntoTheBlock/ETH_TelegramSentiment.csv\")\neth_twit = pd.read_csv(\"./IntoTheBlock/ETH_TwitterSentiment.csv\")\neth_trading = pd.read_csv(\"./TradingData/Ethereum_TradingData.csv\")\n\ndoge_tel= pd.read_csv(\"./IntoTheBlock/Doge_TelegramSentiment.csv\")\ndoge_twit= pd.read_csv(\"./IntoTheBlock/DOGE_TwitterSentiment.csv\")\ndoge_trading = pd.read_csv(\"./TradingData/Dogecoin_TradingData.csv\")\n\nada_tel = pd.read_csv(\"./IntoTheBlock/ADA_TelegramSentiment.csv\")\nada_twit = pd.read_csv(\"./IntoTheBlock/ADA_TwitterSentiment.csv\")\nada_trading = pd.read_csv(\"./TradingData/Cardano_TradingData.csv\")\n\nmana_tel = pd.read_csv(\"./IntoTheBlock/MANA_TelegramSentiment.csv\")\nmana_twit = pd.read_csv(\"./IntoTheBlock/MANA_TwitterSentiment.csv\")\n\nada_trading.head()",
   "execution_count": 49,
   "outputs": [
    {
     "output_type": "execute_result",
     "execution_count": 49,
     "data": {
      "application/vnd.deepnote.dataframe.v2+json": {
       "row_count": 5,
       "column_count": 8,
       "columns": [
        {
         "name": "SNo",
         "dtype": "int64",
         "stats": {
          "unique_count": 5,
          "nan_count": 0,
          "min": "1",
          "max": "5",
          "histogram": [
           {
            "bin_start": 1,
            "bin_end": 1.4,
            "count": 1
           },
           {
            "bin_start": 1.4,
            "bin_end": 1.8,
            "count": 0
           },
           {
            "bin_start": 1.8,
            "bin_end": 2.2,
            "count": 1
           },
           {
            "bin_start": 2.2,
            "bin_end": 2.6,
            "count": 0
           },
           {
            "bin_start": 2.6,
            "bin_end": 3,
            "count": 0
           },
           {
            "bin_start": 3,
            "bin_end": 3.4000000000000004,
            "count": 1
           },
           {
            "bin_start": 3.4000000000000004,
            "bin_end": 3.8000000000000003,
            "count": 0
           },
           {
            "bin_start": 3.8000000000000003,
            "bin_end": 4.2,
            "count": 1
           },
           {
            "bin_start": 4.2,
            "bin_end": 4.6,
            "count": 0
           },
           {
            "bin_start": 4.6,
            "bin_end": 5,
            "count": 1
           }
          ]
         }
        },
        {
         "name": "Date",
         "dtype": "object",
         "stats": {
          "unique_count": 5,
          "nan_count": 0,
          "categories": [
           {
            "name": "2017-12-31",
            "count": 1
           },
           {
            "name": "2018-01-01",
            "count": 1
           },
           {
            "name": "3 others",
            "count": 3
           }
          ]
         }
        },
        {
         "name": "Price",
         "dtype": "float64",
         "stats": {
          "unique_count": 5,
          "nan_count": 0,
          "min": "0.7022",
          "max": "1.1043",
          "histogram": [
           {
            "bin_start": 0.7022,
            "bin_end": 0.74241,
            "count": 2
           },
           {
            "bin_start": 0.74241,
            "bin_end": 0.7826200000000001,
            "count": 1
           },
           {
            "bin_start": 0.7826200000000001,
            "bin_end": 0.8228300000000001,
            "count": 0
           },
           {
            "bin_start": 0.8228300000000001,
            "bin_end": 0.86304,
            "count": 0
           },
           {
            "bin_start": 0.86304,
            "bin_end": 0.9032500000000001,
            "count": 0
           },
           {
            "bin_start": 0.9032500000000001,
            "bin_end": 0.9434600000000001,
            "count": 0
           },
           {
            "bin_start": 0.9434600000000001,
            "bin_end": 0.98367,
            "count": 0
           },
           {
            "bin_start": 0.98367,
            "bin_end": 1.0238800000000001,
            "count": 0
           },
           {
            "bin_start": 1.0238800000000001,
            "bin_end": 1.0640900000000002,
            "count": 0
           },
           {
            "bin_start": 1.0640900000000002,
            "bin_end": 1.1043,
            "count": 2
           }
          ]
         }
        },
        {
         "name": "Open",
         "dtype": "float64",
         "stats": {
          "unique_count": 5,
          "nan_count": 0,
          "min": "0.59",
          "max": "1.1",
          "histogram": [
           {
            "bin_start": 0.59,
            "bin_end": 0.641,
            "count": 1
           },
           {
            "bin_start": 0.641,
            "bin_end": 0.692,
            "count": 0
           },
           {
            "bin_start": 0.692,
            "bin_end": 0.743,
            "count": 2
           },
           {
            "bin_start": 0.743,
            "bin_end": 0.794,
            "count": 0
           },
           {
            "bin_start": 0.794,
            "bin_end": 0.845,
            "count": 0
           },
           {
            "bin_start": 0.845,
            "bin_end": 0.896,
            "count": 0
           },
           {
            "bin_start": 0.896,
            "bin_end": 0.9470000000000001,
            "count": 0
           },
           {
            "bin_start": 0.9470000000000001,
            "bin_end": 0.998,
            "count": 1
           },
           {
            "bin_start": 0.998,
            "bin_end": 1.049,
            "count": 0
           },
           {
            "bin_start": 1.049,
            "bin_end": 1.1,
            "count": 1
           }
          ]
         }
        },
        {
         "name": "High",
         "dtype": "float64",
         "stats": {
          "unique_count": 5,
          "nan_count": 0,
          "min": "0.715",
          "max": "1.35",
          "histogram": [
           {
            "bin_start": 0.715,
            "bin_end": 0.7785,
            "count": 2
           },
           {
            "bin_start": 0.7785,
            "bin_end": 0.842,
            "count": 1
           },
           {
            "bin_start": 0.842,
            "bin_end": 0.9055,
            "count": 0
           },
           {
            "bin_start": 0.9055,
            "bin_end": 0.9690000000000001,
            "count": 0
           },
           {
            "bin_start": 0.9690000000000001,
            "bin_end": 1.0325,
            "count": 0
           },
           {
            "bin_start": 1.0325,
            "bin_end": 1.096,
            "count": 1
           },
           {
            "bin_start": 1.096,
            "bin_end": 1.1595,
            "count": 0
           },
           {
            "bin_start": 1.1595,
            "bin_end": 1.223,
            "count": 0
           },
           {
            "bin_start": 1.223,
            "bin_end": 1.2865000000000002,
            "count": 0
           },
           {
            "bin_start": 1.2865000000000002,
            "bin_end": 1.35,
            "count": 1
           }
          ]
         }
        },
        {
         "name": "Low",
         "dtype": "float64",
         "stats": {
          "unique_count": 5,
          "nan_count": 0,
          "min": "0.59",
          "max": "1.05",
          "histogram": [
           {
            "bin_start": 0.59,
            "bin_end": 0.636,
            "count": 2
           },
           {
            "bin_start": 0.636,
            "bin_end": 0.6819999999999999,
            "count": 1
           },
           {
            "bin_start": 0.6819999999999999,
            "bin_end": 0.728,
            "count": 0
           },
           {
            "bin_start": 0.728,
            "bin_end": 0.774,
            "count": 0
           },
           {
            "bin_start": 0.774,
            "bin_end": 0.8200000000000001,
            "count": 0
           },
           {
            "bin_start": 0.8200000000000001,
            "bin_end": 0.866,
            "count": 0
           },
           {
            "bin_start": 0.866,
            "bin_end": 0.912,
            "count": 1
           },
           {
            "bin_start": 0.912,
            "bin_end": 0.958,
            "count": 0
           },
           {
            "bin_start": 0.958,
            "bin_end": 1.004,
            "count": 0
           },
           {
            "bin_start": 1.004,
            "bin_end": 1.05,
            "count": 1
           }
          ]
         }
        },
        {
         "name": "Vol.",
         "dtype": "float64",
         "stats": {
          "unique_count": 5,
          "nan_count": 0,
          "min": "10970000.0",
          "max": "20230000.0",
          "histogram": [
           {
            "bin_start": 10970000,
            "bin_end": 11896000,
            "count": 1
           },
           {
            "bin_start": 11896000,
            "bin_end": 12822000,
            "count": 0
           },
           {
            "bin_start": 12822000,
            "bin_end": 13748000,
            "count": 0
           },
           {
            "bin_start": 13748000,
            "bin_end": 14674000,
            "count": 0
           },
           {
            "bin_start": 14674000,
            "bin_end": 15600000,
            "count": 0
           },
           {
            "bin_start": 15600000,
            "bin_end": 16526000,
            "count": 0
           },
           {
            "bin_start": 16526000,
            "bin_end": 17452000,
            "count": 1
           },
           {
            "bin_start": 17452000,
            "bin_end": 18378000,
            "count": 1
           },
           {
            "bin_start": 18378000,
            "bin_end": 19304000,
            "count": 0
           },
           {
            "bin_start": 19304000,
            "bin_end": 20230000,
            "count": 2
           }
          ]
         }
        },
        {
         "name": "Change %",
         "dtype": "float64",
         "stats": {
          "unique_count": 5,
          "nan_count": 0,
          "min": "-1.1",
          "max": "41.73",
          "histogram": [
           {
            "bin_start": -1.1,
            "bin_end": 3.1829999999999994,
            "count": 2
           },
           {
            "bin_start": 3.1829999999999994,
            "bin_end": 7.465999999999999,
            "count": 0
           },
           {
            "bin_start": 7.465999999999999,
            "bin_end": 11.748999999999999,
            "count": 1
           },
           {
            "bin_start": 11.748999999999999,
            "bin_end": 16.031999999999996,
            "count": 0
           },
           {
            "bin_start": 16.031999999999996,
            "bin_end": 20.314999999999998,
            "count": 0
           },
           {
            "bin_start": 20.314999999999998,
            "bin_end": 24.597999999999995,
            "count": 1
           },
           {
            "bin_start": 24.597999999999995,
            "bin_end": 28.880999999999993,
            "count": 0
           },
           {
            "bin_start": 28.880999999999993,
            "bin_end": 33.163999999999994,
            "count": 0
           },
           {
            "bin_start": 33.163999999999994,
            "bin_end": 37.446999999999996,
            "count": 0
           },
           {
            "bin_start": 37.446999999999996,
            "bin_end": 41.73,
            "count": 1
           }
          ]
         }
        },
        {
         "name": "_deepnote_index_column",
         "dtype": "int64"
        }
       ],
       "rows_top": [
        {
         "SNo": 1,
         "Date": "2017-12-31",
         "Price": 0.71,
         "Open": 0.59,
         "High": 0.74,
         "Low": 0.59,
         "Vol.": 17220000,
         "Change %": 20.34,
         "_deepnote_index_column": 0
        },
        {
         "SNo": 2,
         "Date": "2018-01-01",
         "Price": 0.7022,
         "Open": 0.71,
         "High": 0.715,
         "Low": 0.632,
         "Vol.": 17950000,
         "Change %": -1.1,
         "_deepnote_index_column": 1
        },
        {
         "SNo": 3,
         "Date": "2018-01-02",
         "Price": 0.762,
         "Open": 0.7022,
         "High": 0.8,
         "Low": 0.675,
         "Vol.": 10970000,
         "Change %": 8.52,
         "_deepnote_index_column": 2
        },
        {
         "SNo": 4,
         "Date": "2018-01-03",
         "Price": 1.08,
         "Open": 0.97818,
         "High": 1.09,
         "Low": 0.88821,
         "Vol.": 20230000,
         "Change %": 41.73,
         "_deepnote_index_column": 3
        },
        {
         "SNo": 5,
         "Date": "2018-01-04",
         "Price": 1.1043,
         "Open": 1.1,
         "High": 1.35,
         "Low": 1.05,
         "Vol.": 19600000,
         "Change %": 2.25,
         "_deepnote_index_column": 4
        }
       ],
       "rows_bottom": null
      },
      "text/plain": "   SNo        Date   Price     Open   High      Low        Vol.  Change %\n0    1  2017-12-31  0.7100  0.59000  0.740  0.59000  17220000.0     20.34\n1    2  2018-01-01  0.7022  0.71000  0.715  0.63200  17950000.0     -1.10\n2    3  2018-01-02  0.7620  0.70220  0.800  0.67500  10970000.0      8.52\n3    4  2018-01-03  1.0800  0.97818  1.090  0.88821  20230000.0     41.73\n4    5  2018-01-04  1.1043  1.10000  1.350  1.05000  19600000.0      2.25",
      "text/html": "<div>\n<style scoped>\n    .dataframe tbody tr th:only-of-type {\n        vertical-align: middle;\n    }\n\n    .dataframe tbody tr th {\n        vertical-align: top;\n    }\n\n    .dataframe thead th {\n        text-align: right;\n    }\n</style>\n<table border=\"1\" class=\"dataframe\">\n  <thead>\n    <tr style=\"text-align: right;\">\n      <th></th>\n      <th>SNo</th>\n      <th>Date</th>\n      <th>Price</th>\n      <th>Open</th>\n      <th>High</th>\n      <th>Low</th>\n      <th>Vol.</th>\n      <th>Change %</th>\n    </tr>\n  </thead>\n  <tbody>\n    <tr>\n      <th>0</th>\n      <td>1</td>\n      <td>2017-12-31</td>\n      <td>0.7100</td>\n      <td>0.59000</td>\n      <td>0.740</td>\n      <td>0.59000</td>\n      <td>17220000.0</td>\n      <td>20.34</td>\n    </tr>\n    <tr>\n      <th>1</th>\n      <td>2</td>\n      <td>2018-01-01</td>\n      <td>0.7022</td>\n      <td>0.71000</td>\n      <td>0.715</td>\n      <td>0.63200</td>\n      <td>17950000.0</td>\n      <td>-1.10</td>\n    </tr>\n    <tr>\n      <th>2</th>\n      <td>3</td>\n      <td>2018-01-02</td>\n      <td>0.7620</td>\n      <td>0.70220</td>\n      <td>0.800</td>\n      <td>0.67500</td>\n      <td>10970000.0</td>\n      <td>8.52</td>\n    </tr>\n    <tr>\n      <th>3</th>\n      <td>4</td>\n      <td>2018-01-03</td>\n      <td>1.0800</td>\n      <td>0.97818</td>\n      <td>1.090</td>\n      <td>0.88821</td>\n      <td>20230000.0</td>\n      <td>41.73</td>\n    </tr>\n    <tr>\n      <th>4</th>\n      <td>5</td>\n      <td>2018-01-04</td>\n      <td>1.1043</td>\n      <td>1.10000</td>\n      <td>1.350</td>\n      <td>1.05000</td>\n      <td>19600000.0</td>\n      <td>2.25</td>\n    </tr>\n  </tbody>\n</table>\n</div>"
     },
     "metadata": {}
    }
   ]
  },
  {
   "cell_type": "markdown",
   "source": "Since the names of the columns in each of the sentiment DataFrames were the same accross DataFrames, we gave each column a new, more descriptive name. ",
   "metadata": {
    "tags": [],
    "cell_id": "00006-e48fa134-be08-4b43-8afa-93b8f6fe42ea",
    "deepnote_cell_type": "markdown"
   }
  },
  {
   "cell_type": "code",
   "metadata": {
    "tags": [],
    "cell_id": "00006-0b7a2721-78d4-4841-9ac6-0168006bb226",
    "deepnote_to_be_reexecuted": false,
    "source_hash": "e328fafa",
    "execution_start": 1634779542856,
    "execution_millis": 9,
    "deepnote_cell_type": "code"
   },
   "source": "\n#renaming column names\nbtc_tel.rename(columns={\"Positive\":\"btc_tel_pos\", \"Neutral\":\"btc_tel_neu\", \"Negative\":\"btc_tel_neg\",\n                        \"DateTime\":\"date\", \"Price\":\"btc_price\"}, inplace=True)\nbtc_twit.rename(columns={\"Positive\":\"btc_twit_pos\", \"Neutral\":\"btc_twit_neu\", \"Negative\":\"btc_twit_neg\",\n                        \"DateTime\":\"date\", \"Price\":\"btc_price\"}, inplace=True)\nbtc_trading.rename(columns={\"Date\":\"date\", \"Price\":\"btc_close\", \"Open\":\"btc_open\", \"High\":\"btc_high\", \n                        \"Low\":\"btc_low\", \"Vol.\":\"btc_vol\", \"Change %\": \"btc_pct_change\"}, inplace=True)\n\neth_tel.rename(columns = {\"Positive\":\"eth_tel_pos\", \"Neutral\":\"eth_tel_neu\", \"Negative\":\"eth_tel_neg\", \n                        \"DateTime\":\"date\", \"Price\":\"eth_price\"}, inplace=True)\neth_twit.rename(columns = {\"Positive\":\"eth_twit_pos\", \"Neutral\":\"eth_twit_neu\", \"Negative\":\"eth_twit_neg\", \n                        \"DateTime\":\"date\", \"Price\":\"eth_price\"}, inplace=True)\neth_trading.rename(columns={\"Date\":\"date\", \"Price\":\"eth_close\", \"Open\":\"eth_open\", \"High\":\"eth_high\", \n                        \"Low\":\"eth_low\", \"Vol.\":\"eth_vol\", \"Change %\": \"eth_pct_change\"}, inplace=True)\n\ndoge_tel.rename(columns={\"Positive\":\"doge_tel_pos\", \"Neutral\":\"doge_tel_neu\", \"Negative\":\"doge_tel_neg\",\n                        \"DateTime\":\"date\", \"Price\":\"doge_price\"}, inplace=True)\ndoge_twit.rename(columns={\"Positive\":\"doge_twit_pos\", \"Neutral\":\"doge_twit_neu\", \"Negative\":\"doge_twit_neg\",\n                        \"DateTime\":\"date\", \"Price\":\"doge_price\"}, inplace=True)\ndoge_trading.rename(columns={\"Date\":\"date\", \"Price\":\"doge_close\", \"Open\":\"doge_open\", \"High\":\"doge_high\", \n                        \"Low\":\"doge_low\", \"Vol.\":\"doge_vol\", \"Change %\": \"doge_pct_change\"}, inplace=True)\n\nada_tel.rename(columns = {\"Positive\":\"ada_tel_pos\", \"Neutral\":\"ada_tel_neu\", \"Negative\":\"ada_tel_neg\", \n                        \"DateTime\":\"date\", \"Price\":\"ada_price\"}, inplace=True)\nada_twit.rename(columns = {\"Positive\":\"ada_twit_pos\", \"Neutral\":\"ada_twit_neu\", \"Negative\":\"ada_twit_neg\", \n                        \"DateTime\":\"date\", \"Price\":\"ada_price\"}, inplace=True)\nada_trading.rename(columns={\"Date\":\"date\", \"Price\":\"ada_close\", \"Open\":\"ada_open\", \"High\":\"ada_high\", \n                        \"Low\":\"ada_low\", \"Vol.\":\"ada_vol\", \"Change %\": \"ada_pct_change\"}, inplace=True)\n            \nmana_tel.rename(columns = {\"Positive\":\"mana_tel_pos\", \"Neutral\":\"mana_tel_neu\", \"Negative\":\"mana_tel_neg\", \n                        \"DateTime\":\"date\", \"Price\":\"mana_price\"}, inplace=True)\nmana_twit.rename(columns = {\"Positive\":\"mana_twit_pos\", \"Neutral\":\"mana_twit_neu\", \"Negative\":\"mana_twit_neg\", \n                        \"DateTime\":\"date\", \"Price\":\"mana_price\"}, inplace=True)",
   "execution_count": 3,
   "outputs": []
  },
  {
   "cell_type": "markdown",
   "source": "The sentiment and trading DataFrames each contained a column named 'Price' which held the exact same data, so we dropped those columns from two of the DataFrames to make the data more easy to look at. Furthermore, the trading data contained a column named \"SNo\", likely a serial number for indexing the data, that we do not require for our analysis, so we dropped that column too. ",
   "metadata": {
    "tags": [],
    "cell_id": "00007-cddb7302-9e16-4852-a635-7160e0020d78",
    "deepnote_cell_type": "markdown"
   }
  },
  {
   "cell_type": "code",
   "metadata": {
    "tags": [],
    "cell_id": "00007-48cea14c-9f5d-427a-a8b8-0cec866227bc",
    "deepnote_to_be_reexecuted": false,
    "source_hash": "ed72f074",
    "execution_start": 1634779542891,
    "execution_millis": 4,
    "deepnote_cell_type": "code"
   },
   "source": "#drop duplicate or unnecessary columns\nbtc_tel.drop(\"btc_price\", axis=1, inplace=True)\nbtc_twit.drop(\"btc_price\", axis=1, inplace=True)\nbtc_trading.drop(\"SNo\", axis=1, inplace=True)\n\neth_tel.drop(\"eth_price\", axis=1, inplace=True)\neth_twit.drop(\"eth_price\", axis=1, inplace=True)\neth_trading.drop(\"SNo\", axis=1, inplace=True)\n\ndoge_tel.drop(\"doge_price\", axis=1, inplace=True)\ndoge_twit.drop(\"doge_price\", axis=1, inplace=True)\ndoge_trading.drop(\"SNo\", axis=1, inplace=True)\n\nada_tel.drop(\"ada_price\", axis=1, inplace=True)\nada_twit.drop(\"ada_price\", axis=1, inplace=True)\nada_trading.drop(\"SNo\", axis=1, inplace=True)",
   "execution_count": 4,
   "outputs": []
  },
  {
   "cell_type": "markdown",
   "source": "After collecting our sentiment data into separate DataFrames, we merged them into a single DataFrame containing all the social sentiment data for the respective crypto. Then, we normalized the 'date' column of the sentiment dataframe, and that of the trading dataframe into datetime date objects so that we could merge them on that column. Finally we merged both the trading and social sentiment DataFrames for each cryptocurrency into a single dataframe (per cryptocurrency) to make it easier for analysis. ",
   "metadata": {
    "tags": [],
    "cell_id": "00006-fe802efd-7211-4382-a0aa-f25df486f9ca",
    "deepnote_cell_type": "markdown"
   }
  },
  {
   "cell_type": "code",
   "metadata": {
    "tags": [],
    "cell_id": "00003-1433d94c-20a1-493e-a75c-60e53f072f4f",
    "deepnote_to_be_reexecuted": false,
    "source_hash": "69ca6bd6",
    "execution_start": 1634779706595,
    "execution_millis": 49,
    "deepnote_cell_type": "code"
   },
   "source": "#merging social sentiment and trading dataframes\nbtc_social = pd.merge(btc_tel, btc_twit, on=\"date\")\nbtc_social[\"date\"] = pd.to_datetime(btc_social[\"date\"]).dt.date\nbtc_trading[\"date\"] = pd.to_datetime(btc_trading[\"date\"]).dt.date\nbtc_all = btc_social.merge(btc_trading, on= \"date\")\n\n\neth_social=pd.merge(eth_tel, eth_twit, on=\"date\")\neth_social[\"date\"] = pd.to_datetime(eth_social[\"date\"]).dt.date\neth_trading[\"date\"] = pd.to_datetime(eth_trading[\"date\"]).dt.date\neth_all = eth_social.merge(eth_trading, on= \"date\")\n\n\ndoge_social=pd.merge(doge_tel, doge_twit, on=\"date\")\ndoge_social[\"date\"] = pd.to_datetime(doge_social[\"date\"]).dt.date\ndoge_trading[\"date\"] = pd.to_datetime(doge_trading[\"date\"]).dt.date\ndoge_all = doge_social.merge(doge_trading, on= \"date\")\n\nada_social=pd.merge(ada_tel, ada_twit, on=\"date\")\nada_social[\"date\"] = pd.to_datetime(ada_social[\"date\"]).dt.date\nada_trading[\"date\"] = pd.to_datetime(ada_trading[\"date\"]).dt.date\nada_all = ada_social.merge(ada_trading, on= \"date\")\n\nmana_social=pd.merge(mana_tel, mana_twit, on=\"date\")\nmana_social[\"date\"] = pd.to_datetime(mana_social[\"date\"]).dt.date\n\nprint(f\"Number of null values in mana_social DataFrame: {mana_social.isnull().sum().sum()}\")",
   "execution_count": 32,
   "outputs": [
    {
     "name": "stdout",
     "text": "Number of null values in mana_social DataFrame: 558\n",
     "output_type": "stream"
    }
   ]
  },
  {
   "cell_type": "markdown",
   "source": "**Note:** At this point we realized that the mana_social DataFrame was missing a lot of data, so much so that we could not reasonably work with it. Therefore, we decided not to proceed with analyzing MANA in our exploration. ",
   "metadata": {
    "tags": [],
    "cell_id": "00013-a1b61be9-7281-4917-863c-045c530d6b0f",
    "deepnote_cell_type": "markdown"
   }
  },
  {
   "cell_type": "markdown",
   "source": "Finally, we combined all of the individual crypto DataFrames into one all encompassing DataFrame.",
   "metadata": {
    "tags": [],
    "cell_id": "00013-61837b76-ef8d-4b83-bb75-7db9cda412f8",
    "deepnote_cell_type": "markdown"
   }
  },
  {
   "cell_type": "code",
   "metadata": {
    "tags": [],
    "cell_id": "00010-171c5c28-1fd9-4a78-9438-27d8e52eb194",
    "deepnote_to_be_reexecuted": false,
    "source_hash": "c4312cb",
    "execution_start": 1634779543031,
    "execution_millis": 189,
    "deepnote_cell_type": "code"
   },
   "source": "#merging all 4 social sentiment dataframes into one\nsocial_sentiment1 = pd.merge(btc_social, eth_social, on=\"date\")\nsocial_sentiment2 = pd.merge(doge_social, ada_social, on=\"date\")\nsocial_sentiment = pd.merge(social_sentiment1, social_sentiment2, on=\"date\")\n\n#merging all 4 trading data dataframes into one\ntrading1 = btc_trading.merge(eth_trading, on=\"date\")\ntrading2 = doge_trading.merge(ada_trading, on=\"date\")\ntrading = trading1.merge(trading2, on = \"date\")\n\nsentiment_and_trading = btc_all.merge(eth_all, on=\"date\").merge(doge_all, on=\"date\").merge(ada_all, on=\"date\")\n\ndisplay(sentiment_and_trading.head())",
   "execution_count": 6,
   "outputs": [
    {
     "output_type": "execute_result",
     "execution_count": 6,
     "data": {
      "application/vnd.deepnote.dataframe.v2+json": {
       "row_count": 5,
       "column_count": 49,
       "columns": [
        {
         "name": "date",
         "dtype": "object",
         "stats": {
          "unique_count": 5,
          "nan_count": 0,
          "categories": [
           {
            "name": "2019-07-19",
            "count": 1
           },
           {
            "name": "2019-07-20",
            "count": 1
           },
           {
            "name": "3 others",
            "count": 3
           }
          ]
         }
        },
        {
         "name": "btc_tel_pos",
         "dtype": "float64",
         "stats": {
          "unique_count": 4,
          "nan_count": 0,
          "min": "0.0",
          "max": "4.0",
          "histogram": [
           {
            "bin_start": 0,
            "bin_end": 0.4,
            "count": 1
           },
           {
            "bin_start": 0.4,
            "bin_end": 0.8,
            "count": 0
           },
           {
            "bin_start": 0.8,
            "bin_end": 1.2000000000000002,
            "count": 2
           },
           {
            "bin_start": 1.2000000000000002,
            "bin_end": 1.6,
            "count": 0
           },
           {
            "bin_start": 1.6,
            "bin_end": 2,
            "count": 0
           },
           {
            "bin_start": 2,
            "bin_end": 2.4000000000000004,
            "count": 1
           },
           {
            "bin_start": 2.4000000000000004,
            "bin_end": 2.8000000000000003,
            "count": 0
           },
           {
            "bin_start": 2.8000000000000003,
            "bin_end": 3.2,
            "count": 0
           },
           {
            "bin_start": 3.2,
            "bin_end": 3.6,
            "count": 0
           },
           {
            "bin_start": 3.6,
            "bin_end": 4,
            "count": 1
           }
          ]
         }
        },
        {
         "name": "btc_tel_neu",
         "dtype": "float64",
         "stats": {
          "unique_count": 3,
          "nan_count": 0,
          "min": "13.0",
          "max": "26.0",
          "histogram": [
           {
            "bin_start": 13,
            "bin_end": 14.3,
            "count": 1
           },
           {
            "bin_start": 14.3,
            "bin_end": 15.6,
            "count": 0
           },
           {
            "bin_start": 15.6,
            "bin_end": 16.9,
            "count": 0
           },
           {
            "bin_start": 16.9,
            "bin_end": 18.2,
            "count": 2
           },
           {
            "bin_start": 18.2,
            "bin_end": 19.5,
            "count": 0
           },
           {
            "bin_start": 19.5,
            "bin_end": 20.8,
            "count": 0
           },
           {
            "bin_start": 20.8,
            "bin_end": 22.1,
            "count": 0
           },
           {
            "bin_start": 22.1,
            "bin_end": 23.4,
            "count": 0
           },
           {
            "bin_start": 23.4,
            "bin_end": 24.700000000000003,
            "count": 0
           },
           {
            "bin_start": 24.700000000000003,
            "bin_end": 26,
            "count": 2
           }
          ]
         }
        },
        {
         "name": "btc_tel_neg",
         "dtype": "float64",
         "stats": {
          "unique_count": 4,
          "nan_count": 0,
          "min": "0.0",
          "max": "4.0",
          "histogram": [
           {
            "bin_start": 0,
            "bin_end": 0.4,
            "count": 1
           },
           {
            "bin_start": 0.4,
            "bin_end": 0.8,
            "count": 0
           },
           {
            "bin_start": 0.8,
            "bin_end": 1.2000000000000002,
            "count": 1
           },
           {
            "bin_start": 1.2000000000000002,
            "bin_end": 1.6,
            "count": 0
           },
           {
            "bin_start": 1.6,
            "bin_end": 2,
            "count": 0
           },
           {
            "bin_start": 2,
            "bin_end": 2.4000000000000004,
            "count": 2
           },
           {
            "bin_start": 2.4000000000000004,
            "bin_end": 2.8000000000000003,
            "count": 0
           },
           {
            "bin_start": 2.8000000000000003,
            "bin_end": 3.2,
            "count": 0
           },
           {
            "bin_start": 3.2,
            "bin_end": 3.6,
            "count": 0
           },
           {
            "bin_start": 3.6,
            "bin_end": 4,
            "count": 1
           }
          ]
         }
        },
        {
         "name": "btc_twit_pos",
         "dtype": "float64",
         "stats": {
          "unique_count": 5,
          "nan_count": 0,
          "min": "908.0",
          "max": "1706.0",
          "histogram": [
           {
            "bin_start": 908,
            "bin_end": 987.8,
            "count": 1
           },
           {
            "bin_start": 987.8,
            "bin_end": 1067.6,
            "count": 0
           },
           {
            "bin_start": 1067.6,
            "bin_end": 1147.4,
            "count": 0
           },
           {
            "bin_start": 1147.4,
            "bin_end": 1227.2,
            "count": 0
           },
           {
            "bin_start": 1227.2,
            "bin_end": 1307,
            "count": 0
           },
           {
            "bin_start": 1307,
            "bin_end": 1386.8,
            "count": 0
           },
           {
            "bin_start": 1386.8,
            "bin_end": 1466.6,
            "count": 1
           },
           {
            "bin_start": 1466.6,
            "bin_end": 1546.4,
            "count": 0
           },
           {
            "bin_start": 1546.4,
            "bin_end": 1626.1999999999998,
            "count": 2
           },
           {
            "bin_start": 1626.1999999999998,
            "bin_end": 1706,
            "count": 1
           }
          ]
         }
        },
        {
         "name": "btc_twit_neu",
         "dtype": "float64",
         "stats": {
          "unique_count": 5,
          "nan_count": 0,
          "min": "6289.0",
          "max": "10801.0",
          "histogram": [
           {
            "bin_start": 6289,
            "bin_end": 6740.2,
            "count": 1
           },
           {
            "bin_start": 6740.2,
            "bin_end": 7191.4,
            "count": 0
           },
           {
            "bin_start": 7191.4,
            "bin_end": 7642.6,
            "count": 0
           },
           {
            "bin_start": 7642.6,
            "bin_end": 8093.8,
            "count": 0
           },
           {
            "bin_start": 8093.8,
            "bin_end": 8545,
            "count": 0
           },
           {
            "bin_start": 8545,
            "bin_end": 8996.2,
            "count": 0
           },
           {
            "bin_start": 8996.2,
            "bin_end": 9447.4,
            "count": 0
           },
           {
            "bin_start": 9447.4,
            "bin_end": 9898.6,
            "count": 1
           },
           {
            "bin_start": 9898.6,
            "bin_end": 10349.8,
            "count": 1
           },
           {
            "bin_start": 10349.8,
            "bin_end": 10801,
            "count": 2
           }
          ]
         }
        },
        {
         "name": "btc_twit_neg",
         "dtype": "float64",
         "stats": {
          "unique_count": 5,
          "nan_count": 0,
          "min": "297.0",
          "max": "473.0",
          "histogram": [
           {
            "bin_start": 297,
            "bin_end": 314.6,
            "count": 1
           },
           {
            "bin_start": 314.6,
            "bin_end": 332.2,
            "count": 0
           },
           {
            "bin_start": 332.2,
            "bin_end": 349.8,
            "count": 0
           },
           {
            "bin_start": 349.8,
            "bin_end": 367.4,
            "count": 1
           },
           {
            "bin_start": 367.4,
            "bin_end": 385,
            "count": 0
           },
           {
            "bin_start": 385,
            "bin_end": 402.6,
            "count": 0
           },
           {
            "bin_start": 402.6,
            "bin_end": 420.20000000000005,
            "count": 0
           },
           {
            "bin_start": 420.20000000000005,
            "bin_end": 437.8,
            "count": 1
           },
           {
            "bin_start": 437.8,
            "bin_end": 455.4,
            "count": 1
           },
           {
            "bin_start": 455.4,
            "bin_end": 473,
            "count": 1
           }
          ]
         }
        },
        {
         "name": "btc_close",
         "dtype": "float64",
         "stats": {
          "unique_count": 5,
          "nan_count": 0,
          "min": "9888.7",
          "max": "10826.7",
          "histogram": [
           {
            "bin_start": 9888.7,
            "bin_end": 9982.5,
            "count": 1
           },
           {
            "bin_start": 9982.5,
            "bin_end": 10076.300000000001,
            "count": 0
           },
           {
            "bin_start": 10076.300000000001,
            "bin_end": 10170.1,
            "count": 0
           },
           {
            "bin_start": 10170.1,
            "bin_end": 10263.900000000001,
            "count": 0
           },
           {
            "bin_start": 10263.900000000001,
            "bin_end": 10357.7,
            "count": 0
           },
           {
            "bin_start": 10357.7,
            "bin_end": 10451.5,
            "count": 1
           },
           {
            "bin_start": 10451.5,
            "bin_end": 10545.300000000001,
            "count": 0
           },
           {
            "bin_start": 10545.300000000001,
            "bin_end": 10639.1,
            "count": 1
           },
           {
            "bin_start": 10639.1,
            "bin_end": 10732.900000000001,
            "count": 1
           },
           {
            "bin_start": 10732.900000000001,
            "bin_end": 10826.7,
            "count": 1
           }
          ]
         }
        },
        {
         "name": "btc_open",
         "dtype": "float64",
         "stats": {
          "unique_count": 5,
          "nan_count": 0,
          "min": "10412.8",
          "max": "10827.0",
          "histogram": [
           {
            "bin_start": 10412.8,
            "bin_end": 10454.22,
            "count": 1
           },
           {
            "bin_start": 10454.22,
            "bin_end": 10495.64,
            "count": 0
           },
           {
            "bin_start": 10495.64,
            "bin_end": 10537.06,
            "count": 0
           },
           {
            "bin_start": 10537.06,
            "bin_end": 10578.48,
            "count": 1
           },
           {
            "bin_start": 10578.48,
            "bin_end": 10619.9,
            "count": 0
           },
           {
            "bin_start": 10619.9,
            "bin_end": 10661.32,
            "count": 1
           },
           {
            "bin_start": 10661.32,
            "bin_end": 10702.74,
            "count": 0
           },
           {
            "bin_start": 10702.74,
            "bin_end": 10744.16,
            "count": 1
           },
           {
            "bin_start": 10744.16,
            "bin_end": 10785.58,
            "count": 0
           },
           {
            "bin_start": 10785.58,
            "bin_end": 10827,
            "count": 1
           }
          ]
         }
        },
        {
         "name": "btc_high",
         "dtype": "float64",
         "stats": {
          "unique_count": 5,
          "nan_count": 0,
          "min": "10414.7",
          "max": "11155.6",
          "histogram": [
           {
            "bin_start": 10414.7,
            "bin_end": 10488.79,
            "count": 1
           },
           {
            "bin_start": 10488.79,
            "bin_end": 10562.880000000001,
            "count": 0
           },
           {
            "bin_start": 10562.880000000001,
            "bin_end": 10636.970000000001,
            "count": 0
           },
           {
            "bin_start": 10636.970000000001,
            "bin_end": 10711.060000000001,
            "count": 0
           },
           {
            "bin_start": 10711.060000000001,
            "bin_end": 10785.150000000001,
            "count": 1
           },
           {
            "bin_start": 10785.150000000001,
            "bin_end": 10859.24,
            "count": 1
           },
           {
            "bin_start": 10859.24,
            "bin_end": 10933.33,
            "count": 1
           },
           {
            "bin_start": 10933.33,
            "bin_end": 11007.42,
            "count": 0
           },
           {
            "bin_start": 11007.42,
            "bin_end": 11081.51,
            "count": 0
           },
           {
            "bin_start": 11081.51,
            "bin_end": 11155.6,
            "count": 1
           }
          ]
         }
        },
        {
         "name": "btc_low",
         "dtype": "float64",
         "stats": {
          "unique_count": 5,
          "nan_count": 0,
          "min": "9865.4",
          "max": "10462.0",
          "histogram": [
           {
            "bin_start": 9865.4,
            "bin_end": 9925.06,
            "count": 1
           },
           {
            "bin_start": 9925.06,
            "bin_end": 9984.72,
            "count": 0
           },
           {
            "bin_start": 9984.72,
            "bin_end": 10044.38,
            "count": 0
           },
           {
            "bin_start": 10044.38,
            "bin_end": 10104.039999999999,
            "count": 0
           },
           {
            "bin_start": 10104.039999999999,
            "bin_end": 10163.7,
            "count": 1
           },
           {
            "bin_start": 10163.7,
            "bin_end": 10223.36,
            "count": 1
           },
           {
            "bin_start": 10223.36,
            "bin_end": 10283.02,
            "count": 0
           },
           {
            "bin_start": 10283.02,
            "bin_end": 10342.68,
            "count": 0
           },
           {
            "bin_start": 10342.68,
            "bin_end": 10402.34,
            "count": 0
           },
           {
            "bin_start": 10402.34,
            "bin_end": 10462,
            "count": 2
           }
          ]
         }
        },
        {
         "name": "btc_vol",
         "dtype": "float64",
         "stats": {
          "unique_count": 5,
          "nan_count": 0,
          "min": "562170.0",
          "max": "727790.0",
          "histogram": [
           {
            "bin_start": 562170,
            "bin_end": 578732,
            "count": 1
           },
           {
            "bin_start": 578732,
            "bin_end": 595294,
            "count": 1
           },
           {
            "bin_start": 595294,
            "bin_end": 611856,
            "count": 0
           },
           {
            "bin_start": 611856,
            "bin_end": 628418,
            "count": 0
           },
           {
            "bin_start": 628418,
            "bin_end": 644980,
            "count": 0
           },
           {
            "bin_start": 644980,
            "bin_end": 661542,
            "count": 0
           },
           {
            "bin_start": 661542,
            "bin_end": 678104,
            "count": 2
           },
           {
            "bin_start": 678104,
            "bin_end": 694666,
            "count": 0
           },
           {
            "bin_start": 694666,
            "bin_end": 711228,
            "count": 0
           },
           {
            "bin_start": 711228,
            "bin_end": 727790,
            "count": 1
           }
          ]
         }
        },
        {
         "name": "btc_pct_change",
         "dtype": "float64",
         "stats": {
          "unique_count": 5,
          "nan_count": 0,
          "min": "-5.03",
          "max": "2.41",
          "histogram": [
           {
            "bin_start": -5.03,
            "bin_end": -4.2860000000000005,
            "count": 1
           },
           {
            "bin_start": -4.2860000000000005,
            "bin_end": -3.5420000000000003,
            "count": 0
           },
           {
            "bin_start": -3.5420000000000003,
            "bin_end": -2.798,
            "count": 1
           },
           {
            "bin_start": -2.798,
            "bin_end": -2.0540000000000003,
            "count": 0
           },
           {
            "bin_start": -2.0540000000000003,
            "bin_end": -1.3100000000000005,
            "count": 0
           },
           {
            "bin_start": -1.3100000000000005,
            "bin_end": -0.5659999999999998,
            "count": 2
           },
           {
            "bin_start": -0.5659999999999998,
            "bin_end": 0.17799999999999994,
            "count": 0
           },
           {
            "bin_start": 0.17799999999999994,
            "bin_end": 0.9219999999999997,
            "count": 0
           },
           {
            "bin_start": 0.9219999999999997,
            "bin_end": 1.6659999999999995,
            "count": 0
           },
           {
            "bin_start": 1.6659999999999995,
            "bin_end": 2.41,
            "count": 1
           }
          ]
         }
        },
        {
         "name": "eth_tel_pos",
         "dtype": "float64",
         "stats": {
          "unique_count": 2,
          "nan_count": 0,
          "min": "0.0",
          "max": "1.0",
          "histogram": [
           {
            "bin_start": 0,
            "bin_end": 0.1,
            "count": 4
           },
           {
            "bin_start": 0.1,
            "bin_end": 0.2,
            "count": 0
           },
           {
            "bin_start": 0.2,
            "bin_end": 0.30000000000000004,
            "count": 0
           },
           {
            "bin_start": 0.30000000000000004,
            "bin_end": 0.4,
            "count": 0
           },
           {
            "bin_start": 0.4,
            "bin_end": 0.5,
            "count": 0
           },
           {
            "bin_start": 0.5,
            "bin_end": 0.6000000000000001,
            "count": 0
           },
           {
            "bin_start": 0.6000000000000001,
            "bin_end": 0.7000000000000001,
            "count": 0
           },
           {
            "bin_start": 0.7000000000000001,
            "bin_end": 0.8,
            "count": 0
           },
           {
            "bin_start": 0.8,
            "bin_end": 0.9,
            "count": 0
           },
           {
            "bin_start": 0.9,
            "bin_end": 1,
            "count": 1
           }
          ]
         }
        },
        {
         "name": "eth_tel_neu",
         "dtype": "float64",
         "stats": {
          "unique_count": 3,
          "nan_count": 0,
          "min": "1.0",
          "max": "3.0",
          "histogram": [
           {
            "bin_start": 1,
            "bin_end": 1.2,
            "count": 1
           },
           {
            "bin_start": 1.2,
            "bin_end": 1.4,
            "count": 0
           },
           {
            "bin_start": 1.4,
            "bin_end": 1.6,
            "count": 0
           },
           {
            "bin_start": 1.6,
            "bin_end": 1.8,
            "count": 0
           },
           {
            "bin_start": 1.8,
            "bin_end": 2,
            "count": 0
           },
           {
            "bin_start": 2,
            "bin_end": 2.2,
            "count": 2
           },
           {
            "bin_start": 2.2,
            "bin_end": 2.4000000000000004,
            "count": 0
           },
           {
            "bin_start": 2.4000000000000004,
            "bin_end": 2.6,
            "count": 0
           },
           {
            "bin_start": 2.6,
            "bin_end": 2.8,
            "count": 0
           },
           {
            "bin_start": 2.8,
            "bin_end": 3,
            "count": 2
           }
          ]
         }
        },
        {
         "name": "eth_tel_neg",
         "dtype": "float64",
         "stats": {
          "unique_count": 2,
          "nan_count": 0,
          "min": "0.0",
          "max": "1.0",
          "histogram": [
           {
            "bin_start": 0,
            "bin_end": 0.1,
            "count": 4
           },
           {
            "bin_start": 0.1,
            "bin_end": 0.2,
            "count": 0
           },
           {
            "bin_start": 0.2,
            "bin_end": 0.30000000000000004,
            "count": 0
           },
           {
            "bin_start": 0.30000000000000004,
            "bin_end": 0.4,
            "count": 0
           },
           {
            "bin_start": 0.4,
            "bin_end": 0.5,
            "count": 0
           },
           {
            "bin_start": 0.5,
            "bin_end": 0.6000000000000001,
            "count": 0
           },
           {
            "bin_start": 0.6000000000000001,
            "bin_end": 0.7000000000000001,
            "count": 0
           },
           {
            "bin_start": 0.7000000000000001,
            "bin_end": 0.8,
            "count": 0
           },
           {
            "bin_start": 0.8,
            "bin_end": 0.9,
            "count": 0
           },
           {
            "bin_start": 0.9,
            "bin_end": 1,
            "count": 1
           }
          ]
         }
        },
        {
         "name": "eth_twit_pos",
         "dtype": "float64",
         "stats": {
          "unique_count": 5,
          "nan_count": 0,
          "min": "330.0",
          "max": "545.0",
          "histogram": [
           {
            "bin_start": 330,
            "bin_end": 351.5,
            "count": 1
           },
           {
            "bin_start": 351.5,
            "bin_end": 373,
            "count": 0
           },
           {
            "bin_start": 373,
            "bin_end": 394.5,
            "count": 0
           },
           {
            "bin_start": 394.5,
            "bin_end": 416,
            "count": 0
           },
           {
            "bin_start": 416,
            "bin_end": 437.5,
            "count": 1
           },
           {
            "bin_start": 437.5,
            "bin_end": 459,
            "count": 1
           },
           {
            "bin_start": 459,
            "bin_end": 480.5,
            "count": 0
           },
           {
            "bin_start": 480.5,
            "bin_end": 502,
            "count": 1
           },
           {
            "bin_start": 502,
            "bin_end": 523.5,
            "count": 0
           },
           {
            "bin_start": 523.5,
            "bin_end": 545,
            "count": 1
           }
          ]
         }
        },
        {
         "name": "eth_twit_neu",
         "dtype": "float64",
         "stats": {
          "unique_count": 5,
          "nan_count": 0,
          "min": "2380.0",
          "max": "4293.0",
          "histogram": [
           {
            "bin_start": 2380,
            "bin_end": 2571.3,
            "count": 1
           },
           {
            "bin_start": 2571.3,
            "bin_end": 2762.6,
            "count": 0
           },
           {
            "bin_start": 2762.6,
            "bin_end": 2953.9,
            "count": 0
           },
           {
            "bin_start": 2953.9,
            "bin_end": 3145.2,
            "count": 0
           },
           {
            "bin_start": 3145.2,
            "bin_end": 3336.5,
            "count": 0
           },
           {
            "bin_start": 3336.5,
            "bin_end": 3527.8,
            "count": 1
           },
           {
            "bin_start": 3527.8,
            "bin_end": 3719.1000000000004,
            "count": 1
           },
           {
            "bin_start": 3719.1000000000004,
            "bin_end": 3910.4,
            "count": 0
           },
           {
            "bin_start": 3910.4,
            "bin_end": 4101.7,
            "count": 0
           },
           {
            "bin_start": 4101.7,
            "bin_end": 4293,
            "count": 2
           }
          ]
         }
        },
        {
         "name": "eth_twit_neg",
         "dtype": "float64",
         "stats": {
          "unique_count": 5,
          "nan_count": 0,
          "min": "91.0",
          "max": "122.0",
          "histogram": [
           {
            "bin_start": 91,
            "bin_end": 94.1,
            "count": 1
           },
           {
            "bin_start": 94.1,
            "bin_end": 97.2,
            "count": 0
           },
           {
            "bin_start": 97.2,
            "bin_end": 100.3,
            "count": 0
           },
           {
            "bin_start": 100.3,
            "bin_end": 103.4,
            "count": 0
           },
           {
            "bin_start": 103.4,
            "bin_end": 106.5,
            "count": 1
           },
           {
            "bin_start": 106.5,
            "bin_end": 109.6,
            "count": 1
           },
           {
            "bin_start": 109.6,
            "bin_end": 112.7,
            "count": 0
           },
           {
            "bin_start": 112.7,
            "bin_end": 115.8,
            "count": 1
           },
           {
            "bin_start": 115.8,
            "bin_end": 118.9,
            "count": 0
           },
           {
            "bin_start": 118.9,
            "bin_end": 122,
            "count": 1
           }
          ]
         }
        },
        {
         "name": "eth_close",
         "dtype": "float64",
         "stats": {
          "unique_count": 5,
          "nan_count": 0,
          "min": "211.87",
          "max": "227.86",
          "histogram": [
           {
            "bin_start": 211.87,
            "bin_end": 213.469,
            "count": 1
           },
           {
            "bin_start": 213.469,
            "bin_end": 215.068,
            "count": 0
           },
           {
            "bin_start": 215.068,
            "bin_end": 216.667,
            "count": 0
           },
           {
            "bin_start": 216.667,
            "bin_end": 218.26600000000002,
            "count": 1
           },
           {
            "bin_start": 218.26600000000002,
            "bin_end": 219.865,
            "count": 0
           },
           {
            "bin_start": 219.865,
            "bin_end": 221.464,
            "count": 1
           },
           {
            "bin_start": 221.464,
            "bin_end": 223.06300000000002,
            "count": 0
           },
           {
            "bin_start": 223.06300000000002,
            "bin_end": 224.662,
            "count": 0
           },
           {
            "bin_start": 224.662,
            "bin_end": 226.26100000000002,
            "count": 1
           },
           {
            "bin_start": 226.26100000000002,
            "bin_end": 227.86,
            "count": 1
           }
          ]
         }
        },
        {
         "name": "eth_open",
         "dtype": "float64",
         "stats": {
          "unique_count": 5,
          "nan_count": 0,
          "min": "217.27",
          "max": "227.83",
          "histogram": [
           {
            "bin_start": 217.27,
            "bin_end": 218.32600000000002,
            "count": 1
           },
           {
            "bin_start": 218.32600000000002,
            "bin_end": 219.382,
            "count": 0
           },
           {
            "bin_start": 219.382,
            "bin_end": 220.43800000000002,
            "count": 1
           },
           {
            "bin_start": 220.43800000000002,
            "bin_end": 221.494,
            "count": 0
           },
           {
            "bin_start": 221.494,
            "bin_end": 222.55,
            "count": 0
           },
           {
            "bin_start": 222.55,
            "bin_end": 223.60600000000002,
            "count": 0
           },
           {
            "bin_start": 223.60600000000002,
            "bin_end": 224.662,
            "count": 0
           },
           {
            "bin_start": 224.662,
            "bin_end": 225.71800000000002,
            "count": 2
           },
           {
            "bin_start": 225.71800000000002,
            "bin_end": 226.774,
            "count": 0
           },
           {
            "bin_start": 226.774,
            "bin_end": 227.83,
            "count": 1
           }
          ]
         }
        },
        {
         "name": "eth_high",
         "dtype": "float64",
         "stats": {
          "unique_count": 5,
          "nan_count": 0,
          "min": "218.03",
          "max": "233.7",
          "histogram": [
           {
            "bin_start": 218.03,
            "bin_end": 219.597,
            "count": 1
           },
           {
            "bin_start": 219.597,
            "bin_end": 221.164,
            "count": 0
           },
           {
            "bin_start": 221.164,
            "bin_end": 222.731,
            "count": 0
           },
           {
            "bin_start": 222.731,
            "bin_end": 224.298,
            "count": 0
           },
           {
            "bin_start": 224.298,
            "bin_end": 225.865,
            "count": 1
           },
           {
            "bin_start": 225.865,
            "bin_end": 227.432,
            "count": 0
           },
           {
            "bin_start": 227.432,
            "bin_end": 228.999,
            "count": 2
           },
           {
            "bin_start": 228.999,
            "bin_end": 230.566,
            "count": 0
           },
           {
            "bin_start": 230.566,
            "bin_end": 232.13299999999998,
            "count": 0
           },
           {
            "bin_start": 232.13299999999998,
            "bin_end": 233.7,
            "count": 1
           }
          ]
         }
        },
        {
         "name": "eth_low",
         "dtype": "float64",
         "stats": {
          "unique_count": 5,
          "nan_count": 0,
          "min": "208.31",
          "max": "219.8",
          "histogram": [
           {
            "bin_start": 208.31,
            "bin_end": 209.459,
            "count": 1
           },
           {
            "bin_start": 209.459,
            "bin_end": 210.608,
            "count": 0
           },
           {
            "bin_start": 210.608,
            "bin_end": 211.757,
            "count": 0
           },
           {
            "bin_start": 211.757,
            "bin_end": 212.906,
            "count": 1
           },
           {
            "bin_start": 212.906,
            "bin_end": 214.055,
            "count": 1
           },
           {
            "bin_start": 214.055,
            "bin_end": 215.204,
            "count": 0
           },
           {
            "bin_start": 215.204,
            "bin_end": 216.353,
            "count": 0
           },
           {
            "bin_start": 216.353,
            "bin_end": 217.502,
            "count": 0
           },
           {
            "bin_start": 217.502,
            "bin_end": 218.651,
            "count": 1
           },
           {
            "bin_start": 218.651,
            "bin_end": 219.8,
            "count": 1
           }
          ]
         }
        },
        {
         "name": "eth_vol",
         "dtype": "float64",
         "stats": {
          "unique_count": 5,
          "nan_count": 0,
          "min": "8500000.0",
          "max": "9380000.0",
          "histogram": [
           {
            "bin_start": 8500000,
            "bin_end": 8588000,
            "count": 1
           },
           {
            "bin_start": 8588000,
            "bin_end": 8676000,
            "count": 1
           },
           {
            "bin_start": 8676000,
            "bin_end": 8764000,
            "count": 1
           },
           {
            "bin_start": 8764000,
            "bin_end": 8852000,
            "count": 0
           },
           {
            "bin_start": 8852000,
            "bin_end": 8940000,
            "count": 0
           },
           {
            "bin_start": 8940000,
            "bin_end": 9028000,
            "count": 0
           },
           {
            "bin_start": 9028000,
            "bin_end": 9116000,
            "count": 0
           },
           {
            "bin_start": 9116000,
            "bin_end": 9204000,
            "count": 1
           },
           {
            "bin_start": 9204000,
            "bin_end": 9292000,
            "count": 0
           },
           {
            "bin_start": 9292000,
            "bin_end": 9380000,
            "count": 1
           }
          ]
         }
        },
        {
         "name": "eth_pct_change",
         "dtype": "float64",
         "stats": {
          "unique_count": 5,
          "nan_count": 0,
          "min": "-3.44",
          "max": "3.53",
          "histogram": [
           {
            "bin_start": -3.44,
            "bin_end": -2.743,
            "count": 1
           },
           {
            "bin_start": -2.743,
            "bin_end": -2.0460000000000003,
            "count": 2
           },
           {
            "bin_start": -2.0460000000000003,
            "bin_end": -1.3490000000000002,
            "count": 0
           },
           {
            "bin_start": -1.3490000000000002,
            "bin_end": -0.6520000000000001,
            "count": 1
           },
           {
            "bin_start": -0.6520000000000001,
            "bin_end": 0.04499999999999993,
            "count": 0
           },
           {
            "bin_start": 0.04499999999999993,
            "bin_end": 0.7419999999999995,
            "count": 0
           },
           {
            "bin_start": 0.7419999999999995,
            "bin_end": 1.4389999999999996,
            "count": 0
           },
           {
            "bin_start": 1.4389999999999996,
            "bin_end": 2.1359999999999997,
            "count": 0
           },
           {
            "bin_start": 2.1359999999999997,
            "bin_end": 2.8329999999999997,
            "count": 0
           },
           {
            "bin_start": 2.8329999999999997,
            "bin_end": 3.53,
            "count": 1
           }
          ]
         }
        },
        {
         "name": "doge_tel_pos",
         "dtype": "float64",
         "stats": {
          "unique_count": 1,
          "nan_count": 0,
          "min": "0.0",
          "max": "0.0",
          "histogram": [
           {
            "bin_start": -0.5,
            "bin_end": -0.4,
            "count": 0
           },
           {
            "bin_start": -0.4,
            "bin_end": -0.3,
            "count": 0
           },
           {
            "bin_start": -0.3,
            "bin_end": -0.19999999999999996,
            "count": 0
           },
           {
            "bin_start": -0.19999999999999996,
            "bin_end": -0.09999999999999998,
            "count": 0
           },
           {
            "bin_start": -0.09999999999999998,
            "bin_end": 0,
            "count": 0
           },
           {
            "bin_start": 0,
            "bin_end": 0.10000000000000009,
            "count": 5
           },
           {
            "bin_start": 0.10000000000000009,
            "bin_end": 0.20000000000000007,
            "count": 0
           },
           {
            "bin_start": 0.20000000000000007,
            "bin_end": 0.30000000000000004,
            "count": 0
           },
           {
            "bin_start": 0.30000000000000004,
            "bin_end": 0.4,
            "count": 0
           },
           {
            "bin_start": 0.4,
            "bin_end": 0.5,
            "count": 0
           }
          ]
         }
        },
        {
         "name": "doge_tel_neu",
         "dtype": "float64",
         "stats": {
          "unique_count": 1,
          "nan_count": 0,
          "min": "0.0",
          "max": "0.0",
          "histogram": [
           {
            "bin_start": -0.5,
            "bin_end": -0.4,
            "count": 0
           },
           {
            "bin_start": -0.4,
            "bin_end": -0.3,
            "count": 0
           },
           {
            "bin_start": -0.3,
            "bin_end": -0.19999999999999996,
            "count": 0
           },
           {
            "bin_start": -0.19999999999999996,
            "bin_end": -0.09999999999999998,
            "count": 0
           },
           {
            "bin_start": -0.09999999999999998,
            "bin_end": 0,
            "count": 0
           },
           {
            "bin_start": 0,
            "bin_end": 0.10000000000000009,
            "count": 5
           },
           {
            "bin_start": 0.10000000000000009,
            "bin_end": 0.20000000000000007,
            "count": 0
           },
           {
            "bin_start": 0.20000000000000007,
            "bin_end": 0.30000000000000004,
            "count": 0
           },
           {
            "bin_start": 0.30000000000000004,
            "bin_end": 0.4,
            "count": 0
           },
           {
            "bin_start": 0.4,
            "bin_end": 0.5,
            "count": 0
           }
          ]
         }
        },
        {
         "name": "doge_tel_neg",
         "dtype": "float64",
         "stats": {
          "unique_count": 1,
          "nan_count": 0,
          "min": "0.0",
          "max": "0.0",
          "histogram": [
           {
            "bin_start": -0.5,
            "bin_end": -0.4,
            "count": 0
           },
           {
            "bin_start": -0.4,
            "bin_end": -0.3,
            "count": 0
           },
           {
            "bin_start": -0.3,
            "bin_end": -0.19999999999999996,
            "count": 0
           },
           {
            "bin_start": -0.19999999999999996,
            "bin_end": -0.09999999999999998,
            "count": 0
           },
           {
            "bin_start": -0.09999999999999998,
            "bin_end": 0,
            "count": 0
           },
           {
            "bin_start": 0,
            "bin_end": 0.10000000000000009,
            "count": 5
           },
           {
            "bin_start": 0.10000000000000009,
            "bin_end": 0.20000000000000007,
            "count": 0
           },
           {
            "bin_start": 0.20000000000000007,
            "bin_end": 0.30000000000000004,
            "count": 0
           },
           {
            "bin_start": 0.30000000000000004,
            "bin_end": 0.4,
            "count": 0
           },
           {
            "bin_start": 0.4,
            "bin_end": 0.5,
            "count": 0
           }
          ]
         }
        },
        {
         "name": "doge_twit_pos",
         "dtype": "float64",
         "stats": {
          "unique_count": 5,
          "nan_count": 0,
          "min": "6.0",
          "max": "17.0",
          "histogram": [
           {
            "bin_start": 6,
            "bin_end": 7.1,
            "count": 2
           },
           {
            "bin_start": 7.1,
            "bin_end": 8.2,
            "count": 0
           },
           {
            "bin_start": 8.2,
            "bin_end": 9.3,
            "count": 0
           },
           {
            "bin_start": 9.3,
            "bin_end": 10.4,
            "count": 0
           },
           {
            "bin_start": 10.4,
            "bin_end": 11.5,
            "count": 0
           },
           {
            "bin_start": 11.5,
            "bin_end": 12.600000000000001,
            "count": 0
           },
           {
            "bin_start": 12.600000000000001,
            "bin_end": 13.700000000000001,
            "count": 1
           },
           {
            "bin_start": 13.700000000000001,
            "bin_end": 14.8,
            "count": 1
           },
           {
            "bin_start": 14.8,
            "bin_end": 15.9,
            "count": 0
           },
           {
            "bin_start": 15.9,
            "bin_end": 17,
            "count": 1
           }
          ]
         }
        },
        {
         "name": "doge_twit_neu",
         "dtype": "float64",
         "stats": {
          "unique_count": 5,
          "nan_count": 0,
          "min": "16.0",
          "max": "35.0",
          "histogram": [
           {
            "bin_start": 16,
            "bin_end": 17.9,
            "count": 1
           },
           {
            "bin_start": 17.9,
            "bin_end": 19.8,
            "count": 0
           },
           {
            "bin_start": 19.8,
            "bin_end": 21.7,
            "count": 1
           },
           {
            "bin_start": 21.7,
            "bin_end": 23.6,
            "count": 0
           },
           {
            "bin_start": 23.6,
            "bin_end": 25.5,
            "count": 0
           },
           {
            "bin_start": 25.5,
            "bin_end": 27.4,
            "count": 1
           },
           {
            "bin_start": 27.4,
            "bin_end": 29.299999999999997,
            "count": 0
           },
           {
            "bin_start": 29.299999999999997,
            "bin_end": 31.2,
            "count": 1
           },
           {
            "bin_start": 31.2,
            "bin_end": 33.099999999999994,
            "count": 0
           },
           {
            "bin_start": 33.099999999999994,
            "bin_end": 35,
            "count": 1
           }
          ]
         }
        },
        {
         "name": "doge_twit_neg",
         "dtype": "float64",
         "stats": {
          "unique_count": 2,
          "nan_count": 0,
          "min": "0.0",
          "max": "1.0",
          "histogram": [
           {
            "bin_start": 0,
            "bin_end": 0.1,
            "count": 4
           },
           {
            "bin_start": 0.1,
            "bin_end": 0.2,
            "count": 0
           },
           {
            "bin_start": 0.2,
            "bin_end": 0.30000000000000004,
            "count": 0
           },
           {
            "bin_start": 0.30000000000000004,
            "bin_end": 0.4,
            "count": 0
           },
           {
            "bin_start": 0.4,
            "bin_end": 0.5,
            "count": 0
           },
           {
            "bin_start": 0.5,
            "bin_end": 0.6000000000000001,
            "count": 0
           },
           {
            "bin_start": 0.6000000000000001,
            "bin_end": 0.7000000000000001,
            "count": 0
           },
           {
            "bin_start": 0.7000000000000001,
            "bin_end": 0.8,
            "count": 0
           },
           {
            "bin_start": 0.8,
            "bin_end": 0.9,
            "count": 0
           },
           {
            "bin_start": 0.9,
            "bin_end": 1,
            "count": 1
           }
          ]
         }
        },
        {
         "name": "doge_close",
         "dtype": "float64",
         "stats": {
          "unique_count": 5,
          "nan_count": 0,
          "min": "0.002882",
          "max": "0.0031079999999999",
          "histogram": [
           {
            "bin_start": 0.002882,
            "bin_end": 0.00290459999999999,
            "count": 1
           },
           {
            "bin_start": 0.00290459999999999,
            "bin_end": 0.00292719999999998,
            "count": 0
           },
           {
            "bin_start": 0.00292719999999998,
            "bin_end": 0.00294979999999997,
            "count": 0
           },
           {
            "bin_start": 0.00294979999999997,
            "bin_end": 0.00297239999999996,
            "count": 0
           },
           {
            "bin_start": 0.00297239999999996,
            "bin_end": 0.00299499999999995,
            "count": 0
           },
           {
            "bin_start": 0.00299499999999995,
            "bin_end": 0.0030175999999999398,
            "count": 1
           },
           {
            "bin_start": 0.0030175999999999398,
            "bin_end": 0.00304019999999993,
            "count": 1
           },
           {
            "bin_start": 0.00304019999999993,
            "bin_end": 0.00306279999999992,
            "count": 0
           },
           {
            "bin_start": 0.00306279999999992,
            "bin_end": 0.00308539999999991,
            "count": 1
           },
           {
            "bin_start": 0.00308539999999991,
            "bin_end": 0.0031079999999999,
            "count": 1
           }
          ]
         }
        },
        {
         "name": "doge_open",
         "dtype": "float64",
         "stats": {
          "unique_count": 5,
          "nan_count": 0,
          "min": "0.003013",
          "max": "0.003114",
          "histogram": [
           {
            "bin_start": 0.003013,
            "bin_end": 0.0030231,
            "count": 1
           },
           {
            "bin_start": 0.0030231,
            "bin_end": 0.0030332000000000002,
            "count": 0
           },
           {
            "bin_start": 0.0030332000000000002,
            "bin_end": 0.0030433,
            "count": 0
           },
           {
            "bin_start": 0.0030433,
            "bin_end": 0.0030534,
            "count": 1
           },
           {
            "bin_start": 0.0030534,
            "bin_end": 0.0030635000000000003,
            "count": 0
           },
           {
            "bin_start": 0.0030635000000000003,
            "bin_end": 0.0030736,
            "count": 0
           },
           {
            "bin_start": 0.0030736,
            "bin_end": 0.0030837,
            "count": 1
           },
           {
            "bin_start": 0.0030837,
            "bin_end": 0.0030938,
            "count": 0
           },
           {
            "bin_start": 0.0030938,
            "bin_end": 0.0031039,
            "count": 0
           },
           {
            "bin_start": 0.0031039,
            "bin_end": 0.003114,
            "count": 2
           }
          ]
         }
        },
        {
         "name": "doge_high",
         "dtype": "float64",
         "stats": {
          "unique_count": 5,
          "nan_count": 0,
          "min": "0.003019",
          "max": "0.003249",
          "histogram": [
           {
            "bin_start": 0.003019,
            "bin_end": 0.003042,
            "count": 1
           },
           {
            "bin_start": 0.003042,
            "bin_end": 0.003065,
            "count": 0
           },
           {
            "bin_start": 0.003065,
            "bin_end": 0.003088,
            "count": 0
           },
           {
            "bin_start": 0.003088,
            "bin_end": 0.003111,
            "count": 0
           },
           {
            "bin_start": 0.003111,
            "bin_end": 0.003134,
            "count": 1
           },
           {
            "bin_start": 0.003134,
            "bin_end": 0.003157,
            "count": 0
           },
           {
            "bin_start": 0.003157,
            "bin_end": 0.00318,
            "count": 1
           },
           {
            "bin_start": 0.00318,
            "bin_end": 0.003203,
            "count": 0
           },
           {
            "bin_start": 0.003203,
            "bin_end": 0.003226,
            "count": 1
           },
           {
            "bin_start": 0.003226,
            "bin_end": 0.003249,
            "count": 1
           }
          ]
         }
        },
        {
         "name": "doge_low",
         "dtype": "float64",
         "stats": {
          "unique_count": 5,
          "nan_count": 0,
          "min": "0.002879",
          "max": "0.002959",
          "histogram": [
           {
            "bin_start": 0.002879,
            "bin_end": 0.002887,
            "count": 1
           },
           {
            "bin_start": 0.002887,
            "bin_end": 0.002895,
            "count": 1
           },
           {
            "bin_start": 0.002895,
            "bin_end": 0.002903,
            "count": 0
           },
           {
            "bin_start": 0.002903,
            "bin_end": 0.002911,
            "count": 0
           },
           {
            "bin_start": 0.002911,
            "bin_end": 0.0029189999999999997,
            "count": 0
           },
           {
            "bin_start": 0.0029189999999999997,
            "bin_end": 0.002927,
            "count": 0
           },
           {
            "bin_start": 0.002927,
            "bin_end": 0.002935,
            "count": 0
           },
           {
            "bin_start": 0.002935,
            "bin_end": 0.002943,
            "count": 1
           },
           {
            "bin_start": 0.002943,
            "bin_end": 0.0029509999999999996,
            "count": 0
           },
           {
            "bin_start": 0.0029509999999999996,
            "bin_end": 0.002959,
            "count": 2
           }
          ]
         }
        },
        {
         "name": "doge_vol",
         "dtype": "float64",
         "stats": {
          "unique_count": 5,
          "nan_count": 0,
          "min": "1870000000.0",
          "max": "2420000000.0",
          "histogram": [
           {
            "bin_start": 1870000000,
            "bin_end": 1925000000,
            "count": 2
           },
           {
            "bin_start": 1925000000,
            "bin_end": 1980000000,
            "count": 0
           },
           {
            "bin_start": 1980000000,
            "bin_end": 2035000000,
            "count": 0
           },
           {
            "bin_start": 2035000000,
            "bin_end": 2090000000,
            "count": 1
           },
           {
            "bin_start": 2090000000,
            "bin_end": 2145000000,
            "count": 0
           },
           {
            "bin_start": 2145000000,
            "bin_end": 2200000000,
            "count": 0
           },
           {
            "bin_start": 2200000000,
            "bin_end": 2255000000,
            "count": 1
           },
           {
            "bin_start": 2255000000,
            "bin_end": 2310000000,
            "count": 0
           },
           {
            "bin_start": 2310000000,
            "bin_end": 2365000000,
            "count": 0
           },
           {
            "bin_start": 2365000000,
            "bin_end": 2420000000,
            "count": 1
           }
          ]
         }
        },
        {
         "name": "doge_pct_change",
         "dtype": "float64",
         "stats": {
          "unique_count": 5,
          "nan_count": 0,
          "min": "-4.33",
          "max": "2.25",
          "histogram": [
           {
            "bin_start": -4.33,
            "bin_end": -3.672,
            "count": 1
           },
           {
            "bin_start": -3.672,
            "bin_end": -3.0140000000000002,
            "count": 0
           },
           {
            "bin_start": -3.0140000000000002,
            "bin_end": -2.356,
            "count": 1
           },
           {
            "bin_start": -2.356,
            "bin_end": -1.698,
            "count": 1
           },
           {
            "bin_start": -1.698,
            "bin_end": -1.04,
            "count": 0
           },
           {
            "bin_start": -1.04,
            "bin_end": -0.3819999999999997,
            "count": 1
           },
           {
            "bin_start": -0.3819999999999997,
            "bin_end": 0.2759999999999998,
            "count": 0
           },
           {
            "bin_start": 0.2759999999999998,
            "bin_end": 0.9340000000000002,
            "count": 0
           },
           {
            "bin_start": 0.9340000000000002,
            "bin_end": 1.5920000000000005,
            "count": 0
           },
           {
            "bin_start": 1.5920000000000005,
            "bin_end": 2.25,
            "count": 1
           }
          ]
         }
        },
        {
         "name": "ada_tel_pos",
         "dtype": "float64",
         "stats": {
          "unique_count": 1,
          "nan_count": 0,
          "min": "0.0",
          "max": "0.0",
          "histogram": [
           {
            "bin_start": -0.5,
            "bin_end": -0.4,
            "count": 0
           },
           {
            "bin_start": -0.4,
            "bin_end": -0.3,
            "count": 0
           },
           {
            "bin_start": -0.3,
            "bin_end": -0.19999999999999996,
            "count": 0
           },
           {
            "bin_start": -0.19999999999999996,
            "bin_end": -0.09999999999999998,
            "count": 0
           },
           {
            "bin_start": -0.09999999999999998,
            "bin_end": 0,
            "count": 0
           },
           {
            "bin_start": 0,
            "bin_end": 0.10000000000000009,
            "count": 5
           },
           {
            "bin_start": 0.10000000000000009,
            "bin_end": 0.20000000000000007,
            "count": 0
           },
           {
            "bin_start": 0.20000000000000007,
            "bin_end": 0.30000000000000004,
            "count": 0
           },
           {
            "bin_start": 0.30000000000000004,
            "bin_end": 0.4,
            "count": 0
           },
           {
            "bin_start": 0.4,
            "bin_end": 0.5,
            "count": 0
           }
          ]
         }
        },
        {
         "name": "ada_tel_neu",
         "dtype": "float64",
         "stats": {
          "unique_count": 1,
          "nan_count": 0,
          "min": "0.0",
          "max": "0.0",
          "histogram": [
           {
            "bin_start": -0.5,
            "bin_end": -0.4,
            "count": 0
           },
           {
            "bin_start": -0.4,
            "bin_end": -0.3,
            "count": 0
           },
           {
            "bin_start": -0.3,
            "bin_end": -0.19999999999999996,
            "count": 0
           },
           {
            "bin_start": -0.19999999999999996,
            "bin_end": -0.09999999999999998,
            "count": 0
           },
           {
            "bin_start": -0.09999999999999998,
            "bin_end": 0,
            "count": 0
           },
           {
            "bin_start": 0,
            "bin_end": 0.10000000000000009,
            "count": 5
           },
           {
            "bin_start": 0.10000000000000009,
            "bin_end": 0.20000000000000007,
            "count": 0
           },
           {
            "bin_start": 0.20000000000000007,
            "bin_end": 0.30000000000000004,
            "count": 0
           },
           {
            "bin_start": 0.30000000000000004,
            "bin_end": 0.4,
            "count": 0
           },
           {
            "bin_start": 0.4,
            "bin_end": 0.5,
            "count": 0
           }
          ]
         }
        },
        {
         "name": "ada_tel_neg",
         "dtype": "float64",
         "stats": {
          "unique_count": 1,
          "nan_count": 0,
          "min": "0.0",
          "max": "0.0",
          "histogram": [
           {
            "bin_start": -0.5,
            "bin_end": -0.4,
            "count": 0
           },
           {
            "bin_start": -0.4,
            "bin_end": -0.3,
            "count": 0
           },
           {
            "bin_start": -0.3,
            "bin_end": -0.19999999999999996,
            "count": 0
           },
           {
            "bin_start": -0.19999999999999996,
            "bin_end": -0.09999999999999998,
            "count": 0
           },
           {
            "bin_start": -0.09999999999999998,
            "bin_end": 0,
            "count": 0
           },
           {
            "bin_start": 0,
            "bin_end": 0.10000000000000009,
            "count": 5
           },
           {
            "bin_start": 0.10000000000000009,
            "bin_end": 0.20000000000000007,
            "count": 0
           },
           {
            "bin_start": 0.20000000000000007,
            "bin_end": 0.30000000000000004,
            "count": 0
           },
           {
            "bin_start": 0.30000000000000004,
            "bin_end": 0.4,
            "count": 0
           },
           {
            "bin_start": 0.4,
            "bin_end": 0.5,
            "count": 0
           }
          ]
         }
        },
        {
         "name": "ada_twit_pos",
         "dtype": "float64",
         "stats": {
          "unique_count": 5,
          "nan_count": 0,
          "min": "32.0",
          "max": "78.0",
          "histogram": [
           {
            "bin_start": 32,
            "bin_end": 36.6,
            "count": 1
           },
           {
            "bin_start": 36.6,
            "bin_end": 41.2,
            "count": 0
           },
           {
            "bin_start": 41.2,
            "bin_end": 45.8,
            "count": 0
           },
           {
            "bin_start": 45.8,
            "bin_end": 50.4,
            "count": 0
           },
           {
            "bin_start": 50.4,
            "bin_end": 55,
            "count": 1
           },
           {
            "bin_start": 55,
            "bin_end": 59.599999999999994,
            "count": 0
           },
           {
            "bin_start": 59.599999999999994,
            "bin_end": 64.19999999999999,
            "count": 0
           },
           {
            "bin_start": 64.19999999999999,
            "bin_end": 68.8,
            "count": 1
           },
           {
            "bin_start": 68.8,
            "bin_end": 73.4,
            "count": 1
           },
           {
            "bin_start": 73.4,
            "bin_end": 78,
            "count": 1
           }
          ]
         }
        },
        {
         "name": "ada_twit_neu",
         "dtype": "float64",
         "stats": {
          "unique_count": 5,
          "nan_count": 0,
          "min": "110.0",
          "max": "229.0",
          "histogram": [
           {
            "bin_start": 110,
            "bin_end": 121.9,
            "count": 2
           },
           {
            "bin_start": 121.9,
            "bin_end": 133.8,
            "count": 0
           },
           {
            "bin_start": 133.8,
            "bin_end": 145.7,
            "count": 1
           },
           {
            "bin_start": 145.7,
            "bin_end": 157.6,
            "count": 0
           },
           {
            "bin_start": 157.6,
            "bin_end": 169.5,
            "count": 0
           },
           {
            "bin_start": 169.5,
            "bin_end": 181.4,
            "count": 1
           },
           {
            "bin_start": 181.4,
            "bin_end": 193.3,
            "count": 0
           },
           {
            "bin_start": 193.3,
            "bin_end": 205.2,
            "count": 0
           },
           {
            "bin_start": 205.2,
            "bin_end": 217.10000000000002,
            "count": 0
           },
           {
            "bin_start": 217.10000000000002,
            "bin_end": 229,
            "count": 1
           }
          ]
         }
        },
        {
         "name": "ada_twit_neg",
         "dtype": "float64",
         "stats": {
          "unique_count": 4,
          "nan_count": 0,
          "min": "1.0",
          "max": "10.0",
          "histogram": [
           {
            "bin_start": 1,
            "bin_end": 1.9,
            "count": 1
           },
           {
            "bin_start": 1.9,
            "bin_end": 2.8,
            "count": 0
           },
           {
            "bin_start": 2.8,
            "bin_end": 3.7,
            "count": 1
           },
           {
            "bin_start": 3.7,
            "bin_end": 4.6,
            "count": 2
           },
           {
            "bin_start": 4.6,
            "bin_end": 5.5,
            "count": 0
           },
           {
            "bin_start": 5.5,
            "bin_end": 6.4,
            "count": 0
           },
           {
            "bin_start": 6.4,
            "bin_end": 7.3,
            "count": 0
           },
           {
            "bin_start": 7.3,
            "bin_end": 8.2,
            "count": 0
           },
           {
            "bin_start": 8.2,
            "bin_end": 9.1,
            "count": 0
           },
           {
            "bin_start": 9.1,
            "bin_end": 10,
            "count": 1
           }
          ]
         }
        },
        {
         "name": "ada_close",
         "dtype": "float64",
         "stats": {
          "unique_count": 5,
          "nan_count": 0,
          "min": "0.055741",
          "max": "0.062635",
          "histogram": [
           {
            "bin_start": 0.055741,
            "bin_end": 0.0564304,
            "count": 1
           },
           {
            "bin_start": 0.0564304,
            "bin_end": 0.0571198,
            "count": 0
           },
           {
            "bin_start": 0.0571198,
            "bin_end": 0.0578092,
            "count": 0
           },
           {
            "bin_start": 0.0578092,
            "bin_end": 0.0584986,
            "count": 0
           },
           {
            "bin_start": 0.0584986,
            "bin_end": 0.059188,
            "count": 0
           },
           {
            "bin_start": 0.059188,
            "bin_end": 0.0598774,
            "count": 2
           },
           {
            "bin_start": 0.0598774,
            "bin_end": 0.0605668,
            "count": 0
           },
           {
            "bin_start": 0.0605668,
            "bin_end": 0.0612562,
            "count": 1
           },
           {
            "bin_start": 0.0612562,
            "bin_end": 0.061945599999999996,
            "count": 0
           },
           {
            "bin_start": 0.061945599999999996,
            "bin_end": 0.062635,
            "count": 1
           }
          ]
         }
        },
        {
         "name": "ada_open",
         "dtype": "float64",
         "stats": {
          "unique_count": 5,
          "nan_count": 0,
          "min": "0.05843",
          "max": "0.062641",
          "histogram": [
           {
            "bin_start": 0.05843,
            "bin_end": 0.0588511,
            "count": 1
           },
           {
            "bin_start": 0.0588511,
            "bin_end": 0.059272200000000004,
            "count": 0
           },
           {
            "bin_start": 0.059272200000000004,
            "bin_end": 0.059693300000000005,
            "count": 2
           },
           {
            "bin_start": 0.059693300000000005,
            "bin_end": 0.060114400000000005,
            "count": 0
           },
           {
            "bin_start": 0.060114400000000005,
            "bin_end": 0.060535500000000006,
            "count": 0
           },
           {
            "bin_start": 0.060535500000000006,
            "bin_end": 0.0609566,
            "count": 0
           },
           {
            "bin_start": 0.0609566,
            "bin_end": 0.0613777,
            "count": 1
           },
           {
            "bin_start": 0.0613777,
            "bin_end": 0.0617988,
            "count": 0
           },
           {
            "bin_start": 0.0617988,
            "bin_end": 0.0622199,
            "count": 0
           },
           {
            "bin_start": 0.0622199,
            "bin_end": 0.062641,
            "count": 1
           }
          ]
         }
        },
        {
         "name": "ada_high",
         "dtype": "float64",
         "stats": {
          "unique_count": 5,
          "nan_count": 0,
          "min": "0.05955",
          "max": "0.065022",
          "histogram": [
           {
            "bin_start": 0.05955,
            "bin_end": 0.060097199999999996,
            "count": 1
           },
           {
            "bin_start": 0.060097199999999996,
            "bin_end": 0.0606444,
            "count": 1
           },
           {
            "bin_start": 0.0606444,
            "bin_end": 0.0611916,
            "count": 0
           },
           {
            "bin_start": 0.0611916,
            "bin_end": 0.061738799999999996,
            "count": 0
           },
           {
            "bin_start": 0.061738799999999996,
            "bin_end": 0.062285999999999994,
            "count": 1
           },
           {
            "bin_start": 0.062285999999999994,
            "bin_end": 0.06283319999999999,
            "count": 0
           },
           {
            "bin_start": 0.06283319999999999,
            "bin_end": 0.0633804,
            "count": 0
           },
           {
            "bin_start": 0.0633804,
            "bin_end": 0.0639276,
            "count": 0
           },
           {
            "bin_start": 0.0639276,
            "bin_end": 0.0644748,
            "count": 1
           },
           {
            "bin_start": 0.0644748,
            "bin_end": 0.065022,
            "count": 1
           }
          ]
         }
        },
        {
         "name": "ada_low",
         "dtype": "float64",
         "stats": {
          "unique_count": 5,
          "nan_count": 0,
          "min": "0.055254",
          "max": "0.059444",
          "histogram": [
           {
            "bin_start": 0.055254,
            "bin_end": 0.055673,
            "count": 1
           },
           {
            "bin_start": 0.055673,
            "bin_end": 0.056091999999999996,
            "count": 1
           },
           {
            "bin_start": 0.056091999999999996,
            "bin_end": 0.056511,
            "count": 0
           },
           {
            "bin_start": 0.056511,
            "bin_end": 0.056929999999999994,
            "count": 0
           },
           {
            "bin_start": 0.056929999999999994,
            "bin_end": 0.057349,
            "count": 0
           },
           {
            "bin_start": 0.057349,
            "bin_end": 0.057768,
            "count": 0
           },
           {
            "bin_start": 0.057768,
            "bin_end": 0.058186999999999996,
            "count": 0
           },
           {
            "bin_start": 0.058186999999999996,
            "bin_end": 0.058606,
            "count": 1
           },
           {
            "bin_start": 0.058606,
            "bin_end": 0.059024999999999994,
            "count": 0
           },
           {
            "bin_start": 0.059024999999999994,
            "bin_end": 0.059444,
            "count": 2
           }
          ]
         }
        },
        {
         "name": "ada_vol",
         "dtype": "float64",
         "stats": {
          "unique_count": 5,
          "nan_count": 0,
          "min": "336810000.0",
          "max": "478500000.0",
          "histogram": [
           {
            "bin_start": 336810000,
            "bin_end": 350979000,
            "count": 1
           },
           {
            "bin_start": 350979000,
            "bin_end": 365148000,
            "count": 1
           },
           {
            "bin_start": 365148000,
            "bin_end": 379317000,
            "count": 0
           },
           {
            "bin_start": 379317000,
            "bin_end": 393486000,
            "count": 0
           },
           {
            "bin_start": 393486000,
            "bin_end": 407655000,
            "count": 0
           },
           {
            "bin_start": 407655000,
            "bin_end": 421824000,
            "count": 0
           },
           {
            "bin_start": 421824000,
            "bin_end": 435993000,
            "count": 0
           },
           {
            "bin_start": 435993000,
            "bin_end": 450162000,
            "count": 2
           },
           {
            "bin_start": 450162000,
            "bin_end": 464331000,
            "count": 0
           },
           {
            "bin_start": 464331000,
            "bin_end": 478500000,
            "count": 1
           }
          ]
         }
        },
        {
         "name": "ada_pct_change",
         "dtype": "float64",
         "stats": {
          "unique_count": 5,
          "nan_count": 0,
          "min": "-6.34",
          "max": "5.13",
          "histogram": [
           {
            "bin_start": -6.34,
            "bin_end": -5.193,
            "count": 1
           },
           {
            "bin_start": -5.193,
            "bin_end": -4.046,
            "count": 0
           },
           {
            "bin_start": -4.046,
            "bin_end": -2.8990000000000005,
            "count": 0
           },
           {
            "bin_start": -2.8990000000000005,
            "bin_end": -1.7520000000000007,
            "count": 2
           },
           {
            "bin_start": -1.7520000000000007,
            "bin_end": -0.6050000000000004,
            "count": 0
           },
           {
            "bin_start": -0.6050000000000004,
            "bin_end": 0.5419999999999989,
            "count": 0
           },
           {
            "bin_start": 0.5419999999999989,
            "bin_end": 1.6889999999999983,
            "count": 0
           },
           {
            "bin_start": 1.6889999999999983,
            "bin_end": 2.8359999999999985,
            "count": 1
           },
           {
            "bin_start": 2.8359999999999985,
            "bin_end": 3.9829999999999988,
            "count": 0
           },
           {
            "bin_start": 3.9829999999999988,
            "bin_end": 5.13,
            "count": 1
           }
          ]
         }
        },
        {
         "name": "_deepnote_index_column",
         "dtype": "int64"
        }
       ],
       "rows_top": [
        {
         "date": "2019-07-19",
         "btc_tel_pos": 4,
         "btc_tel_neu": 26,
         "btc_tel_neg": 4,
         "btc_twit_pos": 908,
         "btc_twit_neu": 6289,
         "btc_twit_neg": 297,
         "btc_close": 10571.5,
         "btc_open": 10651.6,
         "btc_high": 10758.4,
         "btc_low": 10160.7,
         "btc_vol": 727790,
         "btc_pct_change": -0.75,
         "eth_tel_pos": 1,
         "eth_tel_neu": 2,
         "eth_tel_neg": 0,
         "eth_twit_pos": 330,
         "eth_twit_neu": 2380,
         "eth_twit_neg": 91,
         "eth_close": 220.09,
         "eth_open": 225.23,
         "eth_high": 225.68,
         "eth_low": 213.57,
         "eth_vol": 9380000,
         "eth_pct_change": -2.28,
         "doge_tel_pos": 0,
         "doge_tel_neu": 0,
         "doge_tel_neg": 0,
         "doge_twit_pos": 7,
         "doge_twit_neu": 16,
         "doge_twit_neg": 0,
         "doge_close": 0.003039,
         "doge_open": 0.003114,
         "doge_high": 0.003249,
         "doge_low": 0.002959,
         "doge_vol": 1870000000,
         "doge_pct_change": -2.42,
         "ada_tel_pos": 0,
         "ada_tel_neu": 0,
         "ada_tel_neg": 0,
         "ada_twit_pos": 66,
         "ada_twit_neu": 142,
         "ada_twit_neg": 4,
         "ada_close": 0.059578,
         "ada_open": 0.05843,
         "ada_high": 0.060626,
         "ada_low": 0.056004,
         "ada_vol": 442660000,
         "ada_pct_change": 1.97,
         "_deepnote_index_column": 0
        },
        {
         "date": "2019-07-20",
         "btc_tel_pos": 2,
         "btc_tel_neu": 17,
         "btc_tel_neg": 2,
         "btc_twit_pos": 1553,
         "btc_twit_neu": 9950,
         "btc_twit_neg": 429,
         "btc_close": 10826.7,
         "btc_open": 10571.9,
         "btc_high": 11155.6,
         "btc_low": 10462,
         "btc_vol": 668940,
         "btc_pct_change": 2.41,
         "eth_tel_pos": 0,
         "eth_tel_neu": 2,
         "eth_tel_neg": 1,
         "eth_twit_pos": 492,
         "eth_twit_neu": 3353,
         "eth_twit_neg": 122,
         "eth_close": 227.86,
         "eth_open": 220.11,
         "eth_high": 233.7,
         "eth_low": 219.8,
         "eth_vol": 9120000,
         "eth_pct_change": 3.53,
         "doge_tel_pos": 0,
         "doge_tel_neu": 0,
         "doge_tel_neg": 0,
         "doge_twit_pos": 17,
         "doge_twit_neu": 35,
         "doge_twit_neg": 0,
         "doge_close": 0.0031079999999999,
         "doge_open": 0.003046,
         "doge_high": 0.0032049999999999,
         "doge_low": 0.002954,
         "doge_vol": 2040000000,
         "doge_pct_change": 2.25,
         "ada_tel_pos": 0,
         "ada_tel_neu": 0,
         "ada_tel_neg": 0,
         "ada_twit_pos": 52,
         "ada_twit_neu": 112,
         "ada_twit_neg": 1,
         "ada_close": 0.062635,
         "ada_open": 0.059578,
         "ada_high": 0.065022,
         "ada_low": 0.059341,
         "ada_vol": 449800000,
         "ada_pct_change": 5.13,
         "_deepnote_index_column": 1
        },
        {
         "date": "2019-07-21",
         "btc_tel_pos": 1,
         "btc_tel_neu": 17,
         "btc_tel_neg": 0,
         "btc_twit_pos": 1392,
         "btc_twit_neu": 9478,
         "btc_twit_neg": 360,
         "btc_close": 10714.4,
         "btc_open": 10827,
         "btc_high": 10883.8,
         "btc_low": 10442.5,
         "btc_vol": 562170,
         "btc_pct_change": -1.04,
         "eth_tel_pos": 0,
         "eth_tel_neu": 1,
         "eth_tel_neg": 0,
         "eth_twit_pos": 428,
         "eth_twit_neu": 3566,
         "eth_twit_neg": 115,
         "eth_close": 225.01,
         "eth_open": 227.83,
         "eth_high": 228.76,
         "eth_low": 217.72,
         "eth_vol": 8500000,
         "eth_pct_change": -1.25,
         "doge_tel_pos": 0,
         "doge_tel_neu": 0,
         "doge_tel_neg": 0,
         "doge_twit_pos": 13,
         "doge_twit_neu": 26,
         "doge_twit_neg": 0,
         "doge_close": 0.003078,
         "doge_open": 0.0031079999999999,
         "doge_high": 0.003159,
         "doge_low": 0.0028899999999999,
         "doge_vol": 1920000000,
         "doge_pct_change": -0.94,
         "ada_tel_pos": 0,
         "ada_tel_neu": 0,
         "ada_tel_neg": 0,
         "ada_twit_pos": 32,
         "ada_twit_neu": 110,
         "ada_twit_neg": 3,
         "ada_close": 0.061109,
         "ada_open": 0.062641,
         "ada_high": 0.063998,
         "ada_low": 0.059444,
         "ada_vol": 352390000,
         "ada_pct_change": -2.43,
         "_deepnote_index_column": 2
        },
        {
         "date": "2019-07-22",
         "btc_tel_pos": 0,
         "btc_tel_neu": 26,
         "btc_tel_neg": 2,
         "btc_twit_pos": 1706,
         "btc_twit_neu": 10734,
         "btc_twit_neg": 444,
         "btc_close": 10412.5,
         "btc_open": 10715.1,
         "btc_high": 10806.3,
         "btc_low": 10196.5,
         "btc_vol": 591270,
         "btc_pct_change": -2.82,
         "eth_tel_pos": 0,
         "eth_tel_neu": 3,
         "eth_tel_neg": 0,
         "eth_twit_pos": 545,
         "eth_twit_neu": 4293,
         "eth_twit_neg": 104,
         "eth_close": 217.27,
         "eth_open": 225.03,
         "eth_high": 227.47,
         "eth_low": 212.46,
         "eth_vol": 8600000,
         "eth_pct_change": -3.44,
         "doge_tel_pos": 0,
         "doge_tel_neu": 0,
         "doge_tel_neg": 0,
         "doge_twit_pos": 6,
         "doge_twit_neu": 30,
         "doge_twit_neg": 1,
         "doge_close": 0.003013,
         "doge_open": 0.003078,
         "doge_high": 0.003114,
         "doge_low": 0.002937,
         "doge_vol": 2420000000,
         "doge_pct_change": -2.13,
         "ada_tel_pos": 0,
         "ada_tel_neu": 0,
         "ada_tel_neg": 0,
         "ada_twit_pos": 78,
         "ada_twit_neu": 174,
         "ada_twit_neg": 4,
         "ada_close": 0.059512,
         "ada_open": 0.061123,
         "ada_high": 0.062021,
         "ada_low": 0.058196,
         "ada_vol": 336810000,
         "ada_pct_change": -2.61,
         "_deepnote_index_column": 3
        },
        {
         "date": "2019-07-23",
         "btc_tel_pos": 1,
         "btc_tel_neu": 13,
         "btc_tel_neg": 1,
         "btc_twit_pos": 1554,
         "btc_twit_neu": 10801,
         "btc_twit_neg": 473,
         "btc_close": 9888.7,
         "btc_open": 10412.8,
         "btc_high": 10414.7,
         "btc_low": 9865.4,
         "btc_vol": 663380,
         "btc_pct_change": -5.03,
         "eth_tel_pos": 0,
         "eth_tel_neu": 3,
         "eth_tel_neg": 0,
         "eth_twit_pos": 455,
         "eth_twit_neu": 4132,
         "eth_twit_neg": 109,
         "eth_close": 211.87,
         "eth_open": 217.27,
         "eth_high": 218.03,
         "eth_low": 208.31,
         "eth_vol": 8700000,
         "eth_pct_change": -2.49,
         "doge_tel_pos": 0,
         "doge_tel_neu": 0,
         "doge_tel_neg": 0,
         "doge_twit_pos": 14,
         "doge_twit_neu": 20,
         "doge_twit_neg": 0,
         "doge_close": 0.002882,
         "doge_open": 0.003013,
         "doge_high": 0.003019,
         "doge_low": 0.002879,
         "doge_vol": 2200000000,
         "doge_pct_change": -4.33,
         "ada_tel_pos": 0,
         "ada_tel_neu": 0,
         "ada_tel_neg": 0,
         "ada_twit_pos": 71,
         "ada_twit_neu": 229,
         "ada_twit_neg": 10,
         "ada_close": 0.055741,
         "ada_open": 0.059511,
         "ada_high": 0.05955,
         "ada_low": 0.055254,
         "ada_vol": 478500000,
         "ada_pct_change": -6.34,
         "_deepnote_index_column": 4
        }
       ],
       "rows_bottom": null
      },
      "text/plain": "         date  btc_tel_pos  btc_tel_neu  btc_tel_neg  btc_twit_pos  \\\n0  2019-07-19          4.0         26.0          4.0         908.0   \n1  2019-07-20          2.0         17.0          2.0        1553.0   \n2  2019-07-21          1.0         17.0          0.0        1392.0   \n3  2019-07-22          0.0         26.0          2.0        1706.0   \n4  2019-07-23          1.0         13.0          1.0        1554.0   \n\n   btc_twit_neu  btc_twit_neg  btc_close  btc_open  btc_high  ...  \\\n0        6289.0         297.0    10571.5   10651.6   10758.4  ...   \n1        9950.0         429.0    10826.7   10571.9   11155.6  ...   \n2        9478.0         360.0    10714.4   10827.0   10883.8  ...   \n3       10734.0         444.0    10412.5   10715.1   10806.3  ...   \n4       10801.0         473.0     9888.7   10412.8   10414.7  ...   \n\n   ada_tel_neg  ada_twit_pos  ada_twit_neu  ada_twit_neg  ada_close  ada_open  \\\n0          0.0          66.0         142.0           4.0   0.059578  0.058430   \n1          0.0          52.0         112.0           1.0   0.062635  0.059578   \n2          0.0          32.0         110.0           3.0   0.061109  0.062641   \n3          0.0          78.0         174.0           4.0   0.059512  0.061123   \n4          0.0          71.0         229.0          10.0   0.055741  0.059511   \n\n   ada_high   ada_low      ada_vol  ada_pct_change  \n0  0.060626  0.056004  442660000.0            1.97  \n1  0.065022  0.059341  449800000.0            5.13  \n2  0.063998  0.059444  352390000.0           -2.43  \n3  0.062021  0.058196  336810000.0           -2.61  \n4  0.059550  0.055254  478500000.0           -6.34  \n\n[5 rows x 49 columns]",
      "text/html": "<div>\n<style scoped>\n    .dataframe tbody tr th:only-of-type {\n        vertical-align: middle;\n    }\n\n    .dataframe tbody tr th {\n        vertical-align: top;\n    }\n\n    .dataframe thead th {\n        text-align: right;\n    }\n</style>\n<table border=\"1\" class=\"dataframe\">\n  <thead>\n    <tr style=\"text-align: right;\">\n      <th></th>\n      <th>date</th>\n      <th>btc_tel_pos</th>\n      <th>btc_tel_neu</th>\n      <th>btc_tel_neg</th>\n      <th>btc_twit_pos</th>\n      <th>btc_twit_neu</th>\n      <th>btc_twit_neg</th>\n      <th>btc_close</th>\n      <th>btc_open</th>\n      <th>btc_high</th>\n      <th>...</th>\n      <th>ada_tel_neg</th>\n      <th>ada_twit_pos</th>\n      <th>ada_twit_neu</th>\n      <th>ada_twit_neg</th>\n      <th>ada_close</th>\n      <th>ada_open</th>\n      <th>ada_high</th>\n      <th>ada_low</th>\n      <th>ada_vol</th>\n      <th>ada_pct_change</th>\n    </tr>\n  </thead>\n  <tbody>\n    <tr>\n      <th>0</th>\n      <td>2019-07-19</td>\n      <td>4.0</td>\n      <td>26.0</td>\n      <td>4.0</td>\n      <td>908.0</td>\n      <td>6289.0</td>\n      <td>297.0</td>\n      <td>10571.5</td>\n      <td>10651.6</td>\n      <td>10758.4</td>\n      <td>...</td>\n      <td>0.0</td>\n      <td>66.0</td>\n      <td>142.0</td>\n      <td>4.0</td>\n      <td>0.059578</td>\n      <td>0.058430</td>\n      <td>0.060626</td>\n      <td>0.056004</td>\n      <td>442660000.0</td>\n      <td>1.97</td>\n    </tr>\n    <tr>\n      <th>1</th>\n      <td>2019-07-20</td>\n      <td>2.0</td>\n      <td>17.0</td>\n      <td>2.0</td>\n      <td>1553.0</td>\n      <td>9950.0</td>\n      <td>429.0</td>\n      <td>10826.7</td>\n      <td>10571.9</td>\n      <td>11155.6</td>\n      <td>...</td>\n      <td>0.0</td>\n      <td>52.0</td>\n      <td>112.0</td>\n      <td>1.0</td>\n      <td>0.062635</td>\n      <td>0.059578</td>\n      <td>0.065022</td>\n      <td>0.059341</td>\n      <td>449800000.0</td>\n      <td>5.13</td>\n    </tr>\n    <tr>\n      <th>2</th>\n      <td>2019-07-21</td>\n      <td>1.0</td>\n      <td>17.0</td>\n      <td>0.0</td>\n      <td>1392.0</td>\n      <td>9478.0</td>\n      <td>360.0</td>\n      <td>10714.4</td>\n      <td>10827.0</td>\n      <td>10883.8</td>\n      <td>...</td>\n      <td>0.0</td>\n      <td>32.0</td>\n      <td>110.0</td>\n      <td>3.0</td>\n      <td>0.061109</td>\n      <td>0.062641</td>\n      <td>0.063998</td>\n      <td>0.059444</td>\n      <td>352390000.0</td>\n      <td>-2.43</td>\n    </tr>\n    <tr>\n      <th>3</th>\n      <td>2019-07-22</td>\n      <td>0.0</td>\n      <td>26.0</td>\n      <td>2.0</td>\n      <td>1706.0</td>\n      <td>10734.0</td>\n      <td>444.0</td>\n      <td>10412.5</td>\n      <td>10715.1</td>\n      <td>10806.3</td>\n      <td>...</td>\n      <td>0.0</td>\n      <td>78.0</td>\n      <td>174.0</td>\n      <td>4.0</td>\n      <td>0.059512</td>\n      <td>0.061123</td>\n      <td>0.062021</td>\n      <td>0.058196</td>\n      <td>336810000.0</td>\n      <td>-2.61</td>\n    </tr>\n    <tr>\n      <th>4</th>\n      <td>2019-07-23</td>\n      <td>1.0</td>\n      <td>13.0</td>\n      <td>1.0</td>\n      <td>1554.0</td>\n      <td>10801.0</td>\n      <td>473.0</td>\n      <td>9888.7</td>\n      <td>10412.8</td>\n      <td>10414.7</td>\n      <td>...</td>\n      <td>0.0</td>\n      <td>71.0</td>\n      <td>229.0</td>\n      <td>10.0</td>\n      <td>0.055741</td>\n      <td>0.059511</td>\n      <td>0.059550</td>\n      <td>0.055254</td>\n      <td>478500000.0</td>\n      <td>-6.34</td>\n    </tr>\n  </tbody>\n</table>\n<p>5 rows × 49 columns</p>\n</div>"
     },
     "metadata": {}
    }
   ]
  },
  {
   "cell_type": "markdown",
   "source": "The above dataframe consists of 49 variables. The data is a daily time series, with the relevant dates tracked in the \"date\" column. The remaining 48 variables are first seperated by the four cryptocurrencies we are analyzing, namely Bitcoin (BTC), Ethereum (ETH), Dogecoin (DOGE), and Cardano (ADA). We then have the daily counts of both the positive, neutral, and negative mentions each cryptocurrency received on both Twitter, and Telegram. For example, the \"btc_tel_pos\" contains the number of positive mentions BTC received each day,\"doge_twit_neu\" contains the number of neutral mentions DOGE received each day. Additionally, each cryptocurrency has price and trading volume data. To again use BTC as an example, for each day, btc_close represenents the closing price, btc_open represenents the opening price, btc_high represents the highest price BTC hit that day, btc_low represents the lowest price BTC hit that day, btc_vol represents the number of BTC transactions that were made that day, and btc_pct_change represents the percent change from BTC's closing price the day before to the closing price of that day.",
   "metadata": {
    "tags": [],
    "cell_id": "00017-4d084417-ca32-4346-b4ad-94e0c794f0f0",
    "deepnote_cell_type": "markdown"
   }
  },
  {
   "cell_type": "markdown",
   "source": "To see if we have any missing data, let's count the number of NaN values in each column",
   "metadata": {
    "tags": [],
    "cell_id": "00016-6106bfc4-3928-4c74-a668-54bd57d1f2a3",
    "deepnote_cell_type": "markdown"
   }
  },
  {
   "cell_type": "code",
   "metadata": {
    "tags": [],
    "cell_id": "00015-e38080ff-b89a-4f69-8124-d0ca65a62d1e",
    "deepnote_to_be_reexecuted": false,
    "source_hash": "65054536",
    "execution_start": 1634779543273,
    "execution_millis": 3,
    "deepnote_cell_type": "code"
   },
   "source": "print(\"NaN counts by column in sentiment_and_trading:\")\nprint(sentiment_and_trading.isna().sum())",
   "execution_count": 7,
   "outputs": [
    {
     "name": "stdout",
     "text": "NaN counts by column in sentiment_and_trading:\ndate               0\nbtc_tel_pos        6\nbtc_tel_neu        6\nbtc_tel_neg        6\nbtc_twit_pos       6\nbtc_twit_neu       6\nbtc_twit_neg       6\nbtc_close          0\nbtc_open           0\nbtc_high           0\nbtc_low            0\nbtc_vol            0\nbtc_pct_change     0\neth_tel_pos        5\neth_tel_neu        5\neth_tel_neg        5\neth_twit_pos       5\neth_twit_neu       5\neth_twit_neg       5\neth_close          0\neth_open           0\neth_high           0\neth_low            0\neth_vol            0\neth_pct_change     0\ndoge_tel_pos       4\ndoge_tel_neu       4\ndoge_tel_neg       4\ndoge_twit_pos      4\ndoge_twit_neu      4\ndoge_twit_neg      4\ndoge_close         0\ndoge_open          0\ndoge_high          0\ndoge_low           0\ndoge_vol           0\ndoge_pct_change    0\nada_tel_pos        5\nada_tel_neu        5\nada_tel_neg        5\nada_twit_pos       5\nada_twit_neu       5\nada_twit_neg       5\nada_close          0\nada_open           0\nada_high           0\nada_low            0\nada_vol            0\nada_pct_change     0\ndtype: int64\n",
     "output_type": "stream"
    }
   ]
  },
  {
   "cell_type": "markdown",
   "source": "We can see that none of the price data is missing. Furthermore, we can see that for each coin (BTC, ETH, DOGE, and ADA), the Telegram and Twitter sentiment columns all have the same number of NaN values. That could indicate if an observation has a NaN value in one column, the other sentiment columns will have NaN values as well. We can check this by looking at the observations in each coin's \\_social datframe where one of it's columns has NaN values.",
   "metadata": {
    "tags": [],
    "cell_id": "00017-acbadabb-37e6-49b7-a10a-1dece6730c26",
    "deepnote_cell_type": "markdown"
   }
  },
  {
   "cell_type": "code",
   "metadata": {
    "tags": [],
    "cell_id": "00018-a56cd23d-11e8-44d3-8c26-60d9c175b3d4",
    "deepnote_to_be_reexecuted": false,
    "source_hash": "12495db3",
    "execution_start": 1634779543279,
    "execution_millis": 118,
    "deepnote_cell_type": "code"
   },
   "source": "print(\"Observations in btc_social where btc_tel_pos has an NaN value\")\ndisplay(btc_social[btc_social[\"btc_tel_pos\"].isna()])\n\nprint(\"\\nObservations in eth_social where eth_tel_pos has an NaN value\")\ndisplay(eth_social[eth_social[\"eth_tel_pos\"].isna()])\n\nprint(\"\\nObservations in doge_social where doge_tel_pos has an NaN value\")\ndisplay(doge_social[doge_social[\"doge_tel_pos\"].isna()])\n\nprint(\"\\nObservations in ada_social where ada_tel_pos has an NaN value\")\ndisplay(ada_social[ada_social[\"ada_tel_pos\"].isna()])",
   "execution_count": 8,
   "outputs": [
    {
     "name": "stdout",
     "text": "Observations in btc_social where btc_tel_pos has an NaN value\n",
     "output_type": "stream"
    },
    {
     "data": {
      "application/vnd.deepnote.dataframe.v2+json": {
       "row_count": 6,
       "column_count": 7,
       "columns": [
        {
         "name": "date",
         "dtype": "object",
         "stats": {
          "unique_count": 6,
          "nan_count": 0,
          "categories": [
           {
            "name": "2021-04-18",
            "count": 1
           },
           {
            "name": "2021-05-25",
            "count": 1
           },
           {
            "name": "4 others",
            "count": 4
           }
          ]
         }
        },
        {
         "name": "btc_tel_pos",
         "dtype": "float64",
         "stats": {
          "unique_count": 0,
          "nan_count": 6,
          "min": null,
          "max": null,
          "histogram": [
           {
            "bin_start": 0,
            "bin_end": 0.1,
            "count": 0
           },
           {
            "bin_start": 0.1,
            "bin_end": 0.2,
            "count": 0
           },
           {
            "bin_start": 0.2,
            "bin_end": 0.30000000000000004,
            "count": 0
           },
           {
            "bin_start": 0.30000000000000004,
            "bin_end": 0.4,
            "count": 0
           },
           {
            "bin_start": 0.4,
            "bin_end": 0.5,
            "count": 0
           },
           {
            "bin_start": 0.5,
            "bin_end": 0.6000000000000001,
            "count": 0
           },
           {
            "bin_start": 0.6000000000000001,
            "bin_end": 0.7000000000000001,
            "count": 0
           },
           {
            "bin_start": 0.7000000000000001,
            "bin_end": 0.8,
            "count": 0
           },
           {
            "bin_start": 0.8,
            "bin_end": 0.9,
            "count": 0
           },
           {
            "bin_start": 0.9,
            "bin_end": 1,
            "count": 0
           }
          ]
         }
        },
        {
         "name": "btc_tel_neu",
         "dtype": "float64",
         "stats": {
          "unique_count": 0,
          "nan_count": 6,
          "min": null,
          "max": null,
          "histogram": [
           {
            "bin_start": 0,
            "bin_end": 0.1,
            "count": 0
           },
           {
            "bin_start": 0.1,
            "bin_end": 0.2,
            "count": 0
           },
           {
            "bin_start": 0.2,
            "bin_end": 0.30000000000000004,
            "count": 0
           },
           {
            "bin_start": 0.30000000000000004,
            "bin_end": 0.4,
            "count": 0
           },
           {
            "bin_start": 0.4,
            "bin_end": 0.5,
            "count": 0
           },
           {
            "bin_start": 0.5,
            "bin_end": 0.6000000000000001,
            "count": 0
           },
           {
            "bin_start": 0.6000000000000001,
            "bin_end": 0.7000000000000001,
            "count": 0
           },
           {
            "bin_start": 0.7000000000000001,
            "bin_end": 0.8,
            "count": 0
           },
           {
            "bin_start": 0.8,
            "bin_end": 0.9,
            "count": 0
           },
           {
            "bin_start": 0.9,
            "bin_end": 1,
            "count": 0
           }
          ]
         }
        },
        {
         "name": "btc_tel_neg",
         "dtype": "float64",
         "stats": {
          "unique_count": 0,
          "nan_count": 6,
          "min": null,
          "max": null,
          "histogram": [
           {
            "bin_start": 0,
            "bin_end": 0.1,
            "count": 0
           },
           {
            "bin_start": 0.1,
            "bin_end": 0.2,
            "count": 0
           },
           {
            "bin_start": 0.2,
            "bin_end": 0.30000000000000004,
            "count": 0
           },
           {
            "bin_start": 0.30000000000000004,
            "bin_end": 0.4,
            "count": 0
           },
           {
            "bin_start": 0.4,
            "bin_end": 0.5,
            "count": 0
           },
           {
            "bin_start": 0.5,
            "bin_end": 0.6000000000000001,
            "count": 0
           },
           {
            "bin_start": 0.6000000000000001,
            "bin_end": 0.7000000000000001,
            "count": 0
           },
           {
            "bin_start": 0.7000000000000001,
            "bin_end": 0.8,
            "count": 0
           },
           {
            "bin_start": 0.8,
            "bin_end": 0.9,
            "count": 0
           },
           {
            "bin_start": 0.9,
            "bin_end": 1,
            "count": 0
           }
          ]
         }
        },
        {
         "name": "btc_twit_pos",
         "dtype": "float64",
         "stats": {
          "unique_count": 0,
          "nan_count": 6,
          "min": null,
          "max": null,
          "histogram": [
           {
            "bin_start": 0,
            "bin_end": 0.1,
            "count": 0
           },
           {
            "bin_start": 0.1,
            "bin_end": 0.2,
            "count": 0
           },
           {
            "bin_start": 0.2,
            "bin_end": 0.30000000000000004,
            "count": 0
           },
           {
            "bin_start": 0.30000000000000004,
            "bin_end": 0.4,
            "count": 0
           },
           {
            "bin_start": 0.4,
            "bin_end": 0.5,
            "count": 0
           },
           {
            "bin_start": 0.5,
            "bin_end": 0.6000000000000001,
            "count": 0
           },
           {
            "bin_start": 0.6000000000000001,
            "bin_end": 0.7000000000000001,
            "count": 0
           },
           {
            "bin_start": 0.7000000000000001,
            "bin_end": 0.8,
            "count": 0
           },
           {
            "bin_start": 0.8,
            "bin_end": 0.9,
            "count": 0
           },
           {
            "bin_start": 0.9,
            "bin_end": 1,
            "count": 0
           }
          ]
         }
        },
        {
         "name": "btc_twit_neu",
         "dtype": "float64",
         "stats": {
          "unique_count": 0,
          "nan_count": 6,
          "min": null,
          "max": null,
          "histogram": [
           {
            "bin_start": 0,
            "bin_end": 0.1,
            "count": 0
           },
           {
            "bin_start": 0.1,
            "bin_end": 0.2,
            "count": 0
           },
           {
            "bin_start": 0.2,
            "bin_end": 0.30000000000000004,
            "count": 0
           },
           {
            "bin_start": 0.30000000000000004,
            "bin_end": 0.4,
            "count": 0
           },
           {
            "bin_start": 0.4,
            "bin_end": 0.5,
            "count": 0
           },
           {
            "bin_start": 0.5,
            "bin_end": 0.6000000000000001,
            "count": 0
           },
           {
            "bin_start": 0.6000000000000001,
            "bin_end": 0.7000000000000001,
            "count": 0
           },
           {
            "bin_start": 0.7000000000000001,
            "bin_end": 0.8,
            "count": 0
           },
           {
            "bin_start": 0.8,
            "bin_end": 0.9,
            "count": 0
           },
           {
            "bin_start": 0.9,
            "bin_end": 1,
            "count": 0
           }
          ]
         }
        },
        {
         "name": "btc_twit_neg",
         "dtype": "float64",
         "stats": {
          "unique_count": 0,
          "nan_count": 6,
          "min": null,
          "max": null,
          "histogram": [
           {
            "bin_start": 0,
            "bin_end": 0.1,
            "count": 0
           },
           {
            "bin_start": 0.1,
            "bin_end": 0.2,
            "count": 0
           },
           {
            "bin_start": 0.2,
            "bin_end": 0.30000000000000004,
            "count": 0
           },
           {
            "bin_start": 0.30000000000000004,
            "bin_end": 0.4,
            "count": 0
           },
           {
            "bin_start": 0.4,
            "bin_end": 0.5,
            "count": 0
           },
           {
            "bin_start": 0.5,
            "bin_end": 0.6000000000000001,
            "count": 0
           },
           {
            "bin_start": 0.6000000000000001,
            "bin_end": 0.7000000000000001,
            "count": 0
           },
           {
            "bin_start": 0.7000000000000001,
            "bin_end": 0.8,
            "count": 0
           },
           {
            "bin_start": 0.8,
            "bin_end": 0.9,
            "count": 0
           },
           {
            "bin_start": 0.9,
            "bin_end": 1,
            "count": 0
           }
          ]
         }
        },
        {
         "name": "_deepnote_index_column",
         "dtype": "int64"
        }
       ],
       "rows_top": [
        {
         "date": "2021-04-18",
         "btc_tel_pos": "nan",
         "btc_tel_neu": "nan",
         "btc_tel_neg": "nan",
         "btc_twit_pos": "nan",
         "btc_twit_neu": "nan",
         "btc_twit_neg": "nan",
         "_deepnote_index_column": 639
        },
        {
         "date": "2021-05-25",
         "btc_tel_pos": "nan",
         "btc_tel_neu": "nan",
         "btc_tel_neg": "nan",
         "btc_twit_pos": "nan",
         "btc_twit_neu": "nan",
         "btc_twit_neg": "nan",
         "_deepnote_index_column": 676
        },
        {
         "date": "2021-05-26",
         "btc_tel_pos": "nan",
         "btc_tel_neu": "nan",
         "btc_tel_neg": "nan",
         "btc_twit_pos": "nan",
         "btc_twit_neu": "nan",
         "btc_twit_neg": "nan",
         "_deepnote_index_column": 677
        },
        {
         "date": "2021-05-29",
         "btc_tel_pos": "nan",
         "btc_tel_neu": "nan",
         "btc_tel_neg": "nan",
         "btc_twit_pos": "nan",
         "btc_twit_neu": "nan",
         "btc_twit_neg": "nan",
         "_deepnote_index_column": 680
        },
        {
         "date": "2021-05-31",
         "btc_tel_pos": "nan",
         "btc_tel_neu": "nan",
         "btc_tel_neg": "nan",
         "btc_twit_pos": "nan",
         "btc_twit_neu": "nan",
         "btc_twit_neg": "nan",
         "_deepnote_index_column": 682
        },
        {
         "date": "2021-06-08",
         "btc_tel_pos": "nan",
         "btc_tel_neu": "nan",
         "btc_tel_neg": "nan",
         "btc_twit_pos": "nan",
         "btc_twit_neu": "nan",
         "btc_twit_neg": "nan",
         "_deepnote_index_column": 690
        }
       ],
       "rows_bottom": null
      },
      "text/plain": "           date  btc_tel_pos  btc_tel_neu  btc_tel_neg  btc_twit_pos  \\\n639  2021-04-18          NaN          NaN          NaN           NaN   \n676  2021-05-25          NaN          NaN          NaN           NaN   \n677  2021-05-26          NaN          NaN          NaN           NaN   \n680  2021-05-29          NaN          NaN          NaN           NaN   \n682  2021-05-31          NaN          NaN          NaN           NaN   \n690  2021-06-08          NaN          NaN          NaN           NaN   \n\n     btc_twit_neu  btc_twit_neg  \n639           NaN           NaN  \n676           NaN           NaN  \n677           NaN           NaN  \n680           NaN           NaN  \n682           NaN           NaN  \n690           NaN           NaN  ",
      "text/html": "<div>\n<style scoped>\n    .dataframe tbody tr th:only-of-type {\n        vertical-align: middle;\n    }\n\n    .dataframe tbody tr th {\n        vertical-align: top;\n    }\n\n    .dataframe thead th {\n        text-align: right;\n    }\n</style>\n<table border=\"1\" class=\"dataframe\">\n  <thead>\n    <tr style=\"text-align: right;\">\n      <th></th>\n      <th>date</th>\n      <th>btc_tel_pos</th>\n      <th>btc_tel_neu</th>\n      <th>btc_tel_neg</th>\n      <th>btc_twit_pos</th>\n      <th>btc_twit_neu</th>\n      <th>btc_twit_neg</th>\n    </tr>\n  </thead>\n  <tbody>\n    <tr>\n      <th>639</th>\n      <td>2021-04-18</td>\n      <td>NaN</td>\n      <td>NaN</td>\n      <td>NaN</td>\n      <td>NaN</td>\n      <td>NaN</td>\n      <td>NaN</td>\n    </tr>\n    <tr>\n      <th>676</th>\n      <td>2021-05-25</td>\n      <td>NaN</td>\n      <td>NaN</td>\n      <td>NaN</td>\n      <td>NaN</td>\n      <td>NaN</td>\n      <td>NaN</td>\n    </tr>\n    <tr>\n      <th>677</th>\n      <td>2021-05-26</td>\n      <td>NaN</td>\n      <td>NaN</td>\n      <td>NaN</td>\n      <td>NaN</td>\n      <td>NaN</td>\n      <td>NaN</td>\n    </tr>\n    <tr>\n      <th>680</th>\n      <td>2021-05-29</td>\n      <td>NaN</td>\n      <td>NaN</td>\n      <td>NaN</td>\n      <td>NaN</td>\n      <td>NaN</td>\n      <td>NaN</td>\n    </tr>\n    <tr>\n      <th>682</th>\n      <td>2021-05-31</td>\n      <td>NaN</td>\n      <td>NaN</td>\n      <td>NaN</td>\n      <td>NaN</td>\n      <td>NaN</td>\n      <td>NaN</td>\n    </tr>\n    <tr>\n      <th>690</th>\n      <td>2021-06-08</td>\n      <td>NaN</td>\n      <td>NaN</td>\n      <td>NaN</td>\n      <td>NaN</td>\n      <td>NaN</td>\n      <td>NaN</td>\n    </tr>\n  </tbody>\n</table>\n</div>"
     },
     "metadata": {},
     "output_type": "display_data"
    },
    {
     "name": "stdout",
     "text": "\nObservations in eth_social where eth_tel_pos has an NaN value\n",
     "output_type": "stream"
    },
    {
     "data": {
      "application/vnd.deepnote.dataframe.v2+json": {
       "row_count": 5,
       "column_count": 7,
       "columns": [
        {
         "name": "date",
         "dtype": "object",
         "stats": {
          "unique_count": 5,
          "nan_count": 0,
          "categories": [
           {
            "name": "2021-04-18",
            "count": 1
           },
           {
            "name": "2021-04-19",
            "count": 1
           },
           {
            "name": "3 others",
            "count": 3
           }
          ]
         }
        },
        {
         "name": "eth_tel_pos",
         "dtype": "float64",
         "stats": {
          "unique_count": 0,
          "nan_count": 5,
          "min": null,
          "max": null,
          "histogram": [
           {
            "bin_start": 0,
            "bin_end": 0.1,
            "count": 0
           },
           {
            "bin_start": 0.1,
            "bin_end": 0.2,
            "count": 0
           },
           {
            "bin_start": 0.2,
            "bin_end": 0.30000000000000004,
            "count": 0
           },
           {
            "bin_start": 0.30000000000000004,
            "bin_end": 0.4,
            "count": 0
           },
           {
            "bin_start": 0.4,
            "bin_end": 0.5,
            "count": 0
           },
           {
            "bin_start": 0.5,
            "bin_end": 0.6000000000000001,
            "count": 0
           },
           {
            "bin_start": 0.6000000000000001,
            "bin_end": 0.7000000000000001,
            "count": 0
           },
           {
            "bin_start": 0.7000000000000001,
            "bin_end": 0.8,
            "count": 0
           },
           {
            "bin_start": 0.8,
            "bin_end": 0.9,
            "count": 0
           },
           {
            "bin_start": 0.9,
            "bin_end": 1,
            "count": 0
           }
          ]
         }
        },
        {
         "name": "eth_tel_neu",
         "dtype": "float64",
         "stats": {
          "unique_count": 0,
          "nan_count": 5,
          "min": null,
          "max": null,
          "histogram": [
           {
            "bin_start": 0,
            "bin_end": 0.1,
            "count": 0
           },
           {
            "bin_start": 0.1,
            "bin_end": 0.2,
            "count": 0
           },
           {
            "bin_start": 0.2,
            "bin_end": 0.30000000000000004,
            "count": 0
           },
           {
            "bin_start": 0.30000000000000004,
            "bin_end": 0.4,
            "count": 0
           },
           {
            "bin_start": 0.4,
            "bin_end": 0.5,
            "count": 0
           },
           {
            "bin_start": 0.5,
            "bin_end": 0.6000000000000001,
            "count": 0
           },
           {
            "bin_start": 0.6000000000000001,
            "bin_end": 0.7000000000000001,
            "count": 0
           },
           {
            "bin_start": 0.7000000000000001,
            "bin_end": 0.8,
            "count": 0
           },
           {
            "bin_start": 0.8,
            "bin_end": 0.9,
            "count": 0
           },
           {
            "bin_start": 0.9,
            "bin_end": 1,
            "count": 0
           }
          ]
         }
        },
        {
         "name": "eth_tel_neg",
         "dtype": "float64",
         "stats": {
          "unique_count": 0,
          "nan_count": 5,
          "min": null,
          "max": null,
          "histogram": [
           {
            "bin_start": 0,
            "bin_end": 0.1,
            "count": 0
           },
           {
            "bin_start": 0.1,
            "bin_end": 0.2,
            "count": 0
           },
           {
            "bin_start": 0.2,
            "bin_end": 0.30000000000000004,
            "count": 0
           },
           {
            "bin_start": 0.30000000000000004,
            "bin_end": 0.4,
            "count": 0
           },
           {
            "bin_start": 0.4,
            "bin_end": 0.5,
            "count": 0
           },
           {
            "bin_start": 0.5,
            "bin_end": 0.6000000000000001,
            "count": 0
           },
           {
            "bin_start": 0.6000000000000001,
            "bin_end": 0.7000000000000001,
            "count": 0
           },
           {
            "bin_start": 0.7000000000000001,
            "bin_end": 0.8,
            "count": 0
           },
           {
            "bin_start": 0.8,
            "bin_end": 0.9,
            "count": 0
           },
           {
            "bin_start": 0.9,
            "bin_end": 1,
            "count": 0
           }
          ]
         }
        },
        {
         "name": "eth_twit_pos",
         "dtype": "float64",
         "stats": {
          "unique_count": 0,
          "nan_count": 5,
          "min": null,
          "max": null,
          "histogram": [
           {
            "bin_start": 0,
            "bin_end": 0.1,
            "count": 0
           },
           {
            "bin_start": 0.1,
            "bin_end": 0.2,
            "count": 0
           },
           {
            "bin_start": 0.2,
            "bin_end": 0.30000000000000004,
            "count": 0
           },
           {
            "bin_start": 0.30000000000000004,
            "bin_end": 0.4,
            "count": 0
           },
           {
            "bin_start": 0.4,
            "bin_end": 0.5,
            "count": 0
           },
           {
            "bin_start": 0.5,
            "bin_end": 0.6000000000000001,
            "count": 0
           },
           {
            "bin_start": 0.6000000000000001,
            "bin_end": 0.7000000000000001,
            "count": 0
           },
           {
            "bin_start": 0.7000000000000001,
            "bin_end": 0.8,
            "count": 0
           },
           {
            "bin_start": 0.8,
            "bin_end": 0.9,
            "count": 0
           },
           {
            "bin_start": 0.9,
            "bin_end": 1,
            "count": 0
           }
          ]
         }
        },
        {
         "name": "eth_twit_neu",
         "dtype": "float64",
         "stats": {
          "unique_count": 0,
          "nan_count": 5,
          "min": null,
          "max": null,
          "histogram": [
           {
            "bin_start": 0,
            "bin_end": 0.1,
            "count": 0
           },
           {
            "bin_start": 0.1,
            "bin_end": 0.2,
            "count": 0
           },
           {
            "bin_start": 0.2,
            "bin_end": 0.30000000000000004,
            "count": 0
           },
           {
            "bin_start": 0.30000000000000004,
            "bin_end": 0.4,
            "count": 0
           },
           {
            "bin_start": 0.4,
            "bin_end": 0.5,
            "count": 0
           },
           {
            "bin_start": 0.5,
            "bin_end": 0.6000000000000001,
            "count": 0
           },
           {
            "bin_start": 0.6000000000000001,
            "bin_end": 0.7000000000000001,
            "count": 0
           },
           {
            "bin_start": 0.7000000000000001,
            "bin_end": 0.8,
            "count": 0
           },
           {
            "bin_start": 0.8,
            "bin_end": 0.9,
            "count": 0
           },
           {
            "bin_start": 0.9,
            "bin_end": 1,
            "count": 0
           }
          ]
         }
        },
        {
         "name": "eth_twit_neg",
         "dtype": "float64",
         "stats": {
          "unique_count": 0,
          "nan_count": 5,
          "min": null,
          "max": null,
          "histogram": [
           {
            "bin_start": 0,
            "bin_end": 0.1,
            "count": 0
           },
           {
            "bin_start": 0.1,
            "bin_end": 0.2,
            "count": 0
           },
           {
            "bin_start": 0.2,
            "bin_end": 0.30000000000000004,
            "count": 0
           },
           {
            "bin_start": 0.30000000000000004,
            "bin_end": 0.4,
            "count": 0
           },
           {
            "bin_start": 0.4,
            "bin_end": 0.5,
            "count": 0
           },
           {
            "bin_start": 0.5,
            "bin_end": 0.6000000000000001,
            "count": 0
           },
           {
            "bin_start": 0.6000000000000001,
            "bin_end": 0.7000000000000001,
            "count": 0
           },
           {
            "bin_start": 0.7000000000000001,
            "bin_end": 0.8,
            "count": 0
           },
           {
            "bin_start": 0.8,
            "bin_end": 0.9,
            "count": 0
           },
           {
            "bin_start": 0.9,
            "bin_end": 1,
            "count": 0
           }
          ]
         }
        },
        {
         "name": "_deepnote_index_column",
         "dtype": "int64"
        }
       ],
       "rows_top": [
        {
         "date": "2021-04-18",
         "eth_tel_pos": "nan",
         "eth_tel_neu": "nan",
         "eth_tel_neg": "nan",
         "eth_twit_pos": "nan",
         "eth_twit_neu": "nan",
         "eth_twit_neg": "nan",
         "_deepnote_index_column": 639
        },
        {
         "date": "2021-04-19",
         "eth_tel_pos": "nan",
         "eth_tel_neu": "nan",
         "eth_tel_neg": "nan",
         "eth_twit_pos": "nan",
         "eth_twit_neu": "nan",
         "eth_twit_neg": "nan",
         "_deepnote_index_column": 640
        },
        {
         "date": "2021-04-24",
         "eth_tel_pos": "nan",
         "eth_tel_neu": "nan",
         "eth_tel_neg": "nan",
         "eth_twit_pos": "nan",
         "eth_twit_neu": "nan",
         "eth_twit_neg": "nan",
         "_deepnote_index_column": 645
        },
        {
         "date": "2021-05-25",
         "eth_tel_pos": "nan",
         "eth_tel_neu": "nan",
         "eth_tel_neg": "nan",
         "eth_twit_pos": "nan",
         "eth_twit_neu": "nan",
         "eth_twit_neg": "nan",
         "_deepnote_index_column": 676
        },
        {
         "date": "2021-05-26",
         "eth_tel_pos": "nan",
         "eth_tel_neu": "nan",
         "eth_tel_neg": "nan",
         "eth_twit_pos": "nan",
         "eth_twit_neu": "nan",
         "eth_twit_neg": "nan",
         "_deepnote_index_column": 677
        }
       ],
       "rows_bottom": null
      },
      "text/plain": "           date  eth_tel_pos  eth_tel_neu  eth_tel_neg  eth_twit_pos  \\\n639  2021-04-18          NaN          NaN          NaN           NaN   \n640  2021-04-19          NaN          NaN          NaN           NaN   \n645  2021-04-24          NaN          NaN          NaN           NaN   \n676  2021-05-25          NaN          NaN          NaN           NaN   \n677  2021-05-26          NaN          NaN          NaN           NaN   \n\n     eth_twit_neu  eth_twit_neg  \n639           NaN           NaN  \n640           NaN           NaN  \n645           NaN           NaN  \n676           NaN           NaN  \n677           NaN           NaN  ",
      "text/html": "<div>\n<style scoped>\n    .dataframe tbody tr th:only-of-type {\n        vertical-align: middle;\n    }\n\n    .dataframe tbody tr th {\n        vertical-align: top;\n    }\n\n    .dataframe thead th {\n        text-align: right;\n    }\n</style>\n<table border=\"1\" class=\"dataframe\">\n  <thead>\n    <tr style=\"text-align: right;\">\n      <th></th>\n      <th>date</th>\n      <th>eth_tel_pos</th>\n      <th>eth_tel_neu</th>\n      <th>eth_tel_neg</th>\n      <th>eth_twit_pos</th>\n      <th>eth_twit_neu</th>\n      <th>eth_twit_neg</th>\n    </tr>\n  </thead>\n  <tbody>\n    <tr>\n      <th>639</th>\n      <td>2021-04-18</td>\n      <td>NaN</td>\n      <td>NaN</td>\n      <td>NaN</td>\n      <td>NaN</td>\n      <td>NaN</td>\n      <td>NaN</td>\n    </tr>\n    <tr>\n      <th>640</th>\n      <td>2021-04-19</td>\n      <td>NaN</td>\n      <td>NaN</td>\n      <td>NaN</td>\n      <td>NaN</td>\n      <td>NaN</td>\n      <td>NaN</td>\n    </tr>\n    <tr>\n      <th>645</th>\n      <td>2021-04-24</td>\n      <td>NaN</td>\n      <td>NaN</td>\n      <td>NaN</td>\n      <td>NaN</td>\n      <td>NaN</td>\n      <td>NaN</td>\n    </tr>\n    <tr>\n      <th>676</th>\n      <td>2021-05-25</td>\n      <td>NaN</td>\n      <td>NaN</td>\n      <td>NaN</td>\n      <td>NaN</td>\n      <td>NaN</td>\n      <td>NaN</td>\n    </tr>\n    <tr>\n      <th>677</th>\n      <td>2021-05-26</td>\n      <td>NaN</td>\n      <td>NaN</td>\n      <td>NaN</td>\n      <td>NaN</td>\n      <td>NaN</td>\n      <td>NaN</td>\n    </tr>\n  </tbody>\n</table>\n</div>"
     },
     "metadata": {},
     "output_type": "display_data"
    },
    {
     "name": "stdout",
     "text": "\nObservations in doge_social where doge_tel_pos has an NaN value\n",
     "output_type": "stream"
    },
    {
     "data": {
      "application/vnd.deepnote.dataframe.v2+json": {
       "row_count": 4,
       "column_count": 7,
       "columns": [
        {
         "name": "date",
         "dtype": "object",
         "stats": {
          "unique_count": 4,
          "nan_count": 0,
          "categories": [
           {
            "name": "2021-04-18",
            "count": 1
           },
           {
            "name": "2021-04-19",
            "count": 1
           },
           {
            "name": "2 others",
            "count": 2
           }
          ]
         }
        },
        {
         "name": "doge_tel_pos",
         "dtype": "float64",
         "stats": {
          "unique_count": 0,
          "nan_count": 4,
          "min": null,
          "max": null,
          "histogram": [
           {
            "bin_start": 0,
            "bin_end": 0.1,
            "count": 0
           },
           {
            "bin_start": 0.1,
            "bin_end": 0.2,
            "count": 0
           },
           {
            "bin_start": 0.2,
            "bin_end": 0.30000000000000004,
            "count": 0
           },
           {
            "bin_start": 0.30000000000000004,
            "bin_end": 0.4,
            "count": 0
           },
           {
            "bin_start": 0.4,
            "bin_end": 0.5,
            "count": 0
           },
           {
            "bin_start": 0.5,
            "bin_end": 0.6000000000000001,
            "count": 0
           },
           {
            "bin_start": 0.6000000000000001,
            "bin_end": 0.7000000000000001,
            "count": 0
           },
           {
            "bin_start": 0.7000000000000001,
            "bin_end": 0.8,
            "count": 0
           },
           {
            "bin_start": 0.8,
            "bin_end": 0.9,
            "count": 0
           },
           {
            "bin_start": 0.9,
            "bin_end": 1,
            "count": 0
           }
          ]
         }
        },
        {
         "name": "doge_tel_neu",
         "dtype": "float64",
         "stats": {
          "unique_count": 0,
          "nan_count": 4,
          "min": null,
          "max": null,
          "histogram": [
           {
            "bin_start": 0,
            "bin_end": 0.1,
            "count": 0
           },
           {
            "bin_start": 0.1,
            "bin_end": 0.2,
            "count": 0
           },
           {
            "bin_start": 0.2,
            "bin_end": 0.30000000000000004,
            "count": 0
           },
           {
            "bin_start": 0.30000000000000004,
            "bin_end": 0.4,
            "count": 0
           },
           {
            "bin_start": 0.4,
            "bin_end": 0.5,
            "count": 0
           },
           {
            "bin_start": 0.5,
            "bin_end": 0.6000000000000001,
            "count": 0
           },
           {
            "bin_start": 0.6000000000000001,
            "bin_end": 0.7000000000000001,
            "count": 0
           },
           {
            "bin_start": 0.7000000000000001,
            "bin_end": 0.8,
            "count": 0
           },
           {
            "bin_start": 0.8,
            "bin_end": 0.9,
            "count": 0
           },
           {
            "bin_start": 0.9,
            "bin_end": 1,
            "count": 0
           }
          ]
         }
        },
        {
         "name": "doge_tel_neg",
         "dtype": "float64",
         "stats": {
          "unique_count": 0,
          "nan_count": 4,
          "min": null,
          "max": null,
          "histogram": [
           {
            "bin_start": 0,
            "bin_end": 0.1,
            "count": 0
           },
           {
            "bin_start": 0.1,
            "bin_end": 0.2,
            "count": 0
           },
           {
            "bin_start": 0.2,
            "bin_end": 0.30000000000000004,
            "count": 0
           },
           {
            "bin_start": 0.30000000000000004,
            "bin_end": 0.4,
            "count": 0
           },
           {
            "bin_start": 0.4,
            "bin_end": 0.5,
            "count": 0
           },
           {
            "bin_start": 0.5,
            "bin_end": 0.6000000000000001,
            "count": 0
           },
           {
            "bin_start": 0.6000000000000001,
            "bin_end": 0.7000000000000001,
            "count": 0
           },
           {
            "bin_start": 0.7000000000000001,
            "bin_end": 0.8,
            "count": 0
           },
           {
            "bin_start": 0.8,
            "bin_end": 0.9,
            "count": 0
           },
           {
            "bin_start": 0.9,
            "bin_end": 1,
            "count": 0
           }
          ]
         }
        },
        {
         "name": "doge_twit_pos",
         "dtype": "float64",
         "stats": {
          "unique_count": 0,
          "nan_count": 4,
          "min": null,
          "max": null,
          "histogram": [
           {
            "bin_start": 0,
            "bin_end": 0.1,
            "count": 0
           },
           {
            "bin_start": 0.1,
            "bin_end": 0.2,
            "count": 0
           },
           {
            "bin_start": 0.2,
            "bin_end": 0.30000000000000004,
            "count": 0
           },
           {
            "bin_start": 0.30000000000000004,
            "bin_end": 0.4,
            "count": 0
           },
           {
            "bin_start": 0.4,
            "bin_end": 0.5,
            "count": 0
           },
           {
            "bin_start": 0.5,
            "bin_end": 0.6000000000000001,
            "count": 0
           },
           {
            "bin_start": 0.6000000000000001,
            "bin_end": 0.7000000000000001,
            "count": 0
           },
           {
            "bin_start": 0.7000000000000001,
            "bin_end": 0.8,
            "count": 0
           },
           {
            "bin_start": 0.8,
            "bin_end": 0.9,
            "count": 0
           },
           {
            "bin_start": 0.9,
            "bin_end": 1,
            "count": 0
           }
          ]
         }
        },
        {
         "name": "doge_twit_neu",
         "dtype": "float64",
         "stats": {
          "unique_count": 0,
          "nan_count": 4,
          "min": null,
          "max": null,
          "histogram": [
           {
            "bin_start": 0,
            "bin_end": 0.1,
            "count": 0
           },
           {
            "bin_start": 0.1,
            "bin_end": 0.2,
            "count": 0
           },
           {
            "bin_start": 0.2,
            "bin_end": 0.30000000000000004,
            "count": 0
           },
           {
            "bin_start": 0.30000000000000004,
            "bin_end": 0.4,
            "count": 0
           },
           {
            "bin_start": 0.4,
            "bin_end": 0.5,
            "count": 0
           },
           {
            "bin_start": 0.5,
            "bin_end": 0.6000000000000001,
            "count": 0
           },
           {
            "bin_start": 0.6000000000000001,
            "bin_end": 0.7000000000000001,
            "count": 0
           },
           {
            "bin_start": 0.7000000000000001,
            "bin_end": 0.8,
            "count": 0
           },
           {
            "bin_start": 0.8,
            "bin_end": 0.9,
            "count": 0
           },
           {
            "bin_start": 0.9,
            "bin_end": 1,
            "count": 0
           }
          ]
         }
        },
        {
         "name": "doge_twit_neg",
         "dtype": "float64",
         "stats": {
          "unique_count": 0,
          "nan_count": 4,
          "min": null,
          "max": null,
          "histogram": [
           {
            "bin_start": 0,
            "bin_end": 0.1,
            "count": 0
           },
           {
            "bin_start": 0.1,
            "bin_end": 0.2,
            "count": 0
           },
           {
            "bin_start": 0.2,
            "bin_end": 0.30000000000000004,
            "count": 0
           },
           {
            "bin_start": 0.30000000000000004,
            "bin_end": 0.4,
            "count": 0
           },
           {
            "bin_start": 0.4,
            "bin_end": 0.5,
            "count": 0
           },
           {
            "bin_start": 0.5,
            "bin_end": 0.6000000000000001,
            "count": 0
           },
           {
            "bin_start": 0.6000000000000001,
            "bin_end": 0.7000000000000001,
            "count": 0
           },
           {
            "bin_start": 0.7000000000000001,
            "bin_end": 0.8,
            "count": 0
           },
           {
            "bin_start": 0.8,
            "bin_end": 0.9,
            "count": 0
           },
           {
            "bin_start": 0.9,
            "bin_end": 1,
            "count": 0
           }
          ]
         }
        },
        {
         "name": "_deepnote_index_column",
         "dtype": "int64"
        }
       ],
       "rows_top": [
        {
         "date": "2021-04-18",
         "doge_tel_pos": "nan",
         "doge_tel_neu": "nan",
         "doge_tel_neg": "nan",
         "doge_twit_pos": "nan",
         "doge_twit_neu": "nan",
         "doge_twit_neg": "nan",
         "_deepnote_index_column": 640
        },
        {
         "date": "2021-04-19",
         "doge_tel_pos": "nan",
         "doge_tel_neu": "nan",
         "doge_tel_neg": "nan",
         "doge_twit_pos": "nan",
         "doge_twit_neu": "nan",
         "doge_twit_neg": "nan",
         "_deepnote_index_column": 641
        },
        {
         "date": "2021-04-25",
         "doge_tel_pos": "nan",
         "doge_tel_neu": "nan",
         "doge_tel_neg": "nan",
         "doge_twit_pos": "nan",
         "doge_twit_neu": "nan",
         "doge_twit_neg": "nan",
         "_deepnote_index_column": 647
        },
        {
         "date": "2021-05-26",
         "doge_tel_pos": "nan",
         "doge_tel_neu": "nan",
         "doge_tel_neg": "nan",
         "doge_twit_pos": "nan",
         "doge_twit_neu": "nan",
         "doge_twit_neg": "nan",
         "_deepnote_index_column": 678
        }
       ],
       "rows_bottom": null
      },
      "text/plain": "           date  doge_tel_pos  doge_tel_neu  doge_tel_neg  doge_twit_pos  \\\n640  2021-04-18           NaN           NaN           NaN            NaN   \n641  2021-04-19           NaN           NaN           NaN            NaN   \n647  2021-04-25           NaN           NaN           NaN            NaN   \n678  2021-05-26           NaN           NaN           NaN            NaN   \n\n     doge_twit_neu  doge_twit_neg  \n640            NaN            NaN  \n641            NaN            NaN  \n647            NaN            NaN  \n678            NaN            NaN  ",
      "text/html": "<div>\n<style scoped>\n    .dataframe tbody tr th:only-of-type {\n        vertical-align: middle;\n    }\n\n    .dataframe tbody tr th {\n        vertical-align: top;\n    }\n\n    .dataframe thead th {\n        text-align: right;\n    }\n</style>\n<table border=\"1\" class=\"dataframe\">\n  <thead>\n    <tr style=\"text-align: right;\">\n      <th></th>\n      <th>date</th>\n      <th>doge_tel_pos</th>\n      <th>doge_tel_neu</th>\n      <th>doge_tel_neg</th>\n      <th>doge_twit_pos</th>\n      <th>doge_twit_neu</th>\n      <th>doge_twit_neg</th>\n    </tr>\n  </thead>\n  <tbody>\n    <tr>\n      <th>640</th>\n      <td>2021-04-18</td>\n      <td>NaN</td>\n      <td>NaN</td>\n      <td>NaN</td>\n      <td>NaN</td>\n      <td>NaN</td>\n      <td>NaN</td>\n    </tr>\n    <tr>\n      <th>641</th>\n      <td>2021-04-19</td>\n      <td>NaN</td>\n      <td>NaN</td>\n      <td>NaN</td>\n      <td>NaN</td>\n      <td>NaN</td>\n      <td>NaN</td>\n    </tr>\n    <tr>\n      <th>647</th>\n      <td>2021-04-25</td>\n      <td>NaN</td>\n      <td>NaN</td>\n      <td>NaN</td>\n      <td>NaN</td>\n      <td>NaN</td>\n      <td>NaN</td>\n    </tr>\n    <tr>\n      <th>678</th>\n      <td>2021-05-26</td>\n      <td>NaN</td>\n      <td>NaN</td>\n      <td>NaN</td>\n      <td>NaN</td>\n      <td>NaN</td>\n      <td>NaN</td>\n    </tr>\n  </tbody>\n</table>\n</div>"
     },
     "metadata": {},
     "output_type": "display_data"
    },
    {
     "name": "stdout",
     "text": "\nObservations in ada_social where ada_tel_pos has an NaN value\n",
     "output_type": "stream"
    },
    {
     "data": {
      "application/vnd.deepnote.dataframe.v2+json": {
       "row_count": 5,
       "column_count": 7,
       "columns": [
        {
         "name": "date",
         "dtype": "object",
         "stats": {
          "unique_count": 5,
          "nan_count": 0,
          "categories": [
           {
            "name": "2021-04-18",
            "count": 1
           },
           {
            "name": "2021-04-19",
            "count": 1
           },
           {
            "name": "3 others",
            "count": 3
           }
          ]
         }
        },
        {
         "name": "ada_tel_pos",
         "dtype": "float64",
         "stats": {
          "unique_count": 0,
          "nan_count": 5,
          "min": null,
          "max": null,
          "histogram": [
           {
            "bin_start": 0,
            "bin_end": 0.1,
            "count": 0
           },
           {
            "bin_start": 0.1,
            "bin_end": 0.2,
            "count": 0
           },
           {
            "bin_start": 0.2,
            "bin_end": 0.30000000000000004,
            "count": 0
           },
           {
            "bin_start": 0.30000000000000004,
            "bin_end": 0.4,
            "count": 0
           },
           {
            "bin_start": 0.4,
            "bin_end": 0.5,
            "count": 0
           },
           {
            "bin_start": 0.5,
            "bin_end": 0.6000000000000001,
            "count": 0
           },
           {
            "bin_start": 0.6000000000000001,
            "bin_end": 0.7000000000000001,
            "count": 0
           },
           {
            "bin_start": 0.7000000000000001,
            "bin_end": 0.8,
            "count": 0
           },
           {
            "bin_start": 0.8,
            "bin_end": 0.9,
            "count": 0
           },
           {
            "bin_start": 0.9,
            "bin_end": 1,
            "count": 0
           }
          ]
         }
        },
        {
         "name": "ada_tel_neu",
         "dtype": "float64",
         "stats": {
          "unique_count": 0,
          "nan_count": 5,
          "min": null,
          "max": null,
          "histogram": [
           {
            "bin_start": 0,
            "bin_end": 0.1,
            "count": 0
           },
           {
            "bin_start": 0.1,
            "bin_end": 0.2,
            "count": 0
           },
           {
            "bin_start": 0.2,
            "bin_end": 0.30000000000000004,
            "count": 0
           },
           {
            "bin_start": 0.30000000000000004,
            "bin_end": 0.4,
            "count": 0
           },
           {
            "bin_start": 0.4,
            "bin_end": 0.5,
            "count": 0
           },
           {
            "bin_start": 0.5,
            "bin_end": 0.6000000000000001,
            "count": 0
           },
           {
            "bin_start": 0.6000000000000001,
            "bin_end": 0.7000000000000001,
            "count": 0
           },
           {
            "bin_start": 0.7000000000000001,
            "bin_end": 0.8,
            "count": 0
           },
           {
            "bin_start": 0.8,
            "bin_end": 0.9,
            "count": 0
           },
           {
            "bin_start": 0.9,
            "bin_end": 1,
            "count": 0
           }
          ]
         }
        },
        {
         "name": "ada_tel_neg",
         "dtype": "float64",
         "stats": {
          "unique_count": 0,
          "nan_count": 5,
          "min": null,
          "max": null,
          "histogram": [
           {
            "bin_start": 0,
            "bin_end": 0.1,
            "count": 0
           },
           {
            "bin_start": 0.1,
            "bin_end": 0.2,
            "count": 0
           },
           {
            "bin_start": 0.2,
            "bin_end": 0.30000000000000004,
            "count": 0
           },
           {
            "bin_start": 0.30000000000000004,
            "bin_end": 0.4,
            "count": 0
           },
           {
            "bin_start": 0.4,
            "bin_end": 0.5,
            "count": 0
           },
           {
            "bin_start": 0.5,
            "bin_end": 0.6000000000000001,
            "count": 0
           },
           {
            "bin_start": 0.6000000000000001,
            "bin_end": 0.7000000000000001,
            "count": 0
           },
           {
            "bin_start": 0.7000000000000001,
            "bin_end": 0.8,
            "count": 0
           },
           {
            "bin_start": 0.8,
            "bin_end": 0.9,
            "count": 0
           },
           {
            "bin_start": 0.9,
            "bin_end": 1,
            "count": 0
           }
          ]
         }
        },
        {
         "name": "ada_twit_pos",
         "dtype": "float64",
         "stats": {
          "unique_count": 0,
          "nan_count": 5,
          "min": null,
          "max": null,
          "histogram": [
           {
            "bin_start": 0,
            "bin_end": 0.1,
            "count": 0
           },
           {
            "bin_start": 0.1,
            "bin_end": 0.2,
            "count": 0
           },
           {
            "bin_start": 0.2,
            "bin_end": 0.30000000000000004,
            "count": 0
           },
           {
            "bin_start": 0.30000000000000004,
            "bin_end": 0.4,
            "count": 0
           },
           {
            "bin_start": 0.4,
            "bin_end": 0.5,
            "count": 0
           },
           {
            "bin_start": 0.5,
            "bin_end": 0.6000000000000001,
            "count": 0
           },
           {
            "bin_start": 0.6000000000000001,
            "bin_end": 0.7000000000000001,
            "count": 0
           },
           {
            "bin_start": 0.7000000000000001,
            "bin_end": 0.8,
            "count": 0
           },
           {
            "bin_start": 0.8,
            "bin_end": 0.9,
            "count": 0
           },
           {
            "bin_start": 0.9,
            "bin_end": 1,
            "count": 0
           }
          ]
         }
        },
        {
         "name": "ada_twit_neu",
         "dtype": "float64",
         "stats": {
          "unique_count": 0,
          "nan_count": 5,
          "min": null,
          "max": null,
          "histogram": [
           {
            "bin_start": 0,
            "bin_end": 0.1,
            "count": 0
           },
           {
            "bin_start": 0.1,
            "bin_end": 0.2,
            "count": 0
           },
           {
            "bin_start": 0.2,
            "bin_end": 0.30000000000000004,
            "count": 0
           },
           {
            "bin_start": 0.30000000000000004,
            "bin_end": 0.4,
            "count": 0
           },
           {
            "bin_start": 0.4,
            "bin_end": 0.5,
            "count": 0
           },
           {
            "bin_start": 0.5,
            "bin_end": 0.6000000000000001,
            "count": 0
           },
           {
            "bin_start": 0.6000000000000001,
            "bin_end": 0.7000000000000001,
            "count": 0
           },
           {
            "bin_start": 0.7000000000000001,
            "bin_end": 0.8,
            "count": 0
           },
           {
            "bin_start": 0.8,
            "bin_end": 0.9,
            "count": 0
           },
           {
            "bin_start": 0.9,
            "bin_end": 1,
            "count": 0
           }
          ]
         }
        },
        {
         "name": "ada_twit_neg",
         "dtype": "float64",
         "stats": {
          "unique_count": 0,
          "nan_count": 5,
          "min": null,
          "max": null,
          "histogram": [
           {
            "bin_start": 0,
            "bin_end": 0.1,
            "count": 0
           },
           {
            "bin_start": 0.1,
            "bin_end": 0.2,
            "count": 0
           },
           {
            "bin_start": 0.2,
            "bin_end": 0.30000000000000004,
            "count": 0
           },
           {
            "bin_start": 0.30000000000000004,
            "bin_end": 0.4,
            "count": 0
           },
           {
            "bin_start": 0.4,
            "bin_end": 0.5,
            "count": 0
           },
           {
            "bin_start": 0.5,
            "bin_end": 0.6000000000000001,
            "count": 0
           },
           {
            "bin_start": 0.6000000000000001,
            "bin_end": 0.7000000000000001,
            "count": 0
           },
           {
            "bin_start": 0.7000000000000001,
            "bin_end": 0.8,
            "count": 0
           },
           {
            "bin_start": 0.8,
            "bin_end": 0.9,
            "count": 0
           },
           {
            "bin_start": 0.9,
            "bin_end": 1,
            "count": 0
           }
          ]
         }
        },
        {
         "name": "_deepnote_index_column",
         "dtype": "int64"
        }
       ],
       "rows_top": [
        {
         "date": "2021-04-18",
         "ada_tel_pos": "nan",
         "ada_tel_neu": "nan",
         "ada_tel_neg": "nan",
         "ada_twit_pos": "nan",
         "ada_twit_neu": "nan",
         "ada_twit_neg": "nan",
         "_deepnote_index_column": 639
        },
        {
         "date": "2021-04-19",
         "ada_tel_pos": "nan",
         "ada_tel_neu": "nan",
         "ada_tel_neg": "nan",
         "ada_twit_pos": "nan",
         "ada_twit_neu": "nan",
         "ada_twit_neg": "nan",
         "_deepnote_index_column": 640
        },
        {
         "date": "2021-05-26",
         "ada_tel_pos": "nan",
         "ada_tel_neu": "nan",
         "ada_tel_neg": "nan",
         "ada_twit_pos": "nan",
         "ada_twit_neu": "nan",
         "ada_twit_neg": "nan",
         "_deepnote_index_column": 677
        },
        {
         "date": "2021-05-27",
         "ada_tel_pos": "nan",
         "ada_tel_neu": "nan",
         "ada_tel_neg": "nan",
         "ada_twit_pos": "nan",
         "ada_twit_neu": "nan",
         "ada_twit_neg": "nan",
         "_deepnote_index_column": 678
        },
        {
         "date": "2021-05-29",
         "ada_tel_pos": "nan",
         "ada_tel_neu": "nan",
         "ada_tel_neg": "nan",
         "ada_twit_pos": "nan",
         "ada_twit_neu": "nan",
         "ada_twit_neg": "nan",
         "_deepnote_index_column": 680
        }
       ],
       "rows_bottom": null
      },
      "text/plain": "           date  ada_tel_pos  ada_tel_neu  ada_tel_neg  ada_twit_pos  \\\n639  2021-04-18          NaN          NaN          NaN           NaN   \n640  2021-04-19          NaN          NaN          NaN           NaN   \n677  2021-05-26          NaN          NaN          NaN           NaN   \n678  2021-05-27          NaN          NaN          NaN           NaN   \n680  2021-05-29          NaN          NaN          NaN           NaN   \n\n     ada_twit_neu  ada_twit_neg  \n639           NaN           NaN  \n640           NaN           NaN  \n677           NaN           NaN  \n678           NaN           NaN  \n680           NaN           NaN  ",
      "text/html": "<div>\n<style scoped>\n    .dataframe tbody tr th:only-of-type {\n        vertical-align: middle;\n    }\n\n    .dataframe tbody tr th {\n        vertical-align: top;\n    }\n\n    .dataframe thead th {\n        text-align: right;\n    }\n</style>\n<table border=\"1\" class=\"dataframe\">\n  <thead>\n    <tr style=\"text-align: right;\">\n      <th></th>\n      <th>date</th>\n      <th>ada_tel_pos</th>\n      <th>ada_tel_neu</th>\n      <th>ada_tel_neg</th>\n      <th>ada_twit_pos</th>\n      <th>ada_twit_neu</th>\n      <th>ada_twit_neg</th>\n    </tr>\n  </thead>\n  <tbody>\n    <tr>\n      <th>639</th>\n      <td>2021-04-18</td>\n      <td>NaN</td>\n      <td>NaN</td>\n      <td>NaN</td>\n      <td>NaN</td>\n      <td>NaN</td>\n      <td>NaN</td>\n    </tr>\n    <tr>\n      <th>640</th>\n      <td>2021-04-19</td>\n      <td>NaN</td>\n      <td>NaN</td>\n      <td>NaN</td>\n      <td>NaN</td>\n      <td>NaN</td>\n      <td>NaN</td>\n    </tr>\n    <tr>\n      <th>677</th>\n      <td>2021-05-26</td>\n      <td>NaN</td>\n      <td>NaN</td>\n      <td>NaN</td>\n      <td>NaN</td>\n      <td>NaN</td>\n      <td>NaN</td>\n    </tr>\n    <tr>\n      <th>678</th>\n      <td>2021-05-27</td>\n      <td>NaN</td>\n      <td>NaN</td>\n      <td>NaN</td>\n      <td>NaN</td>\n      <td>NaN</td>\n      <td>NaN</td>\n    </tr>\n    <tr>\n      <th>680</th>\n      <td>2021-05-29</td>\n      <td>NaN</td>\n      <td>NaN</td>\n      <td>NaN</td>\n      <td>NaN</td>\n      <td>NaN</td>\n      <td>NaN</td>\n    </tr>\n  </tbody>\n</table>\n</div>"
     },
     "metadata": {},
     "output_type": "display_data"
    }
   ]
  },
  {
   "cell_type": "markdown",
   "source": "Our intuition about the rows missing values was correct, but before we start cleaning the NaN values from our main dataframe, it's interesting to note that despite having NaN values on many of the same dates as the other coins, the those observation from doge_social have an index that is one higher than the other three coins. Let's check the sizes of each of the four full dataframes.",
   "metadata": {
    "tags": [],
    "cell_id": "00019-aebbee9f-fb62-4d81-a0ea-1d8b28293117",
    "deepnote_cell_type": "markdown"
   }
  },
  {
   "cell_type": "code",
   "source": "print(\"Shape of btc_social: {}\".format(btc_social.shape))\nprint(\"Shape of eth_social: {}\".format(eth_social.shape))\nprint(\"Shape of doge_social: {}\".format(doge_social.shape))\nprint(\"Shape of ada_social: {}\".format(ada_social.shape))",
   "metadata": {
    "tags": [],
    "cell_id": "00020-60fb8b93-24aa-40f0-9115-094b3829ffc7",
    "deepnote_to_be_reexecuted": false,
    "source_hash": "6359a919",
    "execution_start": 1634779543397,
    "execution_millis": 35,
    "deepnote_cell_type": "code"
   },
   "outputs": [
    {
     "name": "stdout",
     "text": "Shape of btc_social: (824, 7)\nShape of eth_social: (824, 7)\nShape of doge_social: (825, 7)\nShape of ada_social: (825, 7)\n",
     "output_type": "stream"
    },
    {
     "output_type": "execute_result",
     "execution_count": 9,
     "data": {
      "text/plain": "0    2021-10-17\n1    2021-10-18\n2    2021-10-19\nName: date, dtype: object"
     },
     "metadata": {}
    }
   ],
   "execution_count": 9
  },
  {
   "cell_type": "markdown",
   "source": "The doge_social dataframe has 825 rows, while the other three only have 824! Interestingly, ada_social seems to have an extra row as well despite the index for May 26th, 2021 matching those of btc_social and eth_social. Since this is a time series, it's likely these additonal rows are at either the beginning or end of the dataframe. Let's take a look at the first and last three rows of each dataframe to see if we can find the extra rows.",
   "metadata": {
    "tags": [],
    "cell_id": "00021-8ad0ca75-f6e3-440a-ab69-2f946e2e662f",
    "deepnote_cell_type": "markdown"
   }
  },
  {
   "cell_type": "code",
   "source": "btc_ht = pd.DataFrame({\"First\":btc_social[\"date\"].head(3), \n                       \"Last\":btc_social[\"date\"].tail(3).reset_index(drop=True)})\neth_ht = pd.DataFrame({\"First\":eth_social[\"date\"].head(3), \n                       \"Last\":eth_social[\"date\"].tail(3).reset_index(drop=True)})\ndoge_ht = pd.DataFrame({\"First\":doge_social[\"date\"].head(3), \n                        \"Last\":doge_social[\"date\"].tail(3).reset_index(drop=True)})\nada_ht = pd.DataFrame({\"First\":ada_social[\"date\"].head(3), \n                       \"Last\":ada_social[\"date\"].tail(3).reset_index(drop=True)})\n\nprint(\"Dates at first and last 3 indexes for btc_social\\n{}\\n\".format(btc_ht))\n\nprint(\"Dates at first and last 3 indexes for th_social\\n{}\\n\".format(eth_ht))\n\nprint(\"Dates at first and last 3 indexes for doge_social\\n{}\\n\".format(doge_ht))\n\nprint(\"Dates at first and last 3 indexes for ada_social\\n{}\\n\".format(ada_ht))",
   "metadata": {
    "tags": [],
    "cell_id": "00022-5d4838f3-8697-435b-a46e-bd98fe3f0142",
    "deepnote_to_be_reexecuted": false,
    "source_hash": "5e4aaeb8",
    "execution_start": 1634779543459,
    "execution_millis": 127,
    "deepnote_cell_type": "code"
   },
   "outputs": [
    {
     "name": "stdout",
     "text": "Dates at first and last 3 indexes for btc_social\n        First        Last\n0  2019-07-19  2021-10-17\n1  2019-07-20  2021-10-18\n2  2019-07-21  2021-10-19\n\nDates at first and last 3 indexes for th_social\n        First        Last\n0  2019-07-19  2021-10-17\n1  2019-07-20  2021-10-18\n2  2019-07-21  2021-10-19\n\nDates at first and last 3 indexes for doge_social\n        First        Last\n0  2019-07-18  2021-10-17\n1  2019-07-19  2021-10-18\n2  2019-07-20  2021-10-19\n\nDates at first and last 3 indexes for ada_social\n        First        Last\n0  2019-07-19  2021-10-18\n1  2019-07-20  2021-10-19\n2  2019-07-21  2021-10-20\n\n",
     "output_type": "stream"
    }
   ],
   "execution_count": 10
  },
  {
   "cell_type": "markdown",
   "source": "Dogecoin's first observation is one day earlier than the other three coins, while Cardano's last observation is one day later! Luckily, the inclusive merge we used sould have accounted for that; let's make sure of that by confirming the social_sentiment dataframe has 824 rows and that the first and last dates recorded are 2019-07-19 and 2021-10-19, respectively.",
   "metadata": {
    "tags": [],
    "cell_id": "00023-451e468f-0246-4633-a872-ab88a75d19ec",
    "deepnote_cell_type": "markdown"
   }
  },
  {
   "cell_type": "code",
   "source": "rnum = len(social_sentiment.index)\n\nprint(\"Number of rows in social_sentiment: {}\".format(rnum))\nprint(\"Date of first observation in social_sentiment: {}\".format(social_sentiment.loc[0, \"date\"]))\nprint(\"Date of last observation in social_sentiment: {}\".format(social_sentiment.loc[rnum-1, \"date\"]))",
   "metadata": {
    "tags": [],
    "cell_id": "00024-7fcda231-012f-4ca2-b3e2-a2f283f37cc0",
    "deepnote_to_be_reexecuted": false,
    "source_hash": "3fbd189a",
    "execution_start": 1634779543460,
    "execution_millis": 126,
    "deepnote_cell_type": "code"
   },
   "outputs": [
    {
     "name": "stdout",
     "text": "Number of rows in social_sentiment: 824\nDate of first observation in social_sentiment: 2019-07-19\nDate of last observation in social_sentiment: 2021-10-19\n",
     "output_type": "stream"
    }
   ],
   "execution_count": 11
  },
  {
   "cell_type": "markdown",
   "source": "Exactly what we assumed, so we know the inclusive merge worked properly. Still, now that we saw how merging dataframes could possibly drop data, it begs the question if any more observations were dropped when we merged the social_sentiment dataframe with the trading dataframe. Let's see how many rows our main dataframe, sentiment_and_trading has to determine this.",
   "metadata": {
    "tags": [],
    "cell_id": "00025-21594a18-6d3e-45a0-b10e-8e9a7ee771f9",
    "deepnote_cell_type": "markdown"
   }
  },
  {
   "cell_type": "code",
   "source": "print(\"Number of rows in sentiment_and_trading: {}\".format(len(sentiment_and_trading.index)))",
   "metadata": {
    "tags": [],
    "cell_id": "00026-e6fb541c-b281-49bc-aa39-390c5a90199c",
    "deepnote_to_be_reexecuted": false,
    "source_hash": "9d553ff2",
    "execution_start": 1634779543491,
    "execution_millis": 96,
    "deepnote_cell_type": "code"
   },
   "outputs": [
    {
     "name": "stdout",
     "text": "Number of rows in sentiment_and_trading: 768\n",
     "output_type": "stream"
    }
   ],
   "execution_count": 12
  },
  {
   "cell_type": "markdown",
   "source": "Our main dataframe only has 768 rows, meaning we lost another 56 observations when we merged our sentiment data with our trading data. Let's look at the shape of our trading dataframe, as well as the first and last dates recorded in it. ",
   "metadata": {
    "tags": [],
    "cell_id": "00027-ff4b2336-ec2a-463b-8b53-a09c374aed98",
    "deepnote_cell_type": "markdown"
   }
  },
  {
   "cell_type": "code",
   "source": "shp = trading.shape\n\nprint(\"Shape of trading: {}\".format(shp))\nprint(\"Date of first observation in trading: {}\".format(trading.loc[0, \"date\"]))\nprint(\"Date of last observation in trading: {}\".format(trading.loc[shp[0]-1, \"date\"]))",
   "metadata": {
    "tags": [],
    "cell_id": "00028-972c9e24-a291-4628-9d2b-41dbae9a37bb",
    "deepnote_to_be_reexecuted": false,
    "source_hash": "b7c7fc38",
    "execution_start": 1634779543491,
    "execution_millis": 97,
    "deepnote_cell_type": "code"
   },
   "outputs": [
    {
     "name": "stdout",
     "text": "Shape of trading: (1333, 25)\nDate of first observation in trading: 2017-12-31\nDate of last observation in trading: 2021-08-24\n",
     "output_type": "stream"
    }
   ],
   "execution_count": 13
  },
  {
   "cell_type": "markdown",
   "source": "Our trading dataframe actually has data recorded even earlier than our social_sentiment dataframe, but the most recent dates only go back to August 24th, 2021. Some quick mental calculations will show that there are exactly 56 days from August 24th to October 19th, so it should be safe to assume our main dataframe has data that spans from 2019-07-19 to 2021-08-24.",
   "metadata": {
    "tags": [],
    "cell_id": "00029-51d390e7-f260-4d2a-a173-54f78521f5be",
    "deepnote_cell_type": "markdown"
   }
  },
  {
   "cell_type": "code",
   "source": "lasti = sentiment_and_trading.shape[0]-1\n\nprint(\"Date of first observation in sentiment_and_trading: {}\".format(sentiment_and_trading.loc[0, \"date\"]))\nprint(\"Date of last observation in sentiment_and_trading: {}\".format(sentiment_and_trading.loc[lasti, \"date\"]))",
   "metadata": {
    "tags": [],
    "cell_id": "00030-cfcd16f2-5ddc-4ec6-8d52-1e2de89a675f",
    "deepnote_to_be_reexecuted": false,
    "source_hash": "5307a7e",
    "execution_start": 1634779543492,
    "execution_millis": 98,
    "deepnote_cell_type": "code"
   },
   "outputs": [
    {
     "name": "stdout",
     "text": "Date of first observation in sentiment_and_trading: 2019-07-19\nDate of last observation in sentiment_and_trading: 2021-08-24\n",
     "output_type": "stream"
    }
   ],
   "execution_count": 14
  },
  {
   "cell_type": "markdown",
   "source": "Once again we were correct, so lets get back to cleaning out the NaN values. \n\nWe were able to  visually confirm that if a coin has a missing value in one of it's sentiment columns, it is missing in all of them. Furthermore, many of the dates that are missing NaN values seem to overlap. Let's get the indexes and dates of all the observations in our main dataframe to see how many total rows we need to account for.",
   "metadata": {
    "tags": [],
    "cell_id": "00019-a64146e7-e855-4cfd-a1cd-725e63ac9ece",
    "deepnote_cell_type": "markdown"
   }
  },
  {
   "cell_type": "code",
   "metadata": {
    "tags": [],
    "cell_id": "00018-7800d04e-a072-4864-9507-fae1acaef730",
    "deepnote_to_be_reexecuted": false,
    "source_hash": "c0a3fa70",
    "execution_start": 1634785817637,
    "execution_millis": 9,
    "deepnote_cell_type": "code"
   },
   "source": "na_indexes = pd.Series(sentiment_and_trading.loc[sentiment_and_trading.isna().any(1)].index)\nna_dates = sentiment_and_trading.loc[na_indexes, \"date\"].reset_index(drop=True)\nna_dates_and_indexes = pd.DataFrame({\"Indexes\": na_indexes, \"Dates\": na_dates})\n\nprint(\"Indexes and dates of observations in sentiment_and_trading with missing values: \")\ndisplay(na_dates_and_indexes)\nprint(\"\\nNumber of rows with missing values in social sentiment_all: \", len(na_indexes))\nprint(\"Percentage of rows with missing values: {:.2f}\".format(len(na_indexes)/len(sentiment_and_trading.index)))",
   "execution_count": 42,
   "outputs": [
    {
     "name": "stdout",
     "text": "Indexes and dates of observations in sentiment_and_trading with missing values: \n",
     "output_type": "stream"
    },
    {
     "data": {
      "application/vnd.deepnote.dataframe.v2+json": {
       "row_count": 10,
       "column_count": 2,
       "columns": [
        {
         "name": "Indexes",
         "dtype": "int64",
         "stats": {
          "unique_count": 10,
          "nan_count": 0,
          "min": "639",
          "max": "690",
          "histogram": [
           {
            "bin_start": 639,
            "bin_end": 644.1,
            "count": 2
           },
           {
            "bin_start": 644.1,
            "bin_end": 649.2,
            "count": 2
           },
           {
            "bin_start": 649.2,
            "bin_end": 654.3,
            "count": 0
           },
           {
            "bin_start": 654.3,
            "bin_end": 659.4,
            "count": 0
           },
           {
            "bin_start": 659.4,
            "bin_end": 664.5,
            "count": 0
           },
           {
            "bin_start": 664.5,
            "bin_end": 669.6,
            "count": 0
           },
           {
            "bin_start": 669.6,
            "bin_end": 674.7,
            "count": 0
           },
           {
            "bin_start": 674.7,
            "bin_end": 679.8,
            "count": 3
           },
           {
            "bin_start": 679.8,
            "bin_end": 684.9,
            "count": 2
           },
           {
            "bin_start": 684.9,
            "bin_end": 690,
            "count": 1
           }
          ]
         }
        },
        {
         "name": "Dates",
         "dtype": "object",
         "stats": {
          "unique_count": 10,
          "nan_count": 0,
          "categories": [
           {
            "name": "2021-04-18",
            "count": 1
           },
           {
            "name": "2021-04-19",
            "count": 1
           },
           {
            "name": "8 others",
            "count": 8
           }
          ]
         }
        },
        {
         "name": "_deepnote_index_column",
         "dtype": "int64"
        }
       ],
       "rows_top": [
        {
         "Indexes": 639,
         "Dates": "2021-04-18",
         "_deepnote_index_column": 0
        },
        {
         "Indexes": 640,
         "Dates": "2021-04-19",
         "_deepnote_index_column": 1
        },
        {
         "Indexes": 645,
         "Dates": "2021-04-24",
         "_deepnote_index_column": 2
        },
        {
         "Indexes": 646,
         "Dates": "2021-04-25",
         "_deepnote_index_column": 3
        },
        {
         "Indexes": 676,
         "Dates": "2021-05-25",
         "_deepnote_index_column": 4
        },
        {
         "Indexes": 677,
         "Dates": "2021-05-26",
         "_deepnote_index_column": 5
        },
        {
         "Indexes": 678,
         "Dates": "2021-05-27",
         "_deepnote_index_column": 6
        },
        {
         "Indexes": 680,
         "Dates": "2021-05-29",
         "_deepnote_index_column": 7
        },
        {
         "Indexes": 682,
         "Dates": "2021-05-31",
         "_deepnote_index_column": 8
        },
        {
         "Indexes": 690,
         "Dates": "2021-06-08",
         "_deepnote_index_column": 9
        }
       ],
       "rows_bottom": null
      },
      "text/plain": "   Indexes       Dates\n0      639  2021-04-18\n1      640  2021-04-19\n2      645  2021-04-24\n3      646  2021-04-25\n4      676  2021-05-25\n5      677  2021-05-26\n6      678  2021-05-27\n7      680  2021-05-29\n8      682  2021-05-31\n9      690  2021-06-08",
      "text/html": "<div>\n<style scoped>\n    .dataframe tbody tr th:only-of-type {\n        vertical-align: middle;\n    }\n\n    .dataframe tbody tr th {\n        vertical-align: top;\n    }\n\n    .dataframe thead th {\n        text-align: right;\n    }\n</style>\n<table border=\"1\" class=\"dataframe\">\n  <thead>\n    <tr style=\"text-align: right;\">\n      <th></th>\n      <th>Indexes</th>\n      <th>Dates</th>\n    </tr>\n  </thead>\n  <tbody>\n    <tr>\n      <th>0</th>\n      <td>639</td>\n      <td>2021-04-18</td>\n    </tr>\n    <tr>\n      <th>1</th>\n      <td>640</td>\n      <td>2021-04-19</td>\n    </tr>\n    <tr>\n      <th>2</th>\n      <td>645</td>\n      <td>2021-04-24</td>\n    </tr>\n    <tr>\n      <th>3</th>\n      <td>646</td>\n      <td>2021-04-25</td>\n    </tr>\n    <tr>\n      <th>4</th>\n      <td>676</td>\n      <td>2021-05-25</td>\n    </tr>\n    <tr>\n      <th>5</th>\n      <td>677</td>\n      <td>2021-05-26</td>\n    </tr>\n    <tr>\n      <th>6</th>\n      <td>678</td>\n      <td>2021-05-27</td>\n    </tr>\n    <tr>\n      <th>7</th>\n      <td>680</td>\n      <td>2021-05-29</td>\n    </tr>\n    <tr>\n      <th>8</th>\n      <td>682</td>\n      <td>2021-05-31</td>\n    </tr>\n    <tr>\n      <th>9</th>\n      <td>690</td>\n      <td>2021-06-08</td>\n    </tr>\n  </tbody>\n</table>\n</div>"
     },
     "metadata": {},
     "output_type": "display_data"
    },
    {
     "name": "stdout",
     "text": "\nNumber of rows with missing values in social sentiment_all:  10\nPercentage of rows with missing values: 0.01\n",
     "output_type": "stream"
    }
   ]
  },
  {
   "cell_type": "markdown",
   "source": "Seeing as only 1% of the rows are missing values, simply eliminating them should have a negligible effect on any analysis. To confirm we've done this properly, we should expect to see zero NaN values and 758 rows in our cleaned up dataframe.",
   "metadata": {
    "tags": [],
    "cell_id": "00021-409bcbaa-2fc0-48df-b3b5-cdc82c1fe20e",
    "deepnote_cell_type": "markdown"
   }
  },
  {
   "cell_type": "code",
   "metadata": {
    "tags": [],
    "cell_id": "00019-e43b72fb-b5da-4351-92b6-fd20a67a4c6d",
    "deepnote_to_be_reexecuted": false,
    "source_hash": "668b00c0",
    "execution_start": 1634779543583,
    "execution_millis": 13,
    "deepnote_cell_type": "code"
   },
   "source": "st_clean = sentiment_and_trading.loc[~sentiment_and_trading.isna().any(1)]\n\nprint(\"Count of NaN values in s_and_t_clean: \", st_clean.isna().sum().sum())\nprint(\"Number of rows in s_and_t_clean: \", len(st_clean.index))",
   "execution_count": 16,
   "outputs": [
    {
     "name": "stdout",
     "text": "Count of NaN values in s_and_t_clean:  0\nNumber of rows in s_and_t_clean:  758\n",
     "output_type": "stream"
    }
   ]
  },
  {
   "cell_type": "markdown",
   "source": "All clear! Now that our data is clean, we can begin to look at it's type and shape to search for any possible meaningful connections.",
   "metadata": {
    "tags": [],
    "cell_id": "00026-be330e6f-8546-4821-b512-3a15d62a7cb3",
    "deepnote_cell_type": "markdown"
   }
  },
  {
   "cell_type": "code",
   "metadata": {
    "tags": [],
    "cell_id": "00024-2d172c0f-4053-43fd-82dd-acc0417c54cc",
    "deepnote_to_be_reexecuted": false,
    "source_hash": "18bf4b0a",
    "execution_start": 1634785776870,
    "execution_millis": 381,
    "deepnote_cell_type": "code"
   },
   "source": "print(\"Column datatypes of main dataframe:\")\ndisplay(st_clean.dtypes)\n\nst_description = st_clean.describe()\ndisplay(st_description.style)\n\n",
   "execution_count": 40,
   "outputs": [
    {
     "name": "stdout",
     "text": "Column datatypes of main dataframe:\n",
     "output_type": "stream"
    },
    {
     "data": {
      "text/plain": "date                object\nbtc_tel_pos        float64\nbtc_tel_neu        float64\nbtc_tel_neg        float64\nbtc_twit_pos       float64\nbtc_twit_neu       float64\nbtc_twit_neg       float64\nbtc_close          float64\nbtc_open           float64\nbtc_high           float64\nbtc_low            float64\nbtc_vol            float64\nbtc_pct_change     float64\neth_tel_pos        float64\neth_tel_neu        float64\neth_tel_neg        float64\neth_twit_pos       float64\neth_twit_neu       float64\neth_twit_neg       float64\neth_close          float64\neth_open           float64\neth_high           float64\neth_low            float64\neth_vol            float64\neth_pct_change     float64\ndoge_tel_pos       float64\ndoge_tel_neu       float64\ndoge_tel_neg       float64\ndoge_twit_pos      float64\ndoge_twit_neu      float64\ndoge_twit_neg      float64\ndoge_close         float64\ndoge_open          float64\ndoge_high          float64\ndoge_low           float64\ndoge_vol           float64\ndoge_pct_change    float64\nada_tel_pos        float64\nada_tel_neu        float64\nada_tel_neg        float64\nada_twit_pos       float64\nada_twit_neu       float64\nada_twit_neg       float64\nada_close          float64\nada_open           float64\nada_high           float64\nada_low            float64\nada_vol            float64\nada_pct_change     float64\ndtype: object"
     },
     "metadata": {},
     "output_type": "display_data"
    },
    {
     "data": {
      "text/plain": "<pandas.io.formats.style.Styler at 0x7f92ebebe690>",
      "text/html": "<style  type=\"text/css\" >\n</style><table id=\"T_c0836_\" ><thead>    <tr>        <th class=\"blank level0\" ></th>        <th class=\"col_heading level0 col0\" >btc_tel_pos</th>        <th class=\"col_heading level0 col1\" >btc_tel_neu</th>        <th class=\"col_heading level0 col2\" >btc_tel_neg</th>        <th class=\"col_heading level0 col3\" >btc_twit_pos</th>        <th class=\"col_heading level0 col4\" >btc_twit_neu</th>        <th class=\"col_heading level0 col5\" >btc_twit_neg</th>        <th class=\"col_heading level0 col6\" >btc_close</th>        <th class=\"col_heading level0 col7\" >btc_open</th>        <th class=\"col_heading level0 col8\" >btc_high</th>        <th class=\"col_heading level0 col9\" >btc_low</th>        <th class=\"col_heading level0 col10\" >btc_vol</th>        <th class=\"col_heading level0 col11\" >btc_pct_change</th>        <th class=\"col_heading level0 col12\" >eth_tel_pos</th>        <th class=\"col_heading level0 col13\" >eth_tel_neu</th>        <th class=\"col_heading level0 col14\" >eth_tel_neg</th>        <th class=\"col_heading level0 col15\" >eth_twit_pos</th>        <th class=\"col_heading level0 col16\" >eth_twit_neu</th>        <th class=\"col_heading level0 col17\" >eth_twit_neg</th>        <th class=\"col_heading level0 col18\" >eth_close</th>        <th class=\"col_heading level0 col19\" >eth_open</th>        <th class=\"col_heading level0 col20\" >eth_high</th>        <th class=\"col_heading level0 col21\" >eth_low</th>        <th class=\"col_heading level0 col22\" >eth_vol</th>        <th class=\"col_heading level0 col23\" >eth_pct_change</th>        <th class=\"col_heading level0 col24\" >doge_tel_pos</th>        <th class=\"col_heading level0 col25\" >doge_tel_neu</th>        <th class=\"col_heading level0 col26\" >doge_tel_neg</th>        <th class=\"col_heading level0 col27\" >doge_twit_pos</th>        <th class=\"col_heading level0 col28\" >doge_twit_neu</th>        <th class=\"col_heading level0 col29\" >doge_twit_neg</th>        <th class=\"col_heading level0 col30\" >doge_close</th>        <th class=\"col_heading level0 col31\" >doge_open</th>        <th class=\"col_heading level0 col32\" >doge_high</th>        <th class=\"col_heading level0 col33\" >doge_low</th>        <th class=\"col_heading level0 col34\" >doge_vol</th>        <th class=\"col_heading level0 col35\" >doge_pct_change</th>        <th class=\"col_heading level0 col36\" >ada_tel_pos</th>        <th class=\"col_heading level0 col37\" >ada_tel_neu</th>        <th class=\"col_heading level0 col38\" >ada_tel_neg</th>        <th class=\"col_heading level0 col39\" >ada_twit_pos</th>        <th class=\"col_heading level0 col40\" >ada_twit_neu</th>        <th class=\"col_heading level0 col41\" >ada_twit_neg</th>        <th class=\"col_heading level0 col42\" >ada_close</th>        <th class=\"col_heading level0 col43\" >ada_open</th>        <th class=\"col_heading level0 col44\" >ada_high</th>        <th class=\"col_heading level0 col45\" >ada_low</th>        <th class=\"col_heading level0 col46\" >ada_vol</th>        <th class=\"col_heading level0 col47\" >ada_pct_change</th>    </tr></thead><tbody>\n                <tr>\n                        <th id=\"T_c0836_level0_row0\" class=\"row_heading level0 row0\" >count</th>\n                        <td id=\"T_c0836_row0_col0\" class=\"data row0 col0\" >758.000000</td>\n                        <td id=\"T_c0836_row0_col1\" class=\"data row0 col1\" >758.000000</td>\n                        <td id=\"T_c0836_row0_col2\" class=\"data row0 col2\" >758.000000</td>\n                        <td id=\"T_c0836_row0_col3\" class=\"data row0 col3\" >758.000000</td>\n                        <td id=\"T_c0836_row0_col4\" class=\"data row0 col4\" >758.000000</td>\n                        <td id=\"T_c0836_row0_col5\" class=\"data row0 col5\" >758.000000</td>\n                        <td id=\"T_c0836_row0_col6\" class=\"data row0 col6\" >758.000000</td>\n                        <td id=\"T_c0836_row0_col7\" class=\"data row0 col7\" >758.000000</td>\n                        <td id=\"T_c0836_row0_col8\" class=\"data row0 col8\" >758.000000</td>\n                        <td id=\"T_c0836_row0_col9\" class=\"data row0 col9\" >758.000000</td>\n                        <td id=\"T_c0836_row0_col10\" class=\"data row0 col10\" >758.000000</td>\n                        <td id=\"T_c0836_row0_col11\" class=\"data row0 col11\" >758.000000</td>\n                        <td id=\"T_c0836_row0_col12\" class=\"data row0 col12\" >758.000000</td>\n                        <td id=\"T_c0836_row0_col13\" class=\"data row0 col13\" >758.000000</td>\n                        <td id=\"T_c0836_row0_col14\" class=\"data row0 col14\" >758.000000</td>\n                        <td id=\"T_c0836_row0_col15\" class=\"data row0 col15\" >758.000000</td>\n                        <td id=\"T_c0836_row0_col16\" class=\"data row0 col16\" >758.000000</td>\n                        <td id=\"T_c0836_row0_col17\" class=\"data row0 col17\" >758.000000</td>\n                        <td id=\"T_c0836_row0_col18\" class=\"data row0 col18\" >758.000000</td>\n                        <td id=\"T_c0836_row0_col19\" class=\"data row0 col19\" >758.000000</td>\n                        <td id=\"T_c0836_row0_col20\" class=\"data row0 col20\" >758.000000</td>\n                        <td id=\"T_c0836_row0_col21\" class=\"data row0 col21\" >758.000000</td>\n                        <td id=\"T_c0836_row0_col22\" class=\"data row0 col22\" >758.000000</td>\n                        <td id=\"T_c0836_row0_col23\" class=\"data row0 col23\" >758.000000</td>\n                        <td id=\"T_c0836_row0_col24\" class=\"data row0 col24\" >758.000000</td>\n                        <td id=\"T_c0836_row0_col25\" class=\"data row0 col25\" >758.000000</td>\n                        <td id=\"T_c0836_row0_col26\" class=\"data row0 col26\" >758.000000</td>\n                        <td id=\"T_c0836_row0_col27\" class=\"data row0 col27\" >758.000000</td>\n                        <td id=\"T_c0836_row0_col28\" class=\"data row0 col28\" >758.000000</td>\n                        <td id=\"T_c0836_row0_col29\" class=\"data row0 col29\" >758.000000</td>\n                        <td id=\"T_c0836_row0_col30\" class=\"data row0 col30\" >758.000000</td>\n                        <td id=\"T_c0836_row0_col31\" class=\"data row0 col31\" >758.000000</td>\n                        <td id=\"T_c0836_row0_col32\" class=\"data row0 col32\" >758.000000</td>\n                        <td id=\"T_c0836_row0_col33\" class=\"data row0 col33\" >758.000000</td>\n                        <td id=\"T_c0836_row0_col34\" class=\"data row0 col34\" >758.000000</td>\n                        <td id=\"T_c0836_row0_col35\" class=\"data row0 col35\" >758.000000</td>\n                        <td id=\"T_c0836_row0_col36\" class=\"data row0 col36\" >758.000000</td>\n                        <td id=\"T_c0836_row0_col37\" class=\"data row0 col37\" >758.000000</td>\n                        <td id=\"T_c0836_row0_col38\" class=\"data row0 col38\" >758.000000</td>\n                        <td id=\"T_c0836_row0_col39\" class=\"data row0 col39\" >758.000000</td>\n                        <td id=\"T_c0836_row0_col40\" class=\"data row0 col40\" >758.000000</td>\n                        <td id=\"T_c0836_row0_col41\" class=\"data row0 col41\" >758.000000</td>\n                        <td id=\"T_c0836_row0_col42\" class=\"data row0 col42\" >758.000000</td>\n                        <td id=\"T_c0836_row0_col43\" class=\"data row0 col43\" >758.000000</td>\n                        <td id=\"T_c0836_row0_col44\" class=\"data row0 col44\" >758.000000</td>\n                        <td id=\"T_c0836_row0_col45\" class=\"data row0 col45\" >758.000000</td>\n                        <td id=\"T_c0836_row0_col46\" class=\"data row0 col46\" >758.000000</td>\n                        <td id=\"T_c0836_row0_col47\" class=\"data row0 col47\" >758.000000</td>\n            </tr>\n            <tr>\n                        <th id=\"T_c0836_level0_row1\" class=\"row_heading level0 row1\" >mean</th>\n                        <td id=\"T_c0836_row1_col0\" class=\"data row1 col0\" >140.846966</td>\n                        <td id=\"T_c0836_row1_col1\" class=\"data row1 col1\" >316.923483</td>\n                        <td id=\"T_c0836_row1_col2\" class=\"data row1 col2\" >21.225594</td>\n                        <td id=\"T_c0836_row1_col3\" class=\"data row1 col3\" >7643.526385</td>\n                        <td id=\"T_c0836_row1_col4\" class=\"data row1 col4\" >23071.885224</td>\n                        <td id=\"T_c0836_row1_col5\" class=\"data row1 col5\" >1979.609499</td>\n                        <td id=\"T_c0836_row1_col6\" class=\"data row1 col6\" >20544.369393</td>\n                        <td id=\"T_c0836_row1_col7\" class=\"data row1 col7\" >20484.331003</td>\n                        <td id=\"T_c0836_row1_col8\" class=\"data row1 col8\" >21099.186412</td>\n                        <td id=\"T_c0836_row1_col9\" class=\"data row1 col9\" >19829.969261</td>\n                        <td id=\"T_c0836_row1_col10\" class=\"data row1 col10\" >580382.361478</td>\n                        <td id=\"T_c0836_row1_col11\" class=\"data row1 col11\" >0.302612</td>\n                        <td id=\"T_c0836_row1_col12\" class=\"data row1 col12\" >38.081794</td>\n                        <td id=\"T_c0836_row1_col13\" class=\"data row1 col13\" >78.829815</td>\n                        <td id=\"T_c0836_row1_col14\" class=\"data row1 col14\" >5.478892</td>\n                        <td id=\"T_c0836_row1_col15\" class=\"data row1 col15\" >2966.610818</td>\n                        <td id=\"T_c0836_row1_col16\" class=\"data row1 col16\" >7344.562005</td>\n                        <td id=\"T_c0836_row1_col17\" class=\"data row1 col17\" >578.232190</td>\n                        <td id=\"T_c0836_row1_col18\" class=\"data row1 col18\" >832.927982</td>\n                        <td id=\"T_c0836_row1_col19\" class=\"data row1 col19\" >828.859011</td>\n                        <td id=\"T_c0836_row1_col20\" class=\"data row1 col20\" >863.092071</td>\n                        <td id=\"T_c0836_row1_col21\" class=\"data row1 col21\" >792.715528</td>\n                        <td id=\"T_c0836_row1_col22\" class=\"data row1 col22\" >9687235.593668</td>\n                        <td id=\"T_c0836_row1_col23\" class=\"data row1 col23\" >0.500066</td>\n                        <td id=\"T_c0836_row1_col24\" class=\"data row1 col24\" >7.686016</td>\n                        <td id=\"T_c0836_row1_col25\" class=\"data row1 col25\" >8.072559</td>\n                        <td id=\"T_c0836_row1_col26\" class=\"data row1 col26\" >0.474934</td>\n                        <td id=\"T_c0836_row1_col27\" class=\"data row1 col27\" >1209.017150</td>\n                        <td id=\"T_c0836_row1_col28\" class=\"data row1 col28\" >3626.769129</td>\n                        <td id=\"T_c0836_row1_col29\" class=\"data row1 col29\" >245.319261</td>\n                        <td id=\"T_c0836_row1_col30\" class=\"data row1 col30\" >0.056899</td>\n                        <td id=\"T_c0836_row1_col31\" class=\"data row1 col31\" >0.056633</td>\n                        <td id=\"T_c0836_row1_col32\" class=\"data row1 col32\" >0.061662</td>\n                        <td id=\"T_c0836_row1_col33\" class=\"data row1 col33\" >0.051544</td>\n                        <td id=\"T_c0836_row1_col34\" class=\"data row1 col34\" >8041452836.411610</td>\n                        <td id=\"T_c0836_row1_col35\" class=\"data row1 col35\" >9.246992</td>\n                        <td id=\"T_c0836_row1_col36\" class=\"data row1 col36\" >5.383905</td>\n                        <td id=\"T_c0836_row1_col37\" class=\"data row1 col37\" >13.312665</td>\n                        <td id=\"T_c0836_row1_col38\" class=\"data row1 col38\" >1.341689</td>\n                        <td id=\"T_c0836_row1_col39\" class=\"data row1 col39\" >445.767810</td>\n                        <td id=\"T_c0836_row1_col40\" class=\"data row1 col40\" >970.579156</td>\n                        <td id=\"T_c0836_row1_col41\" class=\"data row1 col41\" >65.560686</td>\n                        <td id=\"T_c0836_row1_col42\" class=\"data row1 col42\" >0.414272</td>\n                        <td id=\"T_c0836_row1_col43\" class=\"data row1 col43\" >0.410340</td>\n                        <td id=\"T_c0836_row1_col44\" class=\"data row1 col44\" >0.432999</td>\n                        <td id=\"T_c0836_row1_col45\" class=\"data row1 col45\" >0.389565</td>\n                        <td id=\"T_c0836_row1_col46\" class=\"data row1 col46\" >434196451.187335</td>\n                        <td id=\"T_c0836_row1_col47\" class=\"data row1 col47\" >0.720594</td>\n            </tr>\n            <tr>\n                        <th id=\"T_c0836_level0_row2\" class=\"row_heading level0 row2\" >std</th>\n                        <td id=\"T_c0836_row2_col0\" class=\"data row2 col0\" >319.460828</td>\n                        <td id=\"T_c0836_row2_col1\" class=\"data row2 col1\" >266.682475</td>\n                        <td id=\"T_c0836_row2_col2\" class=\"data row2 col2\" >14.071455</td>\n                        <td id=\"T_c0836_row2_col3\" class=\"data row2 col3\" >7386.074530</td>\n                        <td id=\"T_c0836_row2_col4\" class=\"data row2 col4\" >19729.650005</td>\n                        <td id=\"T_c0836_row2_col5\" class=\"data row2 col5\" >2269.340322</td>\n                        <td id=\"T_c0836_row2_col6\" class=\"data row2 col6\" >16692.528833</td>\n                        <td id=\"T_c0836_row2_col7\" class=\"data row2 col7\" >16644.574297</td>\n                        <td id=\"T_c0836_row2_col8\" class=\"data row2 col8\" >17215.529123</td>\n                        <td id=\"T_c0836_row2_col9\" class=\"data row2 col9\" >16027.747650</td>\n                        <td id=\"T_c0836_row2_col10\" class=\"data row2 col10\" >1300597.848969</td>\n                        <td id=\"T_c0836_row2_col11\" class=\"data row2 col11\" >4.005494</td>\n                        <td id=\"T_c0836_row2_col12\" class=\"data row2 col12\" >83.296600</td>\n                        <td id=\"T_c0836_row2_col13\" class=\"data row2 col13\" >71.337135</td>\n                        <td id=\"T_c0836_row2_col14\" class=\"data row2 col14\" >5.470126</td>\n                        <td id=\"T_c0836_row2_col15\" class=\"data row2 col15\" >3222.335481</td>\n                        <td id=\"T_c0836_row2_col16\" class=\"data row2 col16\" >7485.197933</td>\n                        <td id=\"T_c0836_row2_col17\" class=\"data row2 col17\" >1175.397916</td>\n                        <td id=\"T_c0836_row2_col18\" class=\"data row2 col18\" >955.021175</td>\n                        <td id=\"T_c0836_row2_col19\" class=\"data row2 col19\" >951.092286</td>\n                        <td id=\"T_c0836_row2_col20\" class=\"data row2 col20\" >994.619806</td>\n                        <td id=\"T_c0836_row2_col21\" class=\"data row2 col21\" >905.360596</td>\n                        <td id=\"T_c0836_row2_col22\" class=\"data row2 col22\" >8743803.020163</td>\n                        <td id=\"T_c0836_row2_col23\" class=\"data row2 col23\" >5.213955</td>\n                        <td id=\"T_c0836_row2_col24\" class=\"data row2 col24\" >73.654960</td>\n                        <td id=\"T_c0836_row2_col25\" class=\"data row2 col25\" >34.712768</td>\n                        <td id=\"T_c0836_row2_col26\" class=\"data row2 col26\" >1.738910</td>\n                        <td id=\"T_c0836_row2_col27\" class=\"data row2 col27\" >2975.089715</td>\n                        <td id=\"T_c0836_row2_col28\" class=\"data row2 col28\" >11947.240018</td>\n                        <td id=\"T_c0836_row2_col29\" class=\"data row2 col29\" >1043.401755</td>\n                        <td id=\"T_c0836_row2_col30\" class=\"data row2 col30\" >0.117675</td>\n                        <td id=\"T_c0836_row2_col31\" class=\"data row2 col31\" >0.117672</td>\n                        <td id=\"T_c0836_row2_col32\" class=\"data row2 col32\" >0.128363</td>\n                        <td id=\"T_c0836_row2_col33\" class=\"data row2 col33\" >0.105623</td>\n                        <td id=\"T_c0836_row2_col34\" class=\"data row2 col34\" >12919085409.720266</td>\n                        <td id=\"T_c0836_row2_col35\" class=\"data row2 col35\" >225.489898</td>\n                        <td id=\"T_c0836_row2_col36\" class=\"data row2 col36\" >19.323748</td>\n                        <td id=\"T_c0836_row2_col37\" class=\"data row2 col37\" >28.929443</td>\n                        <td id=\"T_c0836_row2_col38\" class=\"data row2 col38\" >4.334206</td>\n                        <td id=\"T_c0836_row2_col39\" class=\"data row2 col39\" >781.665824</td>\n                        <td id=\"T_c0836_row2_col40\" class=\"data row2 col40\" >1428.408718</td>\n                        <td id=\"T_c0836_row2_col41\" class=\"data row2 col41\" >110.792204</td>\n                        <td id=\"T_c0836_row2_col42\" class=\"data row2 col42\" >0.595163</td>\n                        <td id=\"T_c0836_row2_col43\" class=\"data row2 col43\" >0.588279</td>\n                        <td id=\"T_c0836_row2_col44\" class=\"data row2 col44\" >0.622956</td>\n                        <td id=\"T_c0836_row2_col45\" class=\"data row2 col45\" >0.558243</td>\n                        <td id=\"T_c0836_row2_col46\" class=\"data row2 col46\" >230049108.241221</td>\n                        <td id=\"T_c0836_row2_col47\" class=\"data row2 col47\" >6.191004</td>\n            </tr>\n            <tr>\n                        <th id=\"T_c0836_level0_row3\" class=\"row_heading level0 row3\" >min</th>\n                        <td id=\"T_c0836_row3_col0\" class=\"data row3 col0\" >0.000000</td>\n                        <td id=\"T_c0836_row3_col1\" class=\"data row3 col1\" >0.000000</td>\n                        <td id=\"T_c0836_row3_col2\" class=\"data row3 col2\" >0.000000</td>\n                        <td id=\"T_c0836_row3_col3\" class=\"data row3 col3\" >0.000000</td>\n                        <td id=\"T_c0836_row3_col4\" class=\"data row3 col4\" >0.000000</td>\n                        <td id=\"T_c0836_row3_col5\" class=\"data row3 col5\" >0.000000</td>\n                        <td id=\"T_c0836_row3_col6\" class=\"data row3 col6\" >4826.000000</td>\n                        <td id=\"T_c0836_row3_col7\" class=\"data row3 col7\" >4815.200000</td>\n                        <td id=\"T_c0836_row3_col8\" class=\"data row3 col8\" >5369.300000</td>\n                        <td id=\"T_c0836_row3_col9\" class=\"data row3 col9\" >3869.500000</td>\n                        <td id=\"T_c0836_row3_col10\" class=\"data row3 col10\" >260.000000</td>\n                        <td id=\"T_c0836_row3_col11\" class=\"data row3 col11\" >-39.180000</td>\n                        <td id=\"T_c0836_row3_col12\" class=\"data row3 col12\" >0.000000</td>\n                        <td id=\"T_c0836_row3_col13\" class=\"data row3 col13\" >0.000000</td>\n                        <td id=\"T_c0836_row3_col14\" class=\"data row3 col14\" >0.000000</td>\n                        <td id=\"T_c0836_row3_col15\" class=\"data row3 col15\" >0.000000</td>\n                        <td id=\"T_c0836_row3_col16\" class=\"data row3 col16\" >1.000000</td>\n                        <td id=\"T_c0836_row3_col17\" class=\"data row3 col17\" >0.000000</td>\n                        <td id=\"T_c0836_row3_col18\" class=\"data row3 col18\" >107.900000</td>\n                        <td id=\"T_c0836_row3_col19\" class=\"data row3 col19\" >107.870000</td>\n                        <td id=\"T_c0836_row3_col20\" class=\"data row3 col20\" >117.910000</td>\n                        <td id=\"T_c0836_row3_col21\" class=\"data row3 col21\" >88.500000</td>\n                        <td id=\"T_c0836_row3_col22\" class=\"data row3 col22\" >27030.000000</td>\n                        <td id=\"T_c0836_row3_col23\" class=\"data row3 col23\" >-44.550000</td>\n                        <td id=\"T_c0836_row3_col24\" class=\"data row3 col24\" >0.000000</td>\n                        <td id=\"T_c0836_row3_col25\" class=\"data row3 col25\" >0.000000</td>\n                        <td id=\"T_c0836_row3_col26\" class=\"data row3 col26\" >0.000000</td>\n                        <td id=\"T_c0836_row3_col27\" class=\"data row3 col27\" >0.000000</td>\n                        <td id=\"T_c0836_row3_col28\" class=\"data row3 col28\" >0.000000</td>\n                        <td id=\"T_c0836_row3_col29\" class=\"data row3 col29\" >0.000000</td>\n                        <td id=\"T_c0836_row3_col30\" class=\"data row3 col30\" >0.001585</td>\n                        <td id=\"T_c0836_row3_col31\" class=\"data row3 col31\" >0.001580</td>\n                        <td id=\"T_c0836_row3_col32\" class=\"data row3 col32\" >0.001720</td>\n                        <td id=\"T_c0836_row3_col33\" class=\"data row3 col33\" >0.001291</td>\n                        <td id=\"T_c0836_row3_col34\" class=\"data row3 col34\" >597980000.000000</td>\n                        <td id=\"T_c0836_row3_col35\" class=\"data row3 col35\" >-98.430000</td>\n                        <td id=\"T_c0836_row3_col36\" class=\"data row3 col36\" >0.000000</td>\n                        <td id=\"T_c0836_row3_col37\" class=\"data row3 col37\" >0.000000</td>\n                        <td id=\"T_c0836_row3_col38\" class=\"data row3 col38\" >0.000000</td>\n                        <td id=\"T_c0836_row3_col39\" class=\"data row3 col39\" >0.000000</td>\n                        <td id=\"T_c0836_row3_col40\" class=\"data row3 col40\" >1.000000</td>\n                        <td id=\"T_c0836_row3_col41\" class=\"data row3 col41\" >0.000000</td>\n                        <td id=\"T_c0836_row3_col42\" class=\"data row3 col42\" >0.023222</td>\n                        <td id=\"T_c0836_row3_col43\" class=\"data row3 col43\" >0.023225</td>\n                        <td id=\"T_c0836_row3_col44\" class=\"data row3 col44\" >0.026454</td>\n                        <td id=\"T_c0836_row3_col45\" class=\"data row3 col45\" >0.017774</td>\n                        <td id=\"T_c0836_row3_col46\" class=\"data row3 col46\" >0.000000</td>\n                        <td id=\"T_c0836_row3_col47\" class=\"data row3 col47\" >-41.490000</td>\n            </tr>\n            <tr>\n                        <th id=\"T_c0836_level0_row4\" class=\"row_heading level0 row4\" >25%</th>\n                        <td id=\"T_c0836_row4_col0\" class=\"data row4 col0\" >40.000000</td>\n                        <td id=\"T_c0836_row4_col1\" class=\"data row4 col1\" >178.250000</td>\n                        <td id=\"T_c0836_row4_col2\" class=\"data row4 col2\" >11.000000</td>\n                        <td id=\"T_c0836_row4_col3\" class=\"data row4 col3\" >1504.250000</td>\n                        <td id=\"T_c0836_row4_col4\" class=\"data row4 col4\" >8957.500000</td>\n                        <td id=\"T_c0836_row4_col5\" class=\"data row4 col5\" >450.000000</td>\n                        <td id=\"T_c0836_row4_col6\" class=\"data row4 col6\" >9062.000000</td>\n                        <td id=\"T_c0836_row4_col7\" class=\"data row4 col7\" >9062.225000</td>\n                        <td id=\"T_c0836_row4_col8\" class=\"data row4 col8\" >9199.050000</td>\n                        <td id=\"T_c0836_row4_col9\" class=\"data row4 col9\" >8822.350000</td>\n                        <td id=\"T_c0836_row4_col10\" class=\"data row4 col10\" >110825.000000</td>\n                        <td id=\"T_c0836_row4_col11\" class=\"data row4 col11\" >-1.505000</td>\n                        <td id=\"T_c0836_row4_col12\" class=\"data row4 col12\" >7.000000</td>\n                        <td id=\"T_c0836_row4_col13\" class=\"data row4 col13\" >38.000000</td>\n                        <td id=\"T_c0836_row4_col14\" class=\"data row4 col14\" >2.000000</td>\n                        <td id=\"T_c0836_row4_col15\" class=\"data row4 col15\" >588.250000</td>\n                        <td id=\"T_c0836_row4_col16\" class=\"data row4 col16\" >3031.250000</td>\n                        <td id=\"T_c0836_row4_col17\" class=\"data row4 col17\" >112.000000</td>\n                        <td id=\"T_c0836_row4_col18\" class=\"data row4 col18\" >187.292500</td>\n                        <td id=\"T_c0836_row4_col19\" class=\"data row4 col19\" >187.320000</td>\n                        <td id=\"T_c0836_row4_col20\" class=\"data row4 col20\" >191.695000</td>\n                        <td id=\"T_c0836_row4_col21\" class=\"data row4 col21\" >181.857500</td>\n                        <td id=\"T_c0836_row4_col22\" class=\"data row4 col22\" >2302500.000000</td>\n                        <td id=\"T_c0836_row4_col23\" class=\"data row4 col23\" >-1.927500</td>\n                        <td id=\"T_c0836_row4_col24\" class=\"data row4 col24\" >0.000000</td>\n                        <td id=\"T_c0836_row4_col25\" class=\"data row4 col25\" >0.000000</td>\n                        <td id=\"T_c0836_row4_col26\" class=\"data row4 col26\" >0.000000</td>\n                        <td id=\"T_c0836_row4_col27\" class=\"data row4 col27\" >13.000000</td>\n                        <td id=\"T_c0836_row4_col28\" class=\"data row4 col28\" >29.250000</td>\n                        <td id=\"T_c0836_row4_col29\" class=\"data row4 col29\" >1.000000</td>\n                        <td id=\"T_c0836_row4_col30\" class=\"data row4 col30\" >0.002500</td>\n                        <td id=\"T_c0836_row4_col31\" class=\"data row4 col31\" >0.002500</td>\n                        <td id=\"T_c0836_row4_col32\" class=\"data row4 col32\" >0.002561</td>\n                        <td id=\"T_c0836_row4_col33\" class=\"data row4 col33\" >0.002430</td>\n                        <td id=\"T_c0836_row4_col34\" class=\"data row4 col34\" >2070000000.000000</td>\n                        <td id=\"T_c0836_row4_col35\" class=\"data row4 col35\" >-2.107500</td>\n                        <td id=\"T_c0836_row4_col36\" class=\"data row4 col36\" >0.000000</td>\n                        <td id=\"T_c0836_row4_col37\" class=\"data row4 col37\" >1.000000</td>\n                        <td id=\"T_c0836_row4_col38\" class=\"data row4 col38\" >0.000000</td>\n                        <td id=\"T_c0836_row4_col39\" class=\"data row4 col39\" >62.000000</td>\n                        <td id=\"T_c0836_row4_col40\" class=\"data row4 col40\" >170.250000</td>\n                        <td id=\"T_c0836_row4_col41\" class=\"data row4 col41\" >6.000000</td>\n                        <td id=\"T_c0836_row4_col42\" class=\"data row4 col42\" >0.046285</td>\n                        <td id=\"T_c0836_row4_col43\" class=\"data row4 col43\" >0.046286</td>\n                        <td id=\"T_c0836_row4_col44\" class=\"data row4 col44\" >0.047403</td>\n                        <td id=\"T_c0836_row4_col45\" class=\"data row4 col45\" >0.044791</td>\n                        <td id=\"T_c0836_row4_col46\" class=\"data row4 col46\" >253142500.000000</td>\n                        <td id=\"T_c0836_row4_col47\" class=\"data row4 col47\" >-2.500000</td>\n            </tr>\n            <tr>\n                        <th id=\"T_c0836_level0_row5\" class=\"row_heading level0 row5\" >50%</th>\n                        <td id=\"T_c0836_row5_col0\" class=\"data row5 col0\" >82.000000</td>\n                        <td id=\"T_c0836_row5_col1\" class=\"data row5 col1\" >280.000000</td>\n                        <td id=\"T_c0836_row5_col2\" class=\"data row5 col2\" >20.000000</td>\n                        <td id=\"T_c0836_row5_col3\" class=\"data row5 col3\" >4144.500000</td>\n                        <td id=\"T_c0836_row5_col4\" class=\"data row5 col4\" >14897.000000</td>\n                        <td id=\"T_c0836_row5_col5\" class=\"data row5 col5\" >1083.000000</td>\n                        <td id=\"T_c0836_row5_col6\" class=\"data row5 col6\" >10674.100000</td>\n                        <td id=\"T_c0836_row5_col7\" class=\"data row5 col7\" >10671.600000</td>\n                        <td id=\"T_c0836_row5_col8\" class=\"data row5 col8\" >10803.300000</td>\n                        <td id=\"T_c0836_row5_col9\" class=\"data row5 col9\" >10462.350000</td>\n                        <td id=\"T_c0836_row5_col10\" class=\"data row5 col10\" >390465.000000</td>\n                        <td id=\"T_c0836_row5_col11\" class=\"data row5 col11\" >0.135000</td>\n                        <td id=\"T_c0836_row5_col12\" class=\"data row5 col12\" >19.000000</td>\n                        <td id=\"T_c0836_row5_col13\" class=\"data row5 col13\" >68.000000</td>\n                        <td id=\"T_c0836_row5_col14\" class=\"data row5 col14\" >5.000000</td>\n                        <td id=\"T_c0836_row5_col15\" class=\"data row5 col15\" >1765.000000</td>\n                        <td id=\"T_c0836_row5_col16\" class=\"data row5 col16\" >4253.000000</td>\n                        <td id=\"T_c0836_row5_col17\" class=\"data row5 col17\" >221.500000</td>\n                        <td id=\"T_c0836_row5_col18\" class=\"data row5 col18\" >334.890000</td>\n                        <td id=\"T_c0836_row5_col19\" class=\"data row5 col19\" >328.330000</td>\n                        <td id=\"T_c0836_row5_col20\" class=\"data row5 col20\" >343.400000</td>\n                        <td id=\"T_c0836_row5_col21\" class=\"data row5 col21\" >315.185000</td>\n                        <td id=\"T_c0836_row5_col22\" class=\"data row5 col22\" >8110000.000000</td>\n                        <td id=\"T_c0836_row5_col23\" class=\"data row5 col23\" >0.295000</td>\n                        <td id=\"T_c0836_row5_col24\" class=\"data row5 col24\" >0.000000</td>\n                        <td id=\"T_c0836_row5_col25\" class=\"data row5 col25\" >1.000000</td>\n                        <td id=\"T_c0836_row5_col26\" class=\"data row5 col26\" >0.000000</td>\n                        <td id=\"T_c0836_row5_col27\" class=\"data row5 col27\" >78.500000</td>\n                        <td id=\"T_c0836_row5_col28\" class=\"data row5 col28\" >177.000000</td>\n                        <td id=\"T_c0836_row5_col29\" class=\"data row5 col29\" >5.000000</td>\n                        <td id=\"T_c0836_row5_col30\" class=\"data row5 col30\" >0.002801</td>\n                        <td id=\"T_c0836_row5_col31\" class=\"data row5 col31\" >0.002801</td>\n                        <td id=\"T_c0836_row5_col32\" class=\"data row5 col32\" >0.002928</td>\n                        <td id=\"T_c0836_row5_col33\" class=\"data row5 col33\" >0.002737</td>\n                        <td id=\"T_c0836_row5_col34\" class=\"data row5 col34\" >3200000000.000000</td>\n                        <td id=\"T_c0836_row5_col35\" class=\"data row5 col35\" >-0.075000</td>\n                        <td id=\"T_c0836_row5_col36\" class=\"data row5 col36\" >1.000000</td>\n                        <td id=\"T_c0836_row5_col37\" class=\"data row5 col37\" >6.000000</td>\n                        <td id=\"T_c0836_row5_col38\" class=\"data row5 col38\" >0.000000</td>\n                        <td id=\"T_c0836_row5_col39\" class=\"data row5 col39\" >146.000000</td>\n                        <td id=\"T_c0836_row5_col40\" class=\"data row5 col40\" >366.000000</td>\n                        <td id=\"T_c0836_row5_col41\" class=\"data row5 col41\" >20.000000</td>\n                        <td id=\"T_c0836_row5_col42\" class=\"data row5 col42\" >0.096594</td>\n                        <td id=\"T_c0836_row5_col43\" class=\"data row5 col43\" >0.096375</td>\n                        <td id=\"T_c0836_row5_col44\" class=\"data row5 col44\" >0.098994</td>\n                        <td id=\"T_c0836_row5_col45\" class=\"data row5 col45\" >0.092470</td>\n                        <td id=\"T_c0836_row5_col46\" class=\"data row5 col46\" >402550000.000000</td>\n                        <td id=\"T_c0836_row5_col47\" class=\"data row5 col47\" >0.505000</td>\n            </tr>\n            <tr>\n                        <th id=\"T_c0836_level0_row6\" class=\"row_heading level0 row6\" >75%</th>\n                        <td id=\"T_c0836_row6_col0\" class=\"data row6 col0\" >129.000000</td>\n                        <td id=\"T_c0836_row6_col1\" class=\"data row6 col1\" >395.500000</td>\n                        <td id=\"T_c0836_row6_col2\" class=\"data row6 col2\" >30.000000</td>\n                        <td id=\"T_c0836_row6_col3\" class=\"data row6 col3\" >12722.500000</td>\n                        <td id=\"T_c0836_row6_col4\" class=\"data row6 col4\" >35155.000000</td>\n                        <td id=\"T_c0836_row6_col5\" class=\"data row6 col5\" >3008.000000</td>\n                        <td id=\"T_c0836_row6_col6\" class=\"data row6 col6\" >33770.000000</td>\n                        <td id=\"T_c0836_row6_col7\" class=\"data row6 col7\" >33685.900000</td>\n                        <td id=\"T_c0836_row6_col8\" class=\"data row6 col8\" >34895.925000</td>\n                        <td id=\"T_c0836_row6_col9\" class=\"data row6 col9\" >32308.550000</td>\n                        <td id=\"T_c0836_row6_col10\" class=\"data row6 col10\" >666740.000000</td>\n                        <td id=\"T_c0836_row6_col11\" class=\"data row6 col11\" >2.000000</td>\n                        <td id=\"T_c0836_row6_col12\" class=\"data row6 col12\" >39.000000</td>\n                        <td id=\"T_c0836_row6_col13\" class=\"data row6 col13\" >106.000000</td>\n                        <td id=\"T_c0836_row6_col14\" class=\"data row6 col14\" >8.000000</td>\n                        <td id=\"T_c0836_row6_col15\" class=\"data row6 col15\" >3809.750000</td>\n                        <td id=\"T_c0836_row6_col16\" class=\"data row6 col16\" >8301.250000</td>\n                        <td id=\"T_c0836_row6_col17\" class=\"data row6 col17\" >559.250000</td>\n                        <td id=\"T_c0836_row6_col18\" class=\"data row6 col18\" >1485.502500</td>\n                        <td id=\"T_c0836_row6_col19\" class=\"data row6 col19\" >1472.287500</td>\n                        <td id=\"T_c0836_row6_col20\" class=\"data row6 col20\" >1558.422500</td>\n                        <td id=\"T_c0836_row6_col21\" class=\"data row6 col21\" >1409.487500</td>\n                        <td id=\"T_c0836_row6_col22\" class=\"data row6 col22\" >12607500.000000</td>\n                        <td id=\"T_c0836_row6_col23\" class=\"data row6 col23\" >3.050000</td>\n                        <td id=\"T_c0836_row6_col24\" class=\"data row6 col24\" >2.000000</td>\n                        <td id=\"T_c0836_row6_col25\" class=\"data row6 col25\" >6.000000</td>\n                        <td id=\"T_c0836_row6_col26\" class=\"data row6 col26\" >0.000000</td>\n                        <td id=\"T_c0836_row6_col27\" class=\"data row6 col27\" >387.500000</td>\n                        <td id=\"T_c0836_row6_col28\" class=\"data row6 col28\" >1136.500000</td>\n                        <td id=\"T_c0836_row6_col29\" class=\"data row6 col29\" >58.250000</td>\n                        <td id=\"T_c0836_row6_col30\" class=\"data row6 col30\" >0.049133</td>\n                        <td id=\"T_c0836_row6_col31\" class=\"data row6 col31\" >0.048016</td>\n                        <td id=\"T_c0836_row6_col32\" class=\"data row6 col32\" >0.052224</td>\n                        <td id=\"T_c0836_row6_col33\" class=\"data row6 col33\" >0.042912</td>\n                        <td id=\"T_c0836_row6_col34\" class=\"data row6 col34\" >6567500000.000000</td>\n                        <td id=\"T_c0836_row6_col35\" class=\"data row6 col35\" >1.837500</td>\n                        <td id=\"T_c0836_row6_col36\" class=\"data row6 col36\" >3.000000</td>\n                        <td id=\"T_c0836_row6_col37\" class=\"data row6 col37\" >14.000000</td>\n                        <td id=\"T_c0836_row6_col38\" class=\"data row6 col38\" >1.000000</td>\n                        <td id=\"T_c0836_row6_col39\" class=\"data row6 col39\" >438.750000</td>\n                        <td id=\"T_c0836_row6_col40\" class=\"data row6 col40\" >986.250000</td>\n                        <td id=\"T_c0836_row6_col41\" class=\"data row6 col41\" >60.750000</td>\n                        <td id=\"T_c0836_row6_col42\" class=\"data row6 col42\" >0.610238</td>\n                        <td id=\"T_c0836_row6_col43\" class=\"data row6 col43\" >0.514470</td>\n                        <td id=\"T_c0836_row6_col44\" class=\"data row6 col44\" >0.639231</td>\n                        <td id=\"T_c0836_row6_col45\" class=\"data row6 col45\" >0.499851</td>\n                        <td id=\"T_c0836_row6_col46\" class=\"data row6 col46\" >579425000.000000</td>\n                        <td id=\"T_c0836_row6_col47\" class=\"data row6 col47\" >3.277500</td>\n            </tr>\n            <tr>\n                        <th id=\"T_c0836_level0_row7\" class=\"row_heading level0 row7\" >max</th>\n                        <td id=\"T_c0836_row7_col0\" class=\"data row7 col0\" >4524.000000</td>\n                        <td id=\"T_c0836_row7_col1\" class=\"data row7 col1\" >2484.000000</td>\n                        <td id=\"T_c0836_row7_col2\" class=\"data row7 col2\" >87.000000</td>\n                        <td id=\"T_c0836_row7_col3\" class=\"data row7 col3\" >44431.000000</td>\n                        <td id=\"T_c0836_row7_col4\" class=\"data row7 col4\" >159510.000000</td>\n                        <td id=\"T_c0836_row7_col5\" class=\"data row7 col5\" >21556.000000</td>\n                        <td id=\"T_c0836_row7_col6\" class=\"data row7 col6\" >63540.900000</td>\n                        <td id=\"T_c0836_row7_col7\" class=\"data row7 col7\" >63544.200000</td>\n                        <td id=\"T_c0836_row7_col8\" class=\"data row7 col8\" >64778.000000</td>\n                        <td id=\"T_c0836_row7_col9\" class=\"data row7 col9\" >62067.500000</td>\n                        <td id=\"T_c0836_row7_col10\" class=\"data row7 col10\" >20260000.000000</td>\n                        <td id=\"T_c0836_row7_col11\" class=\"data row7 col11\" >19.410000</td>\n                        <td id=\"T_c0836_row7_col12\" class=\"data row7 col12\" >1051.000000</td>\n                        <td id=\"T_c0836_row7_col13\" class=\"data row7 col13\" >721.000000</td>\n                        <td id=\"T_c0836_row7_col14\" class=\"data row7 col14\" >55.000000</td>\n                        <td id=\"T_c0836_row7_col15\" class=\"data row7 col15\" >18594.000000</td>\n                        <td id=\"T_c0836_row7_col16\" class=\"data row7 col16\" >56811.000000</td>\n                        <td id=\"T_c0836_row7_col17\" class=\"data row7 col17\" >20087.000000</td>\n                        <td id=\"T_c0836_row7_col18\" class=\"data row7 col18\" >4167.780000</td>\n                        <td id=\"T_c0836_row7_col19\" class=\"data row7 col19\" >4173.610000</td>\n                        <td id=\"T_c0836_row7_col20\" class=\"data row7 col20\" >4366.100000</td>\n                        <td id=\"T_c0836_row7_col21\" class=\"data row7 col21\" >3794.150000</td>\n                        <td id=\"T_c0836_row7_col22\" class=\"data row7 col22\" >60700000.000000</td>\n                        <td id=\"T_c0836_row7_col23\" class=\"data row7 col23\" >25.960000</td>\n                        <td id=\"T_c0836_row7_col24\" class=\"data row7 col24\" >1901.000000</td>\n                        <td id=\"T_c0836_row7_col25\" class=\"data row7 col25\" >778.000000</td>\n                        <td id=\"T_c0836_row7_col26\" class=\"data row7 col26\" >20.000000</td>\n                        <td id=\"T_c0836_row7_col27\" class=\"data row7 col27\" >38863.000000</td>\n                        <td id=\"T_c0836_row7_col28\" class=\"data row7 col28\" >223539.000000</td>\n                        <td id=\"T_c0836_row7_col29\" class=\"data row7 col29\" >21026.000000</td>\n                        <td id=\"T_c0836_row7_col30\" class=\"data row7 col30\" >0.686880</td>\n                        <td id=\"T_c0836_row7_col31\" class=\"data row7 col31\" >0.686914</td>\n                        <td id=\"T_c0836_row7_col32\" class=\"data row7 col32\" >0.738255</td>\n                        <td id=\"T_c0836_row7_col33\" class=\"data row7 col33\" >0.605162</td>\n                        <td id=\"T_c0836_row7_col34\" class=\"data row7 col34\" >146800000000.000000</td>\n                        <td id=\"T_c0836_row7_col35\" class=\"data row7 col35\" >6191.550000</td>\n                        <td id=\"T_c0836_row7_col36\" class=\"data row7 col36\" >225.000000</td>\n                        <td id=\"T_c0836_row7_col37\" class=\"data row7 col37\" >296.000000</td>\n                        <td id=\"T_c0836_row7_col38\" class=\"data row7 col38\" >66.000000</td>\n                        <td id=\"T_c0836_row7_col39\" class=\"data row7 col39\" >9626.000000</td>\n                        <td id=\"T_c0836_row7_col40\" class=\"data row7 col40\" >11105.000000</td>\n                        <td id=\"T_c0836_row7_col41\" class=\"data row7 col41\" >772.000000</td>\n                        <td id=\"T_c0836_row7_col42\" class=\"data row7 col42\" >2.915319</td>\n                        <td id=\"T_c0836_row7_col43\" class=\"data row7 col43\" >2.916502</td>\n                        <td id=\"T_c0836_row7_col44\" class=\"data row7 col44\" >2.970131</td>\n                        <td id=\"T_c0836_row7_col45\" class=\"data row7 col45\" >2.830990</td>\n                        <td id=\"T_c0836_row7_col46\" class=\"data row7 col46\" >996810000.000000</td>\n                        <td id=\"T_c0836_row7_col47\" class=\"data row7 col47\" >33.230000</td>\n            </tr>\n    </tbody></table>"
     },
     "metadata": {},
     "output_type": "display_data"
    }
   ]
  },
  {
   "cell_type": "markdown",
   "source": "The data types don't really tell us much, since all of them are a float with the exception of date, which is a datetime object. Perhaps we can use the summary statistics to gleam something. Before we even begin to dive into that, it's important to remember that this data is a *time series* &mdash; that is the observations are indexed in time order. That leads to some important limitations on how helpful the above data is. For example the average or medians prices of BTC over the last two years tells us nothing about how BTC has moved in that timeframe. Most of the variables regarding trading data suffer from the same problem, except for one: percent change. Since our trading dataframe has more observations to analyze, we can use that so long as it doesn't have any NaN values.",
   "metadata": {
    "tags": [],
    "cell_id": "00025-0f128411-065c-46ca-8d45-3fcef56028ae",
    "deepnote_cell_type": "markdown"
   }
  },
  {
   "cell_type": "code",
   "source": "print(\"Count of NaN values in trading: \", trading.isna().sum().sum())",
   "metadata": {
    "tags": [],
    "cell_id": "00038-f0d119e6-621a-4834-8675-6c947a762870",
    "deepnote_to_be_reexecuted": false,
    "source_hash": "7d5876f7",
    "execution_start": 1634779543899,
    "execution_millis": 10,
    "deepnote_cell_type": "code"
   },
   "outputs": [
    {
     "name": "stdout",
     "text": "Count of NaN values in trading:  0\n",
     "output_type": "stream"
    }
   ],
   "execution_count": 18
  },
  {
   "cell_type": "markdown",
   "source": "All set, now onto the percent change summary statistics",
   "metadata": {
    "tags": [],
    "cell_id": "00039-afb90601-857c-44ca-979e-6ac3661762fa",
    "deepnote_cell_type": "markdown"
   }
  },
  {
   "cell_type": "code",
   "source": "dsc_pct_change = trading.describe().loc[\"mean\":\"max\",\n    [\"btc_pct_change\", \"eth_pct_change\", \"doge_pct_change\", \"ada_pct_change\"]]\n\ndsc_pct_change",
   "metadata": {
    "tags": [],
    "cell_id": "00026-c9150ca6-769f-44d7-ac5e-ff82548831ff",
    "deepnote_to_be_reexecuted": false,
    "source_hash": "ba681a93",
    "execution_start": 1634779543912,
    "execution_millis": 92,
    "deepnote_cell_type": "code"
   },
   "outputs": [
    {
     "output_type": "execute_result",
     "execution_count": 19,
     "data": {
      "application/vnd.deepnote.dataframe.v2+json": {
       "row_count": 7,
       "column_count": 4,
       "columns": [
        {
         "name": "btc_pct_change",
         "dtype": "float64",
         "stats": {
          "unique_count": 7,
          "nan_count": 0,
          "min": "-39.18",
          "max": "19.41",
          "histogram": [
           {
            "bin_start": -39.18,
            "bin_end": -33.321,
            "count": 1
           },
           {
            "bin_start": -33.321,
            "bin_end": -27.462,
            "count": 0
           },
           {
            "bin_start": -27.462,
            "bin_end": -21.603,
            "count": 0
           },
           {
            "bin_start": -21.603,
            "bin_end": -15.744,
            "count": 0
           },
           {
            "bin_start": -15.744,
            "bin_end": -9.884999999999998,
            "count": 0
           },
           {
            "bin_start": -9.884999999999998,
            "bin_end": -4.026000000000003,
            "count": 0
           },
           {
            "bin_start": -4.026000000000003,
            "bin_end": 1.8329999999999984,
            "count": 3
           },
           {
            "bin_start": 1.8329999999999984,
            "bin_end": 7.692,
            "count": 2
           },
           {
            "bin_start": 7.692,
            "bin_end": 13.551000000000002,
            "count": 0
           },
           {
            "bin_start": 13.551000000000002,
            "bin_end": 19.41,
            "count": 1
           }
          ]
         }
        },
        {
         "name": "eth_pct_change",
         "dtype": "float64",
         "stats": {
          "unique_count": 7,
          "nan_count": 0,
          "min": "-44.55",
          "max": "25.96",
          "histogram": [
           {
            "bin_start": -44.55,
            "bin_end": -37.498999999999995,
            "count": 1
           },
           {
            "bin_start": -37.498999999999995,
            "bin_end": -30.448,
            "count": 0
           },
           {
            "bin_start": -30.448,
            "bin_end": -23.397,
            "count": 0
           },
           {
            "bin_start": -23.397,
            "bin_end": -16.346,
            "count": 0
           },
           {
            "bin_start": -16.346,
            "bin_end": -9.295000000000002,
            "count": 0
           },
           {
            "bin_start": -9.295000000000002,
            "bin_end": -2.2439999999999998,
            "count": 0
           },
           {
            "bin_start": -2.2439999999999998,
            "bin_end": 4.806999999999995,
            "count": 4
           },
           {
            "bin_start": 4.806999999999995,
            "bin_end": 11.857999999999997,
            "count": 1
           },
           {
            "bin_start": 11.857999999999997,
            "bin_end": 18.909,
            "count": 0
           },
           {
            "bin_start": 18.909,
            "bin_end": 25.96,
            "count": 1
           }
          ]
         }
        },
        {
         "name": "doge_pct_change",
         "dtype": "float64",
         "stats": {
          "unique_count": 7,
          "nan_count": 0,
          "min": "-98.43",
          "max": "6191.55",
          "histogram": [
           {
            "bin_start": -98.43,
            "bin_end": 530.568,
            "count": 6
           },
           {
            "bin_start": 530.568,
            "bin_end": 1159.566,
            "count": 0
           },
           {
            "bin_start": 1159.566,
            "bin_end": 1788.564,
            "count": 0
           },
           {
            "bin_start": 1788.564,
            "bin_end": 2417.5620000000004,
            "count": 0
           },
           {
            "bin_start": 2417.5620000000004,
            "bin_end": 3046.5600000000004,
            "count": 0
           },
           {
            "bin_start": 3046.5600000000004,
            "bin_end": 3675.5580000000004,
            "count": 0
           },
           {
            "bin_start": 3675.5580000000004,
            "bin_end": 4304.5560000000005,
            "count": 0
           },
           {
            "bin_start": 4304.5560000000005,
            "bin_end": 4933.554,
            "count": 0
           },
           {
            "bin_start": 4933.554,
            "bin_end": 5562.552,
            "count": 0
           },
           {
            "bin_start": 5562.552,
            "bin_end": 6191.55,
            "count": 1
           }
          ]
         }
        },
        {
         "name": "ada_pct_change",
         "dtype": "float64",
         "stats": {
          "unique_count": 7,
          "nan_count": 0,
          "min": "-41.49",
          "max": "41.73",
          "histogram": [
           {
            "bin_start": -41.49,
            "bin_end": -33.168000000000006,
            "count": 1
           },
           {
            "bin_start": -33.168000000000006,
            "bin_end": -24.846000000000004,
            "count": 0
           },
           {
            "bin_start": -24.846000000000004,
            "bin_end": -16.524000000000004,
            "count": 0
           },
           {
            "bin_start": -16.524000000000004,
            "bin_end": -8.202000000000005,
            "count": 0
           },
           {
            "bin_start": -8.202000000000005,
            "bin_end": 0.11999999999999744,
            "count": 2
           },
           {
            "bin_start": 0.11999999999999744,
            "bin_end": 8.441999999999993,
            "count": 3
           },
           {
            "bin_start": 8.441999999999993,
            "bin_end": 16.76399999999999,
            "count": 0
           },
           {
            "bin_start": 16.76399999999999,
            "bin_end": 25.08599999999999,
            "count": 0
           },
           {
            "bin_start": 25.08599999999999,
            "bin_end": 33.407999999999994,
            "count": 0
           },
           {
            "bin_start": 33.407999999999994,
            "bin_end": 41.73,
            "count": 1
           }
          ]
         }
        },
        {
         "name": "_deepnote_index_column",
         "dtype": "object"
        }
       ],
       "rows_top": [
        {
         "btc_pct_change": 0.188702175543886,
         "eth_pct_change": 0.2632633158289572,
         "doge_pct_change": 5.302640660165041,
         "ada_pct_change": 0.325821455363841,
         "_deepnote_index_column": "mean"
        },
        {
         "btc_pct_change": 4.08060339473685,
         "eth_pct_change": 5.305459289892706,
         "doge_pct_change": 170.10405641529422,
         "ada_pct_change": 6.462362133420973,
         "_deepnote_index_column": "std"
        },
        {
         "btc_pct_change": -39.18,
         "eth_pct_change": -44.55,
         "doge_pct_change": -98.43,
         "ada_pct_change": -41.49,
         "_deepnote_index_column": "min"
        },
        {
         "btc_pct_change": -1.55,
         "eth_pct_change": -2.2,
         "doge_pct_change": -2.43,
         "ada_pct_change": -2.98,
         "_deepnote_index_column": "25%"
        },
        {
         "btc_pct_change": 0.14,
         "eth_pct_change": 0.18,
         "doge_pct_change": -0.11,
         "ada_pct_change": 0.02,
         "_deepnote_index_column": "50%"
        },
        {
         "btc_pct_change": 1.91,
         "eth_pct_change": 2.96,
         "doge_pct_change": 2.01,
         "ada_pct_change": 3.09,
         "_deepnote_index_column": "75%"
        },
        {
         "btc_pct_change": 19.41,
         "eth_pct_change": 25.96,
         "doge_pct_change": 6191.55,
         "ada_pct_change": 41.73,
         "_deepnote_index_column": "max"
        }
       ],
       "rows_bottom": null
      },
      "text/plain": "      btc_pct_change  eth_pct_change  doge_pct_change  ada_pct_change\nmean        0.188702        0.263263         5.302641        0.325821\nstd         4.080603        5.305459       170.104056        6.462362\nmin       -39.180000      -44.550000       -98.430000      -41.490000\n25%        -1.550000       -2.200000        -2.430000       -2.980000\n50%         0.140000        0.180000        -0.110000        0.020000\n75%         1.910000        2.960000         2.010000        3.090000\nmax        19.410000       25.960000      6191.550000       41.730000",
      "text/html": "<div>\n<style scoped>\n    .dataframe tbody tr th:only-of-type {\n        vertical-align: middle;\n    }\n\n    .dataframe tbody tr th {\n        vertical-align: top;\n    }\n\n    .dataframe thead th {\n        text-align: right;\n    }\n</style>\n<table border=\"1\" class=\"dataframe\">\n  <thead>\n    <tr style=\"text-align: right;\">\n      <th></th>\n      <th>btc_pct_change</th>\n      <th>eth_pct_change</th>\n      <th>doge_pct_change</th>\n      <th>ada_pct_change</th>\n    </tr>\n  </thead>\n  <tbody>\n    <tr>\n      <th>mean</th>\n      <td>0.188702</td>\n      <td>0.263263</td>\n      <td>5.302641</td>\n      <td>0.325821</td>\n    </tr>\n    <tr>\n      <th>std</th>\n      <td>4.080603</td>\n      <td>5.305459</td>\n      <td>170.104056</td>\n      <td>6.462362</td>\n    </tr>\n    <tr>\n      <th>min</th>\n      <td>-39.180000</td>\n      <td>-44.550000</td>\n      <td>-98.430000</td>\n      <td>-41.490000</td>\n    </tr>\n    <tr>\n      <th>25%</th>\n      <td>-1.550000</td>\n      <td>-2.200000</td>\n      <td>-2.430000</td>\n      <td>-2.980000</td>\n    </tr>\n    <tr>\n      <th>50%</th>\n      <td>0.140000</td>\n      <td>0.180000</td>\n      <td>-0.110000</td>\n      <td>0.020000</td>\n    </tr>\n    <tr>\n      <th>75%</th>\n      <td>1.910000</td>\n      <td>2.960000</td>\n      <td>2.010000</td>\n      <td>3.090000</td>\n    </tr>\n    <tr>\n      <th>max</th>\n      <td>19.410000</td>\n      <td>25.960000</td>\n      <td>6191.550000</td>\n      <td>41.730000</td>\n    </tr>\n  </tbody>\n</table>\n</div>"
     },
     "metadata": {}
    }
   ],
   "execution_count": 19
  },
  {
   "cell_type": "markdown",
   "source": "The first thing to note is that all four coins have a positive percent change; that makes sense given how well crypto has done over the last year or so. That said, what really jumps out here is how volatile Dogecoin has been. For one thing, an average daily gain of over 5% is absurd, especially compared to the <0.5% gain the other three currencies saw. That does make sense when we look at it's max and min. There was at least one day where Dogecoin saw an over 6000% increase, and at least one where it lost more than 98% of it's value. An asset can go up an infinite percentage, but the maximum it could lose is -100%. That's obviously really bad though, so let's look at the distribution of each coin's percent changes with a boxplot to get a sense for the greater distribution of these numbers.",
   "metadata": {
    "tags": [],
    "cell_id": "00039-5306828c-d12c-460d-a510-b6d6abd3a588",
    "deepnote_cell_type": "markdown"
   }
  },
  {
   "cell_type": "code",
   "source": "pct_change = trading[[\"btc_pct_change\", \"eth_pct_change\", \"doge_pct_change\", \"ada_pct_change\"]]\npct_change.boxplot()\nplt.title(\"Daily Percent Changes of BTC, ETH, DOGE, and ADA\")\nplt.xlabel(\"Cryptocurrencies\")\nplt.ylabel(\"Percent Change\")\nplt.xticks(ticks = [1, 2, 3, 4], labels=['BTC', 'ETH', 'DOGE', 'ADA'])",
   "metadata": {
    "tags": [],
    "cell_id": "00040-e943a416-c6f1-4b77-8c55-2931e152ee94",
    "deepnote_to_be_reexecuted": false,
    "source_hash": "6809bd10",
    "execution_start": 1634779544055,
    "execution_millis": 317,
    "deepnote_cell_type": "code"
   },
   "outputs": [
    {
     "output_type": "execute_result",
     "execution_count": 20,
     "data": {
      "text/plain": "([<matplotlib.axis.XTick at 0x7f92dee46e10>,\n  <matplotlib.axis.XTick at 0x7f92dee46fd0>,\n  <matplotlib.axis.XTick at 0x7f92d6d9add0>,\n  <matplotlib.axis.XTick at 0x7f92d6e07cd0>],\n [Text(1, 0, 'BTC'), Text(2, 0, 'ETH'), Text(3, 0, 'DOGE'), Text(4, 0, 'ADA')])"
     },
     "metadata": {}
    },
    {
     "data": {
      "text/plain": "<Figure size 432x288 with 1 Axes>",
      "image/png": "[encoded data removed]"
     },
     "metadata": {
      "needs_background": "light",
      "image/png": {
       "width": 395,
       "height": 278
      }
     },
     "output_type": "display_data"
    }
   ],
   "execution_count": 20
  },
  {
   "cell_type": "markdown",
   "source": "Well that didn't really help. It's clear that Dogecoin has some *extreme* outlier days that throw off the scale of the rest of the plot. We'll analyze the reasons for that more deeply later, but for now let's just see what happens when we create the same boxplot with just BTC, ETH, and ADA",
   "metadata": {
    "tags": [],
    "cell_id": "00041-93c6e694-157c-4b36-b4bd-1bfaf761369c",
    "deepnote_cell_type": "markdown"
   }
  },
  {
   "cell_type": "code",
   "source": "pct_change2 = trading[[\"btc_pct_change\", \"eth_pct_change\", \"ada_pct_change\"]]\npct_change2.boxplot()\nplt.title(\"Daily Percent Changes of BTC, ETH, and ADA\")\nplt.xlabel(\"Cryptocurrencies\")\nplt.ylabel(\"Percent Change\")\nplt.xticks(ticks = [1, 2, 3], labels=['BTC', 'ETH', 'ADA'])",
   "metadata": {
    "tags": [],
    "cell_id": "00042-968f8509-7da2-4a94-b65d-44a4b052251c",
    "deepnote_to_be_reexecuted": false,
    "source_hash": "820805e2",
    "execution_start": 1634779544419,
    "execution_millis": 249,
    "deepnote_cell_type": "code"
   },
   "outputs": [
    {
     "output_type": "execute_result",
     "execution_count": 21,
     "data": {
      "text/plain": "([<matplotlib.axis.XTick at 0x7f92d6cfdf90>,\n  <matplotlib.axis.XTick at 0x7f92d6c8a1d0>,\n  <matplotlib.axis.XTick at 0x7f92d6cf6790>],\n [Text(1, 0, 'BTC'), Text(2, 0, 'ETH'), Text(3, 0, 'ADA')])"
     },
     "metadata": {}
    },
    {
     "data": {
      "text/plain": "<Figure size 432x288 with 1 Axes>",
      "image/png": "[encoded data removed]"
     },
     "metadata": {
      "needs_background": "light",
      "image/png": {
       "width": 391,
       "height": 278
      }
     },
     "output_type": "display_data"
    }
   ],
   "execution_count": 21
  },
  {
   "cell_type": "markdown",
   "source": "As shown by the boxplot above and the summary statistics of the data, over 50% the daily movements less than 3% in either direction. That said, all three plots seem to indicate that when the movements are more than about 5%, they are often much more, again in either direction. We can see that BTC has the tightest range and interquartile range, while ADA has the widest, being nearly twice as spread out. ETH is somewhere in the middle, when we consider they're popularity and market-caps, that makes sense. Bitcoin is the most well-known cryptocurrency in the world, and has by far the largest market-cap at over a trillion dollars, while Cardano is the least well-known, with a market-cap of \"only\" 70 billion dollars. ETH is the second most well-known cryptocurrency, and while it's several times larger than Cardano, it's market cap less than half of Bitcoin's at just under 500 billion dollars. A couple interesting things to note are that while all three coins have a median right around 0, the 25th and 75th percentile for ETH and ADA are both roughly the same distance from it, while BTC shows a greater range of values from its median to its 75th percentile than from its median to 2th percentile. That could indicate that while even though BTC is roughly as likely to go up on a given day than it is to go down, its increases are generally greater than its decreases. Another interesting thing to note is that each coin appears to have had one day where they all dropped nearly 40%, which is an outlier even amongst the outliers. Seeing as how the prices of cryptocurrencies often influence eachother, especially the larger ones like BTC and ETH, it would be interesting to explore if all three of those points occurred on the same day, and if so what potential factors we can identify that might have caused such a plummet. ",
   "metadata": {
    "tags": [],
    "cell_id": "00045-16a58cc8-2d4c-4d8b-8ddf-3bffd0229417",
    "deepnote_cell_type": "markdown"
   }
  },
  {
   "cell_type": "markdown",
   "source": "Now that we've explored the trading data a little bit, lets see if we can find anything interesting with our sentiment data. Again, since we're just looking at the sentiment data, we can use the sentiment dataframe, but since that dataframe *did* have NaN values, we'll have to clean it up first.",
   "metadata": {
    "tags": [],
    "cell_id": "00046-4075dd7c-713f-47fd-8ddc-89d3eb693e3c",
    "deepnote_cell_type": "markdown"
   }
  },
  {
   "cell_type": "code",
   "source": "ss_clean = social_sentiment.loc[~social_sentiment.isna().any(1)]\nprint(\"Count of NaN values in ss_clean: \", ss_clean.isna().sum().sum())",
   "metadata": {
    "tags": [],
    "cell_id": "00047-d37dbf47-3e8c-4f5a-8ea9-d0e2832637b2",
    "deepnote_to_be_reexecuted": false,
    "source_hash": "69a9f3e5",
    "execution_start": 1634779544719,
    "execution_millis": 3,
    "deepnote_cell_type": "code"
   },
   "outputs": [
    {
     "name": "stdout",
     "text": "Count of NaN values in ss_clean:  0\n",
     "output_type": "stream"
    }
   ],
   "execution_count": 22
  },
  {
   "cell_type": "markdown",
   "source": "Now that we've done, we can call description on the cleaned up data to see what we can gleam from it",
   "metadata": {
    "tags": [],
    "cell_id": "00048-16a7a48f-01d6-4ec8-9350-0dd989617081",
    "deepnote_cell_type": "markdown"
   }
  },
  {
   "cell_type": "code",
   "source": "print(\"Summary Statistics for ss_clean\")\ndisplay(ss_clean.describe())",
   "metadata": {
    "tags": [],
    "cell_id": "00049-358afd52-1ee5-4694-b91c-00c50dfd8a44",
    "deepnote_to_be_reexecuted": false,
    "source_hash": "4f42e2b5",
    "execution_start": 1634779544721,
    "execution_millis": 152,
    "deepnote_cell_type": "code"
   },
   "outputs": [
    {
     "name": "stdout",
     "text": "Summary Statistics for ss_clean\n",
     "output_type": "stream"
    },
    {
     "data": {
      "application/vnd.deepnote.dataframe.v2+json": {
       "row_count": 8,
       "column_count": 24,
       "columns": [
        {
         "name": "btc_tel_pos",
         "dtype": "float64",
         "stats": {
          "unique_count": 8,
          "nan_count": 0,
          "min": "0.0",
          "max": "4524.0",
          "histogram": [
           {
            "bin_start": 0,
            "bin_end": 452.4,
            "count": 6
           },
           {
            "bin_start": 452.4,
            "bin_end": 904.8,
            "count": 1
           },
           {
            "bin_start": 904.8,
            "bin_end": 1357.1999999999998,
            "count": 0
           },
           {
            "bin_start": 1357.1999999999998,
            "bin_end": 1809.6,
            "count": 0
           },
           {
            "bin_start": 1809.6,
            "bin_end": 2262,
            "count": 0
           },
           {
            "bin_start": 2262,
            "bin_end": 2714.3999999999996,
            "count": 0
           },
           {
            "bin_start": 2714.3999999999996,
            "bin_end": 3166.7999999999997,
            "count": 0
           },
           {
            "bin_start": 3166.7999999999997,
            "bin_end": 3619.2,
            "count": 0
           },
           {
            "bin_start": 3619.2,
            "bin_end": 4071.6,
            "count": 0
           },
           {
            "bin_start": 4071.6,
            "bin_end": 4524,
            "count": 1
           }
          ]
         }
        },
        {
         "name": "btc_tel_neu",
         "dtype": "float64",
         "stats": {
          "unique_count": 8,
          "nan_count": 0,
          "min": "0.0",
          "max": "2484.0",
          "histogram": [
           {
            "bin_start": 0,
            "bin_end": 248.4,
            "count": 2
           },
           {
            "bin_start": 248.4,
            "bin_end": 496.8,
            "count": 4
           },
           {
            "bin_start": 496.8,
            "bin_end": 745.2,
            "count": 0
           },
           {
            "bin_start": 745.2,
            "bin_end": 993.6,
            "count": 1
           },
           {
            "bin_start": 993.6,
            "bin_end": 1242,
            "count": 0
           },
           {
            "bin_start": 1242,
            "bin_end": 1490.4,
            "count": 0
           },
           {
            "bin_start": 1490.4,
            "bin_end": 1738.8,
            "count": 0
           },
           {
            "bin_start": 1738.8,
            "bin_end": 1987.2,
            "count": 0
           },
           {
            "bin_start": 1987.2,
            "bin_end": 2235.6,
            "count": 0
           },
           {
            "bin_start": 2235.6,
            "bin_end": 2484,
            "count": 1
           }
          ]
         }
        },
        {
         "name": "btc_tel_neg",
         "dtype": "float64",
         "stats": {
          "unique_count": 8,
          "nan_count": 0,
          "min": "0.0",
          "max": "814.0",
          "histogram": [
           {
            "bin_start": 0,
            "bin_end": 81.4,
            "count": 6
           },
           {
            "bin_start": 81.4,
            "bin_end": 162.8,
            "count": 1
           },
           {
            "bin_start": 162.8,
            "bin_end": 244.20000000000002,
            "count": 0
           },
           {
            "bin_start": 244.20000000000002,
            "bin_end": 325.6,
            "count": 0
           },
           {
            "bin_start": 325.6,
            "bin_end": 407,
            "count": 0
           },
           {
            "bin_start": 407,
            "bin_end": 488.40000000000003,
            "count": 0
           },
           {
            "bin_start": 488.40000000000003,
            "bin_end": 569.8000000000001,
            "count": 0
           },
           {
            "bin_start": 569.8000000000001,
            "bin_end": 651.2,
            "count": 0
           },
           {
            "bin_start": 651.2,
            "bin_end": 732.6,
            "count": 0
           },
           {
            "bin_start": 732.6,
            "bin_end": 814,
            "count": 1
           }
          ]
         }
        },
        {
         "name": "btc_twit_pos",
         "dtype": "float64",
         "stats": {
          "unique_count": 8,
          "nan_count": 0,
          "min": "0.0",
          "max": "44431.0",
          "histogram": [
           {
            "bin_start": 0,
            "bin_end": 4443.1,
            "count": 3
           },
           {
            "bin_start": 4443.1,
            "bin_end": 8886.2,
            "count": 3
           },
           {
            "bin_start": 8886.2,
            "bin_end": 13329.300000000001,
            "count": 0
           },
           {
            "bin_start": 13329.300000000001,
            "bin_end": 17772.4,
            "count": 1
           },
           {
            "bin_start": 17772.4,
            "bin_end": 22215.5,
            "count": 0
           },
           {
            "bin_start": 22215.5,
            "bin_end": 26658.600000000002,
            "count": 0
           },
           {
            "bin_start": 26658.600000000002,
            "bin_end": 31101.700000000004,
            "count": 0
           },
           {
            "bin_start": 31101.700000000004,
            "bin_end": 35544.8,
            "count": 0
           },
           {
            "bin_start": 35544.8,
            "bin_end": 39987.9,
            "count": 0
           },
           {
            "bin_start": 39987.9,
            "bin_end": 44431,
            "count": 1
           }
          ]
         }
        },
        {
         "name": "btc_twit_neu",
         "dtype": "float64",
         "stats": {
          "unique_count": 8,
          "nan_count": 0,
          "min": "0.0",
          "max": "159510.0",
          "histogram": [
           {
            "bin_start": 0,
            "bin_end": 15951,
            "count": 3
           },
           {
            "bin_start": 15951,
            "bin_end": 31902,
            "count": 3
           },
           {
            "bin_start": 31902,
            "bin_end": 47853,
            "count": 1
           },
           {
            "bin_start": 47853,
            "bin_end": 63804,
            "count": 0
           },
           {
            "bin_start": 63804,
            "bin_end": 79755,
            "count": 0
           },
           {
            "bin_start": 79755,
            "bin_end": 95706,
            "count": 0
           },
           {
            "bin_start": 95706,
            "bin_end": 111657,
            "count": 0
           },
           {
            "bin_start": 111657,
            "bin_end": 127608,
            "count": 0
           },
           {
            "bin_start": 127608,
            "bin_end": 143559,
            "count": 0
           },
           {
            "bin_start": 143559,
            "bin_end": 159510,
            "count": 1
           }
          ]
         }
        },
        {
         "name": "btc_twit_neg",
         "dtype": "float64",
         "stats": {
          "unique_count": 8,
          "nan_count": 0,
          "min": "0.0",
          "max": "21556.0",
          "histogram": [
           {
            "bin_start": 0,
            "bin_end": 2155.6,
            "count": 5
           },
           {
            "bin_start": 2155.6,
            "bin_end": 4311.2,
            "count": 2
           },
           {
            "bin_start": 4311.2,
            "bin_end": 6466.799999999999,
            "count": 0
           },
           {
            "bin_start": 6466.799999999999,
            "bin_end": 8622.4,
            "count": 0
           },
           {
            "bin_start": 8622.4,
            "bin_end": 10778,
            "count": 0
           },
           {
            "bin_start": 10778,
            "bin_end": 12933.599999999999,
            "count": 0
           },
           {
            "bin_start": 12933.599999999999,
            "bin_end": 15089.199999999999,
            "count": 0
           },
           {
            "bin_start": 15089.199999999999,
            "bin_end": 17244.8,
            "count": 0
           },
           {
            "bin_start": 17244.8,
            "bin_end": 19400.399999999998,
            "count": 0
           },
           {
            "bin_start": 19400.399999999998,
            "bin_end": 21556,
            "count": 1
           }
          ]
         }
        },
        {
         "name": "eth_tel_pos",
         "dtype": "float64",
         "stats": {
          "unique_count": 8,
          "nan_count": 0,
          "min": "0.0",
          "max": "1051.0",
          "histogram": [
           {
            "bin_start": 0,
            "bin_end": 105.1,
            "count": 6
           },
           {
            "bin_start": 105.1,
            "bin_end": 210.2,
            "count": 0
           },
           {
            "bin_start": 210.2,
            "bin_end": 315.29999999999995,
            "count": 0
           },
           {
            "bin_start": 315.29999999999995,
            "bin_end": 420.4,
            "count": 0
           },
           {
            "bin_start": 420.4,
            "bin_end": 525.5,
            "count": 0
           },
           {
            "bin_start": 525.5,
            "bin_end": 630.5999999999999,
            "count": 0
           },
           {
            "bin_start": 630.5999999999999,
            "bin_end": 735.6999999999999,
            "count": 0
           },
           {
            "bin_start": 735.6999999999999,
            "bin_end": 840.8,
            "count": 1
           },
           {
            "bin_start": 840.8,
            "bin_end": 945.9,
            "count": 0
           },
           {
            "bin_start": 945.9,
            "bin_end": 1051,
            "count": 1
           }
          ]
         }
        },
        {
         "name": "eth_tel_neu",
         "dtype": "float64",
         "stats": {
          "unique_count": 8,
          "nan_count": 0,
          "min": "0.0",
          "max": "814.0",
          "histogram": [
           {
            "bin_start": 0,
            "bin_end": 81.4,
            "count": 5
           },
           {
            "bin_start": 81.4,
            "bin_end": 162.8,
            "count": 1
           },
           {
            "bin_start": 162.8,
            "bin_end": 244.20000000000002,
            "count": 0
           },
           {
            "bin_start": 244.20000000000002,
            "bin_end": 325.6,
            "count": 0
           },
           {
            "bin_start": 325.6,
            "bin_end": 407,
            "count": 0
           },
           {
            "bin_start": 407,
            "bin_end": 488.40000000000003,
            "count": 0
           },
           {
            "bin_start": 488.40000000000003,
            "bin_end": 569.8000000000001,
            "count": 0
           },
           {
            "bin_start": 569.8000000000001,
            "bin_end": 651.2,
            "count": 0
           },
           {
            "bin_start": 651.2,
            "bin_end": 732.6,
            "count": 1
           },
           {
            "bin_start": 732.6,
            "bin_end": 814,
            "count": 1
           }
          ]
         }
        },
        {
         "name": "eth_tel_neg",
         "dtype": "float64",
         "stats": {
          "unique_count": 8,
          "nan_count": 0,
          "min": "0.0",
          "max": "814.0",
          "histogram": [
           {
            "bin_start": 0,
            "bin_end": 81.4,
            "count": 7
           },
           {
            "bin_start": 81.4,
            "bin_end": 162.8,
            "count": 0
           },
           {
            "bin_start": 162.8,
            "bin_end": 244.20000000000002,
            "count": 0
           },
           {
            "bin_start": 244.20000000000002,
            "bin_end": 325.6,
            "count": 0
           },
           {
            "bin_start": 325.6,
            "bin_end": 407,
            "count": 0
           },
           {
            "bin_start": 407,
            "bin_end": 488.40000000000003,
            "count": 0
           },
           {
            "bin_start": 488.40000000000003,
            "bin_end": 569.8000000000001,
            "count": 0
           },
           {
            "bin_start": 569.8000000000001,
            "bin_end": 651.2,
            "count": 0
           },
           {
            "bin_start": 651.2,
            "bin_end": 732.6,
            "count": 0
           },
           {
            "bin_start": 732.6,
            "bin_end": 814,
            "count": 1
           }
          ]
         }
        },
        {
         "name": "eth_twit_pos",
         "dtype": "float64",
         "stats": {
          "unique_count": 8,
          "nan_count": 0,
          "min": "0.0",
          "max": "23071.0",
          "histogram": [
           {
            "bin_start": 0,
            "bin_end": 2307.1,
            "count": 4
           },
           {
            "bin_start": 2307.1,
            "bin_end": 4614.2,
            "count": 3
           },
           {
            "bin_start": 4614.2,
            "bin_end": 6921.299999999999,
            "count": 0
           },
           {
            "bin_start": 6921.299999999999,
            "bin_end": 9228.4,
            "count": 0
           },
           {
            "bin_start": 9228.4,
            "bin_end": 11535.5,
            "count": 0
           },
           {
            "bin_start": 11535.5,
            "bin_end": 13842.599999999999,
            "count": 0
           },
           {
            "bin_start": 13842.599999999999,
            "bin_end": 16149.699999999999,
            "count": 0
           },
           {
            "bin_start": 16149.699999999999,
            "bin_end": 18456.8,
            "count": 0
           },
           {
            "bin_start": 18456.8,
            "bin_end": 20763.899999999998,
            "count": 0
           },
           {
            "bin_start": 20763.899999999998,
            "bin_end": 23071,
            "count": 1
           }
          ]
         }
        },
        {
         "name": "eth_twit_neu",
         "dtype": "float64",
         "stats": {
          "unique_count": 8,
          "nan_count": 0,
          "min": "1.0",
          "max": "56811.0",
          "histogram": [
           {
            "bin_start": 1,
            "bin_end": 5682,
            "count": 4
           },
           {
            "bin_start": 5682,
            "bin_end": 11363,
            "count": 3
           },
           {
            "bin_start": 11363,
            "bin_end": 17044,
            "count": 0
           },
           {
            "bin_start": 17044,
            "bin_end": 22725,
            "count": 0
           },
           {
            "bin_start": 22725,
            "bin_end": 28406,
            "count": 0
           },
           {
            "bin_start": 28406,
            "bin_end": 34087,
            "count": 0
           },
           {
            "bin_start": 34087,
            "bin_end": 39768,
            "count": 0
           },
           {
            "bin_start": 39768,
            "bin_end": 45449,
            "count": 0
           },
           {
            "bin_start": 45449,
            "bin_end": 51130,
            "count": 0
           },
           {
            "bin_start": 51130,
            "bin_end": 56811,
            "count": 1
           }
          ]
         }
        },
        {
         "name": "eth_twit_neg",
         "dtype": "float64",
         "stats": {
          "unique_count": 8,
          "nan_count": 0,
          "min": "0.0",
          "max": "20087.0",
          "histogram": [
           {
            "bin_start": 0,
            "bin_end": 2008.7,
            "count": 7
           },
           {
            "bin_start": 2008.7,
            "bin_end": 4017.4,
            "count": 0
           },
           {
            "bin_start": 4017.4,
            "bin_end": 6026.1,
            "count": 0
           },
           {
            "bin_start": 6026.1,
            "bin_end": 8034.8,
            "count": 0
           },
           {
            "bin_start": 8034.8,
            "bin_end": 10043.5,
            "count": 0
           },
           {
            "bin_start": 10043.5,
            "bin_end": 12052.2,
            "count": 0
           },
           {
            "bin_start": 12052.2,
            "bin_end": 14060.9,
            "count": 0
           },
           {
            "bin_start": 14060.9,
            "bin_end": 16069.6,
            "count": 0
           },
           {
            "bin_start": 16069.6,
            "bin_end": 18078.3,
            "count": 0
           },
           {
            "bin_start": 18078.3,
            "bin_end": 20087,
            "count": 1
           }
          ]
         }
        },
        {
         "name": "doge_tel_pos",
         "dtype": "float64",
         "stats": {
          "unique_count": 6,
          "nan_count": 0,
          "min": "0.0",
          "max": "1901.0",
          "histogram": [
           {
            "bin_start": 0,
            "bin_end": 190.1,
            "count": 6
           },
           {
            "bin_start": 190.1,
            "bin_end": 380.2,
            "count": 0
           },
           {
            "bin_start": 380.2,
            "bin_end": 570.3,
            "count": 0
           },
           {
            "bin_start": 570.3,
            "bin_end": 760.4,
            "count": 0
           },
           {
            "bin_start": 760.4,
            "bin_end": 950.5,
            "count": 1
           },
           {
            "bin_start": 950.5,
            "bin_end": 1140.6,
            "count": 0
           },
           {
            "bin_start": 1140.6,
            "bin_end": 1330.7,
            "count": 0
           },
           {
            "bin_start": 1330.7,
            "bin_end": 1520.8,
            "count": 0
           },
           {
            "bin_start": 1520.8,
            "bin_end": 1710.8999999999999,
            "count": 0
           },
           {
            "bin_start": 1710.8999999999999,
            "bin_end": 1901,
            "count": 1
           }
          ]
         }
        },
        {
         "name": "doge_tel_neu",
         "dtype": "float64",
         "stats": {
          "unique_count": 7,
          "nan_count": 0,
          "min": "0.0",
          "max": "814.0",
          "histogram": [
           {
            "bin_start": 0,
            "bin_end": 81.4,
            "count": 6
           },
           {
            "bin_start": 81.4,
            "bin_end": 162.8,
            "count": 0
           },
           {
            "bin_start": 162.8,
            "bin_end": 244.20000000000002,
            "count": 0
           },
           {
            "bin_start": 244.20000000000002,
            "bin_end": 325.6,
            "count": 0
           },
           {
            "bin_start": 325.6,
            "bin_end": 407,
            "count": 0
           },
           {
            "bin_start": 407,
            "bin_end": 488.40000000000003,
            "count": 0
           },
           {
            "bin_start": 488.40000000000003,
            "bin_end": 569.8000000000001,
            "count": 0
           },
           {
            "bin_start": 569.8000000000001,
            "bin_end": 651.2,
            "count": 0
           },
           {
            "bin_start": 651.2,
            "bin_end": 732.6,
            "count": 0
           },
           {
            "bin_start": 732.6,
            "bin_end": 814,
            "count": 2
           }
          ]
         }
        },
        {
         "name": "doge_tel_neg",
         "dtype": "float64",
         "stats": {
          "unique_count": 5,
          "nan_count": 0,
          "min": "0.0",
          "max": "814.0",
          "histogram": [
           {
            "bin_start": 0,
            "bin_end": 81.4,
            "count": 7
           },
           {
            "bin_start": 81.4,
            "bin_end": 162.8,
            "count": 0
           },
           {
            "bin_start": 162.8,
            "bin_end": 244.20000000000002,
            "count": 0
           },
           {
            "bin_start": 244.20000000000002,
            "bin_end": 325.6,
            "count": 0
           },
           {
            "bin_start": 325.6,
            "bin_end": 407,
            "count": 0
           },
           {
            "bin_start": 407,
            "bin_end": 488.40000000000003,
            "count": 0
           },
           {
            "bin_start": 488.40000000000003,
            "bin_end": 569.8000000000001,
            "count": 0
           },
           {
            "bin_start": 569.8000000000001,
            "bin_end": 651.2,
            "count": 0
           },
           {
            "bin_start": 651.2,
            "bin_end": 732.6,
            "count": 0
           },
           {
            "bin_start": 732.6,
            "bin_end": 814,
            "count": 1
           }
          ]
         }
        },
        {
         "name": "doge_twit_pos",
         "dtype": "float64",
         "stats": {
          "unique_count": 8,
          "nan_count": 0,
          "min": "0.0",
          "max": "38863.0",
          "histogram": [
           {
            "bin_start": 0,
            "bin_end": 3886.3,
            "count": 7
           },
           {
            "bin_start": 3886.3,
            "bin_end": 7772.6,
            "count": 0
           },
           {
            "bin_start": 7772.6,
            "bin_end": 11658.900000000001,
            "count": 0
           },
           {
            "bin_start": 11658.900000000001,
            "bin_end": 15545.2,
            "count": 0
           },
           {
            "bin_start": 15545.2,
            "bin_end": 19431.5,
            "count": 0
           },
           {
            "bin_start": 19431.5,
            "bin_end": 23317.800000000003,
            "count": 0
           },
           {
            "bin_start": 23317.800000000003,
            "bin_end": 27204.100000000002,
            "count": 0
           },
           {
            "bin_start": 27204.100000000002,
            "bin_end": 31090.4,
            "count": 0
           },
           {
            "bin_start": 31090.4,
            "bin_end": 34976.700000000004,
            "count": 0
           },
           {
            "bin_start": 34976.700000000004,
            "bin_end": 38863,
            "count": 1
           }
          ]
         }
        },
        {
         "name": "doge_twit_neu",
         "dtype": "float64",
         "stats": {
          "unique_count": 8,
          "nan_count": 0,
          "min": "0.0",
          "max": "223539.0",
          "histogram": [
           {
            "bin_start": 0,
            "bin_end": 22353.9,
            "count": 7
           },
           {
            "bin_start": 22353.9,
            "bin_end": 44707.8,
            "count": 0
           },
           {
            "bin_start": 44707.8,
            "bin_end": 67061.70000000001,
            "count": 0
           },
           {
            "bin_start": 67061.70000000001,
            "bin_end": 89415.6,
            "count": 0
           },
           {
            "bin_start": 89415.6,
            "bin_end": 111769.5,
            "count": 0
           },
           {
            "bin_start": 111769.5,
            "bin_end": 134123.40000000002,
            "count": 0
           },
           {
            "bin_start": 134123.40000000002,
            "bin_end": 156477.30000000002,
            "count": 0
           },
           {
            "bin_start": 156477.30000000002,
            "bin_end": 178831.2,
            "count": 0
           },
           {
            "bin_start": 178831.2,
            "bin_end": 201185.1,
            "count": 0
           },
           {
            "bin_start": 201185.1,
            "bin_end": 223539,
            "count": 1
           }
          ]
         }
        },
        {
         "name": "doge_twit_neg",
         "dtype": "float64",
         "stats": {
          "unique_count": 8,
          "nan_count": 0,
          "min": "0.0",
          "max": "21026.0",
          "histogram": [
           {
            "bin_start": 0,
            "bin_end": 2102.6,
            "count": 7
           },
           {
            "bin_start": 2102.6,
            "bin_end": 4205.2,
            "count": 0
           },
           {
            "bin_start": 4205.2,
            "bin_end": 6307.799999999999,
            "count": 0
           },
           {
            "bin_start": 6307.799999999999,
            "bin_end": 8410.4,
            "count": 0
           },
           {
            "bin_start": 8410.4,
            "bin_end": 10513,
            "count": 0
           },
           {
            "bin_start": 10513,
            "bin_end": 12615.599999999999,
            "count": 0
           },
           {
            "bin_start": 12615.599999999999,
            "bin_end": 14718.199999999999,
            "count": 0
           },
           {
            "bin_start": 14718.199999999999,
            "bin_end": 16820.8,
            "count": 0
           },
           {
            "bin_start": 16820.8,
            "bin_end": 18923.399999999998,
            "count": 0
           },
           {
            "bin_start": 18923.399999999998,
            "bin_end": 21026,
            "count": 1
           }
          ]
         }
        },
        {
         "name": "ada_tel_pos",
         "dtype": "float64",
         "stats": {
          "unique_count": 7,
          "nan_count": 0,
          "min": "0.0",
          "max": "814.0",
          "histogram": [
           {
            "bin_start": 0,
            "bin_end": 81.4,
            "count": 6
           },
           {
            "bin_start": 81.4,
            "bin_end": 162.8,
            "count": 0
           },
           {
            "bin_start": 162.8,
            "bin_end": 244.20000000000002,
            "count": 1
           },
           {
            "bin_start": 244.20000000000002,
            "bin_end": 325.6,
            "count": 0
           },
           {
            "bin_start": 325.6,
            "bin_end": 407,
            "count": 0
           },
           {
            "bin_start": 407,
            "bin_end": 488.40000000000003,
            "count": 0
           },
           {
            "bin_start": 488.40000000000003,
            "bin_end": 569.8000000000001,
            "count": 0
           },
           {
            "bin_start": 569.8000000000001,
            "bin_end": 651.2,
            "count": 0
           },
           {
            "bin_start": 651.2,
            "bin_end": 732.6,
            "count": 0
           },
           {
            "bin_start": 732.6,
            "bin_end": 814,
            "count": 1
           }
          ]
         }
        },
        {
         "name": "ada_tel_neu",
         "dtype": "float64",
         "stats": {
          "unique_count": 8,
          "nan_count": 0,
          "min": "0.0",
          "max": "814.0",
          "histogram": [
           {
            "bin_start": 0,
            "bin_end": 81.4,
            "count": 6
           },
           {
            "bin_start": 81.4,
            "bin_end": 162.8,
            "count": 0
           },
           {
            "bin_start": 162.8,
            "bin_end": 244.20000000000002,
            "count": 0
           },
           {
            "bin_start": 244.20000000000002,
            "bin_end": 325.6,
            "count": 1
           },
           {
            "bin_start": 325.6,
            "bin_end": 407,
            "count": 0
           },
           {
            "bin_start": 407,
            "bin_end": 488.40000000000003,
            "count": 0
           },
           {
            "bin_start": 488.40000000000003,
            "bin_end": 569.8000000000001,
            "count": 0
           },
           {
            "bin_start": 569.8000000000001,
            "bin_end": 651.2,
            "count": 0
           },
           {
            "bin_start": 651.2,
            "bin_end": 732.6,
            "count": 0
           },
           {
            "bin_start": 732.6,
            "bin_end": 814,
            "count": 1
           }
          ]
         }
        },
        {
         "name": "ada_tel_neg",
         "dtype": "float64",
         "stats": {
          "unique_count": 6,
          "nan_count": 0,
          "min": "0.0",
          "max": "814.0",
          "histogram": [
           {
            "bin_start": 0,
            "bin_end": 81.4,
            "count": 7
           },
           {
            "bin_start": 81.4,
            "bin_end": 162.8,
            "count": 0
           },
           {
            "bin_start": 162.8,
            "bin_end": 244.20000000000002,
            "count": 0
           },
           {
            "bin_start": 244.20000000000002,
            "bin_end": 325.6,
            "count": 0
           },
           {
            "bin_start": 325.6,
            "bin_end": 407,
            "count": 0
           },
           {
            "bin_start": 407,
            "bin_end": 488.40000000000003,
            "count": 0
           },
           {
            "bin_start": 488.40000000000003,
            "bin_end": 569.8000000000001,
            "count": 0
           },
           {
            "bin_start": 569.8000000000001,
            "bin_end": 651.2,
            "count": 0
           },
           {
            "bin_start": 651.2,
            "bin_end": 732.6,
            "count": 0
           },
           {
            "bin_start": 732.6,
            "bin_end": 814,
            "count": 1
           }
          ]
         }
        },
        {
         "name": "ada_twit_pos",
         "dtype": "float64",
         "stats": {
          "unique_count": 8,
          "nan_count": 0,
          "min": "0.0",
          "max": "9626.0",
          "histogram": [
           {
            "bin_start": 0,
            "bin_end": 962.6,
            "count": 7
           },
           {
            "bin_start": 962.6,
            "bin_end": 1925.2,
            "count": 0
           },
           {
            "bin_start": 1925.2,
            "bin_end": 2887.8,
            "count": 0
           },
           {
            "bin_start": 2887.8,
            "bin_end": 3850.4,
            "count": 0
           },
           {
            "bin_start": 3850.4,
            "bin_end": 4813,
            "count": 0
           },
           {
            "bin_start": 4813,
            "bin_end": 5775.6,
            "count": 0
           },
           {
            "bin_start": 5775.6,
            "bin_end": 6738.2,
            "count": 0
           },
           {
            "bin_start": 6738.2,
            "bin_end": 7700.8,
            "count": 0
           },
           {
            "bin_start": 7700.8,
            "bin_end": 8663.4,
            "count": 0
           },
           {
            "bin_start": 8663.4,
            "bin_end": 9626,
            "count": 1
           }
          ]
         }
        },
        {
         "name": "ada_twit_neu",
         "dtype": "float64",
         "stats": {
          "unique_count": 8,
          "nan_count": 0,
          "min": "1.0",
          "max": "12184.0",
          "histogram": [
           {
            "bin_start": 1,
            "bin_end": 1219.3,
            "count": 4
           },
           {
            "bin_start": 1219.3,
            "bin_end": 2437.6,
            "count": 3
           },
           {
            "bin_start": 2437.6,
            "bin_end": 3655.8999999999996,
            "count": 0
           },
           {
            "bin_start": 3655.8999999999996,
            "bin_end": 4874.2,
            "count": 0
           },
           {
            "bin_start": 4874.2,
            "bin_end": 6092.5,
            "count": 0
           },
           {
            "bin_start": 6092.5,
            "bin_end": 7310.799999999999,
            "count": 0
           },
           {
            "bin_start": 7310.799999999999,
            "bin_end": 8529.1,
            "count": 0
           },
           {
            "bin_start": 8529.1,
            "bin_end": 9747.4,
            "count": 0
           },
           {
            "bin_start": 9747.4,
            "bin_end": 10965.699999999999,
            "count": 0
           },
           {
            "bin_start": 10965.699999999999,
            "bin_end": 12184,
            "count": 1
           }
          ]
         }
        },
        {
         "name": "ada_twit_neg",
         "dtype": "float64",
         "stats": {
          "unique_count": 8,
          "nan_count": 0,
          "min": "0.0",
          "max": "881.0",
          "histogram": [
           {
            "bin_start": 0,
            "bin_end": 88.1,
            "count": 5
           },
           {
            "bin_start": 88.1,
            "bin_end": 176.2,
            "count": 1
           },
           {
            "bin_start": 176.2,
            "bin_end": 264.29999999999995,
            "count": 0
           },
           {
            "bin_start": 264.29999999999995,
            "bin_end": 352.4,
            "count": 0
           },
           {
            "bin_start": 352.4,
            "bin_end": 440.5,
            "count": 0
           },
           {
            "bin_start": 440.5,
            "bin_end": 528.5999999999999,
            "count": 0
           },
           {
            "bin_start": 528.5999999999999,
            "bin_end": 616.6999999999999,
            "count": 0
           },
           {
            "bin_start": 616.6999999999999,
            "bin_end": 704.8,
            "count": 0
           },
           {
            "bin_start": 704.8,
            "bin_end": 792.9,
            "count": 0
           },
           {
            "bin_start": 792.9,
            "bin_end": 881,
            "count": 2
           }
          ]
         }
        },
        {
         "name": "_deepnote_index_column",
         "dtype": "object"
        }
       ],
       "rows_top": [
        {
         "btc_tel_pos": 814,
         "btc_tel_neu": 814,
         "btc_tel_neg": 814,
         "btc_twit_pos": 814,
         "btc_twit_neu": 814,
         "btc_twit_neg": 814,
         "eth_tel_pos": 814,
         "eth_tel_neu": 814,
         "eth_tel_neg": 814,
         "eth_twit_pos": 814,
         "eth_twit_neu": 814,
         "eth_twit_neg": 814,
         "doge_tel_pos": 814,
         "doge_tel_neu": 814,
         "doge_tel_neg": 814,
         "doge_twit_pos": 814,
         "doge_twit_neu": 814,
         "doge_twit_neg": 814,
         "ada_tel_pos": 814,
         "ada_tel_neu": 814,
         "ada_tel_neg": 814,
         "ada_twit_pos": 814,
         "ada_twit_neu": 814,
         "ada_twit_neg": 814,
         "_deepnote_index_column": "count"
        },
        {
         "btc_tel_pos": 137.28255528255528,
         "btc_tel_neu": 329.57002457002454,
         "btc_tel_neg": 21.340294840294842,
         "btc_twit_pos": 8123.055282555282,
         "btc_twit_neu": 24479.847665847665,
         "btc_twit_neg": 2093.7542997542996,
         "eth_tel_pos": 36.842751842751845,
         "eth_tel_neu": 76.8931203931204,
         "eth_tel_neg": 5.313267813267813,
         "eth_twit_pos": 3497.667076167076,
         "eth_twit_neu": 8699.95945945946,
         "eth_twit_neg": 717.4115479115479,
         "doge_tel_pos": 7.405405405405405,
         "doge_tel_neu": 8.077395577395578,
         "doge_tel_neg": 0.4828009828009828,
         "doge_twit_pos": 1253.8144963144964,
         "doge_twit_neu": 3791.282555282555,
         "doge_twit_neg": 247.67936117936117,
         "ada_tel_pos": 5.238329238329238,
         "ada_tel_neu": 13.572481572481573,
         "ada_tel_neg": 1.2972972972972974,
         "ada_twit_pos": 563.8906633906633,
         "ada_twit_neu": 1308.8267813267814,
         "ada_twit_neg": 84.24692874692875,
         "_deepnote_index_column": "mean"
        },
        {
         "btc_tel_pos": 308.66241807190244,
         "btc_tel_neu": 269.59799125057714,
         "btc_tel_neg": 13.953037483555805,
         "btc_twit_pos": 7467.617272928994,
         "btc_twit_neu": 20157.755191624132,
         "btc_twit_neg": 2267.154801518123,
         "eth_tel_pos": 80.56035205082802,
         "eth_tel_neu": 69.32309953929185,
         "eth_tel_neg": 5.3386101710046345,
         "eth_twit_pos": 3811.7703455229525,
         "eth_twit_neu": 9084.948973819448,
         "eth_twit_neg": 1293.276575800667,
         "doge_tel_pos": 71.08851624360551,
         "doge_tel_neu": 33.52075460109151,
         "doge_tel_neg": 1.6991638250918826,
         "doge_twit_pos": 2881.650271812888,
         "doge_twit_neu": 11555.853348256509,
         "doge_twit_neg": 1007.198275266085,
         "ada_tel_pos": 18.663979032303992,
         "ada_tel_neu": 28.067070075383914,
         "ada_tel_neg": 4.192486404976055,
         "ada_twit_pos": 917.789541451277,
         "ada_twit_neu": 2000.5581516911395,
         "ada_twit_neg": 137.61418770770868,
         "_deepnote_index_column": "std"
        },
        {
         "btc_tel_pos": 0,
         "btc_tel_neu": 0,
         "btc_tel_neg": 0,
         "btc_twit_pos": 0,
         "btc_twit_neu": 0,
         "btc_twit_neg": 0,
         "eth_tel_pos": 0,
         "eth_tel_neu": 0,
         "eth_tel_neg": 0,
         "eth_twit_pos": 0,
         "eth_twit_neu": 1,
         "eth_twit_neg": 0,
         "doge_tel_pos": 0,
         "doge_tel_neu": 0,
         "doge_tel_neg": 0,
         "doge_twit_pos": 0,
         "doge_twit_neu": 0,
         "doge_twit_neg": 0,
         "ada_tel_pos": 0,
         "ada_tel_neu": 0,
         "ada_tel_neg": 0,
         "ada_twit_pos": 0,
         "ada_twit_neu": 1,
         "ada_twit_neg": 0,
         "_deepnote_index_column": "min"
        },
        {
         "btc_tel_pos": 43,
         "btc_tel_neu": 191.5,
         "btc_tel_neg": 12,
         "btc_twit_pos": 1547.75,
         "btc_twit_neu": 9141.5,
         "btc_twit_neg": 458,
         "eth_tel_pos": 8,
         "eth_tel_neu": 38,
         "eth_tel_neg": 2,
         "eth_twit_pos": 604,
         "eth_twit_neu": 3068.5,
         "eth_twit_neg": 115,
         "doge_tel_pos": 0,
         "doge_tel_neu": 0,
         "doge_tel_neg": 0,
         "doge_twit_pos": 14,
         "doge_twit_neu": 31,
         "doge_twit_neg": 1,
         "ada_tel_pos": 0,
         "ada_tel_neu": 1,
         "ada_tel_neg": 0,
         "ada_twit_pos": 63,
         "ada_twit_neu": 175,
         "ada_twit_neg": 6,
         "_deepnote_index_column": "25%"
        },
        {
         "btc_tel_pos": 82,
         "btc_tel_neu": 292.5,
         "btc_tel_neg": 20,
         "btc_twit_pos": 6606.5,
         "btc_twit_neu": 18088.5,
         "btc_twit_neg": 1377.5,
         "eth_tel_pos": 19,
         "eth_tel_neu": 65.5,
         "eth_tel_neg": 4,
         "eth_twit_pos": 2252,
         "eth_twit_neu": 4684.5,
         "eth_twit_neg": 263,
         "doge_tel_pos": 0,
         "doge_tel_neu": 1,
         "doge_tel_neg": 0,
         "doge_twit_pos": 92.5,
         "doge_twit_neu": 209,
         "doge_twit_neg": 6,
         "ada_tel_pos": 1,
         "ada_tel_neu": 7,
         "ada_tel_neg": 0,
         "ada_twit_pos": 172,
         "ada_twit_neu": 421,
         "ada_twit_neg": 24.5,
         "_deepnote_index_column": "50%"
        },
        {
         "btc_tel_pos": 127,
         "btc_tel_neu": 410,
         "btc_tel_neg": 30,
         "btc_twit_pos": 13878.25,
         "btc_twit_neu": 38705.25,
         "btc_twit_neg": 3351,
         "eth_tel_pos": 38,
         "eth_tel_neu": 103,
         "eth_tel_neg": 8,
         "eth_twit_pos": 4446.25,
         "eth_twit_neu": 9237.75,
         "eth_twit_neg": 633.5,
         "doge_tel_pos": 3,
         "doge_tel_neu": 7,
         "doge_tel_neg": 0,
         "doge_twit_pos": 1481,
         "doge_twit_neu": 4704.5,
         "doge_twit_neg": 216.75,
         "ada_tel_pos": 4,
         "ada_tel_neu": 15,
         "ada_tel_neg": 1,
         "ada_twit_pos": 539.75,
         "ada_twit_neu": 1297.75,
         "ada_twit_neg": 85,
         "_deepnote_index_column": "75%"
        },
        {
         "btc_tel_pos": 4524,
         "btc_tel_neu": 2484,
         "btc_tel_neg": 87,
         "btc_twit_pos": 44431,
         "btc_twit_neu": 159510,
         "btc_twit_neg": 21556,
         "eth_tel_pos": 1051,
         "eth_tel_neu": 721,
         "eth_tel_neg": 55,
         "eth_twit_pos": 23071,
         "eth_twit_neu": 56811,
         "eth_twit_neg": 20087,
         "doge_tel_pos": 1901,
         "doge_tel_neu": 778,
         "doge_tel_neg": 20,
         "doge_twit_pos": 38863,
         "doge_twit_neu": 223539,
         "doge_twit_neg": 21026,
         "ada_tel_pos": 225,
         "ada_tel_neu": 296,
         "ada_tel_neg": 66,
         "ada_twit_pos": 9626,
         "ada_twit_neu": 12184,
         "ada_twit_neg": 881,
         "_deepnote_index_column": "max"
        }
       ],
       "rows_bottom": null
      },
      "text/plain": "       btc_tel_pos  btc_tel_neu  btc_tel_neg  btc_twit_pos   btc_twit_neu  \\\ncount   814.000000   814.000000   814.000000    814.000000     814.000000   \nmean    137.282555   329.570025    21.340295   8123.055283   24479.847666   \nstd     308.662418   269.597991    13.953037   7467.617273   20157.755192   \nmin       0.000000     0.000000     0.000000      0.000000       0.000000   \n25%      43.000000   191.500000    12.000000   1547.750000    9141.500000   \n50%      82.000000   292.500000    20.000000   6606.500000   18088.500000   \n75%     127.000000   410.000000    30.000000  13878.250000   38705.250000   \nmax    4524.000000  2484.000000    87.000000  44431.000000  159510.000000   \n\n       btc_twit_neg  eth_tel_pos  eth_tel_neu  eth_tel_neg  eth_twit_pos  ...  \\\ncount    814.000000   814.000000    814.00000   814.000000    814.000000  ...   \nmean    2093.754300    36.842752     76.89312     5.313268   3497.667076  ...   \nstd     2267.154802    80.560352     69.32310     5.338610   3811.770346  ...   \nmin        0.000000     0.000000      0.00000     0.000000      0.000000  ...   \n25%      458.000000     8.000000     38.00000     2.000000    604.000000  ...   \n50%     1377.500000    19.000000     65.50000     4.000000   2252.000000  ...   \n75%     3351.000000    38.000000    103.00000     8.000000   4446.250000  ...   \nmax    21556.000000  1051.000000    721.00000    55.000000  23071.000000  ...   \n\n       doge_tel_neg  doge_twit_pos  doge_twit_neu  doge_twit_neg  ada_tel_pos  \\\ncount    814.000000     814.000000     814.000000     814.000000   814.000000   \nmean       0.482801    1253.814496    3791.282555     247.679361     5.238329   \nstd        1.699164    2881.650272   11555.853348    1007.198275    18.663979   \nmin        0.000000       0.000000       0.000000       0.000000     0.000000   \n25%        0.000000      14.000000      31.000000       1.000000     0.000000   \n50%        0.000000      92.500000     209.000000       6.000000     1.000000   \n75%        0.000000    1481.000000    4704.500000     216.750000     4.000000   \nmax       20.000000   38863.000000  223539.000000   21026.000000   225.000000   \n\n       ada_tel_neu  ada_tel_neg  ada_twit_pos  ada_twit_neu  ada_twit_neg  \ncount   814.000000   814.000000    814.000000    814.000000    814.000000  \nmean     13.572482     1.297297    563.890663   1308.826781     84.246929  \nstd      28.067070     4.192486    917.789541   2000.558152    137.614188  \nmin       0.000000     0.000000      0.000000      1.000000      0.000000  \n25%       1.000000     0.000000     63.000000    175.000000      6.000000  \n50%       7.000000     0.000000    172.000000    421.000000     24.500000  \n75%      15.000000     1.000000    539.750000   1297.750000     85.000000  \nmax     296.000000    66.000000   9626.000000  12184.000000    881.000000  \n\n[8 rows x 24 columns]",
      "text/html": "<div>\n<style scoped>\n    .dataframe tbody tr th:only-of-type {\n        vertical-align: middle;\n    }\n\n    .dataframe tbody tr th {\n        vertical-align: top;\n    }\n\n    .dataframe thead th {\n        text-align: right;\n    }\n</style>\n<table border=\"1\" class=\"dataframe\">\n  <thead>\n    <tr style=\"text-align: right;\">\n      <th></th>\n      <th>btc_tel_pos</th>\n      <th>btc_tel_neu</th>\n      <th>btc_tel_neg</th>\n      <th>btc_twit_pos</th>\n      <th>btc_twit_neu</th>\n      <th>btc_twit_neg</th>\n      <th>eth_tel_pos</th>\n      <th>eth_tel_neu</th>\n      <th>eth_tel_neg</th>\n      <th>eth_twit_pos</th>\n      <th>...</th>\n      <th>doge_tel_neg</th>\n      <th>doge_twit_pos</th>\n      <th>doge_twit_neu</th>\n      <th>doge_twit_neg</th>\n      <th>ada_tel_pos</th>\n      <th>ada_tel_neu</th>\n      <th>ada_tel_neg</th>\n      <th>ada_twit_pos</th>\n      <th>ada_twit_neu</th>\n      <th>ada_twit_neg</th>\n    </tr>\n  </thead>\n  <tbody>\n    <tr>\n      <th>count</th>\n      <td>814.000000</td>\n      <td>814.000000</td>\n      <td>814.000000</td>\n      <td>814.000000</td>\n      <td>814.000000</td>\n      <td>814.000000</td>\n      <td>814.000000</td>\n      <td>814.00000</td>\n      <td>814.000000</td>\n      <td>814.000000</td>\n      <td>...</td>\n      <td>814.000000</td>\n      <td>814.000000</td>\n      <td>814.000000</td>\n      <td>814.000000</td>\n      <td>814.000000</td>\n      <td>814.000000</td>\n      <td>814.000000</td>\n      <td>814.000000</td>\n      <td>814.000000</td>\n      <td>814.000000</td>\n    </tr>\n    <tr>\n      <th>mean</th>\n      <td>137.282555</td>\n      <td>329.570025</td>\n      <td>21.340295</td>\n      <td>8123.055283</td>\n      <td>24479.847666</td>\n      <td>2093.754300</td>\n      <td>36.842752</td>\n      <td>76.89312</td>\n      <td>5.313268</td>\n      <td>3497.667076</td>\n      <td>...</td>\n      <td>0.482801</td>\n      <td>1253.814496</td>\n      <td>3791.282555</td>\n      <td>247.679361</td>\n      <td>5.238329</td>\n      <td>13.572482</td>\n      <td>1.297297</td>\n      <td>563.890663</td>\n      <td>1308.826781</td>\n      <td>84.246929</td>\n    </tr>\n    <tr>\n      <th>std</th>\n      <td>308.662418</td>\n      <td>269.597991</td>\n      <td>13.953037</td>\n      <td>7467.617273</td>\n      <td>20157.755192</td>\n      <td>2267.154802</td>\n      <td>80.560352</td>\n      <td>69.32310</td>\n      <td>5.338610</td>\n      <td>3811.770346</td>\n      <td>...</td>\n      <td>1.699164</td>\n      <td>2881.650272</td>\n      <td>11555.853348</td>\n      <td>1007.198275</td>\n      <td>18.663979</td>\n      <td>28.067070</td>\n      <td>4.192486</td>\n      <td>917.789541</td>\n      <td>2000.558152</td>\n      <td>137.614188</td>\n    </tr>\n    <tr>\n      <th>min</th>\n      <td>0.000000</td>\n      <td>0.000000</td>\n      <td>0.000000</td>\n      <td>0.000000</td>\n      <td>0.000000</td>\n      <td>0.000000</td>\n      <td>0.000000</td>\n      <td>0.00000</td>\n      <td>0.000000</td>\n      <td>0.000000</td>\n      <td>...</td>\n      <td>0.000000</td>\n      <td>0.000000</td>\n      <td>0.000000</td>\n      <td>0.000000</td>\n      <td>0.000000</td>\n      <td>0.000000</td>\n      <td>0.000000</td>\n      <td>0.000000</td>\n      <td>1.000000</td>\n      <td>0.000000</td>\n    </tr>\n    <tr>\n      <th>25%</th>\n      <td>43.000000</td>\n      <td>191.500000</td>\n      <td>12.000000</td>\n      <td>1547.750000</td>\n      <td>9141.500000</td>\n      <td>458.000000</td>\n      <td>8.000000</td>\n      <td>38.00000</td>\n      <td>2.000000</td>\n      <td>604.000000</td>\n      <td>...</td>\n      <td>0.000000</td>\n      <td>14.000000</td>\n      <td>31.000000</td>\n      <td>1.000000</td>\n      <td>0.000000</td>\n      <td>1.000000</td>\n      <td>0.000000</td>\n      <td>63.000000</td>\n      <td>175.000000</td>\n      <td>6.000000</td>\n    </tr>\n    <tr>\n      <th>50%</th>\n      <td>82.000000</td>\n      <td>292.500000</td>\n      <td>20.000000</td>\n      <td>6606.500000</td>\n      <td>18088.500000</td>\n      <td>1377.500000</td>\n      <td>19.000000</td>\n      <td>65.50000</td>\n      <td>4.000000</td>\n      <td>2252.000000</td>\n      <td>...</td>\n      <td>0.000000</td>\n      <td>92.500000</td>\n      <td>209.000000</td>\n      <td>6.000000</td>\n      <td>1.000000</td>\n      <td>7.000000</td>\n      <td>0.000000</td>\n      <td>172.000000</td>\n      <td>421.000000</td>\n      <td>24.500000</td>\n    </tr>\n    <tr>\n      <th>75%</th>\n      <td>127.000000</td>\n      <td>410.000000</td>\n      <td>30.000000</td>\n      <td>13878.250000</td>\n      <td>38705.250000</td>\n      <td>3351.000000</td>\n      <td>38.000000</td>\n      <td>103.00000</td>\n      <td>8.000000</td>\n      <td>4446.250000</td>\n      <td>...</td>\n      <td>0.000000</td>\n      <td>1481.000000</td>\n      <td>4704.500000</td>\n      <td>216.750000</td>\n      <td>4.000000</td>\n      <td>15.000000</td>\n      <td>1.000000</td>\n      <td>539.750000</td>\n      <td>1297.750000</td>\n      <td>85.000000</td>\n    </tr>\n    <tr>\n      <th>max</th>\n      <td>4524.000000</td>\n      <td>2484.000000</td>\n      <td>87.000000</td>\n      <td>44431.000000</td>\n      <td>159510.000000</td>\n      <td>21556.000000</td>\n      <td>1051.000000</td>\n      <td>721.00000</td>\n      <td>55.000000</td>\n      <td>23071.000000</td>\n      <td>...</td>\n      <td>20.000000</td>\n      <td>38863.000000</td>\n      <td>223539.000000</td>\n      <td>21026.000000</td>\n      <td>225.000000</td>\n      <td>296.000000</td>\n      <td>66.000000</td>\n      <td>9626.000000</td>\n      <td>12184.000000</td>\n      <td>881.000000</td>\n    </tr>\n  </tbody>\n</table>\n<p>8 rows × 24 columns</p>\n</div>"
     },
     "metadata": {},
     "output_type": "display_data"
    }
   ],
   "execution_count": 23
  },
  {
   "cell_type": "markdown",
   "source": "Probably the easiest bit of important information we can deduce here is that the minimum number of positive, neutral, or negative mentions almost every coin across any platform is 0 (the exceptions being neutral mentions of both ETH and ADA on twitter, each with a minimum of 1). Considering this data only stretches back a few years, it's surprising that BTC could see a day where it saw no positive, neutral, or negative mentions on Twitter. Twitter has millions of users, and as we said before Bitcoin is by far the oldest and largest cryptocurrency. It would be interesting to look at these days for all the coins to see how many mentions of the other two sentiments a given coin might have received on a day where it received none of one. We could then compare our findings there to how the price moved on those days. I would venture to guess that on most days where a coin saw 0 mentions of one sentiment, it had relatively few of the other sentiments as well, and that the price moved less than 5%, which we previously saw was the rough interquartile ranges of every coin except DOGE \n\nAnother thing that jumps out is that the scales of the distributions of the data across both platforms (Telegram and Twitter) and coins (BTC, ETH, DOGE, and ADA) vary significantly. Take BTC for example; it's average number of daily positive, netural, and negative posts from Twitter dwarfs the those from Telegram. Twitter is a much more widely used and popular platform, so that makes sense. However, both platforms show similar distributions of posts between the three sentiments, with neutral mentions being the most common, followed by postive mentions, and then negative mentions. Similarly, if we compare the number of positive, neutral, and negative mentions of BTC and ETH from Twitter, we see again that for each coin, neutral mentions are the most common, followed by positive mentions, and negative mentions. Once we start to dive into our analysis, that should give us a better idea of how best to transform our data when comparing across platforms and coins. For now though, we can still get a sense for how a single coin's sentiments might interact with each other by their movement's them within each platform. First let's track how positive, neutral, and negative mentions of BTC have changed over time on Twitter.",
   "metadata": {
    "tags": [],
    "cell_id": "00050-a04c3fc8-14e5-4e37-b3f7-13b02e67b953",
    "deepnote_cell_type": "markdown"
   }
  },
  {
   "cell_type": "code",
   "source": "plt.plot(ss_clean['date'], ss_clean['btc_twit_pos'])\nplt.plot(ss_clean['date'], ss_clean['btc_twit_neu'])\nplt.plot(ss_clean['date'], ss_clean['btc_twit_neg'])\nplt.xlabel('Date')\nplt.xticks(fontsize=8)\nplt.ylabel('Mentions')\nplt.legend(labels = ['positive', 'neutral', 'negative'])\nplt.title(\"Bitcoin Sentiments on Twitter over time\")\nplt.show()",
   "metadata": {
    "tags": [],
    "cell_id": "00053-2380d6d0-4de9-41b0-9a55-b9c44e739d96",
    "deepnote_to_be_reexecuted": false,
    "source_hash": "84e480c5",
    "execution_start": 1634779544919,
    "execution_millis": 382,
    "deepnote_cell_type": "code"
   },
   "outputs": [
    {
     "data": {
      "text/plain": "<Figure size 432x288 with 1 Axes>",
      "image/png": "[encoded data removed]"
     },
     "metadata": {
      "needs_background": "light",
      "image/png": {
       "width": 407,
       "height": 277
      }
     },
     "output_type": "display_data"
    }
   ],
   "execution_count": 24
  },
  {
   "cell_type": "markdown",
   "source": "We can see a small spike in neutral mentions in July of 2020, and then in about October both the positive mentions and neutral mentions started to steadily increase, spiking in January of 2021. This was right before the beginning of Bitcoin's most recent bull-run, so the potential implications there could be huge. We can also see the number of neutral and positive mentions plummet for about a month or two before neutral mentions spiked even higher than in January of 2021. We'll have to look further into that, as it seems more likely that there is an issue with our data there than it is everyone just randomly stopped discussing Bitcoin for two months in March 2021. Let's see how the BTC sentiment trends from Telegram compare to those from twitter.",
   "metadata": {
    "tags": [],
    "cell_id": "00054-ea28a5d7-48c4-4d16-aa48-5d68a2712f8f",
    "deepnote_cell_type": "markdown"
   }
  },
  {
   "cell_type": "code",
   "source": "plt.plot(ss_clean['date'], ss_clean['btc_tel_pos'])\nplt.plot(ss_clean['date'], ss_clean['btc_tel_neu'])\nplt.plot(ss_clean['date'], ss_clean['btc_tel_neg'])\nplt.xlabel('Date')\nplt.xticks(fontsize=8)\nplt.ylabel('Mentions')\nplt.legend(labels = ['positive', 'neutral', 'negative'])\nplt.title(\"Bitcoin Sentiments on Telegram over time\")\nplt.show()",
   "metadata": {
    "tags": [],
    "cell_id": "00054-4965289f-a25c-4a85-b19b-cad8dbe680f4",
    "deepnote_to_be_reexecuted": false,
    "source_hash": "a3674671",
    "execution_start": 1634779545384,
    "execution_millis": 378,
    "deepnote_cell_type": "code"
   },
   "outputs": [
    {
     "data": {
      "text/plain": "<Figure size 432x288 with 1 Axes>",
      "image/png": "[encoded data removed]"
     },
     "metadata": {
      "needs_background": "light",
      "image/png": {
       "width": 395,
       "height": 277
      }
     },
     "output_type": "display_data"
    }
   ],
   "execution_count": 25
  },
  {
   "cell_type": "markdown",
   "source": "Interestingly, Bitcoin seems to have been discussed far more on Telegram *before* July of 2020, with the number of positive mentions seeing two particularly massive spikes in December of 2019 and June of 2020. Mentions did seem to pick up in January of 2021, right around the time Twitter mentions were at their peak, but there are still far fewer than the period before July 2020. It would be very interesting to be able to see what those telegram mentions pre-July 2020 were, as it would hopefully shed some light on why BTC was being mentioned more frequently on Telegram *before* most people were seemingly discussing it, but unfortunately we don't have that data. Instead, let's look at the ETH, DOGE, and ADA sentiments on Twitter and see if we can find anything interesting by comparing them.",
   "metadata": {
    "tags": [],
    "cell_id": "00056-caef16f7-ebfc-424c-b548-0c806e17f81f",
    "deepnote_cell_type": "markdown"
   }
  },
  {
   "cell_type": "code",
   "source": "plt.plot(ss_clean['date'], ss_clean['eth_twit_pos'])\nplt.plot(ss_clean['date'], ss_clean['eth_twit_neu'])\nplt.plot(ss_clean['date'], ss_clean['eth_twit_neg'])\nplt.xlabel('Date')\nplt.xticks(fontsize=8)\nplt.ylabel('Mentions')\nplt.legend(labels = ['positive', 'neutral', 'negative'])\nplt.title(\"Ethereum Sentiments on Twitter over time\")\nplt.show()",
   "metadata": {
    "tags": [],
    "cell_id": "00058-0e78ffb2-3f59-413f-8097-683c49641329",
    "deepnote_to_be_reexecuted": false,
    "source_hash": "d20f917c",
    "execution_start": 1634779909495,
    "execution_millis": 414,
    "deepnote_cell_type": "code"
   },
   "outputs": [
    {
     "data": {
      "text/plain": "<Figure size 432x288 with 1 Axes>",
      "image/png": "[encoded data removed]"
     },
     "metadata": {
      "needs_background": "light",
      "image/png": {
       "width": 401,
       "height": 277
      }
     },
     "output_type": "display_data"
    }
   ],
   "execution_count": 33
  },
  {
   "cell_type": "markdown",
   "source": "Ethereum shows similar movements to BTC, though it does show a more recent spike in August 2021, and it also appears to have larger gap between the number of positive mentions and negative mentions dating back to about June of 2021. Perhaps more importantly, it shows a similar plummet in all mentions in the same period we saw for BTC, making it even more important we investigating the possible reasons for that once we start our analysis.",
   "metadata": {
    "tags": [],
    "cell_id": "00060-9edae394-0942-404c-b399-7e288777ceb9",
    "deepnote_cell_type": "markdown"
   }
  },
  {
   "cell_type": "code",
   "source": "plt.plot(ss_clean['date'], ss_clean['doge_twit_pos'])\nplt.plot(ss_clean['date'], ss_clean['doge_twit_neu'])\nplt.plot(ss_clean['date'], ss_clean['doge_twit_neg'])\nplt.xlabel('Date')\nplt.xticks(fontsize=8)\nplt.ylabel('Mentions')\nplt.legend(labels = ['positive', 'neutral', 'negative'])\nplt.title(\"Dogecoin Sentiments on Twitter over time\")\nplt.show()",
   "metadata": {
    "tags": [],
    "cell_id": "00059-d2424454-b5ce-4cab-80a0-a54e06f04ce4",
    "deepnote_to_be_reexecuted": false,
    "source_hash": "77f7ff46",
    "execution_start": 1634779914331,
    "execution_millis": 439,
    "deepnote_cell_type": "code"
   },
   "outputs": [
    {
     "data": {
      "text/plain": "<Figure size 432x288 with 1 Axes>",
      "image/png": "[encoded data removed]"
     },
     "metadata": {
      "needs_background": "light",
      "image/png": {
       "width": 407,
       "height": 277
      }
     },
     "output_type": "display_data"
    }
   ],
   "execution_count": 34
  },
  {
   "cell_type": "markdown",
   "source": "The main thing we see here is that Dogecoin was barely mentioned at all until January of 2021, when neutral sentiments exploded to over 200,000. Unlike the other three coins were looking at, Dogecoin was literally created as a joke, and one that is designed to lose money at that. We'll fully explore that later, but as we estbalished earlier Dogecoin saw some incredibly volatile days, and looking at this graph perhaps we can see why; something set the ball rolling that made Dogecoin increase, and as people saw it rise, FOMO, or fear-of-missing-out kicked in and jumpstarted an incredibly volatile and short-lived bubble. If that's true, we will seek to prove it. ",
   "metadata": {
    "tags": [],
    "cell_id": "00062-9496d14c-64cd-492f-86db-d310a145bc3b",
    "deepnote_cell_type": "markdown"
   }
  },
  {
   "cell_type": "code",
   "source": "plt.plot(ss_clean['date'], ss_clean['ada_twit_pos'])\nplt.plot(ss_clean['date'], ss_clean['ada_twit_neu'])\nplt.plot(ss_clean['date'], ss_clean['ada_twit_neg'])\nplt.xlabel('Date')\nplt.xticks(fontsize=8)\nplt.ylabel('Mentions')\nplt.legend(labels = ['positive', 'neutral', 'negative'])\nplt.title(\"Cardano Sentiments on Twitter over time\")\nplt.show()",
   "metadata": {
    "tags": [],
    "cell_id": "00060-473e5509-7ac8-4b00-86a7-f3183bca8dbb",
    "deepnote_to_be_reexecuted": false,
    "source_hash": "6de1c3db",
    "execution_start": 1634779921136,
    "execution_millis": 417,
    "deepnote_cell_type": "code"
   },
   "outputs": [
    {
     "data": {
      "text/plain": "<Figure size 432x288 with 1 Axes>",
      "image/png": "[encoded data removed]"
     },
     "metadata": {
      "needs_background": "light",
      "image/png": {
       "width": 401,
       "height": 277
      }
     },
     "output_type": "display_data"
    }
   ],
   "execution_count": 35
  },
  {
   "cell_type": "markdown",
   "source": "Not really much to say about Cardano; it follows a similar trend to Ethereum, which as a relatively newer and smaller-cap coin makes sense. It is interesting however to note the significant differences between ADA and DOGE. Both are considered smaller to medium cap coins, but unlike DOGE, Cardano was not developed as a joke.",
   "metadata": {
    "tags": [],
    "cell_id": "00063-51927a55-faf8-4f3c-9157-7fc70bbe0a83",
    "deepnote_cell_type": "markdown"
   }
  },
  {
   "cell_type": "markdown",
   "source": "Finally, let's look to see how the sentiment graphs from Telegram ETH, DOGE, and ADA compare to each other, and those from Twitter",
   "metadata": {
    "tags": [],
    "cell_id": "00064-18967ad1-104f-423b-8f64-265f2dc8fdc8",
    "deepnote_cell_type": "markdown"
   }
  },
  {
   "cell_type": "code",
   "source": "plt.plot(ss_clean['date'], ss_clean['eth_tel_pos'])\nplt.plot(ss_clean['date'], ss_clean['eth_tel_neu'])\nplt.plot(ss_clean['date'], ss_clean['eth_tel_neg'])\nplt.xlabel('Date')\nplt.xticks(fontsize=8)\nplt.ylabel('Mentions')\nplt.legend(labels = ['positive', 'neutral', 'negative'])\nplt.title(\"Ethereum Sentiments on Telegram over time\")\nplt.show()",
   "metadata": {
    "tags": [],
    "cell_id": "00065-641a09f1-5c58-408e-bc68-f1a9bd32cf93",
    "deepnote_to_be_reexecuted": false,
    "source_hash": "81226f52",
    "execution_start": 1634781153010,
    "execution_millis": 333,
    "deepnote_cell_type": "code"
   },
   "outputs": [
    {
     "data": {
      "text/plain": "<Figure size 432x288 with 1 Axes>",
      "image/png": "[encoded data removed]"
     },
     "metadata": {
      "needs_background": "light",
      "image/png": {
       "width": 395,
       "height": 277
      }
     },
     "output_type": "display_data"
    }
   ],
   "execution_count": 36
  },
  {
   "cell_type": "code",
   "source": "plt.plot(ss_clean['date'], ss_clean['doge_tel_pos'])\nplt.plot(ss_clean['date'], ss_clean['doge_tel_neu'])\nplt.plot(ss_clean['date'], ss_clean['doge_tel_neg'])\nplt.xlabel('Date')\nplt.xticks(fontsize=8)\nplt.ylabel('Mentions')\nplt.legend(labels = ['positive', 'neutral', 'negative'])\nplt.title(\"Dogecoin Sentiments on Telegram over time\")\nplt.show()",
   "metadata": {
    "tags": [],
    "cell_id": "00066-2ea4e343-af82-4767-978d-787c39b6b993",
    "deepnote_to_be_reexecuted": false,
    "source_hash": "dce0a8f4",
    "execution_start": 1634781160765,
    "execution_millis": 437,
    "deepnote_cell_type": "code"
   },
   "outputs": [
    {
     "data": {
      "text/plain": "<Figure size 432x288 with 1 Axes>",
      "image/png": "[encoded data removed]"
     },
     "metadata": {
      "needs_background": "light",
      "image/png": {
       "width": 395,
       "height": 277
      }
     },
     "output_type": "display_data"
    }
   ],
   "execution_count": 37
  },
  {
   "cell_type": "code",
   "source": "plt.plot(ss_clean['date'], ss_clean['ada_tel_pos'])\nplt.plot(ss_clean['date'], ss_clean['ada_tel_neu'])\nplt.plot(ss_clean['date'], ss_clean['ada_tel_neg'])\nplt.xlabel('Date')\nplt.xticks(fontsize=8)\nplt.ylabel('Mentions')\nplt.legend(labels = ['positive', 'neutral', 'negative'])\nplt.title(\"Cardano Sentiments on Telegram over time\")\nplt.show()",
   "metadata": {
    "tags": [],
    "cell_id": "00067-132feaa3-b7e6-43f2-8038-b09d9a27428f",
    "deepnote_to_be_reexecuted": false,
    "source_hash": "66ecdd32",
    "execution_start": 1634781173655,
    "execution_millis": 425,
    "deepnote_cell_type": "code"
   },
   "outputs": [
    {
     "data": {
      "text/plain": "<Figure size 432x288 with 1 Axes>",
      "image/png": "[encoded data removed]"
     },
     "metadata": {
      "needs_background": "light",
      "image/png": {
       "width": 389,
       "height": 277
      }
     },
     "output_type": "display_data"
    }
   ],
   "execution_count": 38
  },
  {
   "cell_type": "markdown",
   "source": "All three graphs show a similar pattern to the Bitcoin sentiments from Telegram. Again, all three coins - even DOGE - seem to show a massive spike in mentions in around May or June of 2020. Even though we can't see what those mentions are about, one possible avenue to explore that would be to see if the trading data showed any differences in that period than the time before and after. ",
   "metadata": {
    "tags": [],
    "cell_id": "00068-ad643066-d1dd-4523-b97b-017124aad293",
    "deepnote_cell_type": "markdown"
   }
  },
  {
   "cell_type": "markdown",
   "source": "#### Data Limitations\n\nThe datasets we ultimately used contained a few daily observations that contained missing values. We decided to drop these observations as they most likely wouldn't affect the outcome of our analyses, or the accuracy of our analytics given that they only comprised a small fraction of our dataset. In our case this was the best option to choose because placing 0's for all the missing values would've caused conflict within our analysis because its representing a false value for that given day when in fact there was just no data.\n\nThe two factors we decided on for our research question was Twitter and Telegram which are both platforms that are known to influence the crypto market. Telegram contians stock channels that send out signals and updates with the latest news on stocks whereas Twitter is a social media platform where users interact with Tweets. Being that these are two distinct platforms each series needed to be standardized, because Twitter in comparison to Telegram had much more volume and these two observations remained uncomparable until the appropriate calculations were made (data point-mean/standard deviation).\n\nAn additional limitation of our data stems from the fact that it was generated using machine learning algorithms that completed sentiment analysis -- an inherently subjective task. Sentiment analysis involves the classification of opinions according to a polar spectrum and can vary in accuracy and results. We were unable to uncover much detail regading IntoTheBlock's machine learning algorithms, or the Tweets and Telegram messages that were sampled. Additionally, we are unaware of the extent to which bias may have affected the results or accuracy of the algorithms which all further contributes to the limitations of our data. Finally, we are unable to determine the extent to whcih context was taken into account while Tweets and messages were being analyzed and how linguistic and communication behaviors such as sarcasm, humor, or other ironic language were treated by the algorithm. \n\n",
   "metadata": {
    "tags": [],
    "cell_id": "00025-1cd3ba70-afaa-4bf3-96ea-e52ea2ad704e",
    "deepnote_cell_type": "markdown"
   }
  },
  {
   "cell_type": "markdown",
   "source": "#### Questions for Reviewers\n\nMoving forward should we take into consideration comparing other platforms that influence these cryptocurrencies?\n\nDoge Coin in comparison to the other cryotocurrencies we have selected was created as a \"joke\" coin. That being said, we thought it would be interesting to see if Twitter an Telegram effect the prices of this kind of asseet more than others. Do you think we should keep our data consistent and only use reliable coins or is this a good addition to our research?\n\nWhat are some ways we can potentially add more facets to our project? Is it currently \"ambitious\" enough? What are some potential directions in which we could expand it? ",
   "metadata": {
    "tags": [],
    "cell_id": "00029-93c01d12-eb88-4384-80e1-a0c38ff8b649",
    "deepnote_cell_type": "markdown"
   }
  },
  {
   "cell_type": "markdown",
   "source": "",
   "metadata": {
    "tags": [],
    "cell_id": "00029-82669a36-b6b1-4292-b676-c18f47679677",
    "deepnote_cell_type": "markdown"
   }
  },
  {
   "cell_type": "markdown",
   "source": "<a style='text-decoration:none;line-height:16px;display:flex;color:#5B5B62;padding:10px;justify-content:end;' href='https://deepnote.com?utm_source=created-in-deepnote-cell&projectId=c9591884-b8a8-4404-9fc6-165635efab46' target=\"_blank\">\n<img alt='Created in deepnote.com' style='display:inline;max-height:16px;margin:0px;margin-right:7.5px;' src='data:image/svg+xml;base64,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' > </img>\nCreated in <span style='font-weight:600;margin-left:4px;'>Deepnote</span></a>",
   "metadata": {
    "tags": [],
    "created_in_deepnote_cell": true,
    "deepnote_cell_type": "markdown"
   }
  }
 ],
 "nbformat": 4,
 "nbformat_minor": 2,
 "metadata": {
  "orig_nbformat": 2,
  "deepnote": {
   "is_reactive": false
  },
  "deepnote_notebook_id": "cc05af8e-588f-4ce6-826c-c6fc6da211cf",
  "deepnote_execution_queue": []
 }
}