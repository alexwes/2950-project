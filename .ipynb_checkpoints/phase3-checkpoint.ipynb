{
 "cells": [
  {
   "cell_type": "markdown",
   "source": "# Phase 3 ",
   "metadata": {
    "tags": [],
    "is_collapsed": false,
    "cell_id": "00000-7f1f5d18-2f2b-49b9-9a62-e24d7a03b353",
    "deepnote_cell_type": "text-cell-h1"
   }
  },
  {
   "cell_type": "markdown",
   "source": "##### Are smaller-cap memecoins such as dogecoin more affected by social sentiment than larger-cap coins such as Bitcoin and Ethereum? \n\nOur prediction is that dogecoin will show higher correlation with social sentiment data than other currencies as it has a smaller market cap. \nWe predict that on the days where Dogecoin showed drastically different daily price movements from all the other cryptocurrencies, e.g. when it went up more than 6000% or when it dropped 99.7%, corresponding social sentiment activity will be high.  \nWe will look at the moving-averages for each of the positive, neutral, and negative social sentiments regarding each cryptocurrency. We will also look at the moving averages for total social media activity for each coin, and cryptocurrencies as a whole. We predict that the social media sentiment data points in the days preceding the spike in Dogecoin will be outliers. \nWe will observe the correlation between social sentiment from Telegram and Twitter \n",
   "metadata": {
    "tags": [],
    "cell_id": "00002-204c3f21-055d-4fb3-b172-1b9dcf5273c6",
    "deepnote_cell_type": "markdown"
   }
  },
  {
   "cell_type": "markdown",
   "source": "##### How well do logarithmic growth models, [like this one for Bitcoin](https://www.tradingview.com/chart/BTCUSD/iTNIYPN1-BTC-Logarithmic-Price-Curve-Updated-with-the-Halving-Events/), fit the price movement data of  ETH, ADA, and DOGE?\nFor each cryptocurrency's price column, p, we will fit a linear regression model where x = days and y = log(p).\n\nWe predict a logarithmic growth model will fit ETH and ADA quite well, as their price movements strongly correlated with those of BTC. We likewise predict that due to the extreme variance and outliers in the price movements of DOGE, such a model will fit it poorly.  \n\nA major limitation, however, will be the relative newness of the other cryptocurrencies. BTC has existed for over a decade, and many of the patterns identified in the linked model occur over several years. ETH has existed since 2014, and both ADA and DOGE were created in 2017, so it will be much more difficult to prove that any patterns found are not just the result of random variance.  \n\nOur model will seek to predict a confidence interval for the prices for a crytocurrency for any given day.  Since cryptocurrency prices are constantly changing, we can test the accuracy of our model on future data. The usefulness of our model will be determined by the average length of its predicted confidence intervals; for example, a model will be able to predict a \"correct\" range of prices with 100% accuracy if the range is [0, 10^9]. We will consider a model useful only if some majority of each day's price range prediction distances are within some acceptable boundary, e.g. 80% of the confidence intervals must be within plus or minus 10% of the exact price prediction. \n\nIf the model is able to predict future cryptocurrencies with any degree of accuracy, the potential benefits are obvious. Even if it can't, it should reveal to us much more information about *how* cryptocurrencies have moved. If we are able to identify any shorter-term patterns, we can compare it to our sentiment data and see if we can use that to improve the accuracy of our model. Another model we can consider would be one that predicts the the probability of a cryptocurrency's movements from day-to-day. Such a model likely wouldn't reveal any patterns, but it would be interesting to see what it would predict on some of the more extreme days. If our hypothesis that Dogecoin's 6000% increase day was fueled by speculation and social factors, we predict such a model would predict it to collapse soon afterwards.",
   "metadata": {
    "tags": [],
    "cell_id": "00003-9bca6fe2-1c87-4297-acaa-3c18d2d822e3",
    "deepnote_cell_type": "markdown"
   }
  },
  {
   "cell_type": "markdown",
   "source": "",
   "metadata": {
    "tags": [],
    "cell_id": "00003-6811e3aa-1cbe-4a4d-96fb-bb2cc87a58fb",
    "deepnote_cell_type": "markdown"
   }
  },
  {
   "cell_type": "markdown",
   "source": "#### Questions for reviewers\n\nHow do we fit a linear regression model that predicts a confidence interval of possible prices for each day, rather than a single predicted price? \n\nHow can we account for price swings contained within the greater price movement trend, e.g. the parabolic phase, correction phase, and recovery phase specificed in the linked webpage?\n\nWhat do you think of the direction our project is taking? Are there any potential analyses we did not consider that could be interesting? Does anything seem too complex?\n\nDo you think there are additional factors (other than social sentiement) that we should take into consideration in doing our analysis?\n\nAre there any other ways we can include social sentiment data in our analysis beyond the discrete positive, neutral, and negative ratings we found from Twitter and Telegram?",
   "metadata": {
    "tags": [],
    "cell_id": "00005-db00c26f-f82d-4e6e-a0ea-4a305a65c37a",
    "deepnote_cell_type": "markdown"
   }
  },
  {
   "cell_type": "markdown",
   "source": "",
   "metadata": {
    "tags": [],
    "cell_id": "00006-bcede9a5-f578-4b7e-ac99-736cde77cb31",
    "deepnote_cell_type": "markdown"
   }
  },
  {
   "cell_type": "markdown",
   "source": "<a style='text-decoration:none;line-height:16px;display:flex;color:#5B5B62;padding:10px;justify-content:end;' href='https://deepnote.com?utm_source=created-in-deepnote-cell&projectId=7596400a-8da5-44d3-bca4-6c0640ad6d10' target=\"_blank\">\n<img alt='Created in deepnote.com' style='display:inline;max-height:16px;margin:0px;margin-right:7.5px;' src='data:image/svg+xml;base64,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' > </img>\nCreated in <span style='font-weight:600;margin-left:4px;'>Deepnote</span></a>",
   "metadata": {
    "tags": [],
    "created_in_deepnote_cell": true,
    "deepnote_cell_type": "markdown"
   }
  }
 ],
 "nbformat": 4,
 "nbformat_minor": 2,
 "metadata": {
  "orig_nbformat": 2,
  "deepnote": {
   "is_reactive": false
  },
  "deepnote_notebook_id": "2683e1fb-b03c-4ce3-9a09-e26e19da5652",
  "deepnote_execution_queue": []
 }
}