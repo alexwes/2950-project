{
 "cells": [
  {
   "cell_type": "markdown",
   "metadata": {
    "cell_id": "00000-7f1f5d18-2f2b-49b9-9a62-e24d7a03b353",
    "deepnote_cell_type": "text-cell-h1",
    "is_collapsed": false,
    "tags": []
   },
   "source": [
    "# Phase 3 "
   ]
  },
  {
   "cell_type": "markdown",
   "metadata": {
    "cell_id": "00002-204c3f21-055d-4fb3-b172-1b9dcf5273c6",
    "deepnote_cell_type": "markdown",
    "tags": []
   },
   "source": [
    "##### Are smaller-cap memecoins such as dogecoin more affected by social sentiment than larger-cap coins such as Bitcoin and Ethereum? \n",
    "\n",
    "Our prediction is that dogecoin will show higher correlation with social sentiment data than other currencies as it has a smaller market cap. \n",
    "We predict that on the days where Dogecoin showed drastically different daily price movements from all the other cryptocurrencies, e.g. when it went up more than 6000% or when it dropped 99.7%, corresponding social sentiment activity will be high.  \n",
    "We will look at the moving-averages for each of the positive, neutral, and negative social sentiments regarding each cryptocurrency. We will also look at the moving averages for total social media activity for each coin, and cryptocurrencies as a whole. We predict that the social media sentiment data points in the days preceding the spike in Dogecoin will be outliers. \n",
    "We will observe the correlation between social sentiment from Telegram and Twitter \n"
   ]
  },
  {
   "cell_type": "markdown",
   "metadata": {
    "cell_id": "00003-9bca6fe2-1c87-4297-acaa-3c18d2d822e3",
    "deepnote_cell_type": "markdown",
    "tags": []
   },
   "source": [
    "##### How well do logarithmic growth models, [like this one for Bitcoin](https://www.tradingview.com/chart/BTCUSD/iTNIYPN1-BTC-Logarithmic-Price-Curve-Updated-with-the-Halving-Events/), fit the price movement data of  ETH, ADA, and DOGE?\n",
    "For each cryptocurrency's price column, p, we will fit a linear regression model where x = days and y = log(p).\n",
    "\n",
    "We predict a logarithmic growth model will fit ETH and ADA quite well, as their price movements strongly correlated with those of BTC. We likewise predict that due to the extreme variance and outliers in the price movements of DOGE, such a model will fit it poorly.  \n",
    "\n",
    "A major limitation, however, will be the relative newness of the other cryptocurrencies. BTC has existed for over a decade, and many of the patterns identified in the linked model occur over several years. ETH has existed since 2014, and both ADA and DOGE were created in 2017, so it will be much more difficult to prove that any patterns found are not just the result of random variance.  \n",
    "\n",
    "Our model will seek to predict a confidence interval for the prices for a crytocurrency for any given day.  Since cryptocurrency prices are constantly changing, we can test the accuracy of our model on future data. The usefulness of our model will be determined by the average length of its predicted confidence intervals; for example, a model will be able to predict a \"correct\" range of prices with 100% accuracy if the range is [0, 10^9]. We will consider a model useful only if some majority of each day's price range prediction distances are within some acceptable boundary, e.g. 80% of the confidence intervals must be within plus or minus 10% of the exact price prediction. \n",
    "\n",
    "If the model is able to predict future cryptocurrencies with any degree of accuracy, the potential benefits are obvious. Even if it can't, it should reveal to us much more information about *how* cryptocurrencies have moved. If we are able to identify any shorter-term patterns, we can compare it to our sentiment data and see if we can use that to improve the accuracy of our model. Another model we can consider would be one that predicts the the probability of a cryptocurrency's movements from day-to-day. Such a model likely wouldn't reveal any patterns, but it would be interesting to see what it would predict on some of the more extreme days. If our hypothesis that Dogecoin's 6000% increase day was fueled by speculation and social factors, we predict such a model would predict it to collapse soon afterwards."
   ]
  },
  {
   "cell_type": "markdown",
   "metadata": {
    "cell_id": "00005-db00c26f-f82d-4e6e-a0ea-4a305a65c37a",
    "deepnote_cell_type": "markdown",
    "tags": []
   },
   "source": [
    "#### Questions for reviewers\n",
    "\n",
    "How do we fit a linear regression model that predicts a confidence interval of possible prices for each day, rather than a single predicted price? \n",
    "\n",
    "How can we account for price swings contained within the greater price movement trend, e.g. the parabolic phase, correction phase, and recovery phase specificed in the linked webpage?\n",
    "\n",
    "What do you think of the direction our project is taking? Are there any potential analyses we did not consider that could be interesting? Does anything seem too complex?\n",
    "\n",
    "Do you think there are additional factors (other than social sentiement) that we should take into consideration in doing our analysis?\n",
    "\n",
    "Are there any other ways we can include social sentiment data in our analysis beyond the discrete positive, neutral, and negative ratings we found from Twitter and Telegram?"
   ]
  }
 ],
 "metadata": {
  "deepnote": {
   "is_reactive": false
  },
  "deepnote_execution_queue": [],
  "deepnote_notebook_id": "2683e1fb-b03c-4ce3-9a09-e26e19da5652",
  "kernelspec": {
   "display_name": "Python 3",
   "language": "python",
   "name": "python3"
  },
  "language_info": {
   "codemirror_mode": {
    "name": "ipython",
    "version": 3
   },
   "file_extension": ".py",
   "mimetype": "text/x-python",
   "name": "python",
   "nbconvert_exporter": "python",
   "pygments_lexer": "ipython3",
   "version": "3.8.8"
  }
 },
 "nbformat": 4,
 "nbformat_minor": 4
}
